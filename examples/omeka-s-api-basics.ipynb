{
 "cells": [
  {
   "cell_type": "markdown",
   "metadata": {},
   "source": [
    "# Accessing the Omeka S API\n",
    "\n",
    "Some examples for an initial exploration of the Omeka S API.\n",
    "For reference, the Omeka S documentation can be accessed at https://omeka.org/s/docs/developer/api/rest_api/.\n",
    "See [this post](https://forum.omeka.org/t/example-api-usage-using-curl/8083) on using `curl` to query the API.\n",
    "\n",
    "While any public objects can be accessed or viewed in the API, private data and write or modify\n",
    "options require an access key. In these examples, the access key is in `../collection-project/omeka-credentials.json`.\n",
    "\n",
    "## Setup"
   ]
  },
  {
   "cell_type": "code",
   "execution_count": null,
   "metadata": {},
   "outputs": [],
   "source": [
    "import requests\n",
    "import json"
   ]
  },
  {
   "cell_type": "code",
   "execution_count": null,
   "metadata": {},
   "outputs": [],
   "source": [
    "# establish API location/endpoints\n",
    "\n",
    "siteUrl = 'http://jajohnst.si676.si.umich.edu/omeka-s' # if you replicate this example, provide the URI for your site\n",
    "endpoint = '/api'"
   ]
  },
  {
   "cell_type": "markdown",
   "metadata": {},
   "source": [
    "### Get Credentials\n",
    "\n",
    "Not necessary for most operations, but it is useful to see one way to address this process."
   ]
  },
  {
   "cell_type": "code",
   "execution_count": null,
   "metadata": {},
   "outputs": [],
   "source": [
    "def get_credentials(credential_file_path):\n",
    "    '''Retrieve Omeka S Api credentials from another file. \n",
    "    That file must be a JSON file.'''\n",
    "\n",
    "    with open(credential_file_path, 'r') as credentials:\n",
    "        keys = json.load(credentials)\n",
    "    \n",
    "    return keys['key_identity'], keys['key_credential']"
   ]
  },
  {
   "cell_type": "code",
   "execution_count": null,
   "metadata": {},
   "outputs": [],
   "source": [
    "# retrieve API credentials\n",
    "\n",
    "credential_file_path = '../collection-site-materials/omeka-credentials.json'\n",
    "\n",
    "key_identity, key_credential = get_credentials(credential_file_path)\n",
    "\n",
    "print('key_identity:',key_identity,'\\nkey_credential:',key_credential)"
   ]
  },
  {
   "cell_type": "markdown",
   "metadata": {},
   "source": [
    "## Get item list\n",
    "\n",
    "This operation uses the `items` actions from the API.\n",
    "\n",
    "First, assemble the URI:"
   ]
  },
  {
   "cell_type": "code",
   "execution_count": null,
   "metadata": {},
   "outputs": [],
   "source": [
    "action = '/items'\n",
    "\n",
    "r_url = siteUrl + endpoint + action\n",
    "\n",
    "print(r_url)"
   ]
  },
  {
   "cell_type": "markdown",
   "metadata": {},
   "source": [
    "Then, set up parameters:"
   ]
  },
  {
   "cell_type": "code",
   "execution_count": null,
   "metadata": {},
   "outputs": [],
   "source": [
    "parameters = {\n",
    "    'key_credential': key_credential,\n",
    "    'key_identity':   key_identity,\n",
    "    'pretty_print':   1,\n",
    "    'format':         'jsonld'\n",
    "}"
   ]
  },
  {
   "cell_type": "code",
   "execution_count": null,
   "metadata": {},
   "outputs": [],
   "source": [
    "r = requests.get(r_url, params=parameters)\n",
    "\n",
    "print(r.url)\n",
    "print(r.status_code)"
   ]
  },
  {
   "cell_type": "markdown",
   "metadata": {},
   "source": [
    "Take a look at the response (using requests built-in `json` parser):"
   ]
  },
  {
   "cell_type": "code",
   "execution_count": null,
   "metadata": {},
   "outputs": [],
   "source": [
    "len(r.json())"
   ]
  },
  {
   "cell_type": "code",
   "execution_count": null,
   "metadata": {},
   "outputs": [],
   "source": [
    "for element in r.json():\n",
    "    print(element)"
   ]
  },
  {
   "cell_type": "code",
   "execution_count": null,
   "metadata": {},
   "outputs": [],
   "source": [
    "for element in r.json():\n",
    "    print(element['o:id'],':',element['o:title'])"
   ]
  },
  {
   "cell_type": "markdown",
   "metadata": {},
   "source": [
    "### Get the information about just one item"
   ]
  },
  {
   "cell_type": "code",
   "execution_count": null,
   "metadata": {},
   "outputs": [],
   "source": [
    "item_id = r.json()[0]['o:id']\n",
    "print(item_id)"
   ]
  },
  {
   "cell_type": "markdown",
   "metadata": {},
   "source": [
    "Construct a new URI:"
   ]
  },
  {
   "cell_type": "code",
   "execution_count": null,
   "metadata": {},
   "outputs": [],
   "source": [
    "r_url = siteUrl + endpoint + action + '/' + str(item_id)"
   ]
  },
  {
   "cell_type": "markdown",
   "metadata": {},
   "source": [
    "Make the request:"
   ]
  },
  {
   "cell_type": "code",
   "execution_count": null,
   "metadata": {},
   "outputs": [],
   "source": [
    "r = requests.get(r_url, params=parameters)\n",
    "\n",
    "print(r.url)\n",
    "print(r.status_code)"
   ]
  },
  {
   "cell_type": "code",
   "execution_count": null,
   "metadata": {},
   "outputs": [],
   "source": [
    "r.json()"
   ]
  },
  {
   "cell_type": "markdown",
   "metadata": {},
   "source": [
    "Save the item information locally as a json file"
   ]
  },
  {
   "cell_type": "code",
   "execution_count": null,
   "metadata": {},
   "outputs": [],
   "source": [
    "with open(f'item-{item_id}-metadata.json', 'w') as f:\n",
    "    f.write(json.dumps(r.json(), indent=2))\n",
    "    print('wrote metadata to local file')"
   ]
  },
  {
   "cell_type": "markdown",
   "metadata": {},
   "source": [
    "## Retrieve multiple items, using a feeder list\n",
    "\n",
    "Based on the full inventory from the `api/items` action, retrieve individual items:"
   ]
  },
  {
   "cell_type": "code",
   "execution_count": null,
   "metadata": {},
   "outputs": [],
   "source": [
    "# get all items\n",
    "action = '/items'\n",
    "\n",
    "r_url = siteUrl + endpoint + action\n",
    "\n",
    "r = requests.get(r_url, params=parameters)\n",
    "\n",
    "print(r.url)\n",
    "print(r.status_code)"
   ]
  },
  {
   "cell_type": "code",
   "execution_count": null,
   "metadata": {},
   "outputs": [],
   "source": [
    "# record each item id in a list\n",
    "item_list = list()\n",
    "\n",
    "for item in r.json():\n",
    "    item_list.append(item['o:id'])\n",
    "\n",
    "print(item_list)"
   ]
  },
  {
   "cell_type": "code",
   "execution_count": null,
   "metadata": {},
   "outputs": [],
   "source": [
    "# retrieve the individual item records and save to a file\n",
    "\n",
    "count = 0\n",
    "\n",
    "for item in item_list:\n",
    "    r_url = siteUrl + endpoint + action + '/' + str(item)\n",
    "    print(f'requesting {r_url}')\n",
    "    r = requests.get(r_url, params=parameters)\n",
    "    fname = 'item-' + str(item) + '-metadata.json'\n",
    "    with open(fname, 'w') as f:\n",
    "        f.write(json.dumps(r.json(), indent=2))\n",
    "    print(f'saved to file {fname}')\n",
    "    count += 1\n",
    "\n",
    "print(f'\\nwrote {count} new files')"
   ]
  },
  {
   "cell_type": "markdown",
   "metadata": {},
   "source": [
    "## Getting the \"Context\"\n",
    "\n",
    "You may have noted each of the keys in the Omeka S JSON responses have a namespace.\n",
    "This is because this response is JSON-LD, or JSON linked data. The `@context` tag refers to the API endpoint where these are defined.\n",
    "In this case, the endpoint is `api-context`. \n",
    "\n",
    "Request the context:"
   ]
  },
  {
   "cell_type": "code",
   "execution_count": null,
   "metadata": {},
   "outputs": [],
   "source": [
    "r_url = 'http://jajohnst.si676.si.umich.edu/omeka-s/api-context'\n",
    "\n",
    "r = requests.get(r_url, params=parameters)\n",
    "\n",
    "with open('omeka-s-api-context.json', 'w') as f:\n",
    "    f.write(json.dumps(r.json(), indent=2))"
   ]
  },
  {
   "cell_type": "code",
   "execution_count": null,
   "metadata": {},
   "outputs": [],
   "source": [
    "r.url"
   ]
  },
  {
   "cell_type": "code",
   "execution_count": null,
   "metadata": {},
   "outputs": [],
   "source": [
    "r.json()"
   ]
  }
 ],
 "metadata": {
  "kernelspec": {
   "display_name": "3.12.0",
   "language": "python",
   "name": "python3"
  },
  "language_info": {
   "codemirror_mode": {
    "name": "ipython",
    "version": 3
   },
   "file_extension": ".py",
   "mimetype": "text/x-python",
   "name": "python",
   "nbconvert_exporter": "python",
   "pygments_lexer": "ipython3",
   "version": "3.12.0"
  }
 },
 "nbformat": 4,
 "nbformat_minor": 2
}
