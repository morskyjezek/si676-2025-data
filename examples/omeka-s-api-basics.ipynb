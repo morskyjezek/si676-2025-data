{
 "cells": [
  {
   "cell_type": "markdown",
   "metadata": {},
   "source": [
    "# Accessing the Omeka S API\n",
    "\n",
    "Some examples for an initial exploration of the Omeka S API.\n",
    "For reference, the Omeka S documentation can be accessed at https://omeka.org/s/docs/developer/api/rest_api/.\n",
    "See [this post](https://forum.omeka.org/t/example-api-usage-using-curl/8083) on using `curl` to query the API.\n",
    "\n",
    "While any public objects can be accessed or viewed in the API, private data and write or modify\n",
    "options require an access key. In these examples, the access key is in `../collection-project/omeka-credentials.json`.\n",
    "\n",
    "## Setup"
   ]
  },
  {
   "cell_type": "code",
   "execution_count": 1,
   "metadata": {},
   "outputs": [],
   "source": [
    "import requests\n",
    "import json"
   ]
  },
  {
   "cell_type": "code",
   "execution_count": null,
   "metadata": {},
   "outputs": [],
   "source": [
    "# establish API location/endpoints\n",
    "\n",
    "siteUrl = 'http://jajohnst.si676.si.umich.edu/omeka-s' # if you replicate this example, provide the URI for your site\n",
    "endpoint = '/api'"
   ]
  },
  {
   "cell_type": "markdown",
   "metadata": {},
   "source": [
    "### Get Credentials\n",
    "\n",
    "Not necessary for most operations, but it is useful to see one way to address this process."
   ]
  },
  {
   "cell_type": "code",
   "execution_count": 3,
   "metadata": {},
   "outputs": [],
   "source": [
    "def get_credentials(credential_file_path):\n",
    "    '''Retrieve Omeka S Api credentials from another file. \n",
    "    That file must be a JSON file.'''\n",
    "\n",
    "    with open(credential_file_path, 'r') as credentials:\n",
    "        keys = json.load(credentials)\n",
    "    \n",
    "    return keys['key_identity'], keys['key_credential']"
   ]
  },
  {
   "cell_type": "code",
   "execution_count": null,
   "metadata": {},
   "outputs": [],
   "source": [
    "# retrieve API credentials\n",
    "\n",
    "credential_file_path = '../collection-project/omeka-credentials.json'\n",
    "\n",
    "key_identity, key_credential = get_credentials(credential_file_path)\n",
    "\n",
    "print('key_identity:',key_identity,'\\nkey_credential:',key_credential)"
   ]
  },
  {
   "cell_type": "markdown",
   "metadata": {},
   "source": [
    "## Get item list\n",
    "\n",
    "This operation uses the `items` actions from the API.\n",
    "\n",
    "First, assemble the URI:"
   ]
  },
  {
   "cell_type": "code",
   "execution_count": 5,
   "metadata": {},
   "outputs": [
    {
     "name": "stdout",
     "output_type": "stream",
     "text": [
      "http://jajohnst.si676.si.umich.edu/omeka-s/api/items\n"
     ]
    }
   ],
   "source": [
    "action = '/items'\n",
    "\n",
    "r_url = siteUrl + endpoint + action\n",
    "\n",
    "print(r_url)"
   ]
  },
  {
   "cell_type": "markdown",
   "metadata": {},
   "source": [
    "Then, set up parameters:"
   ]
  },
  {
   "cell_type": "code",
   "execution_count": 6,
   "metadata": {},
   "outputs": [],
   "source": [
    "parameters = {\n",
    "    'key_credential': key_credential,\n",
    "    'key_identity':   key_identity,\n",
    "    'pretty_print':   1,\n",
    "    'format':         'jsonld'\n",
    "}"
   ]
  },
  {
   "cell_type": "code",
   "execution_count": 7,
   "metadata": {},
   "outputs": [
    {
     "name": "stdout",
     "output_type": "stream",
     "text": [
      "http://jajohnst.si676.si.umich.edu/omeka-s/api/items?key_credential=nj0K6JAqnFgeqyP3Kq40SOhl6fiPBXky&key_identity=yAu5NAEEtJCvGx4s8XgJSgvTFjwvLD6j&pretty_print=1&format=jsonld\n",
      "200\n"
     ]
    }
   ],
   "source": [
    "r = requests.get(r_url, params=parameters)\n",
    "\n",
    "print(r.url)\n",
    "print(r.status_code)"
   ]
  },
  {
   "cell_type": "markdown",
   "metadata": {},
   "source": [
    "Take a look at the response (using requests built-in `json` parser):"
   ]
  },
  {
   "cell_type": "code",
   "execution_count": 8,
   "metadata": {},
   "outputs": [
    {
     "data": {
      "text/plain": [
       "25"
      ]
     },
     "execution_count": 8,
     "metadata": {},
     "output_type": "execute_result"
    }
   ],
   "source": [
    "len(r.json())"
   ]
  },
  {
   "cell_type": "code",
   "execution_count": 9,
   "metadata": {},
   "outputs": [
    {
     "name": "stdout",
     "output_type": "stream",
     "text": [
      "{'@context': 'http://jajohnst.si676.si.umich.edu/omeka-s/api-context', '@id': 'http://jajohnst.si676.si.umich.edu/omeka-s/api/items/367', '@type': 'o:Item', 'o:id': 367, 'o:is_public': True, 'o:owner': {'@id': 'http://jajohnst.si676.si.umich.edu/omeka-s/api/users/1', 'o:id': 1}, 'o:resource_class': None, 'o:resource_template': None, 'o:thumbnail': None, 'o:title': 'Carnegie Library, Cordele, Georgia', 'thumbnail_display_urls': {'large': 'http://jajohnst.si676.si.umich.edu/omeka-s/files/large/44edc7c60885f9d17744495b09836a22673ca3f1.jpg', 'medium': 'http://jajohnst.si676.si.umich.edu/omeka-s/files/medium/44edc7c60885f9d17744495b09836a22673ca3f1.jpg', 'square': 'http://jajohnst.si676.si.umich.edu/omeka-s/files/square/44edc7c60885f9d17744495b09836a22673ca3f1.jpg'}, 'o:created': {'@value': '2024-11-13T20:24:13+00:00', '@type': 'http://www.w3.org/2001/XMLSchema#dateTime'}, 'o:modified': {'@value': '2024-11-13T20:24:13+00:00', '@type': 'http://www.w3.org/2001/XMLSchema#dateTime'}, 'o:primary_media': {'@id': 'http://jajohnst.si676.si.umich.edu/omeka-s/api/media/382', 'o:id': 382}, 'o:media': [{'@id': 'http://jajohnst.si676.si.umich.edu/omeka-s/api/media/382', 'o:id': 382}], 'o:item_set': [], 'o:site': [{'@id': 'http://jajohnst.si676.si.umich.edu/omeka-s/api/sites/1', 'o:id': 1}], 'dcterms:title': [{'type': 'literal', 'property_id': 1, 'property_label': 'Title', 'is_public': True, '@value': 'Carnegie Library, Cordele, Georgia', '@language': 'en-us'}], 'dcterms:identifier': [{'type': 'literal', 'property_id': 10, 'property_label': 'Identifier', 'is_public': True, '@value': '91787443', '@language': 'en-us'}, {'type': 'literal', 'property_id': 10, 'property_label': 'Identifier', 'is_public': True, '@value': 'https://www.loc.gov/item/91787443/', '@language': 'en-us'}], 'dcterms:date': [{'type': 'literal', 'property_id': 7, 'property_label': 'Date', 'is_public': True, '@value': '1916-01-01', '@language': 'en-us'}], 'dcterms:isFormatOf': [{'type': 'literal', 'property_id': 37, 'property_label': 'Is Format Of', 'is_public': True, '@value': \"{'photo, print, drawing': 'https://www.loc.gov/search/?fa=original_format:photo,+print,+drawing&fo=json'}\", '@language': 'en-us'}], 'dcterms:type': [{'type': 'literal', 'property_id': 8, 'property_label': 'Type', 'is_public': True, '@value': 'Image', '@language': 'en-us'}], 'dcterms:rights': [{'type': 'literal', 'property_id': 15, 'property_label': 'Rights', 'is_public': True, '@value': 'No known restrictions on publication.', '@language': 'en-us'}]}\n",
      "{'@context': 'http://jajohnst.si676.si.umich.edu/omeka-s/api-context', '@id': 'http://jajohnst.si676.si.umich.edu/omeka-s/api/items/368', '@type': 'o:Item', 'o:id': 368, 'o:is_public': True, 'o:owner': {'@id': 'http://jajohnst.si676.si.umich.edu/omeka-s/api/users/1', 'o:id': 1}, 'o:resource_class': None, 'o:resource_template': None, 'o:thumbnail': None, 'o:title': 'Carnegie Library, Sheldon, Iowa', 'thumbnail_display_urls': {'large': 'http://jajohnst.si676.si.umich.edu/omeka-s/files/large/3269a2ffcb91d1660eecf86247b15a76f7fa0dde.jpg', 'medium': 'http://jajohnst.si676.si.umich.edu/omeka-s/files/medium/3269a2ffcb91d1660eecf86247b15a76f7fa0dde.jpg', 'square': 'http://jajohnst.si676.si.umich.edu/omeka-s/files/square/3269a2ffcb91d1660eecf86247b15a76f7fa0dde.jpg'}, 'o:created': {'@value': '2024-11-13T20:24:13+00:00', '@type': 'http://www.w3.org/2001/XMLSchema#dateTime'}, 'o:modified': {'@value': '2024-11-13T20:24:13+00:00', '@type': 'http://www.w3.org/2001/XMLSchema#dateTime'}, 'o:primary_media': {'@id': 'http://jajohnst.si676.si.umich.edu/omeka-s/api/media/383', 'o:id': 383}, 'o:media': [{'@id': 'http://jajohnst.si676.si.umich.edu/omeka-s/api/media/383', 'o:id': 383}], 'o:item_set': [], 'o:site': [{'@id': 'http://jajohnst.si676.si.umich.edu/omeka-s/api/sites/1', 'o:id': 1}], 'dcterms:title': [{'type': 'literal', 'property_id': 1, 'property_label': 'Title', 'is_public': True, '@value': 'Carnegie Library, Sheldon, Iowa', '@language': 'en-us'}], 'dcterms:identifier': [{'type': 'literal', 'property_id': 10, 'property_label': 'Identifier', 'is_public': True, '@value': '97511671', '@language': 'en-us'}, {'type': 'literal', 'property_id': 10, 'property_label': 'Identifier', 'is_public': True, '@value': 'https://www.loc.gov/item/97511671/', '@language': 'en-us'}], 'dcterms:date': [{'type': 'literal', 'property_id': 7, 'property_label': 'Date', 'is_public': True, '@value': '1909-01-01', '@language': 'en-us'}], 'dcterms:isFormatOf': [{'type': 'literal', 'property_id': 37, 'property_label': 'Is Format Of', 'is_public': True, '@value': \"{'photo, print, drawing': 'https://www.loc.gov/search/?fa=original_format:photo,+print,+drawing&fo=json'}\", '@language': 'en-us'}], 'dcterms:type': [{'type': 'literal', 'property_id': 8, 'property_label': 'Type', 'is_public': True, '@value': 'Image', '@language': 'en-us'}], 'dcterms:rights': [{'type': 'literal', 'property_id': 15, 'property_label': 'Rights', 'is_public': True, '@value': 'Undetermined', '@language': 'en-us'}]}\n",
      "{'@context': 'http://jajohnst.si676.si.umich.edu/omeka-s/api-context', '@id': 'http://jajohnst.si676.si.umich.edu/omeka-s/api/items/369', '@type': 'o:Item', 'o:id': 369, 'o:is_public': True, 'o:owner': {'@id': 'http://jajohnst.si676.si.umich.edu/omeka-s/api/users/1', 'o:id': 1}, 'o:resource_class': None, 'o:resource_template': None, 'o:thumbnail': None, 'o:title': 'Curb service 10,000 current books - convenient, free, time saving : Chicago Public Library, Randolph St. corridor.', 'thumbnail_display_urls': {'large': 'http://jajohnst.si676.si.umich.edu/omeka-s/files/large/1a75227c0aeb082af58f40dc55d5c9940a484810.jpg', 'medium': 'http://jajohnst.si676.si.umich.edu/omeka-s/files/medium/1a75227c0aeb082af58f40dc55d5c9940a484810.jpg', 'square': 'http://jajohnst.si676.si.umich.edu/omeka-s/files/square/1a75227c0aeb082af58f40dc55d5c9940a484810.jpg'}, 'o:created': {'@value': '2024-11-13T20:24:13+00:00', '@type': 'http://www.w3.org/2001/XMLSchema#dateTime'}, 'o:modified': {'@value': '2024-11-13T20:24:13+00:00', '@type': 'http://www.w3.org/2001/XMLSchema#dateTime'}, 'o:primary_media': {'@id': 'http://jajohnst.si676.si.umich.edu/omeka-s/api/media/384', 'o:id': 384}, 'o:media': [{'@id': 'http://jajohnst.si676.si.umich.edu/omeka-s/api/media/384', 'o:id': 384}], 'o:item_set': [], 'o:site': [{'@id': 'http://jajohnst.si676.si.umich.edu/omeka-s/api/sites/1', 'o:id': 1}], 'dcterms:title': [{'type': 'literal', 'property_id': 1, 'property_label': 'Title', 'is_public': True, '@value': 'Curb service 10,000 current books - convenient, free, time saving : Chicago Public Library, Randolph St. corridor.', '@language': 'en-us'}], 'dcterms:identifier': [{'type': 'literal', 'property_id': 10, 'property_label': 'Identifier', 'is_public': True, '@value': '98508385', '@language': 'en-us'}, {'type': 'literal', 'property_id': 10, 'property_label': 'Identifier', 'is_public': True, '@value': 'https://www.loc.gov/item/98508385/', '@language': 'en-us'}], 'dcterms:date': [{'type': 'literal', 'property_id': 7, 'property_label': 'Date', 'is_public': True, '@value': '1936-01-01', '@language': 'en-us'}], 'dcterms:isFormatOf': [{'type': 'literal', 'property_id': 37, 'property_label': 'Is Format Of', 'is_public': True, '@value': \"{'photo, print, drawing': 'https://www.loc.gov/search/?fa=original_format:photo,+print,+drawing&fo=json'}\", '@language': 'en-us'}], 'dcterms:type': [{'type': 'literal', 'property_id': 8, 'property_label': 'Type', 'is_public': True, '@value': 'Image', '@language': 'en-us'}], 'dcterms:rights': [{'type': 'literal', 'property_id': 15, 'property_label': 'Rights', 'is_public': True, '@value': 'No known restrictions on publication.', '@language': 'en-us'}]}\n",
      "{'@context': 'http://jajohnst.si676.si.umich.edu/omeka-s/api-context', '@id': 'http://jajohnst.si676.si.umich.edu/omeka-s/api/items/370', '@type': 'o:Item', 'o:id': 370, 'o:is_public': True, 'o:owner': {'@id': 'http://jajohnst.si676.si.umich.edu/omeka-s/api/users/1', 'o:id': 1}, 'o:resource_class': None, 'o:resource_template': None, 'o:thumbnail': None, 'o:title': 'For greater knowledge on more subjects use your library more often', 'thumbnail_display_urls': {'large': 'http://jajohnst.si676.si.umich.edu/omeka-s/files/large/fc27f23352f9c82dd51a322c3a228b7a3c035c93.jpg', 'medium': 'http://jajohnst.si676.si.umich.edu/omeka-s/files/medium/fc27f23352f9c82dd51a322c3a228b7a3c035c93.jpg', 'square': 'http://jajohnst.si676.si.umich.edu/omeka-s/files/square/fc27f23352f9c82dd51a322c3a228b7a3c035c93.jpg'}, 'o:created': {'@value': '2024-11-13T20:24:13+00:00', '@type': 'http://www.w3.org/2001/XMLSchema#dateTime'}, 'o:modified': {'@value': '2024-11-13T20:24:13+00:00', '@type': 'http://www.w3.org/2001/XMLSchema#dateTime'}, 'o:primary_media': {'@id': 'http://jajohnst.si676.si.umich.edu/omeka-s/api/media/385', 'o:id': 385}, 'o:media': [{'@id': 'http://jajohnst.si676.si.umich.edu/omeka-s/api/media/385', 'o:id': 385}], 'o:item_set': [], 'o:site': [{'@id': 'http://jajohnst.si676.si.umich.edu/omeka-s/api/sites/1', 'o:id': 1}], 'dcterms:title': [{'type': 'literal', 'property_id': 1, 'property_label': 'Title', 'is_public': True, '@value': 'For greater knowledge on more subjects use your library more often', '@language': 'en-us'}], 'dcterms:identifier': [{'type': 'literal', 'property_id': 10, 'property_label': 'Identifier', 'is_public': True, '@value': '98508155', '@language': 'en-us'}, {'type': 'literal', 'property_id': 10, 'property_label': 'Identifier', 'is_public': True, '@value': 'https://www.loc.gov/item/98508155/', '@language': 'en-us'}], 'dcterms:date': [{'type': 'literal', 'property_id': 7, 'property_label': 'Date', 'is_public': True, '@value': '1936-01-01', '@language': 'en-us'}], 'dcterms:isFormatOf': [{'type': 'literal', 'property_id': 37, 'property_label': 'Is Format Of', 'is_public': True, '@value': \"{'photo, print, drawing': 'https://www.loc.gov/search/?fa=original_format:photo,+print,+drawing&fo=json'}\", '@language': 'en-us'}], 'dcterms:type': [{'type': 'literal', 'property_id': 8, 'property_label': 'Type', 'is_public': True, '@value': 'Image', '@language': 'en-us'}], 'dcterms:rights': [{'type': 'literal', 'property_id': 15, 'property_label': 'Rights', 'is_public': True, '@value': 'No known restrictions on publication.', '@language': 'en-us'}]}\n",
      "{'@context': 'http://jajohnst.si676.si.umich.edu/omeka-s/api-context', '@id': 'http://jajohnst.si676.si.umich.edu/omeka-s/api/items/371', '@type': 'o:Item', 'o:id': 371, 'o:is_public': True, 'o:owner': {'@id': 'http://jajohnst.si676.si.umich.edu/omeka-s/api/users/1', 'o:id': 1}, 'o:resource_class': None, 'o:resource_template': None, 'o:thumbnail': None, 'o:title': '[Cossitt Library, Memphis, Tenn.]', 'thumbnail_display_urls': {'large': 'http://jajohnst.si676.si.umich.edu/omeka-s/files/large/e77fb3c033a785b61a5fc6aa5a0e20d8a96ae969.jpg', 'medium': 'http://jajohnst.si676.si.umich.edu/omeka-s/files/medium/e77fb3c033a785b61a5fc6aa5a0e20d8a96ae969.jpg', 'square': 'http://jajohnst.si676.si.umich.edu/omeka-s/files/square/e77fb3c033a785b61a5fc6aa5a0e20d8a96ae969.jpg'}, 'o:created': {'@value': '2024-11-13T20:24:14+00:00', '@type': 'http://www.w3.org/2001/XMLSchema#dateTime'}, 'o:modified': {'@value': '2024-11-13T20:24:14+00:00', '@type': 'http://www.w3.org/2001/XMLSchema#dateTime'}, 'o:primary_media': {'@id': 'http://jajohnst.si676.si.umich.edu/omeka-s/api/media/386', 'o:id': 386}, 'o:media': [{'@id': 'http://jajohnst.si676.si.umich.edu/omeka-s/api/media/386', 'o:id': 386}], 'o:item_set': [], 'o:site': [{'@id': 'http://jajohnst.si676.si.umich.edu/omeka-s/api/sites/1', 'o:id': 1}], 'dcterms:title': [{'type': 'literal', 'property_id': 1, 'property_label': 'Title', 'is_public': True, '@value': '[Cossitt Library, Memphis, Tenn.]', '@language': 'en-us'}], 'dcterms:identifier': [{'type': 'literal', 'property_id': 10, 'property_label': 'Identifier', 'is_public': True, '@value': '2016809661', '@language': 'en-us'}, {'type': 'literal', 'property_id': 10, 'property_label': 'Identifier', 'is_public': True, '@value': 'https://www.loc.gov/item/2016809661/', '@language': 'en-us'}], 'dcterms:date': [{'type': 'literal', 'property_id': 7, 'property_label': 'Date', 'is_public': True, '@value': '1906-01-01', '@language': 'en-us'}], 'dcterms:isFormatOf': [{'type': 'literal', 'property_id': 37, 'property_label': 'Is Format Of', 'is_public': True, '@value': \"{'photo, print, drawing': 'https://www.loc.gov/search/?fa=original_format:photo,+print,+drawing&fo=json'}\", '@language': 'en-us'}], 'dcterms:type': [{'type': 'literal', 'property_id': 8, 'property_label': 'Type', 'is_public': True, '@value': 'Image', '@language': 'en-us'}], 'dcterms:rights': [{'type': 'literal', 'property_id': 15, 'property_label': 'Rights', 'is_public': True, '@value': 'No known restrictions on publication.', '@language': 'en-us'}]}\n",
      "{'@context': 'http://jajohnst.si676.si.umich.edu/omeka-s/api-context', '@id': 'http://jajohnst.si676.si.umich.edu/omeka-s/api/items/372', '@type': 'o:Item', 'o:id': 372, 'o:is_public': True, 'o:owner': {'@id': 'http://jajohnst.si676.si.umich.edu/omeka-s/api/users/1', 'o:id': 1}, 'o:resource_class': None, 'o:resource_template': None, 'o:thumbnail': None, 'o:title': 'Little Rock Public Library, Little Rock, Ark.', 'thumbnail_display_urls': {'large': 'http://jajohnst.si676.si.umich.edu/omeka-s/files/large/0386789ee6e58ba7f70553e37071cb47e4abc2c7.jpg', 'medium': 'http://jajohnst.si676.si.umich.edu/omeka-s/files/medium/0386789ee6e58ba7f70553e37071cb47e4abc2c7.jpg', 'square': 'http://jajohnst.si676.si.umich.edu/omeka-s/files/square/0386789ee6e58ba7f70553e37071cb47e4abc2c7.jpg'}, 'o:created': {'@value': '2024-11-13T20:24:14+00:00', '@type': 'http://www.w3.org/2001/XMLSchema#dateTime'}, 'o:modified': {'@value': '2024-11-13T20:24:14+00:00', '@type': 'http://www.w3.org/2001/XMLSchema#dateTime'}, 'o:primary_media': {'@id': 'http://jajohnst.si676.si.umich.edu/omeka-s/api/media/387', 'o:id': 387}, 'o:media': [{'@id': 'http://jajohnst.si676.si.umich.edu/omeka-s/api/media/387', 'o:id': 387}], 'o:item_set': [], 'o:site': [{'@id': 'http://jajohnst.si676.si.umich.edu/omeka-s/api/sites/1', 'o:id': 1}], 'dcterms:title': [{'type': 'literal', 'property_id': 1, 'property_label': 'Title', 'is_public': True, '@value': 'Little Rock Public Library, Little Rock, Ark.', '@language': 'en-us'}], 'dcterms:identifier': [{'type': 'literal', 'property_id': 10, 'property_label': 'Identifier', 'is_public': True, '@value': '2016815290', '@language': 'en-us'}, {'type': 'literal', 'property_id': 10, 'property_label': 'Identifier', 'is_public': True, '@value': 'https://www.loc.gov/item/2016815290/', '@language': 'en-us'}], 'dcterms:date': [{'type': 'literal', 'property_id': 7, 'property_label': 'Date', 'is_public': True, '@value': '1905-01-01', '@language': 'en-us'}], 'dcterms:isFormatOf': [{'type': 'literal', 'property_id': 37, 'property_label': 'Is Format Of', 'is_public': True, '@value': \"{'photo, print, drawing': 'https://www.loc.gov/search/?fa=original_format:photo,+print,+drawing&fo=json'}\", '@language': 'en-us'}], 'dcterms:type': [{'type': 'literal', 'property_id': 8, 'property_label': 'Type', 'is_public': True, '@value': 'Image', '@language': 'en-us'}], 'dcterms:rights': [{'type': 'literal', 'property_id': 15, 'property_label': 'Rights', 'is_public': True, '@value': 'No known restrictions on publication.', '@language': 'en-us'}]}\n",
      "{'@context': 'http://jajohnst.si676.si.umich.edu/omeka-s/api-context', '@id': 'http://jajohnst.si676.si.umich.edu/omeka-s/api/items/373', '@type': 'o:Item', 'o:id': 373, 'o:is_public': True, 'o:owner': {'@id': 'http://jajohnst.si676.si.umich.edu/omeka-s/api/users/1', 'o:id': 1}, 'o:resource_class': None, 'o:resource_template': None, 'o:thumbnail': None, 'o:title': 'Newspaper reading room of public library. Omaha, Nebraska', 'thumbnail_display_urls': {'large': 'http://jajohnst.si676.si.umich.edu/omeka-s/files/large/b770fceca21e76f0bf117ae0f88b5830957ca4c3.jpg', 'medium': 'http://jajohnst.si676.si.umich.edu/omeka-s/files/medium/b770fceca21e76f0bf117ae0f88b5830957ca4c3.jpg', 'square': 'http://jajohnst.si676.si.umich.edu/omeka-s/files/square/b770fceca21e76f0bf117ae0f88b5830957ca4c3.jpg'}, 'o:created': {'@value': '2024-11-13T20:24:14+00:00', '@type': 'http://www.w3.org/2001/XMLSchema#dateTime'}, 'o:modified': {'@value': '2024-11-13T20:24:14+00:00', '@type': 'http://www.w3.org/2001/XMLSchema#dateTime'}, 'o:primary_media': {'@id': 'http://jajohnst.si676.si.umich.edu/omeka-s/api/media/388', 'o:id': 388}, 'o:media': [{'@id': 'http://jajohnst.si676.si.umich.edu/omeka-s/api/media/388', 'o:id': 388}], 'o:item_set': [], 'o:site': [{'@id': 'http://jajohnst.si676.si.umich.edu/omeka-s/api/sites/1', 'o:id': 1}], 'dcterms:title': [{'type': 'literal', 'property_id': 1, 'property_label': 'Title', 'is_public': True, '@value': 'Newspaper reading room of public library. Omaha, Nebraska', '@language': 'en-us'}], 'dcterms:identifier': [{'type': 'literal', 'property_id': 10, 'property_label': 'Identifier', 'is_public': True, '@value': '2017762724', '@language': 'en-us'}, {'type': 'literal', 'property_id': 10, 'property_label': 'Identifier', 'is_public': True, '@value': 'https://www.loc.gov/item/2017762724/', '@language': 'en-us'}], 'dcterms:date': [{'type': 'literal', 'property_id': 7, 'property_label': 'Date', 'is_public': True, '@value': '1938-01-01', '@language': 'en-us'}], 'dcterms:isFormatOf': [{'type': 'literal', 'property_id': 37, 'property_label': 'Is Format Of', 'is_public': True, '@value': \"{'photo, print, drawing': 'https://www.loc.gov/search/?fa=original_format:photo,+print,+drawing&fo=json'}\", '@language': 'en-us'}], 'dcterms:type': [{'type': 'literal', 'property_id': 8, 'property_label': 'Type', 'is_public': True, '@value': 'Image', '@language': 'en-us'}], 'dcterms:rights': [{'type': 'literal', 'property_id': 15, 'property_label': 'Rights', 'is_public': True, '@value': 'No known restrictions. For information, see U.S. Farm Security Administration/Office of War Information Black & White Photographs https://www.loc.gov/rr/print/res/071_fsab.html', '@language': 'en-us'}]}\n",
      "{'@context': 'http://jajohnst.si676.si.umich.edu/omeka-s/api-context', '@id': 'http://jajohnst.si676.si.umich.edu/omeka-s/api/items/374', '@type': 'o:Item', 'o:id': 374, 'o:is_public': True, 'o:owner': {'@id': 'http://jajohnst.si676.si.umich.edu/omeka-s/api/users/1', 'o:id': 1}, 'o:resource_class': None, 'o:resource_template': None, 'o:thumbnail': None, 'o:title': 'Public library in the southwestern section of Mississippi, in the piney woods', 'thumbnail_display_urls': {'large': 'http://jajohnst.si676.si.umich.edu/omeka-s/files/large/7e42d73ce391940b8268368b040f787d424f3c69.jpg', 'medium': 'http://jajohnst.si676.si.umich.edu/omeka-s/files/medium/7e42d73ce391940b8268368b040f787d424f3c69.jpg', 'square': 'http://jajohnst.si676.si.umich.edu/omeka-s/files/square/7e42d73ce391940b8268368b040f787d424f3c69.jpg'}, 'o:created': {'@value': '2024-11-13T20:24:15+00:00', '@type': 'http://www.w3.org/2001/XMLSchema#dateTime'}, 'o:modified': {'@value': '2024-11-13T20:24:15+00:00', '@type': 'http://www.w3.org/2001/XMLSchema#dateTime'}, 'o:primary_media': {'@id': 'http://jajohnst.si676.si.umich.edu/omeka-s/api/media/389', 'o:id': 389}, 'o:media': [{'@id': 'http://jajohnst.si676.si.umich.edu/omeka-s/api/media/389', 'o:id': 389}], 'o:item_set': [], 'o:site': [{'@id': 'http://jajohnst.si676.si.umich.edu/omeka-s/api/sites/1', 'o:id': 1}], 'dcterms:title': [{'type': 'literal', 'property_id': 1, 'property_label': 'Title', 'is_public': True, '@value': 'Public library in the southwestern section of Mississippi, in the piney woods', '@language': 'en-us'}], 'dcterms:identifier': [{'type': 'literal', 'property_id': 10, 'property_label': 'Identifier', 'is_public': True, '@value': '2017770391', '@language': 'en-us'}, {'type': 'literal', 'property_id': 10, 'property_label': 'Identifier', 'is_public': True, '@value': 'https://www.loc.gov/item/2017770391/', '@language': 'en-us'}], 'dcterms:date': [{'type': 'literal', 'property_id': 7, 'property_label': 'Date', 'is_public': True, '@value': '1937-01-01', '@language': 'en-us'}], 'dcterms:isFormatOf': [{'type': 'literal', 'property_id': 37, 'property_label': 'Is Format Of', 'is_public': True, '@value': \"{'photo, print, drawing': 'https://www.loc.gov/search/?fa=original_format:photo,+print,+drawing&fo=json'}\", '@language': 'en-us'}], 'dcterms:type': [{'type': 'literal', 'property_id': 8, 'property_label': 'Type', 'is_public': True, '@value': 'Image', '@language': 'en-us'}], 'dcterms:rights': [{'type': 'literal', 'property_id': 15, 'property_label': 'Rights', 'is_public': True, '@value': 'No known restrictions. For information, see U.S. Farm Security Administration/Office of War Information Black & White Photographs https://www.loc.gov/rr/print/res/071_fsab.html', '@language': 'en-us'}]}\n",
      "{'@context': 'http://jajohnst.si676.si.umich.edu/omeka-s/api-context', '@id': 'http://jajohnst.si676.si.umich.edu/omeka-s/api/items/375', '@type': 'o:Item', 'o:id': 375, 'o:is_public': True, 'o:owner': {'@id': 'http://jajohnst.si676.si.umich.edu/omeka-s/api/users/1', 'o:id': 1}, 'o:resource_class': None, 'o:resource_template': None, 'o:thumbnail': None, 'o:title': 'Library tent at the FSA (Farm Security Administration) mobile camp for migratory farm workers. Odell, Oregon. The girls working in the library receive credit in the Junior Campers League for work in the library', 'thumbnail_display_urls': {'large': 'http://jajohnst.si676.si.umich.edu/omeka-s/files/large/ffdb26e050cc21537b0814d059f30551fcc47f22.jpg', 'medium': 'http://jajohnst.si676.si.umich.edu/omeka-s/files/medium/ffdb26e050cc21537b0814d059f30551fcc47f22.jpg', 'square': 'http://jajohnst.si676.si.umich.edu/omeka-s/files/square/ffdb26e050cc21537b0814d059f30551fcc47f22.jpg'}, 'o:created': {'@value': '2024-11-13T20:24:15+00:00', '@type': 'http://www.w3.org/2001/XMLSchema#dateTime'}, 'o:modified': {'@value': '2024-11-13T20:24:15+00:00', '@type': 'http://www.w3.org/2001/XMLSchema#dateTime'}, 'o:primary_media': {'@id': 'http://jajohnst.si676.si.umich.edu/omeka-s/api/media/390', 'o:id': 390}, 'o:media': [{'@id': 'http://jajohnst.si676.si.umich.edu/omeka-s/api/media/390', 'o:id': 390}], 'o:item_set': [], 'o:site': [{'@id': 'http://jajohnst.si676.si.umich.edu/omeka-s/api/sites/1', 'o:id': 1}], 'dcterms:title': [{'type': 'literal', 'property_id': 1, 'property_label': 'Title', 'is_public': True, '@value': 'Library tent at the FSA (Farm Security Administration) mobile camp for migratory farm workers. Odell, Oregon. The girls working in the library receive credit in the Junior Campers League for work in the library', '@language': 'en-us'}], 'dcterms:identifier': [{'type': 'literal', 'property_id': 10, 'property_label': 'Identifier', 'is_public': True, '@value': '2017815837', '@language': 'en-us'}, {'type': 'literal', 'property_id': 10, 'property_label': 'Identifier', 'is_public': True, '@value': 'https://www.loc.gov/item/2017815837/', '@language': 'en-us'}], 'dcterms:date': [{'type': 'literal', 'property_id': 7, 'property_label': 'Date', 'is_public': True, '@value': '1941-01-01', '@language': 'en-us'}], 'dcterms:isFormatOf': [{'type': 'literal', 'property_id': 37, 'property_label': 'Is Format Of', 'is_public': True, '@value': \"{'photo, print, drawing': 'https://www.loc.gov/search/?fa=original_format:photo,+print,+drawing&fo=json'}\", '@language': 'en-us'}], 'dcterms:type': [{'type': 'literal', 'property_id': 8, 'property_label': 'Type', 'is_public': True, '@value': 'Image', '@language': 'en-us'}], 'dcterms:rights': [{'type': 'literal', 'property_id': 15, 'property_label': 'Rights', 'is_public': True, '@value': 'No known restrictions. For information, see U.S. Farm Security Administration/Office of War Information Black & White Photographs https://www.loc.gov/rr/print/res/071_fsab.html', '@language': 'en-us'}]}\n",
      "{'@context': 'http://jajohnst.si676.si.umich.edu/omeka-s/api-context', '@id': 'http://jajohnst.si676.si.umich.edu/omeka-s/api/items/376', '@type': 'o:Item', 'o:id': 376, 'o:is_public': True, 'o:owner': {'@id': 'http://jajohnst.si676.si.umich.edu/omeka-s/api/users/1', 'o:id': 1}, 'o:resource_class': None, 'o:resource_template': None, 'o:thumbnail': None, 'o:title': 'Daytona Beach, Florida. Bethune-Cookman College. Students in the library reading room', 'thumbnail_display_urls': {'large': 'http://jajohnst.si676.si.umich.edu/omeka-s/files/large/7bf9000db7908c6c3e947f25fd0462a263f591c4.jpg', 'medium': 'http://jajohnst.si676.si.umich.edu/omeka-s/files/medium/7bf9000db7908c6c3e947f25fd0462a263f591c4.jpg', 'square': 'http://jajohnst.si676.si.umich.edu/omeka-s/files/square/7bf9000db7908c6c3e947f25fd0462a263f591c4.jpg'}, 'o:created': {'@value': '2024-11-13T20:24:15+00:00', '@type': 'http://www.w3.org/2001/XMLSchema#dateTime'}, 'o:modified': {'@value': '2024-11-13T20:24:15+00:00', '@type': 'http://www.w3.org/2001/XMLSchema#dateTime'}, 'o:primary_media': {'@id': 'http://jajohnst.si676.si.umich.edu/omeka-s/api/media/391', 'o:id': 391}, 'o:media': [{'@id': 'http://jajohnst.si676.si.umich.edu/omeka-s/api/media/391', 'o:id': 391}], 'o:item_set': [], 'o:site': [{'@id': 'http://jajohnst.si676.si.umich.edu/omeka-s/api/sites/1', 'o:id': 1}], 'dcterms:title': [{'type': 'literal', 'property_id': 1, 'property_label': 'Title', 'is_public': True, '@value': 'Daytona Beach, Florida. Bethune-Cookman College. Students in the library reading room', '@language': 'en-us'}], 'dcterms:identifier': [{'type': 'literal', 'property_id': 10, 'property_label': 'Identifier', 'is_public': True, '@value': '2017843202', '@language': 'en-us'}, {'type': 'literal', 'property_id': 10, 'property_label': 'Identifier', 'is_public': True, '@value': 'https://www.loc.gov/item/2017843202/', '@language': 'en-us'}], 'dcterms:date': [{'type': 'literal', 'property_id': 7, 'property_label': 'Date', 'is_public': True, '@value': '1943-01-01', '@language': 'en-us'}], 'dcterms:isFormatOf': [{'type': 'literal', 'property_id': 37, 'property_label': 'Is Format Of', 'is_public': True, '@value': \"{'photo, print, drawing': 'https://www.loc.gov/search/?fa=original_format:photo,+print,+drawing&fo=json'}\", '@language': 'en-us'}], 'dcterms:type': [{'type': 'literal', 'property_id': 8, 'property_label': 'Type', 'is_public': True, '@value': 'Image', '@language': 'en-us'}], 'dcterms:rights': [{'type': 'literal', 'property_id': 15, 'property_label': 'Rights', 'is_public': True, '@value': 'No known restrictions. For information, see U.S. Farm Security Administration/Office of War Information Black & White Photographs https://www.loc.gov/rr/print/res/071_fsab.html', '@language': 'en-us'}]}\n",
      "{'@context': 'http://jajohnst.si676.si.umich.edu/omeka-s/api-context', '@id': 'http://jajohnst.si676.si.umich.edu/omeka-s/api/items/377', '@type': 'o:Item', 'o:id': 377, 'o:is_public': True, 'o:owner': {'@id': 'http://jajohnst.si676.si.umich.edu/omeka-s/api/users/1', 'o:id': 1}, 'o:resource_class': None, 'o:resource_template': None, 'o:thumbnail': None, 'o:title': 'Libraries, Washington D.C.', 'thumbnail_display_urls': {'large': 'http://jajohnst.si676.si.umich.edu/omeka-s/files/large/5c76156ac4dbbcf0354e1fc9d0ea53e092ed8dcc.jpg', 'medium': 'http://jajohnst.si676.si.umich.edu/omeka-s/files/medium/5c76156ac4dbbcf0354e1fc9d0ea53e092ed8dcc.jpg', 'square': 'http://jajohnst.si676.si.umich.edu/omeka-s/files/square/5c76156ac4dbbcf0354e1fc9d0ea53e092ed8dcc.jpg'}, 'o:created': {'@value': '2024-11-13T20:24:16+00:00', '@type': 'http://www.w3.org/2001/XMLSchema#dateTime'}, 'o:modified': {'@value': '2024-11-13T20:24:16+00:00', '@type': 'http://www.w3.org/2001/XMLSchema#dateTime'}, 'o:primary_media': {'@id': 'http://jajohnst.si676.si.umich.edu/omeka-s/api/media/392', 'o:id': 392}, 'o:media': [{'@id': 'http://jajohnst.si676.si.umich.edu/omeka-s/api/media/392', 'o:id': 392}], 'o:item_set': [], 'o:site': [{'@id': 'http://jajohnst.si676.si.umich.edu/omeka-s/api/sites/1', 'o:id': 1}], 'dcterms:title': [{'type': 'literal', 'property_id': 1, 'property_label': 'Title', 'is_public': True, '@value': 'Libraries, Washington D.C.', '@language': 'en-us'}], 'dcterms:identifier': [{'type': 'literal', 'property_id': 10, 'property_label': 'Identifier', 'is_public': True, '@value': '87694100', '@language': 'en-us'}, {'type': 'literal', 'property_id': 10, 'property_label': 'Identifier', 'is_public': True, '@value': 'https://www.loc.gov/item/87694100/', '@language': 'en-us'}], 'dcterms:date': [{'type': 'literal', 'property_id': 7, 'property_label': 'Date', 'is_public': True, '@value': '1926-01-01', '@language': 'en-us'}], 'dcterms:isFormatOf': [{'type': 'literal', 'property_id': 37, 'property_label': 'Is Format Of', 'is_public': True, '@value': \"{'map': 'https://www.loc.gov/search/?fa=original_format:map&fo=json'}\", '@language': 'en-us'}], 'dcterms:type': [{'type': 'literal', 'property_id': 8, 'property_label': 'Type', 'is_public': True, '@value': 'Image', '@language': 'en-us'}], 'dcterms:rights': [{'type': 'literal', 'property_id': 15, 'property_label': 'Rights', 'is_public': True, '@value': 'Undetermined', '@language': 'en-us'}]}\n",
      "{'@context': 'http://jajohnst.si676.si.umich.edu/omeka-s/api-context', '@id': 'http://jajohnst.si676.si.umich.edu/omeka-s/api/items/378', '@type': 'o:Item', 'o:id': 378, 'o:is_public': True, 'o:owner': {'@id': 'http://jajohnst.si676.si.umich.edu/omeka-s/api/users/1', 'o:id': 1}, 'o:resource_class': None, 'o:resource_template': None, 'o:thumbnail': None, 'o:title': 'Carnegie Library, Cordele, Georgia', 'thumbnail_display_urls': {'large': 'http://jajohnst.si676.si.umich.edu/omeka-s/files/large/c3f2b002a8998633f6db28201cd219d6ed091483.jpg', 'medium': 'http://jajohnst.si676.si.umich.edu/omeka-s/files/medium/c3f2b002a8998633f6db28201cd219d6ed091483.jpg', 'square': 'http://jajohnst.si676.si.umich.edu/omeka-s/files/square/c3f2b002a8998633f6db28201cd219d6ed091483.jpg'}, 'o:created': {'@value': '2024-11-13T20:24:16+00:00', '@type': 'http://www.w3.org/2001/XMLSchema#dateTime'}, 'o:modified': {'@value': '2024-11-13T20:24:16+00:00', '@type': 'http://www.w3.org/2001/XMLSchema#dateTime'}, 'o:primary_media': {'@id': 'http://jajohnst.si676.si.umich.edu/omeka-s/api/media/393', 'o:id': 393}, 'o:media': [{'@id': 'http://jajohnst.si676.si.umich.edu/omeka-s/api/media/393', 'o:id': 393}], 'o:item_set': [], 'o:site': [{'@id': 'http://jajohnst.si676.si.umich.edu/omeka-s/api/sites/1', 'o:id': 1}], 'dcterms:title': [{'type': 'literal', 'property_id': 1, 'property_label': 'Title', 'is_public': True, '@value': 'Carnegie Library, Cordele, Georgia', '@language': 'en-us'}], 'dcterms:identifier': [{'type': 'literal', 'property_id': 10, 'property_label': 'Identifier', 'is_public': True, '@value': '91787443', '@language': 'en-us'}, {'type': 'literal', 'property_id': 10, 'property_label': 'Identifier', 'is_public': True, '@value': 'https://www.loc.gov/item/91787443/', '@language': 'en-us'}], 'dcterms:date': [{'type': 'literal', 'property_id': 7, 'property_label': 'Date', 'is_public': True, '@value': '1916-01-01', '@language': 'en-us'}], 'dcterms:isFormatOf': [{'type': 'literal', 'property_id': 37, 'property_label': 'Is Format Of', 'is_public': True, '@value': \"{'photo, print, drawing': 'https://www.loc.gov/search/?fa=original_format:photo,+print,+drawing&fo=json'}\", '@language': 'en-us'}], 'dcterms:type': [{'type': 'literal', 'property_id': 8, 'property_label': 'Type', 'is_public': True, '@value': 'Image', '@language': 'en-us'}], 'dcterms:rights': [{'type': 'literal', 'property_id': 15, 'property_label': 'Rights', 'is_public': True, '@value': 'No known restrictions on publication.', '@language': 'en-us'}]}\n",
      "{'@context': 'http://jajohnst.si676.si.umich.edu/omeka-s/api-context', '@id': 'http://jajohnst.si676.si.umich.edu/omeka-s/api/items/379', '@type': 'o:Item', 'o:id': 379, 'o:is_public': True, 'o:owner': {'@id': 'http://jajohnst.si676.si.umich.edu/omeka-s/api/users/1', 'o:id': 1}, 'o:resource_class': None, 'o:resource_template': None, 'o:thumbnail': None, 'o:title': 'Carnegie Library, Sheldon, Iowa', 'thumbnail_display_urls': {'large': 'http://jajohnst.si676.si.umich.edu/omeka-s/files/large/9c5d697d9a98eb298ff837e8117425138533a0c6.jpg', 'medium': 'http://jajohnst.si676.si.umich.edu/omeka-s/files/medium/9c5d697d9a98eb298ff837e8117425138533a0c6.jpg', 'square': 'http://jajohnst.si676.si.umich.edu/omeka-s/files/square/9c5d697d9a98eb298ff837e8117425138533a0c6.jpg'}, 'o:created': {'@value': '2024-11-13T20:24:16+00:00', '@type': 'http://www.w3.org/2001/XMLSchema#dateTime'}, 'o:modified': {'@value': '2024-11-13T20:24:16+00:00', '@type': 'http://www.w3.org/2001/XMLSchema#dateTime'}, 'o:primary_media': {'@id': 'http://jajohnst.si676.si.umich.edu/omeka-s/api/media/394', 'o:id': 394}, 'o:media': [{'@id': 'http://jajohnst.si676.si.umich.edu/omeka-s/api/media/394', 'o:id': 394}], 'o:item_set': [], 'o:site': [{'@id': 'http://jajohnst.si676.si.umich.edu/omeka-s/api/sites/1', 'o:id': 1}], 'dcterms:title': [{'type': 'literal', 'property_id': 1, 'property_label': 'Title', 'is_public': True, '@value': 'Carnegie Library, Sheldon, Iowa', '@language': 'en-us'}], 'dcterms:identifier': [{'type': 'literal', 'property_id': 10, 'property_label': 'Identifier', 'is_public': True, '@value': '97511671', '@language': 'en-us'}, {'type': 'literal', 'property_id': 10, 'property_label': 'Identifier', 'is_public': True, '@value': 'https://www.loc.gov/item/97511671/', '@language': 'en-us'}], 'dcterms:date': [{'type': 'literal', 'property_id': 7, 'property_label': 'Date', 'is_public': True, '@value': '1909-01-01', '@language': 'en-us'}], 'dcterms:isFormatOf': [{'type': 'literal', 'property_id': 37, 'property_label': 'Is Format Of', 'is_public': True, '@value': \"{'photo, print, drawing': 'https://www.loc.gov/search/?fa=original_format:photo,+print,+drawing&fo=json'}\", '@language': 'en-us'}], 'dcterms:type': [{'type': 'literal', 'property_id': 8, 'property_label': 'Type', 'is_public': True, '@value': 'Image', '@language': 'en-us'}], 'dcterms:rights': [{'type': 'literal', 'property_id': 15, 'property_label': 'Rights', 'is_public': True, '@value': 'Undetermined', '@language': 'en-us'}]}\n",
      "{'@context': 'http://jajohnst.si676.si.umich.edu/omeka-s/api-context', '@id': 'http://jajohnst.si676.si.umich.edu/omeka-s/api/items/380', '@type': 'o:Item', 'o:id': 380, 'o:is_public': True, 'o:owner': {'@id': 'http://jajohnst.si676.si.umich.edu/omeka-s/api/users/1', 'o:id': 1}, 'o:resource_class': None, 'o:resource_template': None, 'o:thumbnail': None, 'o:title': 'Curb service 10,000 current books - convenient, free, time saving : Chicago Public Library, Randolph St. corridor.', 'thumbnail_display_urls': {'large': 'http://jajohnst.si676.si.umich.edu/omeka-s/files/large/e9eb38e39f62fa76ac4bb799135f8efdb3b27b94.jpg', 'medium': 'http://jajohnst.si676.si.umich.edu/omeka-s/files/medium/e9eb38e39f62fa76ac4bb799135f8efdb3b27b94.jpg', 'square': 'http://jajohnst.si676.si.umich.edu/omeka-s/files/square/e9eb38e39f62fa76ac4bb799135f8efdb3b27b94.jpg'}, 'o:created': {'@value': '2024-11-13T20:24:17+00:00', '@type': 'http://www.w3.org/2001/XMLSchema#dateTime'}, 'o:modified': {'@value': '2024-11-13T20:24:17+00:00', '@type': 'http://www.w3.org/2001/XMLSchema#dateTime'}, 'o:primary_media': {'@id': 'http://jajohnst.si676.si.umich.edu/omeka-s/api/media/395', 'o:id': 395}, 'o:media': [{'@id': 'http://jajohnst.si676.si.umich.edu/omeka-s/api/media/395', 'o:id': 395}], 'o:item_set': [], 'o:site': [{'@id': 'http://jajohnst.si676.si.umich.edu/omeka-s/api/sites/1', 'o:id': 1}], 'dcterms:title': [{'type': 'literal', 'property_id': 1, 'property_label': 'Title', 'is_public': True, '@value': 'Curb service 10,000 current books - convenient, free, time saving : Chicago Public Library, Randolph St. corridor.', '@language': 'en-us'}], 'dcterms:identifier': [{'type': 'literal', 'property_id': 10, 'property_label': 'Identifier', 'is_public': True, '@value': '98508385', '@language': 'en-us'}, {'type': 'literal', 'property_id': 10, 'property_label': 'Identifier', 'is_public': True, '@value': 'https://www.loc.gov/item/98508385/', '@language': 'en-us'}], 'dcterms:date': [{'type': 'literal', 'property_id': 7, 'property_label': 'Date', 'is_public': True, '@value': '1936-01-01', '@language': 'en-us'}], 'dcterms:isFormatOf': [{'type': 'literal', 'property_id': 37, 'property_label': 'Is Format Of', 'is_public': True, '@value': \"{'photo, print, drawing': 'https://www.loc.gov/search/?fa=original_format:photo,+print,+drawing&fo=json'}\", '@language': 'en-us'}], 'dcterms:type': [{'type': 'literal', 'property_id': 8, 'property_label': 'Type', 'is_public': True, '@value': 'Image', '@language': 'en-us'}], 'dcterms:rights': [{'type': 'literal', 'property_id': 15, 'property_label': 'Rights', 'is_public': True, '@value': 'No known restrictions on publication.', '@language': 'en-us'}]}\n",
      "{'@context': 'http://jajohnst.si676.si.umich.edu/omeka-s/api-context', '@id': 'http://jajohnst.si676.si.umich.edu/omeka-s/api/items/381', '@type': 'o:Item', 'o:id': 381, 'o:is_public': True, 'o:owner': {'@id': 'http://jajohnst.si676.si.umich.edu/omeka-s/api/users/1', 'o:id': 1}, 'o:resource_class': None, 'o:resource_template': None, 'o:thumbnail': None, 'o:title': 'For greater knowledge on more subjects use your library more often', 'thumbnail_display_urls': {'large': 'http://jajohnst.si676.si.umich.edu/omeka-s/files/large/329bc61557e81537259b17bcd2576858666ecfc6.jpg', 'medium': 'http://jajohnst.si676.si.umich.edu/omeka-s/files/medium/329bc61557e81537259b17bcd2576858666ecfc6.jpg', 'square': 'http://jajohnst.si676.si.umich.edu/omeka-s/files/square/329bc61557e81537259b17bcd2576858666ecfc6.jpg'}, 'o:created': {'@value': '2024-11-13T20:24:17+00:00', '@type': 'http://www.w3.org/2001/XMLSchema#dateTime'}, 'o:modified': {'@value': '2024-11-13T20:24:17+00:00', '@type': 'http://www.w3.org/2001/XMLSchema#dateTime'}, 'o:primary_media': {'@id': 'http://jajohnst.si676.si.umich.edu/omeka-s/api/media/396', 'o:id': 396}, 'o:media': [{'@id': 'http://jajohnst.si676.si.umich.edu/omeka-s/api/media/396', 'o:id': 396}], 'o:item_set': [], 'o:site': [{'@id': 'http://jajohnst.si676.si.umich.edu/omeka-s/api/sites/1', 'o:id': 1}], 'dcterms:title': [{'type': 'literal', 'property_id': 1, 'property_label': 'Title', 'is_public': True, '@value': 'For greater knowledge on more subjects use your library more often', '@language': 'en-us'}], 'dcterms:identifier': [{'type': 'literal', 'property_id': 10, 'property_label': 'Identifier', 'is_public': True, '@value': '98508155', '@language': 'en-us'}, {'type': 'literal', 'property_id': 10, 'property_label': 'Identifier', 'is_public': True, '@value': 'https://www.loc.gov/item/98508155/', '@language': 'en-us'}], 'dcterms:date': [{'type': 'literal', 'property_id': 7, 'property_label': 'Date', 'is_public': True, '@value': '1936-01-01', '@language': 'en-us'}], 'dcterms:isFormatOf': [{'type': 'literal', 'property_id': 37, 'property_label': 'Is Format Of', 'is_public': True, '@value': \"{'photo, print, drawing': 'https://www.loc.gov/search/?fa=original_format:photo,+print,+drawing&fo=json'}\", '@language': 'en-us'}], 'dcterms:type': [{'type': 'literal', 'property_id': 8, 'property_label': 'Type', 'is_public': True, '@value': 'Image', '@language': 'en-us'}], 'dcterms:rights': [{'type': 'literal', 'property_id': 15, 'property_label': 'Rights', 'is_public': True, '@value': 'No known restrictions on publication.', '@language': 'en-us'}]}\n",
      "{'@context': 'http://jajohnst.si676.si.umich.edu/omeka-s/api-context', '@id': 'http://jajohnst.si676.si.umich.edu/omeka-s/api/items/397', '@type': 'o:Item', 'o:id': 397, 'o:is_public': True, 'o:owner': {'@id': 'http://jajohnst.si676.si.umich.edu/omeka-s/api/users/1', 'o:id': 1}, 'o:resource_class': None, 'o:resource_template': None, 'o:thumbnail': None, 'o:title': '[Cossitt Library, Memphis, Tenn.]', 'thumbnail_display_urls': {'large': 'http://jajohnst.si676.si.umich.edu/omeka-s/files/large/44608e5fa77ddfad01004f2913ecdefec4c3c0e7.jpg', 'medium': 'http://jajohnst.si676.si.umich.edu/omeka-s/files/medium/44608e5fa77ddfad01004f2913ecdefec4c3c0e7.jpg', 'square': 'http://jajohnst.si676.si.umich.edu/omeka-s/files/square/44608e5fa77ddfad01004f2913ecdefec4c3c0e7.jpg'}, 'o:created': {'@value': '2024-11-13T20:24:17+00:00', '@type': 'http://www.w3.org/2001/XMLSchema#dateTime'}, 'o:modified': {'@value': '2024-11-13T20:24:17+00:00', '@type': 'http://www.w3.org/2001/XMLSchema#dateTime'}, 'o:primary_media': {'@id': 'http://jajohnst.si676.si.umich.edu/omeka-s/api/media/404', 'o:id': 404}, 'o:media': [{'@id': 'http://jajohnst.si676.si.umich.edu/omeka-s/api/media/404', 'o:id': 404}], 'o:item_set': [], 'o:site': [{'@id': 'http://jajohnst.si676.si.umich.edu/omeka-s/api/sites/1', 'o:id': 1}], 'dcterms:title': [{'type': 'literal', 'property_id': 1, 'property_label': 'Title', 'is_public': True, '@value': '[Cossitt Library, Memphis, Tenn.]', '@language': 'en-us'}], 'dcterms:identifier': [{'type': 'literal', 'property_id': 10, 'property_label': 'Identifier', 'is_public': True, '@value': '2016809661', '@language': 'en-us'}, {'type': 'literal', 'property_id': 10, 'property_label': 'Identifier', 'is_public': True, '@value': 'https://www.loc.gov/item/2016809661/', '@language': 'en-us'}], 'dcterms:date': [{'type': 'literal', 'property_id': 7, 'property_label': 'Date', 'is_public': True, '@value': '1906-01-01', '@language': 'en-us'}], 'dcterms:isFormatOf': [{'type': 'literal', 'property_id': 37, 'property_label': 'Is Format Of', 'is_public': True, '@value': \"{'photo, print, drawing': 'https://www.loc.gov/search/?fa=original_format:photo,+print,+drawing&fo=json'}\", '@language': 'en-us'}], 'dcterms:type': [{'type': 'literal', 'property_id': 8, 'property_label': 'Type', 'is_public': True, '@value': 'Image', '@language': 'en-us'}], 'dcterms:rights': [{'type': 'literal', 'property_id': 15, 'property_label': 'Rights', 'is_public': True, '@value': 'No known restrictions on publication.', '@language': 'en-us'}]}\n",
      "{'@context': 'http://jajohnst.si676.si.umich.edu/omeka-s/api-context', '@id': 'http://jajohnst.si676.si.umich.edu/omeka-s/api/items/398', '@type': 'o:Item', 'o:id': 398, 'o:is_public': True, 'o:owner': {'@id': 'http://jajohnst.si676.si.umich.edu/omeka-s/api/users/1', 'o:id': 1}, 'o:resource_class': None, 'o:resource_template': None, 'o:thumbnail': None, 'o:title': 'Little Rock Public Library, Little Rock, Ark.', 'thumbnail_display_urls': {'large': 'http://jajohnst.si676.si.umich.edu/omeka-s/files/large/0d70fd1e23bd9f662482caa50f28db568c1a455e.jpg', 'medium': 'http://jajohnst.si676.si.umich.edu/omeka-s/files/medium/0d70fd1e23bd9f662482caa50f28db568c1a455e.jpg', 'square': 'http://jajohnst.si676.si.umich.edu/omeka-s/files/square/0d70fd1e23bd9f662482caa50f28db568c1a455e.jpg'}, 'o:created': {'@value': '2024-11-13T20:24:17+00:00', '@type': 'http://www.w3.org/2001/XMLSchema#dateTime'}, 'o:modified': {'@value': '2024-11-13T20:24:17+00:00', '@type': 'http://www.w3.org/2001/XMLSchema#dateTime'}, 'o:primary_media': {'@id': 'http://jajohnst.si676.si.umich.edu/omeka-s/api/media/405', 'o:id': 405}, 'o:media': [{'@id': 'http://jajohnst.si676.si.umich.edu/omeka-s/api/media/405', 'o:id': 405}], 'o:item_set': [], 'o:site': [{'@id': 'http://jajohnst.si676.si.umich.edu/omeka-s/api/sites/1', 'o:id': 1}], 'dcterms:title': [{'type': 'literal', 'property_id': 1, 'property_label': 'Title', 'is_public': True, '@value': 'Little Rock Public Library, Little Rock, Ark.', '@language': 'en-us'}], 'dcterms:identifier': [{'type': 'literal', 'property_id': 10, 'property_label': 'Identifier', 'is_public': True, '@value': '2016815290', '@language': 'en-us'}, {'type': 'literal', 'property_id': 10, 'property_label': 'Identifier', 'is_public': True, '@value': 'https://www.loc.gov/item/2016815290/', '@language': 'en-us'}], 'dcterms:date': [{'type': 'literal', 'property_id': 7, 'property_label': 'Date', 'is_public': True, '@value': '1905-01-01', '@language': 'en-us'}], 'dcterms:isFormatOf': [{'type': 'literal', 'property_id': 37, 'property_label': 'Is Format Of', 'is_public': True, '@value': \"{'photo, print, drawing': 'https://www.loc.gov/search/?fa=original_format:photo,+print,+drawing&fo=json'}\", '@language': 'en-us'}], 'dcterms:type': [{'type': 'literal', 'property_id': 8, 'property_label': 'Type', 'is_public': True, '@value': 'Image', '@language': 'en-us'}], 'dcterms:rights': [{'type': 'literal', 'property_id': 15, 'property_label': 'Rights', 'is_public': True, '@value': 'No known restrictions on publication.', '@language': 'en-us'}]}\n",
      "{'@context': 'http://jajohnst.si676.si.umich.edu/omeka-s/api-context', '@id': 'http://jajohnst.si676.si.umich.edu/omeka-s/api/items/399', '@type': 'o:Item', 'o:id': 399, 'o:is_public': True, 'o:owner': {'@id': 'http://jajohnst.si676.si.umich.edu/omeka-s/api/users/1', 'o:id': 1}, 'o:resource_class': None, 'o:resource_template': None, 'o:thumbnail': None, 'o:title': 'Newspaper reading room of public library. Omaha, Nebraska', 'thumbnail_display_urls': {'large': 'http://jajohnst.si676.si.umich.edu/omeka-s/files/large/8b0ea59c9bfd7105f76f485b8cab02be3f6aea9f.jpg', 'medium': 'http://jajohnst.si676.si.umich.edu/omeka-s/files/medium/8b0ea59c9bfd7105f76f485b8cab02be3f6aea9f.jpg', 'square': 'http://jajohnst.si676.si.umich.edu/omeka-s/files/square/8b0ea59c9bfd7105f76f485b8cab02be3f6aea9f.jpg'}, 'o:created': {'@value': '2024-11-13T20:24:18+00:00', '@type': 'http://www.w3.org/2001/XMLSchema#dateTime'}, 'o:modified': {'@value': '2024-11-13T20:24:18+00:00', '@type': 'http://www.w3.org/2001/XMLSchema#dateTime'}, 'o:primary_media': {'@id': 'http://jajohnst.si676.si.umich.edu/omeka-s/api/media/406', 'o:id': 406}, 'o:media': [{'@id': 'http://jajohnst.si676.si.umich.edu/omeka-s/api/media/406', 'o:id': 406}], 'o:item_set': [], 'o:site': [{'@id': 'http://jajohnst.si676.si.umich.edu/omeka-s/api/sites/1', 'o:id': 1}], 'dcterms:title': [{'type': 'literal', 'property_id': 1, 'property_label': 'Title', 'is_public': True, '@value': 'Newspaper reading room of public library. Omaha, Nebraska', '@language': 'en-us'}], 'dcterms:identifier': [{'type': 'literal', 'property_id': 10, 'property_label': 'Identifier', 'is_public': True, '@value': '2017762724', '@language': 'en-us'}, {'type': 'literal', 'property_id': 10, 'property_label': 'Identifier', 'is_public': True, '@value': 'https://www.loc.gov/item/2017762724/', '@language': 'en-us'}], 'dcterms:date': [{'type': 'literal', 'property_id': 7, 'property_label': 'Date', 'is_public': True, '@value': '1938-01-01', '@language': 'en-us'}], 'dcterms:isFormatOf': [{'type': 'literal', 'property_id': 37, 'property_label': 'Is Format Of', 'is_public': True, '@value': \"{'photo, print, drawing': 'https://www.loc.gov/search/?fa=original_format:photo,+print,+drawing&fo=json'}\", '@language': 'en-us'}], 'dcterms:type': [{'type': 'literal', 'property_id': 8, 'property_label': 'Type', 'is_public': True, '@value': 'Image', '@language': 'en-us'}], 'dcterms:rights': [{'type': 'literal', 'property_id': 15, 'property_label': 'Rights', 'is_public': True, '@value': 'No known restrictions. For information, see U.S. Farm Security Administration/Office of War Information Black & White Photographs https://www.loc.gov/rr/print/res/071_fsab.html', '@language': 'en-us'}]}\n",
      "{'@context': 'http://jajohnst.si676.si.umich.edu/omeka-s/api-context', '@id': 'http://jajohnst.si676.si.umich.edu/omeka-s/api/items/400', '@type': 'o:Item', 'o:id': 400, 'o:is_public': True, 'o:owner': {'@id': 'http://jajohnst.si676.si.umich.edu/omeka-s/api/users/1', 'o:id': 1}, 'o:resource_class': None, 'o:resource_template': None, 'o:thumbnail': None, 'o:title': 'Public library in the southwestern section of Mississippi, in the piney woods', 'thumbnail_display_urls': {'large': 'http://jajohnst.si676.si.umich.edu/omeka-s/files/large/0155aea2d4366e0e5c3741b383da26df47359678.jpg', 'medium': 'http://jajohnst.si676.si.umich.edu/omeka-s/files/medium/0155aea2d4366e0e5c3741b383da26df47359678.jpg', 'square': 'http://jajohnst.si676.si.umich.edu/omeka-s/files/square/0155aea2d4366e0e5c3741b383da26df47359678.jpg'}, 'o:created': {'@value': '2024-11-13T20:24:18+00:00', '@type': 'http://www.w3.org/2001/XMLSchema#dateTime'}, 'o:modified': {'@value': '2024-11-13T20:24:18+00:00', '@type': 'http://www.w3.org/2001/XMLSchema#dateTime'}, 'o:primary_media': {'@id': 'http://jajohnst.si676.si.umich.edu/omeka-s/api/media/407', 'o:id': 407}, 'o:media': [{'@id': 'http://jajohnst.si676.si.umich.edu/omeka-s/api/media/407', 'o:id': 407}], 'o:item_set': [], 'o:site': [{'@id': 'http://jajohnst.si676.si.umich.edu/omeka-s/api/sites/1', 'o:id': 1}], 'dcterms:title': [{'type': 'literal', 'property_id': 1, 'property_label': 'Title', 'is_public': True, '@value': 'Public library in the southwestern section of Mississippi, in the piney woods', '@language': 'en-us'}], 'dcterms:identifier': [{'type': 'literal', 'property_id': 10, 'property_label': 'Identifier', 'is_public': True, '@value': '2017770391', '@language': 'en-us'}, {'type': 'literal', 'property_id': 10, 'property_label': 'Identifier', 'is_public': True, '@value': 'https://www.loc.gov/item/2017770391/', '@language': 'en-us'}], 'dcterms:date': [{'type': 'literal', 'property_id': 7, 'property_label': 'Date', 'is_public': True, '@value': '1937-01-01', '@language': 'en-us'}], 'dcterms:isFormatOf': [{'type': 'literal', 'property_id': 37, 'property_label': 'Is Format Of', 'is_public': True, '@value': \"{'photo, print, drawing': 'https://www.loc.gov/search/?fa=original_format:photo,+print,+drawing&fo=json'}\", '@language': 'en-us'}], 'dcterms:type': [{'type': 'literal', 'property_id': 8, 'property_label': 'Type', 'is_public': True, '@value': 'Image', '@language': 'en-us'}], 'dcterms:rights': [{'type': 'literal', 'property_id': 15, 'property_label': 'Rights', 'is_public': True, '@value': 'No known restrictions. For information, see U.S. Farm Security Administration/Office of War Information Black & White Photographs https://www.loc.gov/rr/print/res/071_fsab.html', '@language': 'en-us'}]}\n",
      "{'@context': 'http://jajohnst.si676.si.umich.edu/omeka-s/api-context', '@id': 'http://jajohnst.si676.si.umich.edu/omeka-s/api/items/401', '@type': 'o:Item', 'o:id': 401, 'o:is_public': True, 'o:owner': {'@id': 'http://jajohnst.si676.si.umich.edu/omeka-s/api/users/1', 'o:id': 1}, 'o:resource_class': None, 'o:resource_template': None, 'o:thumbnail': None, 'o:title': 'Library tent at the FSA (Farm Security Administration) mobile camp for migratory farm workers. Odell, Oregon. The girls working in the library receive credit in the Junior Campers League for work in the library', 'thumbnail_display_urls': {'large': 'http://jajohnst.si676.si.umich.edu/omeka-s/files/large/1f64f981ebe93e7e660c48d13a13d235cf14480c.jpg', 'medium': 'http://jajohnst.si676.si.umich.edu/omeka-s/files/medium/1f64f981ebe93e7e660c48d13a13d235cf14480c.jpg', 'square': 'http://jajohnst.si676.si.umich.edu/omeka-s/files/square/1f64f981ebe93e7e660c48d13a13d235cf14480c.jpg'}, 'o:created': {'@value': '2024-11-13T20:24:18+00:00', '@type': 'http://www.w3.org/2001/XMLSchema#dateTime'}, 'o:modified': {'@value': '2024-11-13T20:24:18+00:00', '@type': 'http://www.w3.org/2001/XMLSchema#dateTime'}, 'o:primary_media': {'@id': 'http://jajohnst.si676.si.umich.edu/omeka-s/api/media/408', 'o:id': 408}, 'o:media': [{'@id': 'http://jajohnst.si676.si.umich.edu/omeka-s/api/media/408', 'o:id': 408}], 'o:item_set': [], 'o:site': [{'@id': 'http://jajohnst.si676.si.umich.edu/omeka-s/api/sites/1', 'o:id': 1}], 'dcterms:title': [{'type': 'literal', 'property_id': 1, 'property_label': 'Title', 'is_public': True, '@value': 'Library tent at the FSA (Farm Security Administration) mobile camp for migratory farm workers. Odell, Oregon. The girls working in the library receive credit in the Junior Campers League for work in the library', '@language': 'en-us'}], 'dcterms:identifier': [{'type': 'literal', 'property_id': 10, 'property_label': 'Identifier', 'is_public': True, '@value': '2017815837', '@language': 'en-us'}, {'type': 'literal', 'property_id': 10, 'property_label': 'Identifier', 'is_public': True, '@value': 'https://www.loc.gov/item/2017815837/', '@language': 'en-us'}], 'dcterms:date': [{'type': 'literal', 'property_id': 7, 'property_label': 'Date', 'is_public': True, '@value': '1941-01-01', '@language': 'en-us'}], 'dcterms:isFormatOf': [{'type': 'literal', 'property_id': 37, 'property_label': 'Is Format Of', 'is_public': True, '@value': \"{'photo, print, drawing': 'https://www.loc.gov/search/?fa=original_format:photo,+print,+drawing&fo=json'}\", '@language': 'en-us'}], 'dcterms:type': [{'type': 'literal', 'property_id': 8, 'property_label': 'Type', 'is_public': True, '@value': 'Image', '@language': 'en-us'}], 'dcterms:rights': [{'type': 'literal', 'property_id': 15, 'property_label': 'Rights', 'is_public': True, '@value': 'No known restrictions. For information, see U.S. Farm Security Administration/Office of War Information Black & White Photographs https://www.loc.gov/rr/print/res/071_fsab.html', '@language': 'en-us'}]}\n",
      "{'@context': 'http://jajohnst.si676.si.umich.edu/omeka-s/api-context', '@id': 'http://jajohnst.si676.si.umich.edu/omeka-s/api/items/402', '@type': 'o:Item', 'o:id': 402, 'o:is_public': True, 'o:owner': {'@id': 'http://jajohnst.si676.si.umich.edu/omeka-s/api/users/1', 'o:id': 1}, 'o:resource_class': None, 'o:resource_template': None, 'o:thumbnail': None, 'o:title': 'Daytona Beach, Florida. Bethune-Cookman College. Students in the library reading room', 'thumbnail_display_urls': {'large': 'http://jajohnst.si676.si.umich.edu/omeka-s/files/large/d289f6c5fa6757dd20acdff1723b3d9835dfeaca.jpg', 'medium': 'http://jajohnst.si676.si.umich.edu/omeka-s/files/medium/d289f6c5fa6757dd20acdff1723b3d9835dfeaca.jpg', 'square': 'http://jajohnst.si676.si.umich.edu/omeka-s/files/square/d289f6c5fa6757dd20acdff1723b3d9835dfeaca.jpg'}, 'o:created': {'@value': '2024-11-13T20:24:19+00:00', '@type': 'http://www.w3.org/2001/XMLSchema#dateTime'}, 'o:modified': {'@value': '2024-11-13T20:24:19+00:00', '@type': 'http://www.w3.org/2001/XMLSchema#dateTime'}, 'o:primary_media': {'@id': 'http://jajohnst.si676.si.umich.edu/omeka-s/api/media/409', 'o:id': 409}, 'o:media': [{'@id': 'http://jajohnst.si676.si.umich.edu/omeka-s/api/media/409', 'o:id': 409}], 'o:item_set': [], 'o:site': [{'@id': 'http://jajohnst.si676.si.umich.edu/omeka-s/api/sites/1', 'o:id': 1}], 'dcterms:title': [{'type': 'literal', 'property_id': 1, 'property_label': 'Title', 'is_public': True, '@value': 'Daytona Beach, Florida. Bethune-Cookman College. Students in the library reading room', '@language': 'en-us'}], 'dcterms:identifier': [{'type': 'literal', 'property_id': 10, 'property_label': 'Identifier', 'is_public': True, '@value': '2017843202', '@language': 'en-us'}, {'type': 'literal', 'property_id': 10, 'property_label': 'Identifier', 'is_public': True, '@value': 'https://www.loc.gov/item/2017843202/', '@language': 'en-us'}], 'dcterms:date': [{'type': 'literal', 'property_id': 7, 'property_label': 'Date', 'is_public': True, '@value': '1943-01-01', '@language': 'en-us'}], 'dcterms:isFormatOf': [{'type': 'literal', 'property_id': 37, 'property_label': 'Is Format Of', 'is_public': True, '@value': \"{'photo, print, drawing': 'https://www.loc.gov/search/?fa=original_format:photo,+print,+drawing&fo=json'}\", '@language': 'en-us'}], 'dcterms:type': [{'type': 'literal', 'property_id': 8, 'property_label': 'Type', 'is_public': True, '@value': 'Image', '@language': 'en-us'}], 'dcterms:rights': [{'type': 'literal', 'property_id': 15, 'property_label': 'Rights', 'is_public': True, '@value': 'No known restrictions. For information, see U.S. Farm Security Administration/Office of War Information Black & White Photographs https://www.loc.gov/rr/print/res/071_fsab.html', '@language': 'en-us'}]}\n",
      "{'@context': 'http://jajohnst.si676.si.umich.edu/omeka-s/api-context', '@id': 'http://jajohnst.si676.si.umich.edu/omeka-s/api/items/403', '@type': 'o:Item', 'o:id': 403, 'o:is_public': True, 'o:owner': {'@id': 'http://jajohnst.si676.si.umich.edu/omeka-s/api/users/1', 'o:id': 1}, 'o:resource_class': None, 'o:resource_template': None, 'o:thumbnail': None, 'o:title': 'Libraries, Washington D.C.', 'thumbnail_display_urls': {'large': 'http://jajohnst.si676.si.umich.edu/omeka-s/files/large/16e387f4b00834945db39829f83e09c62f068f44.jpg', 'medium': 'http://jajohnst.si676.si.umich.edu/omeka-s/files/medium/16e387f4b00834945db39829f83e09c62f068f44.jpg', 'square': 'http://jajohnst.si676.si.umich.edu/omeka-s/files/square/16e387f4b00834945db39829f83e09c62f068f44.jpg'}, 'o:created': {'@value': '2024-11-13T20:24:19+00:00', '@type': 'http://www.w3.org/2001/XMLSchema#dateTime'}, 'o:modified': {'@value': '2024-11-13T20:24:19+00:00', '@type': 'http://www.w3.org/2001/XMLSchema#dateTime'}, 'o:primary_media': {'@id': 'http://jajohnst.si676.si.umich.edu/omeka-s/api/media/410', 'o:id': 410}, 'o:media': [{'@id': 'http://jajohnst.si676.si.umich.edu/omeka-s/api/media/410', 'o:id': 410}], 'o:item_set': [], 'o:site': [{'@id': 'http://jajohnst.si676.si.umich.edu/omeka-s/api/sites/1', 'o:id': 1}], 'dcterms:title': [{'type': 'literal', 'property_id': 1, 'property_label': 'Title', 'is_public': True, '@value': 'Libraries, Washington D.C.', '@language': 'en-us'}], 'dcterms:identifier': [{'type': 'literal', 'property_id': 10, 'property_label': 'Identifier', 'is_public': True, '@value': '87694100', '@language': 'en-us'}, {'type': 'literal', 'property_id': 10, 'property_label': 'Identifier', 'is_public': True, '@value': 'https://www.loc.gov/item/87694100/', '@language': 'en-us'}], 'dcterms:date': [{'type': 'literal', 'property_id': 7, 'property_label': 'Date', 'is_public': True, '@value': '1926-01-01', '@language': 'en-us'}], 'dcterms:isFormatOf': [{'type': 'literal', 'property_id': 37, 'property_label': 'Is Format Of', 'is_public': True, '@value': \"{'map': 'https://www.loc.gov/search/?fa=original_format:map&fo=json'}\", '@language': 'en-us'}], 'dcterms:type': [{'type': 'literal', 'property_id': 8, 'property_label': 'Type', 'is_public': True, '@value': 'Image', '@language': 'en-us'}], 'dcterms:rights': [{'type': 'literal', 'property_id': 15, 'property_label': 'Rights', 'is_public': True, '@value': 'Undetermined', '@language': 'en-us'}]}\n",
      "{'@context': 'http://jajohnst.si676.si.umich.edu/omeka-s/api-context', '@id': 'http://jajohnst.si676.si.umich.edu/omeka-s/api/items/411', '@type': 'o:Item', 'o:id': 411, 'o:is_public': True, 'o:owner': {'@id': 'http://jajohnst.si676.si.umich.edu/omeka-s/api/users/1', 'o:id': 1}, 'o:resource_class': None, 'o:resource_template': None, 'o:thumbnail': None, 'o:title': 'George Peabody Library, formerly the Library of the Peabody Institute of the City of Baltimore, is part of the Johns Hopkins Sheridan Libraries. Baltimore, Maryland', 'thumbnail_display_urls': {'large': 'http://jajohnst.si676.si.umich.edu/omeka-s/files/large/c9ae115fd60b9602a3c5cddc48e431974223da63.jpg', 'medium': 'http://jajohnst.si676.si.umich.edu/omeka-s/files/medium/c9ae115fd60b9602a3c5cddc48e431974223da63.jpg', 'square': 'http://jajohnst.si676.si.umich.edu/omeka-s/files/square/c9ae115fd60b9602a3c5cddc48e431974223da63.jpg'}, 'o:created': {'@value': '2024-11-13T20:24:19+00:00', '@type': 'http://www.w3.org/2001/XMLSchema#dateTime'}, 'o:modified': {'@value': '2024-11-13T20:24:19+00:00', '@type': 'http://www.w3.org/2001/XMLSchema#dateTime'}, 'o:primary_media': {'@id': 'http://jajohnst.si676.si.umich.edu/omeka-s/api/media/417', 'o:id': 417}, 'o:media': [{'@id': 'http://jajohnst.si676.si.umich.edu/omeka-s/api/media/417', 'o:id': 417}], 'o:item_set': [], 'o:site': [{'@id': 'http://jajohnst.si676.si.umich.edu/omeka-s/api/sites/1', 'o:id': 1}], 'dcterms:title': [{'type': 'literal', 'property_id': 1, 'property_label': 'Title', 'is_public': True, '@value': 'George Peabody Library, formerly the Library of the Peabody Institute of the City of Baltimore, is part of the Johns Hopkins Sheridan Libraries. Baltimore, Maryland', '@language': 'en-us'}], 'dcterms:identifier': [{'type': 'literal', 'property_id': 10, 'property_label': 'Identifier', 'is_public': True, '@value': '2013646466', '@language': 'en-us'}, {'type': 'literal', 'property_id': 10, 'property_label': 'Identifier', 'is_public': True, '@value': 'https://www.loc.gov/item/2013646466/', '@language': 'en-us'}], 'dcterms:date': [{'type': 'literal', 'property_id': 7, 'property_label': 'Date', 'is_public': True, '@value': '2012-01-01', '@language': 'en-us'}], 'dcterms:isFormatOf': [{'type': 'literal', 'property_id': 37, 'property_label': 'Is Format Of', 'is_public': True, '@value': \"{'photo, print, drawing': 'https://www.loc.gov/search/?fa=original_format:photo,+print,+drawing&fo=json'}\", '@language': 'en-us'}], 'dcterms:type': [{'type': 'literal', 'property_id': 8, 'property_label': 'Type', 'is_public': True, '@value': 'Image', '@language': 'en-us'}], 'dcterms:rights': [{'type': 'literal', 'property_id': 15, 'property_label': 'Rights', 'is_public': True, '@value': 'No known restrictions on publication.', '@language': 'en-us'}]}\n",
      "{'@context': 'http://jajohnst.si676.si.umich.edu/omeka-s/api-context', '@id': 'http://jajohnst.si676.si.umich.edu/omeka-s/api/items/412', '@type': 'o:Item', 'o:id': 412, 'o:is_public': True, 'o:owner': {'@id': 'http://jajohnst.si676.si.umich.edu/omeka-s/api/users/1', 'o:id': 1}, 'o:resource_class': None, 'o:resource_template': None, 'o:thumbnail': None, 'o:title': 'Handley Library, Winchester, Virginia', 'thumbnail_display_urls': {'large': 'http://jajohnst.si676.si.umich.edu/omeka-s/files/large/fb8e0635d77d2da8558d5a0fbb0f1aa50e429391.jpg', 'medium': 'http://jajohnst.si676.si.umich.edu/omeka-s/files/medium/fb8e0635d77d2da8558d5a0fbb0f1aa50e429391.jpg', 'square': 'http://jajohnst.si676.si.umich.edu/omeka-s/files/square/fb8e0635d77d2da8558d5a0fbb0f1aa50e429391.jpg'}, 'o:created': {'@value': '2024-11-13T20:24:20+00:00', '@type': 'http://www.w3.org/2001/XMLSchema#dateTime'}, 'o:modified': {'@value': '2024-11-13T20:24:20+00:00', '@type': 'http://www.w3.org/2001/XMLSchema#dateTime'}, 'o:primary_media': {'@id': 'http://jajohnst.si676.si.umich.edu/omeka-s/api/media/418', 'o:id': 418}, 'o:media': [{'@id': 'http://jajohnst.si676.si.umich.edu/omeka-s/api/media/418', 'o:id': 418}], 'o:item_set': [], 'o:site': [{'@id': 'http://jajohnst.si676.si.umich.edu/omeka-s/api/sites/1', 'o:id': 1}], 'dcterms:title': [{'type': 'literal', 'property_id': 1, 'property_label': 'Title', 'is_public': True, '@value': 'Handley Library, Winchester, Virginia', '@language': 'en-us'}], 'dcterms:identifier': [{'type': 'literal', 'property_id': 10, 'property_label': 'Identifier', 'is_public': True, '@value': '2012630178', '@language': 'en-us'}, {'type': 'literal', 'property_id': 10, 'property_label': 'Identifier', 'is_public': True, '@value': 'https://www.loc.gov/item/2012630178/', '@language': 'en-us'}], 'dcterms:date': [{'type': 'literal', 'property_id': 7, 'property_label': 'Date', 'is_public': True, '@value': '2011-01-01', '@language': 'en-us'}], 'dcterms:isFormatOf': [{'type': 'literal', 'property_id': 37, 'property_label': 'Is Format Of', 'is_public': True, '@value': \"{'photo, print, drawing': 'https://www.loc.gov/search/?fa=original_format:photo,+print,+drawing&fo=json'}\", '@language': 'en-us'}], 'dcterms:type': [{'type': 'literal', 'property_id': 8, 'property_label': 'Type', 'is_public': True, '@value': 'Image', '@language': 'en-us'}], 'dcterms:rights': [{'type': 'literal', 'property_id': 15, 'property_label': 'Rights', 'is_public': True, '@value': 'No known restrictions on publication.', '@language': 'en-us'}]}\n",
      "{'@context': 'http://jajohnst.si676.si.umich.edu/omeka-s/api-context', '@id': 'http://jajohnst.si676.si.umich.edu/omeka-s/api/items/413', '@type': 'o:Item', 'o:id': 413, 'o:is_public': True, 'o:owner': {'@id': 'http://jajohnst.si676.si.umich.edu/omeka-s/api/users/1', 'o:id': 1}, 'o:resource_class': None, 'o:resource_template': None, 'o:thumbnail': None, 'o:title': 'Public library building in the town of Antonito in Conejos County, Colorado, near the New Mexico border', 'thumbnail_display_urls': {'large': 'http://jajohnst.si676.si.umich.edu/omeka-s/files/large/b79c9cc8e2a0559806ceb13f97cd0b86ddd3a5fb.jpg', 'medium': 'http://jajohnst.si676.si.umich.edu/omeka-s/files/medium/b79c9cc8e2a0559806ceb13f97cd0b86ddd3a5fb.jpg', 'square': 'http://jajohnst.si676.si.umich.edu/omeka-s/files/square/b79c9cc8e2a0559806ceb13f97cd0b86ddd3a5fb.jpg'}, 'o:created': {'@value': '2024-11-13T20:24:20+00:00', '@type': 'http://www.w3.org/2001/XMLSchema#dateTime'}, 'o:modified': {'@value': '2024-11-13T20:24:20+00:00', '@type': 'http://www.w3.org/2001/XMLSchema#dateTime'}, 'o:primary_media': {'@id': 'http://jajohnst.si676.si.umich.edu/omeka-s/api/media/419', 'o:id': 419}, 'o:media': [{'@id': 'http://jajohnst.si676.si.umich.edu/omeka-s/api/media/419', 'o:id': 419}], 'o:item_set': [], 'o:site': [{'@id': 'http://jajohnst.si676.si.umich.edu/omeka-s/api/sites/1', 'o:id': 1}], 'dcterms:title': [{'type': 'literal', 'property_id': 1, 'property_label': 'Title', 'is_public': True, '@value': 'Public library building in the town of Antonito in Conejos County, Colorado, near the New Mexico border', '@language': 'en-us'}], 'dcterms:identifier': [{'type': 'literal', 'property_id': 10, 'property_label': 'Identifier', 'is_public': True, '@value': '2017686535', '@language': 'en-us'}, {'type': 'literal', 'property_id': 10, 'property_label': 'Identifier', 'is_public': True, '@value': 'https://www.loc.gov/item/2017686535/', '@language': 'en-us'}], 'dcterms:date': [{'type': 'literal', 'property_id': 7, 'property_label': 'Date', 'is_public': True, '@value': '2015-01-01', '@language': 'en-us'}], 'dcterms:isFormatOf': [{'type': 'literal', 'property_id': 37, 'property_label': 'Is Format Of', 'is_public': True, '@value': \"{'photo, print, drawing': 'https://www.loc.gov/search/?fa=original_format:photo,+print,+drawing&fo=json'}\", '@language': 'en-us'}], 'dcterms:type': [{'type': 'literal', 'property_id': 8, 'property_label': 'Type', 'is_public': True, '@value': 'Image', '@language': 'en-us'}], 'dcterms:rights': [{'type': 'literal', 'property_id': 15, 'property_label': 'Rights', 'is_public': True, '@value': 'No known restrictions on publication.', '@language': 'en-us'}]}\n"
     ]
    }
   ],
   "source": [
    "for element in r.json():\n",
    "    print(element)"
   ]
  },
  {
   "cell_type": "code",
   "execution_count": 10,
   "metadata": {},
   "outputs": [
    {
     "name": "stdout",
     "output_type": "stream",
     "text": [
      "367 : Carnegie Library, Cordele, Georgia\n",
      "368 : Carnegie Library, Sheldon, Iowa\n",
      "369 : Curb service 10,000 current books - convenient, free, time saving : Chicago Public Library, Randolph St. corridor.\n",
      "370 : For greater knowledge on more subjects use your library more often\n",
      "371 : [Cossitt Library, Memphis, Tenn.]\n",
      "372 : Little Rock Public Library, Little Rock, Ark.\n",
      "373 : Newspaper reading room of public library. Omaha, Nebraska\n",
      "374 : Public library in the southwestern section of Mississippi, in the piney woods\n",
      "375 : Library tent at the FSA (Farm Security Administration) mobile camp for migratory farm workers. Odell, Oregon. The girls working in the library receive credit in the Junior Campers League for work in the library\n",
      "376 : Daytona Beach, Florida. Bethune-Cookman College. Students in the library reading room\n",
      "377 : Libraries, Washington D.C.\n",
      "378 : Carnegie Library, Cordele, Georgia\n",
      "379 : Carnegie Library, Sheldon, Iowa\n",
      "380 : Curb service 10,000 current books - convenient, free, time saving : Chicago Public Library, Randolph St. corridor.\n",
      "381 : For greater knowledge on more subjects use your library more often\n",
      "397 : [Cossitt Library, Memphis, Tenn.]\n",
      "398 : Little Rock Public Library, Little Rock, Ark.\n",
      "399 : Newspaper reading room of public library. Omaha, Nebraska\n",
      "400 : Public library in the southwestern section of Mississippi, in the piney woods\n",
      "401 : Library tent at the FSA (Farm Security Administration) mobile camp for migratory farm workers. Odell, Oregon. The girls working in the library receive credit in the Junior Campers League for work in the library\n",
      "402 : Daytona Beach, Florida. Bethune-Cookman College. Students in the library reading room\n",
      "403 : Libraries, Washington D.C.\n",
      "411 : George Peabody Library, formerly the Library of the Peabody Institute of the City of Baltimore, is part of the Johns Hopkins Sheridan Libraries. Baltimore, Maryland\n",
      "412 : Handley Library, Winchester, Virginia\n",
      "413 : Public library building in the town of Antonito in Conejos County, Colorado, near the New Mexico border\n"
     ]
    }
   ],
   "source": [
    "for element in r.json():\n",
    "    print(element['o:id'],':',element['o:title'])"
   ]
  },
  {
   "cell_type": "markdown",
   "metadata": {},
   "source": [
    "### Get the information about just one item"
   ]
  },
  {
   "cell_type": "code",
   "execution_count": 11,
   "metadata": {},
   "outputs": [
    {
     "name": "stdout",
     "output_type": "stream",
     "text": [
      "367\n"
     ]
    }
   ],
   "source": [
    "item_id = r.json()[0]['o:id']\n",
    "print(item_id)"
   ]
  },
  {
   "cell_type": "markdown",
   "metadata": {},
   "source": [
    "Construct a new URI:"
   ]
  },
  {
   "cell_type": "code",
   "execution_count": 12,
   "metadata": {},
   "outputs": [],
   "source": [
    "r_url = siteUrl + endpoint + action + '/' + str(item_id)"
   ]
  },
  {
   "cell_type": "markdown",
   "metadata": {},
   "source": [
    "Make the request:"
   ]
  },
  {
   "cell_type": "code",
   "execution_count": 13,
   "metadata": {},
   "outputs": [
    {
     "name": "stdout",
     "output_type": "stream",
     "text": [
      "http://jajohnst.si676.si.umich.edu/omeka-s/api/items/367?key_credential=nj0K6JAqnFgeqyP3Kq40SOhl6fiPBXky&key_identity=yAu5NAEEtJCvGx4s8XgJSgvTFjwvLD6j&pretty_print=1&format=jsonld\n",
      "200\n"
     ]
    }
   ],
   "source": [
    "r = requests.get(r_url, params=parameters)\n",
    "\n",
    "print(r.url)\n",
    "print(r.status_code)"
   ]
  },
  {
   "cell_type": "code",
   "execution_count": 14,
   "metadata": {},
   "outputs": [
    {
     "data": {
      "text/plain": [
       "{'@context': 'http://jajohnst.si676.si.umich.edu/omeka-s/api-context',\n",
       " '@id': 'http://jajohnst.si676.si.umich.edu/omeka-s/api/items/367',\n",
       " '@type': 'o:Item',\n",
       " 'o:id': 367,\n",
       " 'o:is_public': True,\n",
       " 'o:owner': {'@id': 'http://jajohnst.si676.si.umich.edu/omeka-s/api/users/1',\n",
       "  'o:id': 1},\n",
       " 'o:resource_class': None,\n",
       " 'o:resource_template': None,\n",
       " 'o:thumbnail': None,\n",
       " 'o:title': 'Carnegie Library, Cordele, Georgia',\n",
       " 'thumbnail_display_urls': {'large': 'http://jajohnst.si676.si.umich.edu/omeka-s/files/large/44edc7c60885f9d17744495b09836a22673ca3f1.jpg',\n",
       "  'medium': 'http://jajohnst.si676.si.umich.edu/omeka-s/files/medium/44edc7c60885f9d17744495b09836a22673ca3f1.jpg',\n",
       "  'square': 'http://jajohnst.si676.si.umich.edu/omeka-s/files/square/44edc7c60885f9d17744495b09836a22673ca3f1.jpg'},\n",
       " 'o:created': {'@value': '2024-11-13T20:24:13+00:00',\n",
       "  '@type': 'http://www.w3.org/2001/XMLSchema#dateTime'},\n",
       " 'o:modified': {'@value': '2024-11-13T20:24:13+00:00',\n",
       "  '@type': 'http://www.w3.org/2001/XMLSchema#dateTime'},\n",
       " 'o:primary_media': {'@id': 'http://jajohnst.si676.si.umich.edu/omeka-s/api/media/382',\n",
       "  'o:id': 382},\n",
       " 'o:media': [{'@id': 'http://jajohnst.si676.si.umich.edu/omeka-s/api/media/382',\n",
       "   'o:id': 382}],\n",
       " 'o:item_set': [],\n",
       " 'o:site': [{'@id': 'http://jajohnst.si676.si.umich.edu/omeka-s/api/sites/1',\n",
       "   'o:id': 1}],\n",
       " 'dcterms:title': [{'type': 'literal',\n",
       "   'property_id': 1,\n",
       "   'property_label': 'Title',\n",
       "   'is_public': True,\n",
       "   '@value': 'Carnegie Library, Cordele, Georgia',\n",
       "   '@language': 'en-us'}],\n",
       " 'dcterms:identifier': [{'type': 'literal',\n",
       "   'property_id': 10,\n",
       "   'property_label': 'Identifier',\n",
       "   'is_public': True,\n",
       "   '@value': '91787443',\n",
       "   '@language': 'en-us'},\n",
       "  {'type': 'literal',\n",
       "   'property_id': 10,\n",
       "   'property_label': 'Identifier',\n",
       "   'is_public': True,\n",
       "   '@value': 'https://www.loc.gov/item/91787443/',\n",
       "   '@language': 'en-us'}],\n",
       " 'dcterms:date': [{'type': 'literal',\n",
       "   'property_id': 7,\n",
       "   'property_label': 'Date',\n",
       "   'is_public': True,\n",
       "   '@value': '1916-01-01',\n",
       "   '@language': 'en-us'}],\n",
       " 'dcterms:isFormatOf': [{'type': 'literal',\n",
       "   'property_id': 37,\n",
       "   'property_label': 'Is Format Of',\n",
       "   'is_public': True,\n",
       "   '@value': \"{'photo, print, drawing': 'https://www.loc.gov/search/?fa=original_format:photo,+print,+drawing&fo=json'}\",\n",
       "   '@language': 'en-us'}],\n",
       " 'dcterms:type': [{'type': 'literal',\n",
       "   'property_id': 8,\n",
       "   'property_label': 'Type',\n",
       "   'is_public': True,\n",
       "   '@value': 'Image',\n",
       "   '@language': 'en-us'}],\n",
       " 'dcterms:rights': [{'type': 'literal',\n",
       "   'property_id': 15,\n",
       "   'property_label': 'Rights',\n",
       "   'is_public': True,\n",
       "   '@value': 'No known restrictions on publication.',\n",
       "   '@language': 'en-us'}]}"
      ]
     },
     "execution_count": 14,
     "metadata": {},
     "output_type": "execute_result"
    }
   ],
   "source": [
    "r.json()"
   ]
  },
  {
   "cell_type": "markdown",
   "metadata": {},
   "source": [
    "Save the item information locally as a json file"
   ]
  },
  {
   "cell_type": "code",
   "execution_count": 15,
   "metadata": {},
   "outputs": [
    {
     "name": "stdout",
     "output_type": "stream",
     "text": [
      "wrote metadata to local file\n"
     ]
    }
   ],
   "source": [
    "with open('item-367-metadata.json', 'w') as f:\n",
    "    f.write(json.dumps(r.json(), indent=2))\n",
    "    print('wrote metadata to local file')"
   ]
  },
  {
   "cell_type": "markdown",
   "metadata": {},
   "source": [
    "## Retrieve multiple items, using a feeder list\n",
    "\n",
    "Based on the full inventory from the `api/items` action, retrieve individual items:"
   ]
  },
  {
   "cell_type": "code",
   "execution_count": 16,
   "metadata": {},
   "outputs": [
    {
     "name": "stdout",
     "output_type": "stream",
     "text": [
      "http://jajohnst.si676.si.umich.edu/omeka-s/api/items?key_credential=nj0K6JAqnFgeqyP3Kq40SOhl6fiPBXky&key_identity=yAu5NAEEtJCvGx4s8XgJSgvTFjwvLD6j&pretty_print=1&format=jsonld\n",
      "200\n"
     ]
    }
   ],
   "source": [
    "# get all items\n",
    "action = '/items'\n",
    "\n",
    "r_url = siteUrl + endpoint + action\n",
    "\n",
    "r = requests.get(r_url, params=parameters)\n",
    "\n",
    "print(r.url)\n",
    "print(r.status_code)"
   ]
  },
  {
   "cell_type": "code",
   "execution_count": 17,
   "metadata": {},
   "outputs": [
    {
     "name": "stdout",
     "output_type": "stream",
     "text": [
      "[367, 368, 369, 370, 371, 372, 373, 374, 375, 376, 377, 378, 379, 380, 381, 397, 398, 399, 400, 401, 402, 403, 411, 412, 413]\n"
     ]
    }
   ],
   "source": [
    "# record each item id in a list\n",
    "item_list = list()\n",
    "\n",
    "for item in r.json():\n",
    "    item_list.append(item['o:id'])\n",
    "\n",
    "print(item_list)"
   ]
  },
  {
   "cell_type": "code",
   "execution_count": 18,
   "metadata": {},
   "outputs": [
    {
     "name": "stdout",
     "output_type": "stream",
     "text": [
      "requesting http://jajohnst.si676.si.umich.edu/omeka-s/api/items/367\n",
      "saved to file item-367-metadata.json\n",
      "requesting http://jajohnst.si676.si.umich.edu/omeka-s/api/items/368\n",
      "saved to file item-368-metadata.json\n",
      "requesting http://jajohnst.si676.si.umich.edu/omeka-s/api/items/369\n",
      "saved to file item-369-metadata.json\n",
      "requesting http://jajohnst.si676.si.umich.edu/omeka-s/api/items/370\n",
      "saved to file item-370-metadata.json\n",
      "requesting http://jajohnst.si676.si.umich.edu/omeka-s/api/items/371\n",
      "saved to file item-371-metadata.json\n",
      "requesting http://jajohnst.si676.si.umich.edu/omeka-s/api/items/372\n",
      "saved to file item-372-metadata.json\n",
      "requesting http://jajohnst.si676.si.umich.edu/omeka-s/api/items/373\n",
      "saved to file item-373-metadata.json\n",
      "requesting http://jajohnst.si676.si.umich.edu/omeka-s/api/items/374\n",
      "saved to file item-374-metadata.json\n",
      "requesting http://jajohnst.si676.si.umich.edu/omeka-s/api/items/375\n",
      "saved to file item-375-metadata.json\n",
      "requesting http://jajohnst.si676.si.umich.edu/omeka-s/api/items/376\n",
      "saved to file item-376-metadata.json\n",
      "requesting http://jajohnst.si676.si.umich.edu/omeka-s/api/items/377\n",
      "saved to file item-377-metadata.json\n",
      "requesting http://jajohnst.si676.si.umich.edu/omeka-s/api/items/378\n",
      "saved to file item-378-metadata.json\n",
      "requesting http://jajohnst.si676.si.umich.edu/omeka-s/api/items/379\n",
      "saved to file item-379-metadata.json\n",
      "requesting http://jajohnst.si676.si.umich.edu/omeka-s/api/items/380\n",
      "saved to file item-380-metadata.json\n",
      "requesting http://jajohnst.si676.si.umich.edu/omeka-s/api/items/381\n",
      "saved to file item-381-metadata.json\n",
      "requesting http://jajohnst.si676.si.umich.edu/omeka-s/api/items/397\n",
      "saved to file item-397-metadata.json\n",
      "requesting http://jajohnst.si676.si.umich.edu/omeka-s/api/items/398\n",
      "saved to file item-398-metadata.json\n",
      "requesting http://jajohnst.si676.si.umich.edu/omeka-s/api/items/399\n",
      "saved to file item-399-metadata.json\n",
      "requesting http://jajohnst.si676.si.umich.edu/omeka-s/api/items/400\n",
      "saved to file item-400-metadata.json\n",
      "requesting http://jajohnst.si676.si.umich.edu/omeka-s/api/items/401\n",
      "saved to file item-401-metadata.json\n",
      "requesting http://jajohnst.si676.si.umich.edu/omeka-s/api/items/402\n",
      "saved to file item-402-metadata.json\n",
      "requesting http://jajohnst.si676.si.umich.edu/omeka-s/api/items/403\n",
      "saved to file item-403-metadata.json\n",
      "requesting http://jajohnst.si676.si.umich.edu/omeka-s/api/items/411\n",
      "saved to file item-411-metadata.json\n",
      "requesting http://jajohnst.si676.si.umich.edu/omeka-s/api/items/412\n",
      "saved to file item-412-metadata.json\n",
      "requesting http://jajohnst.si676.si.umich.edu/omeka-s/api/items/413\n",
      "saved to file item-413-metadata.json\n",
      "\n",
      "wrote 25 new files\n"
     ]
    }
   ],
   "source": [
    "# retrieve the individual item records and save to a file\n",
    "\n",
    "count = 0\n",
    "\n",
    "for item in item_list:\n",
    "    r_url = siteUrl + endpoint + action + '/' + str(item)\n",
    "    print(f'requesting {r_url}')\n",
    "    r = requests.get(r_url, params=parameters)\n",
    "    fname = 'item-' + str(item) + '-metadata.json'\n",
    "    with open(fname, 'w') as f:\n",
    "        f.write(json.dumps(r.json(), indent=2))\n",
    "    print(f'saved to file {fname}')\n",
    "    count += 1\n",
    "\n",
    "print(f'\\nwrote {count} new files')"
   ]
  },
  {
   "cell_type": "markdown",
   "metadata": {},
   "source": [
    "## Getting the \"Context\"\n",
    "\n",
    "You may have noted each of the keys in the Omeka S JSON responses have a namespace.\n",
    "This is because this response is JSON-LD, or JSON linked data. The `@context` tag refers to the API endpoint where these are defined.\n",
    "In this case, the endpoint is `api-context`. \n",
    "\n",
    "Request the context:"
   ]
  },
  {
   "cell_type": "code",
   "execution_count": 22,
   "metadata": {},
   "outputs": [],
   "source": [
    "r_url = 'http://jajohnst.si676.si.umich.edu/omeka-s/api-context'\n",
    "\n",
    "r = requests.get(r_url, params=parameters)\n",
    "\n",
    "with open('omeka-s-api-context.json', 'w') as f:\n",
    "    f.write(json.dumps(r.json(), indent=2))"
   ]
  },
  {
   "cell_type": "code",
   "execution_count": 23,
   "metadata": {},
   "outputs": [
    {
     "data": {
      "text/plain": [
       "'http://jajohnst.si676.si.umich.edu/omeka-s/api-context?key_credential=nj0K6JAqnFgeqyP3Kq40SOhl6fiPBXky&key_identity=yAu5NAEEtJCvGx4s8XgJSgvTFjwvLD6j&pretty_print=1&format=jsonld'"
      ]
     },
     "execution_count": 23,
     "metadata": {},
     "output_type": "execute_result"
    }
   ],
   "source": [
    "r.url"
   ]
  },
  {
   "cell_type": "code",
   "execution_count": 24,
   "metadata": {},
   "outputs": [
    {
     "data": {
      "text/plain": [
       "{'@context': {'o': 'http://omeka.org/s/vocabs/o#',\n",
       "  'dcterms': 'http://purl.org/dc/terms/',\n",
       "  'dctype': 'http://purl.org/dc/dcmitype/',\n",
       "  'bibo': 'http://purl.org/ontology/bibo/',\n",
       "  'foaf': 'http://xmlns.com/foaf/0.1/',\n",
       "  'o-cnt': 'http://www.w3.org/2011/content#',\n",
       "  'o-time': 'http://www.w3.org/2006/time#'}}"
      ]
     },
     "execution_count": 24,
     "metadata": {},
     "output_type": "execute_result"
    }
   ],
   "source": [
    "r.json()"
   ]
  }
 ],
 "metadata": {
  "kernelspec": {
   "display_name": "base",
   "language": "python",
   "name": "python3"
  },
  "language_info": {
   "codemirror_mode": {
    "name": "ipython",
    "version": 3
   },
   "file_extension": ".py",
   "mimetype": "text/x-python",
   "name": "python",
   "nbconvert_exporter": "python",
   "pygments_lexer": "ipython3",
   "version": "3.9.18"
  }
 },
 "nbformat": 4,
 "nbformat_minor": 2
}
