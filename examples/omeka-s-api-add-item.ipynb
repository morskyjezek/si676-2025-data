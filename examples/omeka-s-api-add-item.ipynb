{
 "cells": [
  {
   "cell_type": "markdown",
   "metadata": {},
   "source": [
    "# Adding an Item with the Omeka S API\n",
    "\n",
    "The \"basics\" of accessing the API, including authentication and querying item lists, are covered in the previous notebook\n",
    "[`omeka-s-api-basics.ipynb`](omeka-s-api-basics.ipynb).\n",
    "\n",
    "For some (dated 2019) advice on doing this with `curl` see: https://forum.omeka.org/t/example-api-usage-using-curl/8083. \n",
    "\n",
    "Since this is a standalone notebook, go through the setup and authentication again:"
   ]
  },
  {
   "cell_type": "code",
   "execution_count": 1,
   "metadata": {},
   "outputs": [],
   "source": [
    "import requests\n",
    "import json"
   ]
  },
  {
   "cell_type": "code",
   "execution_count": 2,
   "metadata": {},
   "outputs": [],
   "source": [
    "# establish API location/endpoints\n",
    "\n",
    "siteUrl = 'http://jajohnst.si676.si.umich.edu/omeka-s' # if you replicate this example, provide the URI for your site\n",
    "endpoint = '/api'"
   ]
  },
  {
   "cell_type": "code",
   "execution_count": null,
   "metadata": {},
   "outputs": [],
   "source": [
    "def get_credentials(credential_file_path):\n",
    "    '''Retrieve Omeka S Api credentials from another file. \n",
    "    That file must be a JSON file.'''\n",
    "\n",
    "    with open(credential_file_path, 'r') as credentials:\n",
    "        keys = json.load(credentials)\n",
    "    \n",
    "    return keys['key_identity'], keys['key_credential']\n",
    "\n",
    "key_identity, key_credential = get_credentials('../collection-project/omeka-credentials.json')"
   ]
  },
  {
   "cell_type": "code",
   "execution_count": null,
   "metadata": {},
   "outputs": [],
   "source": [
    "print(key_credential, key_identity)"
   ]
  },
  {
   "cell_type": "markdown",
   "metadata": {},
   "source": [
    "## Use the Omeka S API to add a new item\n",
    "\n",
    "The process involves the data for the new item, then\n",
    "using a `post` request to add the item via the API. "
   ]
  },
  {
   "cell_type": "code",
   "execution_count": 4,
   "metadata": {},
   "outputs": [],
   "source": [
    "action = '/items'\n",
    "\n",
    "parameters = {\n",
    "    'key_credential': key_credential,\n",
    "    'key_identity'  : key_identity\n",
    "}\n",
    "\n",
    "headers = {\n",
    "    'Content-Type': 'application/json'\n",
    "}"
   ]
  },
  {
   "cell_type": "code",
   "execution_count": 5,
   "metadata": {},
   "outputs": [],
   "source": [
    "# create data for a new item\n",
    "\n",
    "data = { \n",
    "    \"dcterms:title\": [{\n",
    "        \"property_id\": 1,\n",
    "        \"property_label\": \"Title\",\n",
    "        \"@value\": \"A Mere Title for an item created via the API\",\n",
    "        \"type\": \"literal\",\n",
    "        \"@language\": \"en-us\"\n",
    "        }],\n",
    "    \"dcterms:rights\": [{\n",
    "        \"type\": \"literal\",\n",
    "        \"property_id\": 15,\n",
    "        \"property_label\": \"Rights\",\n",
    "        \"is_public\": True,\n",
    "        \"@value\": \"No known restrictions on publication.\",\n",
    "        \"@language\": \"en-us\"\n",
    "        }]\n",
    "    }"
   ]
  },
  {
   "cell_type": "code",
   "execution_count": 6,
   "metadata": {},
   "outputs": [
    {
     "name": "stdout",
     "output_type": "stream",
     "text": [
      "http://jajohnst.si676.si.umich.edu/omeka-s/api/items?key_credential=nj0K6JAqnFgeqyP3Kq40SOhl6fiPBXky&key_identity=yAu5NAEEtJCvGx4s8XgJSgvTFjwvLD6j 200 \n",
      " {'Date': 'Tue, 19 Nov 2024 16:37:51 GMT', 'Server': 'Apache', 'Omeka-S-Version': '4.1.1', 'Keep-Alive': 'timeout=5, max=100', 'Connection': 'Keep-Alive', 'Transfer-Encoding': 'chunked', 'Content-Type': 'application/ld+json'}\n"
     ]
    }
   ],
   "source": [
    "# now, post the data\n",
    "\n",
    "post_item_url = siteUrl + endpoint + action\n",
    "\n",
    "new_item_post = requests.post(post_item_url, headers=headers, params=parameters, data=json.dumps(data))\n",
    "\n",
    "print(new_item_post.url,new_item_post.status_code,'\\n',new_item_post.headers)"
   ]
  },
  {
   "cell_type": "code",
   "execution_count": 7,
   "metadata": {},
   "outputs": [
    {
     "data": {
      "text/plain": [
       "{'@context': 'http://jajohnst.si676.si.umich.edu/omeka-s/api-context',\n",
       " '@id': 'http://jajohnst.si676.si.umich.edu/omeka-s/api/items/454',\n",
       " '@type': 'o:Item',\n",
       " 'o:id': 454,\n",
       " 'o:is_public': True,\n",
       " 'o:owner': {'@id': 'http://jajohnst.si676.si.umich.edu/omeka-s/api/users/1',\n",
       "  'o:id': 1},\n",
       " 'o:resource_class': None,\n",
       " 'o:resource_template': None,\n",
       " 'o:thumbnail': None,\n",
       " 'o:title': 'A Mere Title for an item created via the API',\n",
       " 'thumbnail_display_urls': {'large': None, 'medium': None, 'square': None},\n",
       " 'o:created': {'@value': '2024-11-19T16:37:52+00:00',\n",
       "  '@type': 'http://www.w3.org/2001/XMLSchema#dateTime'},\n",
       " 'o:modified': {'@value': '2024-11-19T16:37:52+00:00',\n",
       "  '@type': 'http://www.w3.org/2001/XMLSchema#dateTime'},\n",
       " 'o:primary_media': None,\n",
       " 'o:media': [],\n",
       " 'o:item_set': [],\n",
       " 'o:site': [{'@id': 'http://jajohnst.si676.si.umich.edu/omeka-s/api/sites/1',\n",
       "   'o:id': 1},\n",
       "  {'@id': 'http://jajohnst.si676.si.umich.edu/omeka-s/api/sites/2',\n",
       "   'o:id': 2}],\n",
       " 'dcterms:title': [{'type': 'literal',\n",
       "   'property_id': 1,\n",
       "   'property_label': 'Title',\n",
       "   'is_public': True,\n",
       "   '@value': 'A Mere Title for an item created via the API',\n",
       "   '@language': 'en-us'}],\n",
       " 'dcterms:rights': [{'type': 'literal',\n",
       "   'property_id': 15,\n",
       "   'property_label': 'Rights',\n",
       "   'is_public': True,\n",
       "   '@value': 'No known restrictions on publication.',\n",
       "   '@language': 'en-us'}]}"
      ]
     },
     "execution_count": 7,
     "metadata": {},
     "output_type": "execute_result"
    }
   ],
   "source": [
    "new_item_post.json()"
   ]
  },
  {
   "cell_type": "markdown",
   "metadata": {},
   "source": [
    "## Use the Omeka S API to add a new item with Media\n",
    "\n",
    "The process requires the metadata for the new item,\n",
    "the link to the file (aka \"media\" in Omeka S terms), and\n",
    "then using a `post` request to add the item via the API. "
   ]
  },
  {
   "cell_type": "code",
   "execution_count": 8,
   "metadata": {},
   "outputs": [],
   "source": [
    "# example of how you can format the metadata\n",
    "# note that this is a python dictionary, and can then be converted in valid JSON\n",
    "\n",
    "post_data = {\n",
    "    \"dcterms:title\": [\n",
    "        {\n",
    "            \"property_id\": 1,\n",
    "            \"property_label\": \"Title\",\n",
    "            \"@value\": \"An image of an Orca, archived from an old website, and uploaded via the API\",\n",
    "            \"type\": \"literal\"\n",
    "        }\n",
    "    ],\n",
    "    \"@type\": \"o:Item\",\n",
    "    \"o:item_set\": [\n",
    "        {\n",
    "            \"o:id\": 440\n",
    "        }\n",
    "    ],\n",
    "    \"o:media\": [\n",
    "        {\n",
    "            \"o:ingester\": \"upload\",\n",
    "            \"file_index\": \"0\",\n",
    "            \"o:item\": {},\n",
    "            \"dcterms:title\": [\n",
    "                {\n",
    "                    \"property_id\": 1,\n",
    "                    \"property_label\": \"Title\",\n",
    "                    \"@value\": \"Media file for the archived Orca image\",\n",
    "                    \"type\": \"literal\"\n",
    "                }\n",
    "            ]\n",
    "        }\n",
    "    ]\n",
    "}"
   ]
  },
  {
   "cell_type": "markdown",
   "metadata": {},
   "source": [
    "## Trying with `curl`\n",
    "\n",
    "See these examples of using the Omeka S API with `curl`: https://forum.omeka.org/t/example-api-usage-using-curl/8083"
   ]
  },
  {
   "cell_type": "code",
   "execution_count": 9,
   "metadata": {},
   "outputs": [
    {
     "name": "stdout",
     "output_type": "stream",
     "text": [
      "{\"dcterms:title\": [{\"property_id\": 1, \"property_label\": \"Title\", \"@value\": \"An image of an Orca, archived from an old website, and uploaded via the API\", \"type\": \"literal\"}], \"@type\": \"o:Item\", \"o:item_set\": [{\"o:id\": 440}], \"o:media\": [{\"o:ingester\": \"upload\", \"file_index\": \"0\", \"o:item\": {}, \"dcterms:title\": [{\"property_id\": 1, \"property_label\": \"Title\", \"@value\": \"Media file for the archived Orca image\", \"type\": \"literal\"}]}]}\n"
     ]
    }
   ],
   "source": [
    "post_data = { \"dcterms:title\" : [ {\"property_id\": 1, \"property_label\" : \"Title\", \"@value\" : \"An image of an Orca, archived from an old website, and uploaded via the API\", \"type\" : \"literal\" } ], \"@type\" : \"o:Item\", \"o:item_set\" : [ {\"o:id\": 440}], \"o:media\" : [{\"o:ingester\": \"upload\", \"file_index\": \"0\", \"o:item\": {}, \"dcterms:title\" : [ { \"property_id\" : 1, \"property_label\" : \"Title\", \"@value\" : \"Media file for the archived Orca image\", \"type\" : \"literal\" } ]}] }\n",
    "\n",
    "print(json.dumps(post_data)) # this converts the data into valid JSON"
   ]
  },
  {
   "cell_type": "markdown",
   "metadata": {},
   "source": [
    "This example didn't work, probably because the JSON elements were not formatted correctly:\n",
    "\n",
    "```bash\n",
    "curl -v -F \"data={'dcterms:title': [{'property_id': 1, 'property_label': 'Title', '@value': 'An image of an Orca, archived from an old website, and uploaded via the API', 'type': 'literal'}], '@type': 'o:Item', 'o:item_set': [{'o:id': 441}], 'o:media': [{'o:ingester': 'upload', 'file_index': '0', 'o:item': {}, 'dcterms:title': [{'property_id': 1, 'property_label': 'Title', '@value': 'Media file for the archived Orca image', 'type': 'literal'}]}]}\" -F \"file[0]=@./data/webfiles-samples/image/orca.via_.moc_.noaa_.jpg\" \"http://jajohnst.si676.si.umich.edu/omeka-s/api/items?key_credential=nj0K6JAqnFgeqyP3Kq40SOhl6fiPBXky&key_identity=yAu5NAEEtJCvGx4s8XgJSgvTFjwvLD6j\"\n",
    "```\n",
    "\n",
    "Produced this response:\n",
    "\n",
    "```\n",
    "* processing: http://jajohnst.si676.si.umich.edu/omeka-s/api/items?key_credential=nj0K6JAqnFgeqyP3Kq40SOhl6fiPBXky&key_identity=yAu5NAEEtJCvGx4s8XgJSgvTFjwvLD6j\n",
    "*   Trying 141.211.145.90:80...\n",
    "* Connected to jajohnst.si676.si.umich.edu (141.211.145.90) port 80\n",
    "> POST /omeka-s/api/items?key_credential=nj0K6JAqnFgeqyP3Kq40SOhl6fiPBXky&key_identity=yAu5NAEEtJCvGx4s8XgJSgvTFjwvLD6j HTTP/1.1\n",
    "> Host: jajohnst.si676.si.umich.edu\n",
    "> User-Agent: curl/8.2.1\n",
    "> Accept: */*\n",
    "> Content-Length: 83277\n",
    "> Content-Type: multipart/form-data; boundary=------------------------16ca63cbdb399460\n",
    "> \n",
    "* We are completely uploaded and fine\n",
    "< HTTP/1.1 400 Bad Request\n",
    "< Date: Tue, 19 Nov 2024 15:05:24 GMT\n",
    "< Server: Apache\n",
    "< Omeka-S-Version: 4.1.1\n",
    "< Connection: close\n",
    "< Transfer-Encoding: chunked\n",
    "< Content-Type: application/ld+json\n",
    "< \n",
    "* Closing connection\n",
    "{\"errors\":{\"error\":\"JSON: Syntax error\"}}%\n",
    "```"
   ]
  },
  {
   "cell_type": "markdown",
   "metadata": {},
   "source": [
    "### Working `curl` request\n",
    "\n",
    "```bash\n",
    "curl -v -F 'data={\"dcterms:title\": [{\"property_id\": 1, \"property_label\": \"Title\", \"@value\": \"An image of an Orca, archived from an old website, and uploaded via the API\", \"type\": \"literal\"}], \"@type\": \"o:Item\", \"o:item_set\": [{\"o:id\": 441}], \"o:media\": [{\"o:ingester\": \"upload\", \"file_index\": \"0\", \"o:item\": {}, \"dcterms:title\": [{\"property_id\": 1, \"property_label\": \"Title\", \"@value\": \"Media file for the archived Orca image\", \"type\": \"literal\"}]}]}' -F \"file[0]=@./data/webfiles-samples/image/orca.via_.moc_.noaa_.jpg\" \"http://jajohnst.si676.si.umich.edu/omeka-s/api/items?key_credential=nj0K6JAqnFgeqyP3Kq40SOhl6fiPBXky&key_identity=yAu5NAEEtJCvGx4s8XgJSgvTFjwvLD6j\"\n",
    "```"
   ]
  },
  {
   "cell_type": "markdown",
   "metadata": {},
   "source": [
    "### Uploading the media item with Python requests\n",
    "\n",
    "Using the working `curl` command, trying this curl converter to python requests... \n",
    "\n",
    "https://curlconverter.com/"
   ]
  },
  {
   "cell_type": "code",
   "execution_count": null,
   "metadata": {},
   "outputs": [],
   "source": [
    "import requests"
   ]
  },
  {
   "cell_type": "code",
   "execution_count": 10,
   "metadata": {},
   "outputs": [
    {
     "name": "stdout",
     "output_type": "stream",
     "text": [
      "http://jajohnst.si676.si.umich.edu/omeka-s/api/items?key_credential=nj0K6JAqnFgeqyP3Kq40SOhl6fiPBXky&key_identity=yAu5NAEEtJCvGx4s8XgJSgvTFjwvLD6j 200\n"
     ]
    }
   ],
   "source": [
    "siteAPI = 'http://jajohnst.si676.si.umich.edu/omeka-s/api'\n",
    "action = '/items'\n",
    "\n",
    "params = {\n",
    "    'key_credential': 'nj0K6JAqnFgeqyP3Kq40SOhl6fiPBXky',\n",
    "    'key_identity': 'yAu5NAEEtJCvGx4s8XgJSgvTFjwvLD6j',\n",
    "}\n",
    "\n",
    "files = {\n",
    "    'data': (None, '{\"dcterms:title\": [{\"property_id\": 1, \"property_label\": \"Title\", \"@value\": \"An image of an Orca, archived from an old website, and uploaded via the API\", \"type\": \"literal\"}], \"@type\": \"o:Item\", \"o:item_set\": [{\"o:id\": 440}], \"o:media\": [{\"o:ingester\": \"upload\", \"file_index\": \"0\", \"o:item\": {}, \"dcterms:title\": [{\"property_id\": 1, \"property_label\": \"Title\", \"@value\": \"Media file for the archived Orca image\", \"type\": \"literal\"}]}]}'),\n",
    "    'file[0]': open('../data/webfiles-samples/image/orca.via_.moc_.noaa_.jpg', 'rb'),\n",
    "}\n",
    "\n",
    "r = requests.post(siteAPI + action, params=params, files=files)\n",
    "\n",
    "print(r.url, r.status_code)"
   ]
  },
  {
   "cell_type": "code",
   "execution_count": 11,
   "metadata": {},
   "outputs": [
    {
     "data": {
      "text/plain": [
       "{'@context': 'http://jajohnst.si676.si.umich.edu/omeka-s/api-context',\n",
       " '@id': 'http://jajohnst.si676.si.umich.edu/omeka-s/api/items/455',\n",
       " '@type': 'o:Item',\n",
       " 'o:id': 455,\n",
       " 'o:is_public': True,\n",
       " 'o:owner': {'@id': 'http://jajohnst.si676.si.umich.edu/omeka-s/api/users/1',\n",
       "  'o:id': 1},\n",
       " 'o:resource_class': None,\n",
       " 'o:resource_template': None,\n",
       " 'o:thumbnail': None,\n",
       " 'o:title': 'An image of an Orca, archived from an old website, and uploaded via the API',\n",
       " 'thumbnail_display_urls': {'large': 'http://jajohnst.si676.si.umich.edu/omeka-s/files/large/de626197ce76c28ac4d55958025a8d662b8cd9a8.jpg',\n",
       "  'medium': 'http://jajohnst.si676.si.umich.edu/omeka-s/files/medium/de626197ce76c28ac4d55958025a8d662b8cd9a8.jpg',\n",
       "  'square': 'http://jajohnst.si676.si.umich.edu/omeka-s/files/square/de626197ce76c28ac4d55958025a8d662b8cd9a8.jpg'},\n",
       " 'o:created': {'@value': '2024-11-19T16:40:00+00:00',\n",
       "  '@type': 'http://www.w3.org/2001/XMLSchema#dateTime'},\n",
       " 'o:modified': {'@value': '2024-11-19T16:40:00+00:00',\n",
       "  '@type': 'http://www.w3.org/2001/XMLSchema#dateTime'},\n",
       " 'o:primary_media': {'@id': 'http://jajohnst.si676.si.umich.edu/omeka-s/api/media/456',\n",
       "  'o:id': 456},\n",
       " 'o:media': [{'@id': 'http://jajohnst.si676.si.umich.edu/omeka-s/api/media/456',\n",
       "   'o:id': 456}],\n",
       " 'o:item_set': [{'@id': 'http://jajohnst.si676.si.umich.edu/omeka-s/api/item_sets/440',\n",
       "   'o:id': 440}],\n",
       " 'o:site': [{'@id': 'http://jajohnst.si676.si.umich.edu/omeka-s/api/sites/1',\n",
       "   'o:id': 1},\n",
       "  {'@id': 'http://jajohnst.si676.si.umich.edu/omeka-s/api/sites/2',\n",
       "   'o:id': 2}],\n",
       " 'dcterms:title': [{'type': 'literal',\n",
       "   'property_id': 1,\n",
       "   'property_label': 'Title',\n",
       "   'is_public': True,\n",
       "   '@value': 'An image of an Orca, archived from an old website, and uploaded via the API'}]}"
      ]
     },
     "execution_count": 11,
     "metadata": {},
     "output_type": "execute_result"
    }
   ],
   "source": [
    "r.json()"
   ]
  },
  {
   "cell_type": "markdown",
   "metadata": {},
   "source": [
    "Try uploading without property ID:"
   ]
  },
  {
   "cell_type": "code",
   "execution_count": 12,
   "metadata": {},
   "outputs": [
    {
     "name": "stdout",
     "output_type": "stream",
     "text": [
      "http://jajohnst.si676.si.umich.edu/omeka-s/api/items?key_credential=nj0K6JAqnFgeqyP3Kq40SOhl6fiPBXky&key_identity=yAu5NAEEtJCvGx4s8XgJSgvTFjwvLD6j 200\n"
     ]
    }
   ],
   "source": [
    "siteAPI = 'http://jajohnst.si676.si.umich.edu/omeka-s/api'\n",
    "action = '/items'\n",
    "\n",
    "params = {\n",
    "    'key_credential': 'nj0K6JAqnFgeqyP3Kq40SOhl6fiPBXky',\n",
    "    'key_identity': 'yAu5NAEEtJCvGx4s8XgJSgvTFjwvLD6j',\n",
    "}\n",
    "\n",
    "files = {\n",
    "    'data': (None, '{\"dcterms:title\": [{\"property_label\": \"Title\", \"@value\": \"An image of an Orca, archived from an old website, and uploaded via the API\", \"type\": \"literal\"}], \"@type\": \"o:Item\", \"o:item_set\": [{\"o:id\": 440}], \"o:media\": [{\"o:ingester\": \"upload\", \"file_index\": \"0\", \"o:item\": {}, \"dcterms:title\": [{\"property_label\": \"Title\", \"@value\": \"Media file for the archived Orca image\", \"type\": \"literal\"}]}]}'),\n",
    "    'file[0]': open('../data/webfiles-samples/image/orca.via_.moc_.noaa_.jpg', 'rb'),\n",
    "}\n",
    "\n",
    "r = requests.post(siteAPI + action, params=params, files=files)\n",
    "\n",
    "print(r.url, r.status_code)"
   ]
  },
  {
   "cell_type": "code",
   "execution_count": 13,
   "metadata": {},
   "outputs": [
    {
     "data": {
      "text/plain": [
       "{'@context': 'http://jajohnst.si676.si.umich.edu/omeka-s/api-context',\n",
       " '@id': 'http://jajohnst.si676.si.umich.edu/omeka-s/api/items/457',\n",
       " '@type': 'o:Item',\n",
       " 'o:id': 457,\n",
       " 'o:is_public': True,\n",
       " 'o:owner': {'@id': 'http://jajohnst.si676.si.umich.edu/omeka-s/api/users/1',\n",
       "  'o:id': 1},\n",
       " 'o:resource_class': None,\n",
       " 'o:resource_template': None,\n",
       " 'o:thumbnail': None,\n",
       " 'o:title': None,\n",
       " 'thumbnail_display_urls': {'large': 'http://jajohnst.si676.si.umich.edu/omeka-s/files/large/a1eff2ad47dd4058d5f5e059003926abdc244dd0.jpg',\n",
       "  'medium': 'http://jajohnst.si676.si.umich.edu/omeka-s/files/medium/a1eff2ad47dd4058d5f5e059003926abdc244dd0.jpg',\n",
       "  'square': 'http://jajohnst.si676.si.umich.edu/omeka-s/files/square/a1eff2ad47dd4058d5f5e059003926abdc244dd0.jpg'},\n",
       " 'o:created': {'@value': '2024-11-19T23:49:55+00:00',\n",
       "  '@type': 'http://www.w3.org/2001/XMLSchema#dateTime'},\n",
       " 'o:modified': {'@value': '2024-11-19T23:49:55+00:00',\n",
       "  '@type': 'http://www.w3.org/2001/XMLSchema#dateTime'},\n",
       " 'o:primary_media': {'@id': 'http://jajohnst.si676.si.umich.edu/omeka-s/api/media/458',\n",
       "  'o:id': 458},\n",
       " 'o:media': [{'@id': 'http://jajohnst.si676.si.umich.edu/omeka-s/api/media/458',\n",
       "   'o:id': 458}],\n",
       " 'o:item_set': [{'@id': 'http://jajohnst.si676.si.umich.edu/omeka-s/api/item_sets/440',\n",
       "   'o:id': 440}],\n",
       " 'o:site': [{'@id': 'http://jajohnst.si676.si.umich.edu/omeka-s/api/sites/1',\n",
       "   'o:id': 1},\n",
       "  {'@id': 'http://jajohnst.si676.si.umich.edu/omeka-s/api/sites/2',\n",
       "   'o:id': 2}]}"
      ]
     },
     "execution_count": 13,
     "metadata": {},
     "output_type": "execute_result"
    }
   ],
   "source": [
    "r.json()"
   ]
  },
  {
   "cell_type": "markdown",
   "metadata": {},
   "source": [
    "So these without Omeka S property IDs will be uploaded, but the properties are not recorded.\n",
    "Basically, no metadata is recorded."
   ]
  }
 ],
 "metadata": {
  "kernelspec": {
   "display_name": "base",
   "language": "python",
   "name": "python3"
  },
  "language_info": {
   "codemirror_mode": {
    "name": "ipython",
    "version": 3
   },
   "file_extension": ".py",
   "mimetype": "text/x-python",
   "name": "python",
   "nbconvert_exporter": "python",
   "pygments_lexer": "ipython3",
   "version": "3.9.18"
  }
 },
 "nbformat": 4,
 "nbformat_minor": 2
}
