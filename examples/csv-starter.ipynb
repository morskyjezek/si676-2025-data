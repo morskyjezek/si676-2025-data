{
 "cells": [
  {
   "cell_type": "markdown",
   "metadata": {},
   "source": [
    "# CSV Basics in Python\n",
    "\n",
    "This notebook includes some demonstrations of how to manipulate CSV files in Python."
   ]
  },
  {
   "cell_type": "code",
   "execution_count": 1,
   "metadata": {},
   "outputs": [],
   "source": [
    "import csv"
   ]
  },
  {
   "cell_type": "markdown",
   "metadata": {},
   "source": [
    "First, you should take a look at the file. So, open it in another tab,\n",
    "or if you are working on a bash system, you can use `!cat`."
   ]
  },
  {
   "cell_type": "code",
   "execution_count": 2,
   "metadata": {},
   "outputs": [
    {
     "name": "stdout",
     "output_type": "stream",
     "text": [
      "2012-11-05,deer,5\n",
      "2012-11-05,rabbit,22\n",
      "2012-11-05,raccoon,7\n",
      "2012-11-06,rabbit,19\n",
      "2012-11-06,deer,2\n",
      "2012-11-06,fox,4\n",
      "2012-11-07,rabbit,16\n",
      "2012-11-07,bear,1\n"
     ]
    }
   ],
   "source": [
    "!cat ../data/animal-counts/animals.csv"
   ]
  },
  {
   "cell_type": "markdown",
   "metadata": {},
   "source": [
    "Assuming this is a file that represents field observations of wildlife during a\n",
    "given time period in a given spot (we don't know much about the context beyond this),\n",
    "then we can use the basic `.reader()` function to create a more 'readable' output:"
   ]
  },
  {
   "cell_type": "code",
   "execution_count": 3,
   "metadata": {},
   "outputs": [
    {
     "name": "stdout",
     "output_type": "stream",
     "text": [
      "On 2012-11-05 there was a count of 5 reported deer.\n",
      "On 2012-11-05 there was a count of 22 reported rabbit.\n",
      "On 2012-11-05 there was a count of 7 reported raccoon.\n",
      "On 2012-11-06 there was a count of 19 reported rabbit.\n",
      "On 2012-11-06 there was a count of 2 reported deer.\n",
      "On 2012-11-06 there was a count of 4 reported fox.\n",
      "On 2012-11-07 there was a count of 16 reported rabbit.\n",
      "On 2012-11-07 there was a count of 1 reported bear.\n",
      "\n",
      "Read 8 lines.\n"
     ]
    }
   ],
   "source": [
    "with open('../data/animal-counts/animals.csv', encoding='utf-8') as f:\n",
    "    data = csv.reader(f, delimiter=',')\n",
    "    line_count = 0\n",
    "    for row in data:\n",
    "        line_count += 1 \n",
    "        print(f'On {row[0]} there was a count of {row[2]} reported {row[1]}.')\n",
    "    print(f'\\nRead {line_count} lines.')"
   ]
  },
  {
   "cell_type": "markdown",
   "metadata": {},
   "source": [
    "## Using the DictReader functions\n",
    "\n",
    "If you know or can apply header names for each of the columns,\n",
    "you can treat these as a list and the `csv` library will create\n",
    "a dictionary. This is useful if you want to refer to values\n",
    "by their names (not by column index)."
   ]
  },
  {
   "cell_type": "code",
   "execution_count": 4,
   "metadata": {},
   "outputs": [
    {
     "name": "stdout",
     "output_type": "stream",
     "text": [
      "{'date': '2012-11-05', 'animal': 'deer', 'count': '5'}\n",
      "{'date': '2012-11-05', 'animal': 'rabbit', 'count': '22'}\n",
      "{'date': '2012-11-05', 'animal': 'raccoon', 'count': '7'}\n",
      "{'date': '2012-11-06', 'animal': 'rabbit', 'count': '19'}\n",
      "{'date': '2012-11-06', 'animal': 'deer', 'count': '2'}\n",
      "{'date': '2012-11-06', 'animal': 'fox', 'count': '4'}\n",
      "{'date': '2012-11-07', 'animal': 'rabbit', 'count': '16'}\n",
      "{'date': '2012-11-07', 'animal': 'bear', 'count': '1'}\n",
      "\n",
      "Read 8 lines.\n"
     ]
    }
   ],
   "source": [
    "cols = ['date','animal','count']\n",
    "\n",
    "with open('../data/animal-counts/animals.csv', encoding='utf-8') as f:\n",
    "    data = csv.DictReader(f, fieldnames=cols, delimiter=',')\n",
    "    line_count = 0\n",
    "    for row in data:\n",
    "        line_count += 1 \n",
    "        print(row)\n",
    "#        print(f'On { row['date'] } there was a count of {row['count']} reported {row['animal']}.')\n",
    "    print(f'\\nRead {line_count} lines.')"
   ]
  },
  {
   "cell_type": "code",
   "execution_count": 5,
   "metadata": {},
   "outputs": [
    {
     "name": "stdout",
     "output_type": "stream",
     "text": [
      "On 2012-11-05 there was a count of 5 reported deer.\n",
      "On 2012-11-05 there was a count of 22 reported rabbit.\n",
      "On 2012-11-05 there was a count of 7 reported raccoon.\n",
      "On 2012-11-06 there was a count of 19 reported rabbit.\n",
      "On 2012-11-06 there was a count of 2 reported deer.\n",
      "On 2012-11-06 there was a count of 4 reported fox.\n",
      "On 2012-11-07 there was a count of 16 reported rabbit.\n",
      "On 2012-11-07 there was a count of 1 reported bear.\n",
      "\n",
      "Read 8 lines.\n"
     ]
    }
   ],
   "source": [
    "cols = ['date','animal','count']\n",
    "\n",
    "with open('../data/animal-counts/animals.csv', encoding='utf-8') as f:\n",
    "    data = csv.DictReader(f, fieldnames=cols, delimiter=',')\n",
    "    line_count = 0\n",
    "    for row in data:\n",
    "        line_count += 1 \n",
    "        date = row['date']\n",
    "        animal = row['animal']\n",
    "        count = row['count']\n",
    "        print(f'On { date } there was a count of { count } reported { animal }.')\n",
    "    print(f'\\nRead {line_count} lines.')"
   ]
  }
 ],
 "metadata": {
  "kernelspec": {
   "display_name": "base",
   "language": "python",
   "name": "python3"
  },
  "language_info": {
   "codemirror_mode": {
    "name": "ipython",
    "version": 3
   },
   "file_extension": ".py",
   "mimetype": "text/x-python",
   "name": "python",
   "nbconvert_exporter": "python",
   "pygments_lexer": "ipython3",
   "version": "3.9.18"
  }
 },
 "nbformat": 4,
 "nbformat_minor": 2
}
