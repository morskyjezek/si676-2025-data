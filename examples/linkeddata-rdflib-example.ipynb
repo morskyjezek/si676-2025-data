{
 "cells": [
  {
   "cell_type": "markdown",
   "id": "7bdf1a0c",
   "metadata": {},
   "source": [
    "# Using `rdflib` to create a data graph\n",
    "\n",
    "Linked data is somewhat more idiomatic in Python than is XML on its own.\n",
    "To parse, manage, and created linked data according to the W3C standard Resource Description Framework (RDF),\n",
    "you can use the `rdflib`. The library is documented at <https://rdflib.readthedocs.io/en/stable/index.html>.\n",
    "\n",
    "This notebook demonstrates the creation of a data graph about Jane Austen, her novel Pride and Prejudice,\n",
    "and then adds various standard information about an ebook manifestation of the work.  \n",
    "\n",
    "## Import & Setup\n",
    "\n",
    "If you don't yet have the library installed, you can use `pip` to install.\n",
    "If you already have it, then skip the next cell:"
   ]
  },
  {
   "cell_type": "code",
   "execution_count": null,
   "id": "866658b5",
   "metadata": {},
   "outputs": [],
   "source": [
    "!pip install rdflib"
   ]
  },
  {
   "cell_type": "code",
   "execution_count": 1,
   "id": "70e8258d",
   "metadata": {},
   "outputs": [],
   "source": [
    "from rdflib import Graph, URIRef, Literal, BNode, Namespace"
   ]
  },
  {
   "cell_type": "markdown",
   "id": "af217ac8",
   "metadata": {},
   "source": [
    "## Creating and Serializing basic DublinCore\n",
    "\n",
    "The next section illustrates how to use a simple list to create a small graph of DublinCore data.\n",
    "\n",
    "### First, add the namespaces you may need\n",
    "\n",
    "The `rdflib` supports a few widely used metadata element sets and structures, including DublinCore.\n",
    "To import all of these core namespaces, the library uses a process it calls \"bind\".\n",
    "Once a graph is established with the `Graph()` function, you can use this approach to add the namespaces.\n",
    "For more, see <https://rdflib.readthedocs.io/en/stable/namespaces_and_bindings.html>. "
   ]
  },
  {
   "cell_type": "code",
   "execution_count": 2,
   "id": "6825e64d",
   "metadata": {},
   "outputs": [],
   "source": [
    "basicDCgraph = Graph(bind_namespaces=\"rdflib\")"
   ]
  },
  {
   "cell_type": "code",
   "execution_count": 3,
   "id": "718645bb",
   "metadata": {},
   "outputs": [],
   "source": [
    "# you can add specific namespaces, like DublinCore\n",
    "from rdflib.namespace import DCTERMS, DCMITYPE, FOAF, RDF, RDFS, XSD"
   ]
  },
  {
   "cell_type": "code",
   "execution_count": 4,
   "id": "3215bc34",
   "metadata": {},
   "outputs": [],
   "source": [
    "# for the example, also add some other useful vocabularies\n",
    "\n",
    "# id.loc.gov\n",
    "locid = Namespace(\"http://id.loc.gov\")\n",
    "mods = Namespace(\"http://www.loc.gov/mods/v3\")\n",
    "# bibframe\n",
    "bf = Namespace(\"http://id.loc.gov/ontologies/bibframe/\")\n",
    "\n",
    "# other\n",
    "viaf = Namespace(\"https://viaf.org/viaf/\")\n",
    "\n",
    "# wikidata\n",
    "wdt = Namespace(\"https://www.wikidata.org/wiki/\")\n",
    "wdtprop = Namespace(\"https://www.wikidata.org/wiki/Property:\")\n"
   ]
  },
  {
   "cell_type": "markdown",
   "id": "c1b314b4",
   "metadata": {},
   "source": [
    "To attach, or make usable the namespaces in the graph under construction, use the `.bind()` function:"
   ]
  },
  {
   "cell_type": "code",
   "execution_count": 5,
   "id": "544d6fb4",
   "metadata": {},
   "outputs": [],
   "source": [
    "basicDCgraph.bind('bf',bf)\n",
    "basicDCgraph.bind('wdt',wdt)\n",
    "basicDCgraph.bind('wdtprop',wdtprop)\n",
    "basicDCgraph.bind('rdfs',RDFS)\n",
    "basicDCgraph.bind('dcterms',DCTERMS)\n",
    "basicDCgraph.bind('xsd',XSD)\n",
    "basicDCgraph.bind('dcmitype',DCMITYPE)"
   ]
  },
  {
   "cell_type": "markdown",
   "id": "02c22b37",
   "metadata": {},
   "source": [
    "Some sample data about the work Pride and Prejudice, as manifested in the Standard Ebooks edition at <https://standardebooks.org/ebooks/jane-austen/pride-and-prejudice>."
   ]
  },
  {
   "cell_type": "code",
   "execution_count": 6,
   "id": "eb975f40",
   "metadata": {},
   "outputs": [],
   "source": [
    "pride = URIRef(\"http://id.loc.gov/authorities/names/n2002041181\")\n",
    "title = Literal(\"Pride and prejudice\")\n",
    "creator = Literal(\"Jane Austen\")\n",
    "jane = URIRef(\"http://id.loc.gov/authorities/names/n79032879\")\n",
    "creatorWDT = \"Q36322\"\n",
    "date_of_publication = Literal(1813, datatype=XSD.date)\n",
    "ebook = URIRef(\"https://standardebooks.org/ebooks/jane-austen/pride-and-prejudice\")\n"
   ]
  },
  {
   "cell_type": "markdown",
   "id": "ddc7180a",
   "metadata": {},
   "source": [
    "Now, build the graph by \"adding\" triples using the `.add()` function:"
   ]
  },
  {
   "cell_type": "code",
   "execution_count": 7,
   "id": "da46cb89",
   "metadata": {},
   "outputs": [
    {
     "name": "stdout",
     "output_type": "stream",
     "text": [
      "@prefix rdfs: <http://www.w3.org/2000/01/rdf-schema#> .\n",
      "@prefix wdt: <https://www.wikidata.org/wiki/> .\n",
      "@prefix wdtprop: <https://www.wikidata.org/wiki/Property:> .\n",
      "\n",
      "<http://id.loc.gov/authorities/names/n79032879> rdfs:label \"Austen, Jane, 1775-1817\" ;\n",
      "    wdtprop:P31 wdt:Q5 ;\n",
      "    wdtprop:P800 wdt:Q170583 .\n",
      "\n",
      "\n"
     ]
    }
   ],
   "source": [
    "# note triples are created as tuples\n",
    "\n",
    "#basic info about Jane Austen\n",
    "basicDCgraph.add((jane, RDFS.label, Literal(\"Austen, Jane, 1775-1817\")))\n",
    "basicDCgraph.add((jane, wdtprop.P31, wdt.Q5)) # jane was a human\n",
    "basicDCgraph.add((jane, wdtprop.P800, wdt.Q170583)) # jane has the notable work Pride and Prejudice as exemplified in wikidata\n",
    "\n",
    "print(basicDCgraph.serialize())"
   ]
  },
  {
   "cell_type": "markdown",
   "id": "06ed81ee",
   "metadata": {},
   "source": [
    "Use the `.n3()` function to see how particular elements or statements might look in N-Triples:"
   ]
  },
  {
   "cell_type": "code",
   "execution_count": 8,
   "id": "5f55c442",
   "metadata": {},
   "outputs": [
    {
     "data": {
      "text/plain": [
       "'\"1813\"^^xsd:date'"
      ]
     },
     "execution_count": 8,
     "metadata": {},
     "output_type": "execute_result"
    }
   ],
   "source": [
    "date_of_publication.n3(basicDCgraph.namespace_manager)"
   ]
  },
  {
   "cell_type": "code",
   "execution_count": null,
   "id": "f609bcc0",
   "metadata": {},
   "outputs": [
    {
     "name": "stdout",
     "output_type": "stream",
     "text": [
      "@prefix bf: <http://id.loc.gov/ontologies/bibframe/> .\n",
      "@prefix rdfs: <http://www.w3.org/2000/01/rdf-schema#> .\n",
      "@prefix wdt: <https://www.wikidata.org/wiki/> .\n",
      "@prefix wdtprop: <https://www.wikidata.org/wiki/Property:> .\n",
      "\n",
      "<http://id.loc.gov/authorities/names/n2002041181> rdfs:label \"Pride and prejudice\" ;\n",
      "    bf:Work <https://id.loc.gov/resources/works/15665436.html>,\n",
      "        \"Pride & Prejudice\"@en ;\n",
      "    wdtprop:P1476 \"Pride and Prejudice\"@en ;\n",
      "    wdtprop:P31 wdt:Q7725634 .\n",
      "\n",
      "<http://id.loc.gov/authorities/names/n79032879> rdfs:label \"Austen, Jane, 1775-1817\" ;\n",
      "    wdtprop:P31 wdt:Q5 ;\n",
      "    wdtprop:P800 wdt:Q170583 .\n",
      "\n",
      "\n"
     ]
    }
   ],
   "source": [
    "# now add some more information about Pride and Prejudice\n",
    "\n",
    "basicDCgraph.add((pride, RDFS.label, title)) # assert this URI has title as its string label (i.e., nomen)\n",
    "basicDCgraph.add((pride, wdtprop.P31, wdt.Q7725634)) # assert the resource is a literary work\n",
    "basicDCgraph.add((pride, wdtprop.P1476, Literal(\"Pride and Prejudice\",lang=\"en\"))) # assert the resource has the title \"Pride and Prejudice\" in english\n",
    "basicDCgraph.add((pride, bf.Work, URIRef(\"https://id.loc.gov/resources/works/15665436.html\"))) # connect to the Bibframe work record (unclear if this is the right one)\n",
    "basicDCgraph.add((pride, bf.Work, Literal(\"Pride & Prejudice\", lang=\"en\"))) # assert the resource has the bibframe work title Pride & Prejudice\n",
    "\n",
    "print(basicDCgraph.serialize())"
   ]
  },
  {
   "cell_type": "code",
   "execution_count": 10,
   "id": "e799902b",
   "metadata": {},
   "outputs": [
    {
     "name": "stdout",
     "output_type": "stream",
     "text": [
      "@prefix bf: <http://id.loc.gov/ontologies/bibframe/> .\n",
      "@prefix dcterms: <http://purl.org/dc/terms/> .\n",
      "@prefix rdfs: <http://www.w3.org/2000/01/rdf-schema#> .\n",
      "@prefix wdt: <https://www.wikidata.org/wiki/> .\n",
      "@prefix wdtprop: <https://www.wikidata.org/wiki/Property:> .\n",
      "@prefix xsd: <http://www.w3.org/2001/XMLSchema#> .\n",
      "\n",
      "<http://id.loc.gov/authorities/names/n2002041181> rdfs:label \"Pride and prejudice\" ;\n",
      "    bf:Work <https://id.loc.gov/resources/works/15665436.html>,\n",
      "        \"Pride & Prejudice\"@en ;\n",
      "    dcterms:created \"1813\"^^xsd:date ;\n",
      "    dcterms:creator <http://id.loc.gov/authorities/names/n79032879>,\n",
      "        \"Jane Austen\" ;\n",
      "    dcterms:title \"Pride and Prejudice\"@en ;\n",
      "    wdtprop:P1476 \"Pride and Prejudice\"@en ;\n",
      "    wdtprop:P31 wdt:Q7725634 .\n",
      "\n",
      "<http://id.loc.gov/authorities/names/n79032879> rdfs:label \"Austen, Jane, 1775-1817\" ;\n",
      "    wdtprop:P31 wdt:Q5 ;\n",
      "    wdtprop:P800 wdt:Q170583 .\n",
      "\n",
      "\n"
     ]
    }
   ],
   "source": [
    "# now add the rest of the data in DC statemensts\n",
    "basicDCgraph.add((pride, DCTERMS.title, Literal(\"Pride and Prejudice\", lang=\"en\")))\n",
    "basicDCgraph.add((pride, DCTERMS.creator, jane))\n",
    "basicDCgraph.add((pride, DCTERMS.creator, Literal(\"Jane Austen\")))\n",
    "basicDCgraph.add((pride, DCTERMS.created, Literal(1813, datatype=XSD.date)))\n",
    "\n",
    "print(basicDCgraph.serialize(format=\"ttl\")) # print the graph in terse triples"
   ]
  },
  {
   "cell_type": "code",
   "execution_count": 11,
   "id": "16e39ea4",
   "metadata": {},
   "outputs": [
    {
     "name": "stdout",
     "output_type": "stream",
     "text": [
      "@prefix bf: <http://id.loc.gov/ontologies/bibframe/> .\n",
      "@prefix dcmitype: <http://purl.org/dc/dcmitype/> .\n",
      "@prefix dcterms: <http://purl.org/dc/terms/> .\n",
      "@prefix rdfs: <http://www.w3.org/2000/01/rdf-schema#> .\n",
      "@prefix wdt: <https://www.wikidata.org/wiki/> .\n",
      "@prefix wdtprop: <https://www.wikidata.org/wiki/Property:> .\n",
      "@prefix xsd: <http://www.w3.org/2001/XMLSchema#> .\n",
      "\n",
      "<http://id.loc.gov/authorities/names/n2002041181> rdfs:label \"Pride and prejudice\" ;\n",
      "    bf:Work <https://id.loc.gov/resources/works/15665436.html>,\n",
      "        \"Pride & Prejudice\"@en ;\n",
      "    dcterms:created \"1813\"^^xsd:date ;\n",
      "    dcterms:creator <http://id.loc.gov/authorities/names/n79032879>,\n",
      "        \"Jane Austen\" ;\n",
      "    dcterms:hasVersion <https://standardebooks.org/ebooks/jane-austen/pride-and-prejudice> ;\n",
      "    dcterms:subject \"novel of manners; courtship; England; economics of marriage; romance; enemies-to-lovers\"@en ;\n",
      "    dcterms:title \"Pride and Prejudice\"@en ;\n",
      "    wdtprop:P1476 \"Pride and Prejudice\"@en ;\n",
      "    wdtprop:P31 wdt:Q7725634 .\n",
      "\n",
      "<http://id.loc.gov/authorities/names/n79032879> rdfs:label \"Austen, Jane, 1775-1817\" ;\n",
      "    wdtprop:P31 wdt:Q5 ;\n",
      "    wdtprop:P800 wdt:Q170583 .\n",
      "\n",
      "<https://standardebooks.org/ebooks/jane-austen/pride-and-prejudice> dcterms:description \"Pride and Prejudice may today be one of Jane Austen’s most enduring novels, having been widely adapted to stage, screen, and other media since its publication in 1813. The novel tells the tale of five unmarried sisters and how their lives change when a wealthy eligible bachelor moves in to their neighborhood.\"@en ;\n",
      "    dcterms:format \"epub\" ;\n",
      "    dcterms:identifier [ ] ;\n",
      "    dcterms:isVersionOf <http://id.loc.gov/authorities/names/n2002041181> ;\n",
      "    dcterms:publisher \"Standard Ebooks\"@en ;\n",
      "    dcterms:rights <https://creativecommons.org/publicdomain/zero/1.0/> ;\n",
      "    dcterms:title \"Pride and Prejudice\"@en ;\n",
      "    dcterms:type dcmitype:Text .\n",
      "\n",
      "\n"
     ]
    }
   ],
   "source": [
    "# and some information about the Standard Ebooks edition\n",
    "\n",
    "basicDCgraph.add((pride, DCTERMS.hasVersion, ebook))\n",
    "basicDCgraph.add((ebook, DCTERMS.isVersionOf, pride))\n",
    "basicDCgraph.add((ebook, DCTERMS.identifier, BNode())) # ISBN\n",
    "basicDCgraph.add((ebook, DCTERMS.rights, URIRef(\"https://creativecommons.org/publicdomain/zero/1.0/\")))\n",
    "basicDCgraph.add((ebook, DCTERMS.publisher, Literal(\"Standard Ebooks\", lang=\"en\")))\n",
    "basicDCgraph.add((ebook, DCTERMS.description, Literal(\"Pride and Prejudice may today be one of Jane Austen’s most enduring novels, having been widely adapted to stage, screen, and other media since its publication in 1813. The novel tells the tale of five unmarried sisters and how their lives change when a wealthy eligible bachelor moves in to their neighborhood.\", lang=\"en\")))\n",
    "basicDCgraph.add((ebook, DCTERMS.title, Literal(\"Pride and Prejudice\", lang=\"en\")))\n",
    "basicDCgraph.add((ebook, DCTERMS.type, DCMITYPE.Text))\n",
    "basicDCgraph.add((ebook, DCTERMS.format, Literal(\"epub\")))\n",
    "basicDCgraph.add((pride, DCTERMS.subject, Literal(\"novel of manners; courtship; England; economics of marriage; romance; enemies-to-lovers\", lang=\"en\")))\n",
    "\n",
    "print(basicDCgraph.serialize())"
   ]
  },
  {
   "cell_type": "markdown",
   "id": "2826678a",
   "metadata": {},
   "source": [
    "Now possible to serialize in different formats, including RDF in XML, N triples, or JSON linked data:"
   ]
  },
  {
   "cell_type": "code",
   "execution_count": 12,
   "id": "af41666b",
   "metadata": {},
   "outputs": [
    {
     "name": "stdout",
     "output_type": "stream",
     "text": [
      "<?xml version=\"1.0\" encoding=\"utf-8\"?>\n",
      "<rdf:RDF\n",
      "   xmlns:bf=\"http://id.loc.gov/ontologies/bibframe/\"\n",
      "   xmlns:dcterms=\"http://purl.org/dc/terms/\"\n",
      "   xmlns:rdf=\"http://www.w3.org/1999/02/22-rdf-syntax-ns#\"\n",
      "   xmlns:rdfs=\"http://www.w3.org/2000/01/rdf-schema#\"\n",
      "   xmlns:wdtprop=\"https://www.wikidata.org/wiki/Property:\"\n",
      ">\n",
      "  <rdf:Description rdf:about=\"http://id.loc.gov/authorities/names/n2002041181\">\n",
      "    <rdfs:label>Pride and prejudice</rdfs:label>\n",
      "    <wdtprop:P31 rdf:resource=\"https://www.wikidata.org/wiki/Q7725634\"/>\n",
      "    <wdtprop:P1476 xml:lang=\"en\">Pride and Prejudice</wdtprop:P1476>\n",
      "    <bf:Work rdf:resource=\"https://id.loc.gov/resources/works/15665436.html\"/>\n",
      "    <bf:Work xml:lang=\"en\">Pride &amp; Prejudice</bf:Work>\n",
      "    <dcterms:title xml:lang=\"en\">Pride and Prejudice</dcterms:title>\n",
      "    <dcterms:creator rdf:resource=\"http://id.loc.gov/authorities/names/n79032879\"/>\n",
      "    <dcterms:creator>Jane Austen</dcterms:creator>\n",
      "    <dcterms:created rdf:datatype=\"http://www.w3.org/2001/XMLSchema#date\">1813</dcterms:created>\n",
      "    <dcterms:hasVersion rdf:resource=\"https://standardebooks.org/ebooks/jane-austen/pride-and-prejudice\"/>\n",
      "    <dcterms:subject xml:lang=\"en\">novel of manners; courtship; England; economics of marriage; romance; enemies-to-lovers</dcterms:subject>\n",
      "  </rdf:Description>\n",
      "  <rdf:Description rdf:about=\"http://id.loc.gov/authorities/names/n79032879\">\n",
      "    <rdfs:label>Austen, Jane, 1775-1817</rdfs:label>\n",
      "    <wdtprop:P31 rdf:resource=\"https://www.wikidata.org/wiki/Q5\"/>\n",
      "    <wdtprop:P800 rdf:resource=\"https://www.wikidata.org/wiki/Q170583\"/>\n",
      "  </rdf:Description>\n",
      "  <rdf:Description rdf:about=\"https://standardebooks.org/ebooks/jane-austen/pride-and-prejudice\">\n",
      "    <dcterms:isVersionOf rdf:resource=\"http://id.loc.gov/authorities/names/n2002041181\"/>\n",
      "    <dcterms:identifier rdf:nodeID=\"N5edcc29fb2fc454694d81bea90b07d81\"/>\n",
      "    <dcterms:rights rdf:resource=\"https://creativecommons.org/publicdomain/zero/1.0/\"/>\n",
      "    <dcterms:publisher xml:lang=\"en\">Standard Ebooks</dcterms:publisher>\n",
      "    <dcterms:description xml:lang=\"en\">Pride and Prejudice may today be one of Jane Austen’s most enduring novels, having been widely adapted to stage, screen, and other media since its publication in 1813. The novel tells the tale of five unmarried sisters and how their lives change when a wealthy eligible bachelor moves in to their neighborhood.</dcterms:description>\n",
      "    <dcterms:title xml:lang=\"en\">Pride and Prejudice</dcterms:title>\n",
      "    <dcterms:type rdf:resource=\"http://purl.org/dc/dcmitype/Text\"/>\n",
      "    <dcterms:format>epub</dcterms:format>\n",
      "  </rdf:Description>\n",
      "</rdf:RDF>\n",
      "\n"
     ]
    }
   ],
   "source": [
    "# print the graph in RDF XML\n",
    "print(basicDCgraph.serialize(format=\"xml\"))"
   ]
  },
  {
   "cell_type": "code",
   "execution_count": 13,
   "id": "d139fe40",
   "metadata": {},
   "outputs": [
    {
     "name": "stdout",
     "output_type": "stream",
     "text": [
      "<http://id.loc.gov/authorities/names/n2002041181> <http://id.loc.gov/ontologies/bibframe/Work> \"Pride & Prejudice\"@en .\n",
      "<http://id.loc.gov/authorities/names/n79032879> <https://www.wikidata.org/wiki/Property:P800> <https://www.wikidata.org/wiki/Q170583> .\n",
      "<https://standardebooks.org/ebooks/jane-austen/pride-and-prejudice> <http://purl.org/dc/terms/isVersionOf> <http://id.loc.gov/authorities/names/n2002041181> .\n",
      "<http://id.loc.gov/authorities/names/n2002041181> <http://purl.org/dc/terms/creator> \"Jane Austen\" .\n",
      "<https://standardebooks.org/ebooks/jane-austen/pride-and-prejudice> <http://purl.org/dc/terms/type> <http://purl.org/dc/dcmitype/Text> .\n",
      "<http://id.loc.gov/authorities/names/n2002041181> <https://www.wikidata.org/wiki/Property:P31> <https://www.wikidata.org/wiki/Q7725634> .\n",
      "<http://id.loc.gov/authorities/names/n2002041181> <http://purl.org/dc/terms/created> \"1813\"^^<http://www.w3.org/2001/XMLSchema#date> .\n",
      "<http://id.loc.gov/authorities/names/n2002041181> <http://purl.org/dc/terms/creator> <http://id.loc.gov/authorities/names/n79032879> .\n",
      "<http://id.loc.gov/authorities/names/n2002041181> <http://purl.org/dc/terms/subject> \"novel of manners; courtship; England; economics of marriage; romance; enemies-to-lovers\"@en .\n",
      "<https://standardebooks.org/ebooks/jane-austen/pride-and-prejudice> <http://purl.org/dc/terms/description> \"Pride and Prejudice may today be one of Jane Austen’s most enduring novels, having been widely adapted to stage, screen, and other media since its publication in 1813. The novel tells the tale of five unmarried sisters and how their lives change when a wealthy eligible bachelor moves in to their neighborhood.\"@en .\n",
      "<https://standardebooks.org/ebooks/jane-austen/pride-and-prejudice> <http://purl.org/dc/terms/format> \"epub\" .\n",
      "<https://standardebooks.org/ebooks/jane-austen/pride-and-prejudice> <http://purl.org/dc/terms/publisher> \"Standard Ebooks\"@en .\n",
      "<http://id.loc.gov/authorities/names/n2002041181> <https://www.wikidata.org/wiki/Property:P1476> \"Pride and Prejudice\"@en .\n",
      "<http://id.loc.gov/authorities/names/n2002041181> <http://www.w3.org/2000/01/rdf-schema#label> \"Pride and prejudice\" .\n",
      "<https://standardebooks.org/ebooks/jane-austen/pride-and-prejudice> <http://purl.org/dc/terms/rights> <https://creativecommons.org/publicdomain/zero/1.0/> .\n",
      "<http://id.loc.gov/authorities/names/n79032879> <https://www.wikidata.org/wiki/Property:P31> <https://www.wikidata.org/wiki/Q5> .\n",
      "<http://id.loc.gov/authorities/names/n79032879> <http://www.w3.org/2000/01/rdf-schema#label> \"Austen, Jane, 1775-1817\" .\n",
      "<http://id.loc.gov/authorities/names/n2002041181> <http://purl.org/dc/terms/title> \"Pride and Prejudice\"@en .\n",
      "<https://standardebooks.org/ebooks/jane-austen/pride-and-prejudice> <http://purl.org/dc/terms/identifier> _:N5edcc29fb2fc454694d81bea90b07d81 .\n",
      "<http://id.loc.gov/authorities/names/n2002041181> <http://id.loc.gov/ontologies/bibframe/Work> <https://id.loc.gov/resources/works/15665436.html> .\n",
      "<http://id.loc.gov/authorities/names/n2002041181> <http://purl.org/dc/terms/hasVersion> <https://standardebooks.org/ebooks/jane-austen/pride-and-prejudice> .\n",
      "<https://standardebooks.org/ebooks/jane-austen/pride-and-prejudice> <http://purl.org/dc/terms/title> \"Pride and Prejudice\"@en .\n",
      "\n"
     ]
    }
   ],
   "source": [
    "# print the triples, encoded in UTF-8\n",
    "print(basicDCgraph.serialize(format=\"nt\"))"
   ]
  },
  {
   "cell_type": "markdown",
   "id": "9bacab7a",
   "metadata": {},
   "source": [
    "### Saving the output for export\n",
    "\n",
    "Now, if you want to reuse or export, you can output the graph by adding the \"destination\" argument to the `.serialize()` function:  "
   ]
  },
  {
   "cell_type": "code",
   "execution_count": 14,
   "id": "29e6f59a",
   "metadata": {},
   "outputs": [
    {
     "data": {
      "text/plain": [
       "<Graph identifier=N006288ed4a294248a5d0b1fab3bab05c (<class 'rdflib.graph.Graph'>)>"
      ]
     },
     "execution_count": 14,
     "metadata": {},
     "output_type": "execute_result"
    }
   ],
   "source": [
    "basicDCgraph.serialize(format=\"xml\", destination=\"pride-and-prejudice-rdf.xml\")"
   ]
  },
  {
   "cell_type": "code",
   "execution_count": 15,
   "id": "d9f5cd46",
   "metadata": {},
   "outputs": [
    {
     "data": {
      "text/plain": [
       "<Graph identifier=N006288ed4a294248a5d0b1fab3bab05c (<class 'rdflib.graph.Graph'>)>"
      ]
     },
     "execution_count": 15,
     "metadata": {},
     "output_type": "execute_result"
    }
   ],
   "source": [
    "basicDCgraph.serialize(format=\"json-ld\", destination=\"pride-and-prejudice.json\")"
   ]
  }
 ],
 "metadata": {
  "kernelspec": {
   "display_name": "3.12.0",
   "language": "python",
   "name": "python3"
  },
  "language_info": {
   "codemirror_mode": {
    "name": "ipython",
    "version": 3
   },
   "file_extension": ".py",
   "mimetype": "text/x-python",
   "name": "python",
   "nbconvert_exporter": "python",
   "pygments_lexer": "ipython3",
   "version": "3.12.0"
  }
 },
 "nbformat": 4,
 "nbformat_minor": 5
}
