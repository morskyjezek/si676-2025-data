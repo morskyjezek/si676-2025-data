{
 "cells": [
  {
   "cell_type": "markdown",
   "id": "79e7c615",
   "metadata": {},
   "source": [
    "# Using Python to Generate XML for Basic Dublin Core\n",
    "\n",
    "This notebook provides an example of how to go about \n",
    "creating Python code that can create valid XML for a\n",
    "basic DublinCore record. \n",
    "\n",
    "The example works through some of the steps to create DublinCore\n",
    "statements about an edition of Jane Austen's _Pride and Prejudice_\n",
    "published by Standard Ebooks, which you can find at <https://standardebooks.org/ebooks/jane-austen/pride-and-prejudice>.\n",
    "\n",
    "## Set up\n",
    "\n",
    "This example was created using Python 3.12.0 and the `lxml` library. \n",
    "The `lxml` library extends the `ETree` library, which is available\n",
    "as part of the standard python distribution. \n",
    "The following is the recommended import for `lxml`.\n",
    "If it doesn't seem to be working, you can run `pip install lxml` to\n",
    "add `lxml` (see <https://pypi.org/project/lxml/>). "
   ]
  },
  {
   "cell_type": "code",
   "execution_count": 1,
   "id": "79da1989",
   "metadata": {},
   "outputs": [
    {
     "name": "stdout",
     "output_type": "stream",
     "text": [
      "running with lxml.etree\n"
     ]
    }
   ],
   "source": [
    "from pathlib import Path\n",
    "try:\n",
    "    from lxml import etree\n",
    "    print(\"running with lxml.etree\")\n",
    "except ImportError:\n",
    "    import xml.etree.ElementTree as etree\n",
    "    print(\"running with Python's xml.etree.ElementTree\")\n",
    "from lxml.builder import ElementMaker"
   ]
  },
  {
   "cell_type": "markdown",
   "id": "41c4dc80",
   "metadata": {},
   "source": [
    "Note that if you see \"running with Python's xml.etree.ElementTree\"\n",
    "when you run the above cell, some of the functionalities later on may differ.\n",
    "\n",
    "## Set up an element structure\n",
    "\n",
    "This gets ready to build an XML structure using `metadata` as the root element."
   ]
  },
  {
   "cell_type": "code",
   "execution_count": 2,
   "id": "4f07aa05",
   "metadata": {},
   "outputs": [],
   "source": [
    "ns = {\n",
    "    'ex': 'http://www.example.org/',\n",
    "    'dcterms': 'http://purl.org/dc/terms/',\n",
    "    'rdf': 'https://www.w3.org/1999/02/22-rdf-syntax-ns#',\n",
    "    'rdfs': 'https://www.w3.org/2000/01/rdf-schema#',\n",
    "    'xsd': 'http://www.w3.org/2001/XMLSchema#'\n",
    "}"
   ]
  },
  {
   "cell_type": "code",
   "execution_count": 3,
   "id": "8243b153",
   "metadata": {},
   "outputs": [
    {
     "name": "stdout",
     "output_type": "stream",
     "text": [
      "No file located\n"
     ]
    }
   ],
   "source": [
    "fpath_simple_dc_record = Path('..','data','simple_dc_record.xml')\n",
    "\n",
    "if fpath_simple_dc_record.is_file():\n",
    "    print('You have already saved some DublinCore metadata!')\n",
    "else:\n",
    "    print('No file located')"
   ]
  },
  {
   "cell_type": "markdown",
   "id": "b7d3cb1c",
   "metadata": {},
   "source": [
    "## Build XML using etree Element and SubElement\n",
    "\n",
    "Recall that elements are the basic building block of XML.\n",
    "Elements \"know\" what child elements belong to them, so they can have\n",
    "SubElements, so it is possible to write from the root element through\n",
    "subsequent elements you want to add."
   ]
  },
  {
   "cell_type": "code",
   "execution_count": 4,
   "id": "5a040ab8",
   "metadata": {},
   "outputs": [],
   "source": [
    "metadata = etree.Element(f'{{{ns['ex']}}}metadata', nsmap=ns)"
   ]
  },
  {
   "cell_type": "markdown",
   "id": "2e980ee8",
   "metadata": {},
   "source": [
    "Now, build up the XML elements by creating SubElements that depend on `metadata`."
   ]
  },
  {
   "cell_type": "code",
   "execution_count": 5,
   "id": "24af17f2",
   "metadata": {},
   "outputs": [],
   "source": [
    "# Create title element\n",
    "title = etree.SubElement(metadata, f'{{{ns['dcterms']}}}title')\n",
    "title.text = \"Pride and Prejudice\"\n",
    "\n",
    "# creator element\n",
    "creator = etree.SubElement(metadata, f\"{{{ns['dcterms']}}}creator\")\n",
    "creator.text = \"Jane Austen\"\n",
    "\n",
    "# subjects\n",
    "subjects = ['fiction', 'novel', 'romance', 'England', 'enemies-to-lovers']\n",
    "for subject in subjects:\n",
    "  subj_elem = etree.SubElement(metadata, f'{{{ns['dcterms']}}}subject')\n",
    "  subj_elem.text = subject\n",
    "\n",
    "# description\n",
    "description = etree.SubElement(metadata, f'{{{ns['dcterms']}}}description')\n",
    "description.text = 'Pride and Prejudice may today be one of Jane Austen’s most enduring novels, having been widely adapted to stage, screen, and other media since its publication in 1813. The novel tells the tale of five unmarried sisters and how their lives change when a wealthy eligible bachelor moves in to their neighborhood.'\n",
    "\n",
    "# publisher, note usage of .set to add a datatype attribute\n",
    "publisher = etree.SubElement(metadata, f'{{{ns['dcterms']}}}publisher')\n",
    "publisher.set(f'{{{ns['rdf']}}}datatype', f'{{{ns['rdfs']}}}Literal')\n",
    "publisher.text = 'Standard Ebooks'\n",
    "\n",
    "# date, note usage of set to add datatype but from \n",
    "date = etree.SubElement(metadata, f'{{{ns['dcterms']}}}date')\n",
    "date.set(f'{{{ns['rdf']}}}datatype', f'{{{ns['xsd']}}}date')\n",
    "date.text = '1813'\n",
    "\n",
    "# type\n",
    "type = etree.SubElement(metadata, f'{{{ns['dcterms']}}}type')\n",
    "type.text = 'Text'\n",
    "\n",
    "# format\n",
    "format = etree.SubElement(metadata, f'{{{ns['dcterms']}}}format')\n",
    "format = 'epub'"
   ]
  },
  {
   "cell_type": "markdown",
   "id": "dca374f7",
   "metadata": {},
   "source": [
    "Working on your own, construct and add the following to the tree:"
   ]
  },
  {
   "cell_type": "markdown",
   "id": "e2ca575e",
   "metadata": {},
   "source": [
    "```yaml\n",
    "identifier: \n",
    "  - https://www.gutenberg.org/ebooks/42671\n",
    "  - https://catalog.hathitrust.org/Record/000429470\n",
    "source: \"https://www.gutenberg.org/ebooks/42671\"\n",
    "language: \"en\"\n",
    "rights: \"https://creativecommons.org/publicdomain/zero/1.0/\"\n",
    "```"
   ]
  },
  {
   "cell_type": "markdown",
   "id": "e82b436c",
   "metadata": {},
   "source": [
    "# identifier\n",
    "\n",
    "# source\n",
    "\n",
    "# language\n",
    "\n",
    "# rights"
   ]
  },
  {
   "cell_type": "markdown",
   "id": "a1f867cc",
   "metadata": {},
   "source": [
    "Assign the Element to an ElementTree, which creates a full XML object with a root element that can be written to a file:"
   ]
  },
  {
   "cell_type": "code",
   "execution_count": 6,
   "id": "28048019",
   "metadata": {},
   "outputs": [
    {
     "name": "stdout",
     "output_type": "stream",
     "text": [
      "wrote your metadata!\n"
     ]
    }
   ],
   "source": [
    "tree = etree.ElementTree(metadata)\n",
    "tree.write(fpath_simple_dc_record,\n",
    "                pretty_print=True,\n",
    "                xml_declaration=True,\n",
    "                encoding='utf-8')\n",
    "\n",
    "if fpath_simple_dc_record.is_file():\n",
    "    print('wrote your metadata!')"
   ]
  },
  {
   "cell_type": "markdown",
   "id": "b8835081",
   "metadata": {},
   "source": [
    "To view the \"pretty printed\" object, assign it to a variable and use a print statement thus:"
   ]
  },
  {
   "cell_type": "code",
   "execution_count": 7,
   "id": "d57afc7d",
   "metadata": {},
   "outputs": [
    {
     "name": "stdout",
     "output_type": "stream",
     "text": [
      "<ex:metadata xmlns:ex=\"http://www.example.org/\" xmlns:dcterms=\"http://purl.org/dc/terms/\" xmlns:rdf=\"https://www.w3.org/1999/02/22-rdf-syntax-ns#\" xmlns:rdfs=\"https://www.w3.org/2000/01/rdf-schema#\" xmlns:xsd=\"http://www.w3.org/2001/XMLSchema#\">\n",
      "  <dcterms:title>Pride and Prejudice</dcterms:title>\n",
      "  <dcterms:creator>Jane Austen</dcterms:creator>\n",
      "  <dcterms:subject>fiction</dcterms:subject>\n",
      "  <dcterms:subject>novel</dcterms:subject>\n",
      "  <dcterms:subject>romance</dcterms:subject>\n",
      "  <dcterms:subject>England</dcterms:subject>\n",
      "  <dcterms:subject>enemies-to-lovers</dcterms:subject>\n",
      "  <dcterms:description>Pride and Prejudice may today be one of Jane Austen’s most enduring novels, having been widely adapted to stage, screen, and other media since its publication in 1813. The novel tells the tale of five unmarried sisters and how their lives change when a wealthy eligible bachelor moves in to their neighborhood.</dcterms:description>\n",
      "  <dcterms:publisher rdf:datatype=\"{https://www.w3.org/2000/01/rdf-schema#}Literal\">Standard Ebooks</dcterms:publisher>\n",
      "  <dcterms:date rdf:datatype=\"{http://www.w3.org/2001/XMLSchema#}date\">1813</dcterms:date>\n",
      "  <dcterms:type>Text</dcterms:type>\n",
      "  <dcterms:format/>\n",
      "</ex:metadata>\n"
     ]
    }
   ],
   "source": [
    "XML_metadata_object = etree.tostring(metadata, pretty_print=True, encoding='utf-8')\n",
    "print(XML_metadata_object.decode(), end='')"
   ]
  },
  {
   "cell_type": "markdown",
   "id": "17a4904f",
   "metadata": {},
   "source": [
    "========== STOP ==========="
   ]
  },
  {
   "cell_type": "markdown",
   "id": "38c8dd6a",
   "metadata": {},
   "source": [
    "## Using `lxml` ElementFactory\n",
    "\n",
    "The following cells uses the `ElementMaker()` function, which is unique\n",
    "to `lxml` (not present in the general `ElementTree` library),\n",
    "to set up element profiles linked to specific namespaces:"
   ]
  },
  {
   "cell_type": "code",
   "execution_count": null,
   "id": "809872a8",
   "metadata": {},
   "outputs": [],
   "source": [
    "metadata = ElementMaker()\n",
    "DCTERM = ElementMaker(namespace=ns['dcterms'], nsmap=ns)"
   ]
  },
  {
   "cell_type": "markdown",
   "id": "f3059add",
   "metadata": {},
   "source": [
    "### Build an XML tree\n",
    "\n",
    "This approach uses the `DCTERM` creator function set up above, which allows you to\n",
    "create individual term entries."
   ]
  },
  {
   "cell_type": "code",
   "execution_count": null,
   "id": "408c5bfa",
   "metadata": {},
   "outputs": [],
   "source": [
    "METADATA = metadata.metadata\n",
    "TITLE = DCTERM.title"
   ]
  },
  {
   "cell_type": "code",
   "execution_count": null,
   "id": "8b0e5a41",
   "metadata": {},
   "outputs": [],
   "source": [
    "my_dc_metadata_record = METADATA(\n",
    "    TITLE('Pride and Prejudice')\n",
    ")"
   ]
  },
  {
   "cell_type": "markdown",
   "id": "ec18b2fd",
   "metadata": {},
   "source": [
    "my_dc_metadata_record"
   ]
  },
  {
   "cell_type": "code",
   "execution_count": null,
   "id": "343bc903",
   "metadata": {},
   "outputs": [],
   "source": [
    "etree.tostring(my_dc_metadata_record)"
   ]
  },
  {
   "cell_type": "code",
   "execution_count": null,
   "id": "b8094991",
   "metadata": {},
   "outputs": [],
   "source": [
    "prettyprint(my_dc_metadata_record, indent='  ')"
   ]
  }
 ],
 "metadata": {
  "kernelspec": {
   "display_name": "3.12.0",
   "language": "python",
   "name": "python3"
  },
  "language_info": {
   "codemirror_mode": {
    "name": "ipython",
    "version": 3
   },
   "file_extension": ".py",
   "mimetype": "text/x-python",
   "name": "python",
   "nbconvert_exporter": "python",
   "pygments_lexer": "ipython3",
   "version": "3.12.0"
  }
 },
 "nbformat": 4,
 "nbformat_minor": 5
}
