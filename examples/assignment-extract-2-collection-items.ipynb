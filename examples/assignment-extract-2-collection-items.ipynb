{
 "cells": [
  {
   "cell_type": "markdown",
   "metadata": {},
   "source": [
    "# Extract (Harvest) Item Metadata and Files\n",
    "\n",
    "This notebook demonstrates the next step in the generalized workflow\n",
    "to develop your reference digital collections. \n",
    "We will walk through each step in class, but you will need to adapt these demonstrations\n",
    "so that they work for your own collections, so this work will also be self-guided.\n",
    "\n",
    "## ETL Workflow\n",
    "\n",
    "The overarching process here follows a generalized \"Extract - Transform - Load\" workflow.This is an abstract model for pulling data from one system, transporting, cleaning, and outputting to another system.\n",
    "While often in reference to database work and data engineering, the goals here are the same for our digital collections:\n",
    "**extract** the metadata from the Library of Congress, change (**transform**) it into structures that makes sense to our collection systems (CollectionBuilder and Omeka),\n",
    "then ingest (**load**) that data and associated content into the systems.\n",
    "\n",
    "## Learning objectives\n",
    "\n",
    "After completing the course assignment, you should: \n",
    "\n",
    "* Have a conceptual and a practical understanding of how collection metadata is made available by a REST API.\n",
    "* Be able to explain the concept of metadata extraction and transformation.\n",
    "* Create a structure for documenting metadata practices in a collection or repository (a Metadata Application Profile) and implement that structure for transformations. \n",
    "* Use programming to work with data supplied by an API in JSON format, to manage and transform useful parts of that data into CSV format.\n",
    "* Create ingest-ready collection metadata that conforms to Dublin Core and other digital collection metadata standards, which can be used to load content into another site (in this case, an Omeka S site). \n",
    "\n",
    "## Introduction: Get Item Metadata and Content\n",
    "\n",
    "This notebook outlines the second steps of the extract process to demonstrate gathering items. In this notebook:\n",
    "\n",
    "**Get item metadata**. Using the list from the previous step (extract collection list), use that as a source to query each item in the collection to get details about it. Save the JSON responses locally so we can extract information from them in the next steps. (In this example, you will create a maximum of 62 item files, but it is likely that some will not be accessible or available. This number may vary when you run this code yourself since the website may have different response rates.)\n",
    "\n",
    "### Setup"
   ]
  },
  {
   "cell_type": "code",
   "execution_count": 1,
   "metadata": {},
   "outputs": [],
   "source": [
    "import csv\n",
    "import json\n",
    "import requests\n",
    "\n",
    "# for working with files\n",
    "import os\n",
    "from os.path import join"
   ]
  },
  {
   "cell_type": "markdown",
   "metadata": {},
   "source": [
    "A helper function to regenerate the collection list from the previously created CSV file."
   ]
  },
  {
   "cell_type": "code",
   "execution_count": 2,
   "metadata": {},
   "outputs": [],
   "source": [
    "def regenerate_collection_list(collection_csv):\n",
    "    \"\"\"\n",
    "    Reads a CSV file and returns the data as a dictionary.\n",
    "    \n",
    "    Parameters:\n",
    "    collection_csv (str): The path to the CSV file\n",
    "\n",
    "    Returns:\n",
    "    dict: A dictionary where each key is a column header and each value is a list of column values.\n",
    "    \"\"\"\n",
    "\n",
    "    coll_items = list()\n",
    "\n",
    "    with open(collection_csv, 'r', newline='', encoding='utf-8') as f:\n",
    "        data = csv.DictReader(f)\n",
    "\n",
    "        for row in data:\n",
    "            row_dict = dict()\n",
    "            for field in data.fieldnames:\n",
    "                row_dict[field] = row[field]\n",
    "            coll_items.append(row_dict)\n",
    "\n",
    "        return coll_items"
   ]
  },
  {
   "cell_type": "code",
   "execution_count": 3,
   "metadata": {},
   "outputs": [],
   "source": [
    "collection_csv = os.path.join('..','collection-site-materials','collection_set_list.csv')\n",
    "\n",
    "collection_set_list = regenerate_collection_list(collection_csv)"
   ]
  },
  {
   "cell_type": "code",
   "execution_count": 4,
   "metadata": {},
   "outputs": [
    {
     "data": {
      "text/plain": [
       "{'image': '/static/portals/free-to-use/public-domain/libraries/libraries-1.jpg',\n",
       " 'link': '/resource/cph.3f05183/',\n",
       " 'title': 'For greater knowledge, on more subjects, use your library more often. Illinois WPA Arts Project, 1936-1941. Prints & Photographs Division'}"
      ]
     },
     "execution_count": 4,
     "metadata": {},
     "output_type": "execute_result"
    }
   ],
   "source": [
    "collection_set_list[0]"
   ]
  },
  {
   "cell_type": "markdown",
   "metadata": {},
   "source": [
    "## Get metadata for individual items \n",
    "\n",
    "Now that you have the list of what is in the set, this can serve as your baseline collection information. Next, you want to get more complete information about each item. Details about these items are available on individual item pages, so now we have to look at a different location, as specified in the `'link'` fields of the item list."
   ]
  },
  {
   "cell_type": "code",
   "execution_count": 5,
   "metadata": {},
   "outputs": [],
   "source": [
    "# update baseURL\n",
    "baseURL = 'https://www.loc.gov'\n",
    "parameters = {\n",
    "    'fo' : 'json'\n",
    "}"
   ]
  },
  {
   "cell_type": "markdown",
   "metadata": {},
   "source": [
    "The task now is to request metadata for each item. So that the data is reusable, save it locally as a JSON file. In the next blocks, you will create individual files for each item, which will save to a directory named `item-metadata` in the `collection-site-materials` directory. \n",
    "\n",
    "If you don't have that directory, you will first need to create it. "
   ]
  },
  {
   "cell_type": "code",
   "execution_count": 6,
   "metadata": {},
   "outputs": [
    {
     "name": "stdout",
     "output_type": "stream",
     "text": [
      "../collection-site-materials/item-metadata exists\n"
     ]
    }
   ],
   "source": [
    "# run this cell to confirm that you have a location for the JSON files\n",
    "item_metadata_directory = os.path.join('..','collection-site-materials','item-metadata')\n",
    "\n",
    "if os.path.isdir(item_metadata_directory):\n",
    "    print(item_metadata_directory,'exists')\n",
    "else:\n",
    "    os.mkdir(item_metadata_directory)\n",
    "    print('created',item_metadata_directory)"
   ]
  },
  {
   "cell_type": "markdown",
   "metadata": {},
   "source": [
    "Now, with the `collection_set_list`, use the included links to query the API for metadata for each item:"
   ]
  },
  {
   "cell_type": "code",
   "execution_count": 7,
   "metadata": {},
   "outputs": [
    {
     "name": "stdout",
     "output_type": "stream",
     "text": [
      "requested https://www.loc.gov/resource/cph.3f05183/?fo=json 200\n",
      "wrote ../collection-site-materials/item-metadata/item_metadata-cph.3f05183.json\n",
      "requested https://www.loc.gov/resource/highsm.20336/?fo=json 200\n",
      "wrote ../collection-site-materials/item-metadata/item_metadata-highsm.20336.json\n",
      "requested https://www.loc.gov/resource/fsa.8d24709/?fo=json 200\n",
      "wrote ../collection-site-materials/item-metadata/item_metadata-fsa.8d24709.json\n",
      "requested https://www.loc.gov/resource/highsm.36052/?fo=json 200\n",
      "wrote ../collection-site-materials/item-metadata/item_metadata-highsm.36052.json\n",
      "requested https://www.loc.gov/resource/highsm.51772/?fo=json 200\n",
      "wrote ../collection-site-materials/item-metadata/item_metadata-highsm.51772.json\n",
      "requested https://www.loc.gov/resource/cph.3b43255/?fo=json 200\n",
      "wrote ../collection-site-materials/item-metadata/item_metadata-cph.3b43255.json\n",
      "requested https://www.loc.gov/resource/highsm.20483/?fo=json 200\n",
      "wrote ../collection-site-materials/item-metadata/item_metadata-highsm.20483.json\n",
      "requested https://www.loc.gov/resource/highsm.29207/?fo=json 200\n",
      "wrote ../collection-site-materials/item-metadata/item_metadata-highsm.29207.json\n",
      "requested https://www.loc.gov/resource/fsa.8b32222/?fo=json 200\n",
      "wrote ../collection-site-materials/item-metadata/item_metadata-fsa.8b32222.json\n",
      "requested https://www.loc.gov/resource/highsm.64003/?fo=json 200\n",
      "wrote ../collection-site-materials/item-metadata/item_metadata-highsm.64003.json\n",
      "requested https://www.loc.gov/resource/ppmsca.15412/?fo=json 200\n",
      "wrote ../collection-site-materials/item-metadata/item_metadata-ppmsca.15412.json\n",
      "requested https://www.loc.gov/resource/highsm.49335/?fo=json 200\n",
      "wrote ../collection-site-materials/item-metadata/item_metadata-highsm.49335.json\n",
      "requested https://www.loc.gov/resource/highsm.20497/?fo=json 200\n",
      "wrote ../collection-site-materials/item-metadata/item_metadata-highsm.20497.json\n",
      "requested https://www.loc.gov/resource/npcc.28724/?fo=json 200\n",
      "wrote ../collection-site-materials/item-metadata/item_metadata-npcc.28724.json\n",
      "requested https://www.loc.gov/resource/ds.06560/?fo=json 200\n",
      "wrote ../collection-site-materials/item-metadata/item_metadata-ds.06560.json\n",
      "requested https://www.loc.gov/resource/hhh.hi0135.photos?fo=json 200\n",
      "wrote ../collection-site-materials/item-metadata/item_metadata-hhh.hi0135.photos.json\n",
      "requested https://www.loc.gov/resource/cph.3f05168/?fo=json 200\n",
      "wrote ../collection-site-materials/item-metadata/item_metadata-cph.3f05168.json\n",
      "requested https://www.loc.gov/resource/ppmsca.15375/?fo=json 200\n",
      "wrote ../collection-site-materials/item-metadata/item_metadata-ppmsca.15375.json\n",
      "requested https://www.loc.gov/resource/highsm.53335/?fo=json 200\n",
      "wrote ../collection-site-materials/item-metadata/item_metadata-highsm.53335.json\n",
      "requested https://www.loc.gov/resource/hhh.ks0072.photos/?sp=2&fo=json 200\n",
      "wrote ../collection-site-materials/item-metadata/item_metadata-hhh.ks0072.photos.json\n",
      "requested https://www.loc.gov/resource/highsm.34640/?fo=json 200\n",
      "wrote ../collection-site-materials/item-metadata/item_metadata-highsm.34640.json\n",
      "requested https://www.loc.gov/item/97517380/ 403\n",
      "requested https://www.loc.gov/item/97517380/ 403\n",
      "requested https://www.loc.gov/resource/ppmsca.18016/?fo=json 200\n",
      "wrote ../collection-site-materials/item-metadata/item_metadata-ppmsca.18016.json\n",
      "requested https://www.loc.gov/resource/hhh.me0057.photos/?sp=1&fo=json 200\n",
      "wrote ../collection-site-materials/item-metadata/item_metadata-hhh.me0057.photos.json\n",
      "requested https://www.loc.gov/resource/highsm.41101/?fo=json 200\n",
      "wrote ../collection-site-materials/item-metadata/item_metadata-highsm.41101.json\n",
      "requested https://www.loc.gov/resource/det.4a17925/?fo=json 200\n",
      "wrote ../collection-site-materials/item-metadata/item_metadata-det.4a17925.json\n",
      "requested https://www.loc.gov/resource/ppmsca.15426/?fo=json 200\n",
      "wrote ../collection-site-materials/item-metadata/item_metadata-ppmsca.15426.json\n",
      "requested https://www.loc.gov/resource/ppmscd.00084/?fo=json 200\n",
      "wrote ../collection-site-materials/item-metadata/item_metadata-ppmscd.00084.json\n",
      "requested https://www.loc.gov/resource/highsm.18384/?fo=json 200\n",
      "wrote ../collection-site-materials/item-metadata/item_metadata-highsm.18384.json\n",
      "requested https://www.loc.gov/resource/g3851e.ct006252/?fo=json 200\n",
      "wrote ../collection-site-materials/item-metadata/item_metadata-g3851e.ct006252.json\n",
      "requested https://www.loc.gov/resource/ppmsca.35590/?fo=json 200\n",
      "wrote ../collection-site-materials/item-metadata/item_metadata-ppmsca.35590.json\n",
      "requested https://www.loc.gov/resource/hhh.il0998.sheet/?sp=1&fo=json 200\n",
      "wrote ../collection-site-materials/item-metadata/item_metadata-hhh.il0998.sheet.json\n",
      "requested https://www.loc.gov/resource/hhh.ok0012.sheet/?sp=8&q=hhh.ok0012&fo=json 200\n",
      "wrote ../collection-site-materials/item-metadata/item_metadata-hhh.ok0012.sheet.json\n",
      "requested https://www.loc.gov/resource/hhh.sc0767.photos/?sp=1&fo=json 200\n",
      "wrote ../collection-site-materials/item-metadata/item_metadata-hhh.sc0767.photos.json\n",
      "requested https://www.loc.gov/resource/hhh.nj0089.photos/?sp=4&fo=json 200\n",
      "wrote ../collection-site-materials/item-metadata/item_metadata-hhh.nj0089.photos.json\n",
      "requested https://www.loc.gov/resource/highsm.31350/?fo=json 200\n",
      "wrote ../collection-site-materials/item-metadata/item_metadata-highsm.31350.json\n",
      "requested https://www.loc.gov/resource/hhh.ri0071.photos/?sp=8&fo=json 200\n",
      "wrote ../collection-site-materials/item-metadata/item_metadata-hhh.ri0071.photos.json\n",
      "requested https://www.loc.gov/resource/highsm.48241/?fo=json 200\n",
      "wrote ../collection-site-materials/item-metadata/item_metadata-highsm.48241.json\n",
      "requested https://www.loc.gov/resource/det.4a23603/?fo=json 200\n",
      "wrote ../collection-site-materials/item-metadata/item_metadata-det.4a23603.json\n",
      "requested https://www.loc.gov/resource/highsm.04362/?fo=json 200\n",
      "wrote ../collection-site-materials/item-metadata/item_metadata-highsm.04362.json\n",
      "requested https://www.loc.gov/resource/hhh.dc0121.photos/?sp=24&fo=json 200\n",
      "wrote ../collection-site-materials/item-metadata/item_metadata-hhh.dc0121.photos.json\n",
      "requested https://www.loc.gov/resource/ppbd.00600/?fo=json 200\n",
      "wrote ../collection-site-materials/item-metadata/item_metadata-ppbd.00600.json\n",
      "requested https://www.loc.gov/resource/fsa.8b14169/?fo=json 200\n",
      "wrote ../collection-site-materials/item-metadata/item_metadata-fsa.8b14169.json\n",
      "requested https://www.loc.gov/resource/highsm.32720/?fo=json 200\n",
      "wrote ../collection-site-materials/item-metadata/item_metadata-highsm.32720.json\n",
      "requested https://www.loc.gov/resource/fsa.8c22565/?fo=json 200\n",
      "wrote ../collection-site-materials/item-metadata/item_metadata-fsa.8c22565.json\n",
      "requested https://www.loc.gov/resource/mrg.00785/?fo=json 200\n",
      "wrote ../collection-site-materials/item-metadata/item_metadata-mrg.00785.json\n",
      "requested https://www.loc.gov/resource/hhh.ak0345.photos/?sp=2&fo=json 200\n",
      "wrote ../collection-site-materials/item-metadata/item_metadata-hhh.ak0345.photos.json\n",
      "requested https://www.loc.gov/resource/highsm.43863/?fo=json 200\n",
      "wrote ../collection-site-materials/item-metadata/item_metadata-highsm.43863.json\n",
      "requested https://www.loc.gov/resource/highsm.42123/?fo=json 200\n",
      "wrote ../collection-site-materials/item-metadata/item_metadata-highsm.42123.json\n",
      "requested https://www.loc.gov/resource/cph.3c18157/?fo=json 200\n",
      "wrote ../collection-site-materials/item-metadata/item_metadata-cph.3c18157.json\n",
      "requested https://www.loc.gov/resource/ds.06507/?fo=json 200\n",
      "wrote ../collection-site-materials/item-metadata/item_metadata-ds.06507.json\n",
      "requested https://www.loc.gov/resource/highsm.24333/?fo=json 200\n",
      "wrote ../collection-site-materials/item-metadata/item_metadata-highsm.24333.json\n",
      "requested https://www.loc.gov/resource/mrg.00788/?fo=json 200\n",
      "wrote ../collection-site-materials/item-metadata/item_metadata-mrg.00788.json\n",
      "requested https://www.loc.gov/resource/highsm.20216/?fo=json 200\n",
      "wrote ../collection-site-materials/item-metadata/item_metadata-highsm.20216.json\n",
      "requested https://www.loc.gov/resource/cph.3b41963/?fo=json 200\n",
      "wrote ../collection-site-materials/item-metadata/item_metadata-cph.3b41963.json\n",
      "requested https://www.loc.gov/resource/mrg.00432/?fo=json 200\n",
      "wrote ../collection-site-materials/item-metadata/item_metadata-mrg.00432.json\n",
      "requested https://www.loc.gov/item/93510022/ 403\n",
      "requested https://www.loc.gov/item/93510022/ 403\n",
      "requested https://www.loc.gov/resource/highsm.60215/?fo=json 200\n",
      "wrote ../collection-site-materials/item-metadata/item_metadata-highsm.60215.json\n",
      "requested https://www.loc.gov/item/2007684180/ 403\n",
      "requested https://www.loc.gov/item/2007684180/ 403\n",
      "requested https://www.loc.gov/resource/highsm.50410/?fo=json 200\n",
      "wrote ../collection-site-materials/item-metadata/item_metadata-highsm.50410.json\n",
      "requested https://www.loc.gov/resource/hhh.nv0134.photos?fo=json 200\n",
      "wrote ../collection-site-materials/item-metadata/item_metadata-hhh.nv0134.photos.json\n",
      "requested https://www.loc.gov/resource/highsm.18402?fo=json 200\n",
      "wrote ../collection-site-materials/item-metadata/item_metadata-highsm.18402.json\n",
      "--- mini LOG ---\n",
      "items requested: 59\n",
      "errors: 3\n",
      "files written: 59\n"
     ]
    }
   ],
   "source": [
    "item_count = 0\n",
    "error_count = 0\n",
    "file_count = 0\n",
    "\n",
    "data_directory = 'collection-site-materials'\n",
    "item_metadata_directory = 'item-metadata'\n",
    "item_metadata_file_prefix = 'item_metadata'\n",
    "json_suffix = '.json'\n",
    "\n",
    "for item in collection_set_list:\n",
    "    if item['link'] == 'link':\n",
    "        continue\n",
    "    # these resource links could redirect to item pages, but currently don't work\n",
    "    if '?' in item['link']:\n",
    "        resource_ID = item['link']\n",
    "        short_ID = item['link'].split('/')[2]\n",
    "        item_metadata = requests.get(baseURL + resource_ID, params={'fo':'json'})\n",
    "        print('requested',item_metadata.url,item_metadata.status_code)\n",
    "        if item_metadata.status_code != 200:\n",
    "            print('requested',item_metadata.url,item_metadata.status_code)\n",
    "            error_count += 1\n",
    "            continue\n",
    "        try:\n",
    "            item_metadata.json()\n",
    "        except: #basically this catches all of the highsmith photos with hhh in the ID\n",
    "            error_count += 1\n",
    "            print('no json found')\n",
    "            continue\n",
    "        fout = os.path.join('..',data_directory, item_metadata_directory, str(item_metadata_file_prefix + '-' + short_ID + json_suffix))\n",
    "        with open(fout, 'w', encoding='utf-8') as json_file:\n",
    "            json_file.write(json.dumps(item_metadata.json()['item']))\n",
    "            file_count += 1\n",
    "            print('wrote', fout)\n",
    "        item_count += 1\n",
    "    else:\n",
    "        resource_ID = item['link']\n",
    "        short_ID = item['link'].split('/')[2]\n",
    "        item_metadata = requests.get(baseURL + resource_ID, params={'fo':'json'})\n",
    "        print('requested',item_metadata.url,item_metadata.status_code)\n",
    "        if item_metadata.status_code != 200:\n",
    "            print('requested',item_metadata.url,item_metadata.status_code)\n",
    "            error_count += 1\n",
    "            continue\n",
    "        try:\n",
    "            item_metadata.json()\n",
    "        except:\n",
    "            error_count += 1\n",
    "            print('no json found')\n",
    "            continue\n",
    "        fout = os.path.join('..',data_directory, item_metadata_directory, str(item_metadata_file_prefix + '-' + short_ID + json_suffix))\n",
    "        with open(fout, 'w', encoding='utf-8') as json_file:\n",
    "            json_file.write(json.dumps(item_metadata.json()['item']))\n",
    "            file_count += 1\n",
    "            print('wrote', fout)\n",
    "        item_count += 1\n",
    "\n",
    "print('--- mini LOG ---')\n",
    "print('items requested:',item_count)\n",
    "print('errors:',error_count)\n",
    "print('files written:',file_count)"
   ]
  },
  {
   "cell_type": "markdown",
   "metadata": {},
   "source": [
    "## Get files for items\n",
    "\n",
    "This section uses the file processing libraries and saves an image file for each item.\n",
    "\n",
    "First, check to confirm that there is a directory in the `collection-site-materials` folder:"
   ]
  },
  {
   "cell_type": "code",
   "execution_count": 8,
   "metadata": {},
   "outputs": [
    {
     "name": "stdout",
     "output_type": "stream",
     "text": [
      "Checking for /Users/jajohnst/Desktop/si676-2025-data/collection-site-materials/item-files\n",
      "Files directory exists\n"
     ]
    }
   ],
   "source": [
    "main_dir = os.path.join('/','Users','jajohnst','Desktop','si676-2025-data')\n",
    "project_dir = 'collection-site-materials'\n",
    "files_dir = 'item-files'\n",
    "metadata_dir = 'item-metadata'\n",
    "\n",
    "files_loc = os.path.join(main_dir,project_dir,files_dir)\n",
    "print('Checking for',files_loc)\n",
    "\n",
    "# check directory\n",
    "if os.path.isdir(files_loc):\n",
    "    print('Files directory exists')\n",
    "else:\n",
    "    os.mkdir(files_loc)\n",
    "    print('Created file directory:',files_loc)"
   ]
  },
  {
   "cell_type": "markdown",
   "metadata": {},
   "source": [
    "Now, since you have the local files, it is no longer necessary to\n",
    "harvest the data using requests. You can use the `glob` library to\n",
    "search for files with filters and wildcards similar to the `ls` command. "
   ]
  },
  {
   "cell_type": "code",
   "execution_count": 9,
   "metadata": {},
   "outputs": [],
   "source": [
    "import glob"
   ]
  },
  {
   "cell_type": "markdown",
   "metadata": {},
   "source": [
    "Create a list of the item metadata files:"
   ]
  },
  {
   "cell_type": "code",
   "execution_count": 10,
   "metadata": {},
   "outputs": [
    {
     "name": "stdout",
     "output_type": "stream",
     "text": [
      "../collection-site-materials/item-metadata\n",
      "['../collection-site-materials/item-metadata/item_metadata-cph.3c18157.json', '../collection-site-materials/item-metadata/item_metadata-ppbd.00600.json', '../collection-site-materials/item-metadata/item_metadata-mrg.00785.json', '../collection-site-materials/item-metadata/item_metadata-cph.3f05183.json', '../collection-site-materials/item-metadata/item_metadata-g3851e.ct006252.json', '../collection-site-materials/item-metadata/item_metadata-highsm.43863.json', '../collection-site-materials/item-metadata/item_metadata-ppmsca.18016.json', '../collection-site-materials/item-metadata/item_metadata-highsm.20497.json', '../collection-site-materials/item-metadata/item_metadata-fsa.8b14169.json', '../collection-site-materials/item-metadata/item_metadata-ppmsca.35590.json', '../collection-site-materials/item-metadata/item_metadata-mrg.00788.json', '../collection-site-materials/item-metadata/item_metadata-highsm.34640.json', '../collection-site-materials/item-metadata/item_metadata-highsm.20336.json', '../collection-site-materials/item-metadata/item_metadata-fsa.8c22565.json', '../collection-site-materials/item-metadata/item_metadata-cph.3b41963.json', '../collection-site-materials/item-metadata/item_metadata-ppmsca.15412.json', '../collection-site-materials/item-metadata/item_metadata-highsm.32720.json', '../collection-site-materials/item-metadata/item_metadata-mrg.00432.json', '../collection-site-materials/item-metadata/item_metadata-hhh.hi0135.photos.json', '../collection-site-materials/item-metadata/item_metadata-hhh.il0998.sheet.json', '../collection-site-materials/item-metadata/item_metadata-det.4a17925.json', '../collection-site-materials/item-metadata/item_metadata-highsm.24333.json', '../collection-site-materials/item-metadata/item_metadata-ppmscd.00084.json', '../collection-site-materials/item-metadata/item_metadata-hhh.ks0072.photos.json', '../collection-site-materials/item-metadata/item_metadata-highsm.64003.json', '../collection-site-materials/item-metadata/item_metadata-highsm.41101.json', '../collection-site-materials/item-metadata/item_metadata-highsm.31350.json', '../collection-site-materials/item-metadata/item_metadata-hhh.ok0012.sheet.json', '../collection-site-materials/item-metadata/item_metadata-hhh.sc0767.photos.json', '../collection-site-materials/item-metadata/item_metadata-hhh.ri0071.photos.json', '../collection-site-materials/item-metadata/item_metadata-cph.3b43255.json', '../collection-site-materials/item-metadata/item_metadata-hhh.me0057.photos.json', '../collection-site-materials/item-metadata/item_metadata-highsm.36052.json', '../collection-site-materials/item-metadata/item_metadata-highsm.60215.json', '../collection-site-materials/item-metadata/item_metadata-cph.3f05168.json', '../collection-site-materials/item-metadata/item_metadata-ds.06507.json', '../collection-site-materials/item-metadata/item_metadata-highsm.51772.json', '../collection-site-materials/item-metadata/item_metadata-highsm.18402.json', '../collection-site-materials/item-metadata/item_metadata-ppmsca.15375.json', '../collection-site-materials/item-metadata/item_metadata-hhh.nv0134.photos.json', '../collection-site-materials/item-metadata/item_metadata-highsm.20216.json', '../collection-site-materials/item-metadata/item_metadata-highsm.49335.json', '../collection-site-materials/item-metadata/item_metadata-highsm.04362.json', '../collection-site-materials/item-metadata/item_metadata-npcc.28724.json', '../collection-site-materials/item-metadata/item_metadata-highsm.29207.json', '../collection-site-materials/item-metadata/item_metadata-det.4a23603.json', '../collection-site-materials/item-metadata/item_metadata-ds.06560.json', '../collection-site-materials/item-metadata/item_metadata-hhh.ak0345.photos.json', '../collection-site-materials/item-metadata/item_metadata-hhh.nj0089.photos.json', '../collection-site-materials/item-metadata/item_metadata-highsm.20483.json', '../collection-site-materials/item-metadata/item_metadata-highsm.50410.json', '../collection-site-materials/item-metadata/item_metadata-fsa.8b32222.json', '../collection-site-materials/item-metadata/item_metadata-highsm.18384.json', '../collection-site-materials/item-metadata/item_metadata-ppmsca.15426.json', '../collection-site-materials/item-metadata/item_metadata-highsm.48241.json', '../collection-site-materials/item-metadata/item_metadata-fsa.8d24709.json', '../collection-site-materials/item-metadata/item_metadata-highsm.53335.json', '../collection-site-materials/item-metadata/item_metadata-highsm.42123.json', '../collection-site-materials/item-metadata/item_metadata-hhh.dc0121.photos.json']\n"
     ]
    }
   ],
   "source": [
    "search_for_metadata_here = os.path.join('..',project_dir,metadata_dir)\n",
    "\n",
    "print(search_for_metadata_here)\n",
    "\n",
    "metadata_file_list = glob.glob(search_for_metadata_here + '/*.json')\n",
    "\n",
    "print(metadata_file_list)"
   ]
  },
  {
   "cell_type": "markdown",
   "metadata": {},
   "source": [
    "Identify the Image URLs from the stored data:"
   ]
  },
  {
   "cell_type": "code",
   "execution_count": 11,
   "metadata": {},
   "outputs": [
    {
     "name": "stdout",
     "output_type": "stream",
     "text": [
      "Identified 59 image URLs\n"
     ]
    }
   ],
   "source": [
    "item_image_urls = list()\n",
    "count = 0\n",
    "\n",
    "for item in metadata_file_list:\n",
    "    with open(item, 'r', encoding='utf-8') as f:\n",
    "        metadata = json.load(f)\n",
    "        # noted this resource for working out index out of range errors: https://rollbar.com/blog/how-to-fix-python-list-index-out-of-range-error-in-for-loops/\n",
    "        image_url_no = len(metadata['image_url'])\n",
    "        image_url = metadata['image_url'][-1]\n",
    "        item_image_urls.append(image_url)\n",
    "        count += 1\n",
    "\n",
    "print(f'Identified { str(count) } image URLs')"
   ]
  },
  {
   "cell_type": "code",
   "execution_count": 12,
   "metadata": {},
   "outputs": [
    {
     "data": {
      "text/plain": [
       "['https://tile.loc.gov/storage-services/service/pnp/cph/3c10000/3c18000/3c18100/3c18157v.jpg#h=824&w=1024',\n",
       " 'https://tile.loc.gov/storage-services/service/pnp/ppbd/00600/00600v.jpg#h=1024&w=765',\n",
       " 'https://tile.loc.gov/storage-services/service/pnp/mrg/00700/00785v.jpg#h=697&w=1024',\n",
       " 'https://tile.loc.gov/storage-services/service/pnp/cph/3f00000/3f05000/3f05100/3f05183v.jpg#h=1024&w=705',\n",
       " 'https://tile.loc.gov/image-services/iiif/service:gmd:gmd385:g3851:g3851e:ct006252/full/pct:25/0/default.jpg#h=1205&w=1684',\n",
       " 'https://tile.loc.gov/image-services/iiif/service:pnp:highsm:43800:43863/full/pct:25/0/default.jpg#h=2117&w=2822',\n",
       " 'https://tile.loc.gov/storage-services/service/pnp/ppmsca/18000/18016v.jpg#h=755&w=1024',\n",
       " 'https://tile.loc.gov/image-services/iiif/service:pnp:highsm:20400:20497/full/pct:50/0/default.jpg#h=2395&w=2053',\n",
       " 'https://tile.loc.gov/storage-services/service/pnp/fsa/8b14000/8b14100/8b14169v.jpg#h=783&w=1024',\n",
       " 'https://tile.loc.gov/storage-services/service/pnp/ppmsca/35500/35590v.jpg#h=642&w=1024',\n",
       " 'https://tile.loc.gov/storage-services/service/pnp/mrg/00700/00788v.jpg#h=699&w=1024',\n",
       " 'https://tile.loc.gov/image-services/iiif/service:pnp:highsm:34600:34640/full/pct:25/0/default.jpg#h=1113&w=1602',\n",
       " 'https://tile.loc.gov/image-services/iiif/service:pnp:highsm:20300:20336/full/pct:25/0/default.jpg#h=829&w=1540',\n",
       " 'https://tile.loc.gov/storage-services/service/pnp/fsa/8c22000/8c22500/8c22565v.jpg#h=787&w=1024',\n",
       " 'https://tile.loc.gov/storage-services/service/pnp/cph/3b40000/3b41000/3b41900/3b41963v.jpg#h=823&w=1024',\n",
       " 'https://tile.loc.gov/storage-services/service/pnp/ppmsca/15400/15412v.jpg#h=779&w=1024',\n",
       " 'https://tile.loc.gov/image-services/iiif/service:pnp:highsm:32700:32720/full/pct:25/0/default.jpg#h=1029&w=1530',\n",
       " 'https://tile.loc.gov/storage-services/service/pnp/mrg/00400/00432v.jpg#h=709&w=1024',\n",
       " 'https://tile.loc.gov/storage-services/service/pnp/habshaer/hi/hi0100/hi0135/photos/058276pv.jpg#h=733&w=1024',\n",
       " 'https://tile.loc.gov/storage-services/service/pnp/habshaer/il/il0900/il0998/sheet/00001v.jpg#h=678&w=1024',\n",
       " 'https://tile.loc.gov/storage-services/service/pnp/det/4a10000/4a17000/4a17900/4a17925v.jpg#h=814&w=1024',\n",
       " 'https://tile.loc.gov/image-services/iiif/service:pnp:highsm:24300:24333/full/pct:50/0/default.jpg#h=1514&w=1207',\n",
       " 'https://tile.loc.gov/storage-services/service/pnp/ppmscd/00000/00084v.jpg#h=829&w=1024',\n",
       " 'https://tile.loc.gov/storage-services/service/pnp/habshaer/ks/ks0000/ks0072/photos/069905pv.jpg#h=815&w=1024',\n",
       " 'https://tile.loc.gov/storage-services/service/pnp/highsm/64000/64003v.jpg#h=768&w=1024',\n",
       " 'https://tile.loc.gov/image-services/iiif/service:pnp:highsm:41100:41101/full/pct:25/0/default.jpg#h=1448&w=2172',\n",
       " 'https://tile.loc.gov/image-services/iiif/service:pnp:highsm:31300:31350/full/pct:25/0/default.jpg#h=1228&w=1642',\n",
       " 'https://tile.loc.gov/storage-services/service/pnp/habshaer/ok/ok0000/ok0012/photos/129399pv.jpg#h=833&w=1024',\n",
       " 'https://tile.loc.gov/storage-services/service/pnp/habshaer/sc/sc0700/sc0767/color/571307cv.jpg#h=745&w=1024',\n",
       " 'https://tile.loc.gov/storage-services/service/pnp/habshaer/ri/ri0000/ri0071/photos/144412pv.jpg#h=732&w=1024',\n",
       " 'https://tile.loc.gov/storage-services/service/pnp/cph/3b40000/3b43000/3b43200/3b43255r.jpg#h=422&w=640',\n",
       " 'https://tile.loc.gov/storage-services/service/pnp/habshaer/me/me0000/me0057/photos/088141pv.jpg#h=814&w=1024',\n",
       " 'https://tile.loc.gov/image-services/iiif/service:pnp:highsm:36000:36052/full/pct:25/0/default.jpg#h=1448&w=2172',\n",
       " 'https://tile.loc.gov/storage-services/service/pnp/highsm/60200/60215v.jpg#h=741&w=1024',\n",
       " 'https://tile.loc.gov/storage-services/service/pnp/cph/3f00000/3f05000/3f05100/3f05168v.jpg#h=1024&w=708',\n",
       " 'https://tile.loc.gov/storage-services/service/pnp/ds/06500/06507v.jpg#h=826&w=1024',\n",
       " 'https://tile.loc.gov/storage-services/service/pnp/highsm/51700/51772v.jpg#h=570&w=1024',\n",
       " 'https://tile.loc.gov/image-services/iiif/service:pnp:highsm:18400:18402/full/pct:25/0/default.jpg#h=1024&w=1536',\n",
       " 'https://tile.loc.gov/storage-services/service/pnp/ppmsca/15300/15375v.jpg#h=1024&w=823',\n",
       " 'https://tile.loc.gov/storage-services/service/pnp/habshaer/nv/nv0100/nv0134/photos/043970pv.jpg#h=819&w=1024',\n",
       " 'https://tile.loc.gov/image-services/iiif/service:pnp:highsm:20200:20216/full/pct:25/0/default.jpg#h=772&w=1551',\n",
       " 'https://tile.loc.gov/storage-services/service/pnp/highsm/49300/49335v.jpg#h=618&w=1024',\n",
       " 'https://tile.loc.gov/image-services/iiif/service:pnp:highsm:04300:04362/full/pct:25/0/default.jpg#h=1358&w=1810',\n",
       " 'https://tile.loc.gov/storage-services/service/pnp/npcc/28700/28724v.jpg#h=788&w=1024',\n",
       " 'https://tile.loc.gov/image-services/iiif/service:pnp:highsm:29200:29207/full/pct:25/0/default.jpg#h=1840&w=1228',\n",
       " 'https://tile.loc.gov/storage-services/service/pnp/det/4a20000/4a23000/4a23600/4a23603v.jpg#h=820&w=1024',\n",
       " 'https://tile.loc.gov/storage-services/service/pnp/ds/06500/06560v.jpg#h=727&w=1024',\n",
       " 'https://tile.loc.gov/storage-services/service/pnp/habshaer/ak/ak0300/ak0345/photos/033063pv.jpg#h=817&w=1024',\n",
       " 'https://tile.loc.gov/storage-services/service/pnp/habshaer/nj/nj0000/nj0089/photos/107604pv.jpg#h=733&w=1024',\n",
       " 'https://tile.loc.gov/image-services/iiif/service:pnp:highsm:20400:20483/full/pct:25/0/default.jpg#h=1028&w=1536',\n",
       " 'https://tile.loc.gov/storage-services/service/pnp/highsm/50400/50410v.jpg#h=558&w=1024',\n",
       " 'https://tile.loc.gov/storage-services/service/pnp/fsa/8b32000/8b32200/8b32222v.jpg#h=1024&w=963',\n",
       " 'https://tile.loc.gov/image-services/iiif/service:pnp:highsm:18300:18384/full/pct:25/0/default.jpg#h=1940&w=2582',\n",
       " 'https://tile.loc.gov/storage-services/service/pnp/ppmsca/15400/15426v.jpg#h=1024&w=822',\n",
       " 'https://tile.loc.gov/image-services/iiif/service:pnp:highsm:48200:48241/full/pct:25/0/default.jpg#h=2380&w=1945',\n",
       " 'https://tile.loc.gov/storage-services/service/pnp/fsa/8d24000/8d24700/8d24709v.jpg#h=1024&w=976',\n",
       " 'https://tile.loc.gov/storage-services/service/pnp/highsm/53300/53335v.jpg#h=1000&w=1024',\n",
       " 'https://tile.loc.gov/image-services/iiif/service:pnp:highsm:42100:42123/full/pct:25/0/default.jpg#h=1978&w=1398',\n",
       " 'https://tile.loc.gov/storage-services/service/pnp/habshaer/dc/dc0100/dc0121/color/376695cv.jpg#h=1024&w=752']"
      ]
     },
     "execution_count": 12,
     "metadata": {},
     "output_type": "execute_result"
    }
   ],
   "source": [
    "item_image_urls"
   ]
  },
  {
   "cell_type": "markdown",
   "metadata": {},
   "source": [
    "Now, create an updated set list with the image URLs:"
   ]
  },
  {
   "cell_type": "code",
   "execution_count": 13,
   "metadata": {},
   "outputs": [
    {
     "name": "stdout",
     "output_type": "stream",
     "text": [
      "{'item_URI': 'http://www.loc.gov/item/97511671/', 'lccn': '97511671', 'title': 'Carnegie Library, Sheldon, Iowa', 'image_URL_large': 'https://tile.loc.gov/storage-services/service/pnp/cph/3c10000/3c18000/3c18100/3c18157v.jpg#h=824&w=1024'}\n"
     ]
    }
   ],
   "source": [
    "collection_set_list_with_images = list()\n",
    "\n",
    "for item in metadata_file_list:\n",
    "    with open(item, 'r', encoding='utf-8') as item_info:\n",
    "        item_metadata = json.load(item_info)\n",
    "\n",
    "        # add the metadata into a dictionary for each item\n",
    "        item_metadata_dict = dict()\n",
    "        item_metadata_dict['item_URI'] = item_metadata['id']\n",
    "        try:\n",
    "            item_metadata_dict['lccn'] = item_metadata['library_of_congress_control_number']\n",
    "        except:\n",
    "            item_metadata_dict['lccn'] = None\n",
    "        item_metadata_dict['title'] = item_metadata['title']\n",
    "        item_metadata_dict['image_URL_large'] = item_metadata['image_url'][-1]\n",
    "        \n",
    "        # add the metadata to the main list\n",
    "        collection_set_list_with_images.append(item_metadata_dict)\n",
    "\n",
    "print(collection_set_list_with_images[0])"
   ]
  },
  {
   "cell_type": "markdown",
   "metadata": {},
   "source": [
    "Finally, make the image requests:"
   ]
  },
  {
   "cell_type": "code",
   "execution_count": 14,
   "metadata": {},
   "outputs": [
    {
     "name": "stdout",
     "output_type": "stream",
     "text": [
      "... requesting https://tile.loc.gov/storage-services/service/pnp/cph/3c10000/3c18000/3c18100/3c18157v.jpg#h=824&w=1024\n",
      "Saved ../collection-site-materials/item-files/img_97511671.jpg\n",
      "... requesting https://tile.loc.gov/storage-services/service/pnp/ppbd/00600/00600v.jpg#h=1024&w=765\n",
      "Saved ../collection-site-materials/item-files/img_2015647967.jpg\n",
      "... requesting https://tile.loc.gov/storage-services/service/pnp/mrg/00700/00785v.jpg#h=697&w=1024\n",
      "Saved ../collection-site-materials/item-files/img_2017702899.jpg\n",
      "... requesting https://tile.loc.gov/storage-services/service/pnp/cph/3f00000/3f05000/3f05100/3f05183v.jpg#h=1024&w=705\n",
      "Saved ../collection-site-materials/item-files/img_98508155.jpg\n",
      "... requesting https://tile.loc.gov/image-services/iiif/service:gmd:gmd385:g3851:g3851e:ct006252/full/pct:25/0/default.jpg#h=1205&w=1684\n",
      "Saved ../collection-site-materials/item-files/img_87694100.jpg\n",
      "... requesting https://tile.loc.gov/image-services/iiif/service:pnp:highsm:43800:43863/full/pct:25/0/default.jpg#h=2117&w=2822\n",
      "Saved ../collection-site-materials/item-files/img_2017880767.jpg\n",
      "... requesting https://tile.loc.gov/storage-services/service/pnp/ppmsca/18000/18016v.jpg#h=755&w=1024\n",
      "Saved ../collection-site-materials/item-files/img_2008678216.jpg\n",
      "... requesting https://tile.loc.gov/image-services/iiif/service:pnp:highsm:20400:20497/full/pct:50/0/default.jpg#h=2395&w=2053\n",
      "Saved ../collection-site-materials/item-files/img_2012630178.jpg\n",
      "... requesting https://tile.loc.gov/storage-services/service/pnp/fsa/8b14000/8b14100/8b14169v.jpg#h=783&w=1024\n",
      "Saved ../collection-site-materials/item-files/img_2017762724.jpg\n",
      "... requesting https://tile.loc.gov/storage-services/service/pnp/ppmsca/35500/35590v.jpg#h=642&w=1024\n",
      "Saved ../collection-site-materials/item-files/img_96514755.jpg\n",
      "... requesting https://tile.loc.gov/storage-services/service/pnp/mrg/00700/00788v.jpg#h=699&w=1024\n",
      "Saved ../collection-site-materials/item-files/img_2017702902.jpg\n",
      "... requesting https://tile.loc.gov/image-services/iiif/service:pnp:highsm:34600:34640/full/pct:25/0/default.jpg#h=1113&w=1602\n",
      "Saved ../collection-site-materials/item-files/img_2017685123.jpg\n",
      "... requesting https://tile.loc.gov/image-services/iiif/service:pnp:highsm:20300:20336/full/pct:25/0/default.jpg#h=829&w=1540\n",
      "Saved ../collection-site-materials/item-files/img_2012630017.jpg\n",
      "... requesting https://tile.loc.gov/storage-services/service/pnp/fsa/8c22000/8c22500/8c22565v.jpg#h=787&w=1024\n",
      "Saved ../collection-site-materials/item-files/img_2017815837.jpg\n",
      "... requesting https://tile.loc.gov/storage-services/service/pnp/cph/3b40000/3b41000/3b41900/3b41963v.jpg#h=823&w=1024\n",
      "Saved ../collection-site-materials/item-files/img_91787443.jpg\n",
      "... requesting https://tile.loc.gov/storage-services/service/pnp/ppmsca/15400/15412v.jpg#h=779&w=1024\n",
      "Saved ../collection-site-materials/item-files/img_2007684172.jpg\n",
      "... requesting https://tile.loc.gov/image-services/iiif/service:pnp:highsm:32700:32720/full/pct:25/0/default.jpg#h=1029&w=1530\n",
      "Saved ../collection-site-materials/item-files/img_2015632735.jpg\n",
      "... requesting https://tile.loc.gov/storage-services/service/pnp/mrg/00400/00432v.jpg#h=709&w=1024\n",
      "Saved ../collection-site-materials/item-files/img_2017702546.jpg\n",
      "... requesting https://tile.loc.gov/storage-services/service/pnp/habshaer/hi/hi0100/hi0135/photos/058276pv.jpg#h=733&w=1024\n",
      "Saved ../collection-site-materials/item-files/img_hi0135.jpg\n",
      "... requesting https://tile.loc.gov/storage-services/service/pnp/habshaer/il/il0900/il0998/sheet/00001v.jpg#h=678&w=1024\n",
      "Saved ../collection-site-materials/item-files/img_il0998.jpg\n",
      "... requesting https://tile.loc.gov/storage-services/service/pnp/det/4a10000/4a17000/4a17900/4a17925v.jpg#h=814&w=1024\n",
      "Saved ../collection-site-materials/item-files/img_2016809661.jpg\n",
      "... requesting https://tile.loc.gov/image-services/iiif/service:pnp:highsm:24300:24333/full/pct:50/0/default.jpg#h=1514&w=1207\n",
      "Saved ../collection-site-materials/item-files/img_2013631511.jpg\n",
      "... requesting https://tile.loc.gov/storage-services/service/pnp/ppmscd/00000/00084v.jpg#h=829&w=1024\n",
      "Saved ../collection-site-materials/item-files/img_2009632000.jpg\n",
      "... requesting https://tile.loc.gov/storage-services/service/pnp/habshaer/ks/ks0000/ks0072/photos/069905pv.jpg#h=815&w=1024\n",
      "Saved ../collection-site-materials/item-files/img_ks0072.jpg\n",
      "... requesting https://tile.loc.gov/storage-services/service/pnp/highsm/64000/64003v.jpg#h=768&w=1024\n",
      "Saved ../collection-site-materials/item-files/img_2020722343.jpg\n",
      "... requesting https://tile.loc.gov/image-services/iiif/service:pnp:highsm:41100:41101/full/pct:25/0/default.jpg#h=1448&w=2172\n",
      "Saved ../collection-site-materials/item-files/img_2016631919.jpg\n",
      "... requesting https://tile.loc.gov/image-services/iiif/service:pnp:highsm:31300:31350/full/pct:25/0/default.jpg#h=1228&w=1642\n",
      "Saved ../collection-site-materials/item-files/img_2015631425.jpg\n",
      "... requesting https://tile.loc.gov/storage-services/service/pnp/habshaer/ok/ok0000/ok0012/photos/129399pv.jpg#h=833&w=1024\n",
      "Saved ../collection-site-materials/item-files/img_ok0012.jpg\n",
      "... requesting https://tile.loc.gov/storage-services/service/pnp/habshaer/sc/sc0700/sc0767/color/571307cv.jpg#h=745&w=1024\n",
      "Saved ../collection-site-materials/item-files/img_sc0767.jpg\n",
      "... requesting https://tile.loc.gov/storage-services/service/pnp/habshaer/ri/ri0000/ri0071/photos/144412pv.jpg#h=732&w=1024\n",
      "Saved ../collection-site-materials/item-files/img_ri0071.jpg\n",
      "... requesting https://tile.loc.gov/storage-services/service/pnp/cph/3b40000/3b43000/3b43200/3b43255r.jpg#h=422&w=640\n",
      "Saved ../collection-site-materials/item-files/img_89710983.jpg\n",
      "... requesting https://tile.loc.gov/storage-services/service/pnp/habshaer/me/me0000/me0057/photos/088141pv.jpg#h=814&w=1024\n",
      "Saved ../collection-site-materials/item-files/img_me0057.jpg\n",
      "... requesting https://tile.loc.gov/image-services/iiif/service:pnp:highsm:36000:36052/full/pct:25/0/default.jpg#h=1448&w=2172\n",
      "Saved ../collection-site-materials/item-files/img_2017686535.jpg\n",
      "... requesting https://tile.loc.gov/storage-services/service/pnp/highsm/60200/60215v.jpg#h=741&w=1024\n",
      "Saved ../collection-site-materials/item-files/img_2020723718.jpg\n",
      "... requesting https://tile.loc.gov/storage-services/service/pnp/cph/3f00000/3f05000/3f05100/3f05168v.jpg#h=1024&w=708\n",
      "Saved ../collection-site-materials/item-files/img_98508385.jpg\n",
      "... requesting https://tile.loc.gov/storage-services/service/pnp/ds/06500/06507v.jpg#h=826&w=1024\n",
      "Saved ../collection-site-materials/item-files/img_2014650180.jpg\n",
      "... requesting https://tile.loc.gov/storage-services/service/pnp/highsm/51700/51772v.jpg#h=570&w=1024\n",
      "Saved ../collection-site-materials/item-files/img_2018699890.jpg\n",
      "... requesting https://tile.loc.gov/image-services/iiif/service:pnp:highsm:18400:18402/full/pct:25/0/default.jpg#h=1024&w=1536\n",
      "Saved ../collection-site-materials/item-files/img_2013646484.jpg\n",
      "... requesting https://tile.loc.gov/storage-services/service/pnp/ppmsca/15300/15375v.jpg#h=1024&w=823\n",
      "Saved ../collection-site-materials/item-files/img_2007684791.jpg\n",
      "... requesting https://tile.loc.gov/storage-services/service/pnp/habshaer/nv/nv0100/nv0134/photos/043970pv.jpg#h=819&w=1024\n",
      "Saved ../collection-site-materials/item-files/img_nv0134.jpg\n",
      "... requesting https://tile.loc.gov/image-services/iiif/service:pnp:highsm:20200:20216/full/pct:25/0/default.jpg#h=772&w=1551\n",
      "Saved ../collection-site-materials/item-files/img_2012631625.jpg\n",
      "... requesting https://tile.loc.gov/storage-services/service/pnp/highsm/49300/49335v.jpg#h=618&w=1024\n",
      "Saved ../collection-site-materials/item-files/img_2018663053.jpg\n",
      "... requesting https://tile.loc.gov/image-services/iiif/service:pnp:highsm:04300:04362/full/pct:25/0/default.jpg#h=1358&w=1810\n",
      "Saved ../collection-site-materials/item-files/img_2010630352.jpg\n",
      "... requesting https://tile.loc.gov/storage-services/service/pnp/npcc/28700/28724v.jpg#h=788&w=1024\n",
      "Saved ../collection-site-materials/item-files/img_2016851550.jpg\n",
      "... requesting https://tile.loc.gov/image-services/iiif/service:pnp:highsm:29200:29207/full/pct:25/0/default.jpg#h=1840&w=1228\n",
      "Saved ../collection-site-materials/item-files/img_2014633407.jpg\n",
      "... requesting https://tile.loc.gov/storage-services/service/pnp/det/4a20000/4a23000/4a23600/4a23603v.jpg#h=820&w=1024\n",
      "Saved ../collection-site-materials/item-files/img_2016815290.jpg\n",
      "... requesting https://tile.loc.gov/storage-services/service/pnp/ds/06500/06560v.jpg#h=727&w=1024\n",
      "Saved ../collection-site-materials/item-files/img_2014647618.jpg\n",
      "... requesting https://tile.loc.gov/storage-services/service/pnp/habshaer/ak/ak0300/ak0345/photos/033063pv.jpg#h=817&w=1024\n",
      "Saved ../collection-site-materials/item-files/img_ak0345.jpg\n",
      "... requesting https://tile.loc.gov/storage-services/service/pnp/habshaer/nj/nj0000/nj0089/photos/107604pv.jpg#h=733&w=1024\n",
      "Saved ../collection-site-materials/item-files/img_nj0089.jpg\n",
      "... requesting https://tile.loc.gov/image-services/iiif/service:pnp:highsm:20400:20483/full/pct:25/0/default.jpg#h=1028&w=1536\n",
      "Saved ../collection-site-materials/item-files/img_2012630164.jpg\n",
      "... requesting https://tile.loc.gov/storage-services/service/pnp/highsm/50400/50410v.jpg#h=558&w=1024\n",
      "Saved ../collection-site-materials/item-files/img_2018698612.jpg\n",
      "... requesting https://tile.loc.gov/storage-services/service/pnp/fsa/8b32000/8b32200/8b32222v.jpg#h=1024&w=963\n",
      "Saved ../collection-site-materials/item-files/img_2017770391.jpg\n",
      "... requesting https://tile.loc.gov/image-services/iiif/service:pnp:highsm:18300:18384/full/pct:25/0/default.jpg#h=1940&w=2582\n",
      "Saved ../collection-site-materials/item-files/img_2013646466.jpg\n",
      "... requesting https://tile.loc.gov/storage-services/service/pnp/ppmsca/15400/15426v.jpg#h=1024&w=822\n",
      "Saved ../collection-site-materials/item-files/img_2007682033.jpg\n",
      "... requesting https://tile.loc.gov/image-services/iiif/service:pnp:highsm:48200:48241/full/pct:25/0/default.jpg#h=2380&w=1945\n",
      "Saved ../collection-site-materials/item-files/img_2017884872.jpg\n",
      "... requesting https://tile.loc.gov/storage-services/service/pnp/fsa/8d24000/8d24700/8d24709v.jpg#h=1024&w=976\n",
      "Saved ../collection-site-materials/item-files/img_2017843202.jpg\n",
      "... requesting https://tile.loc.gov/storage-services/service/pnp/highsm/53300/53335v.jpg#h=1000&w=1024\n",
      "Saved ../collection-site-materials/item-files/img_2019631085.jpg\n",
      "... requesting https://tile.loc.gov/image-services/iiif/service:pnp:highsm:42100:42123/full/pct:25/0/default.jpg#h=1978&w=1398\n",
      "Saved ../collection-site-materials/item-files/img_2016632941.jpg\n",
      "... requesting https://tile.loc.gov/storage-services/service/pnp/habshaer/dc/dc0100/dc0121/color/376695cv.jpg#h=1024&w=752\n",
      "Saved ../collection-site-materials/item-files/img_dc0121.jpg\n",
      "--- mini LOG ---\n",
      "files requested: 59\n",
      "errors: 0\n",
      "files written: 59\n"
     ]
    }
   ],
   "source": [
    "item_count = 0\n",
    "error_count = 0\n",
    "file_count = 0\n",
    "\n",
    "img_file_prefix = 'img_'\n",
    "\n",
    "for item in collection_set_list_with_images:\n",
    "        image_URL = item['image_URL_large']\n",
    "        short_ID = item['item_URI'].split('/')[-2]\n",
    "        print('... requesting',image_URL)\n",
    "        item_count += 1\n",
    "\n",
    "        # if found, save image\n",
    "        r = requests.get(image_URL)\n",
    "        if r.status_code == 200:\n",
    "            img_out = os.path.join('..',project_dir,files_dir,str(img_file_prefix + short_ID + '.jpg'))\n",
    "            with open(img_out, 'wb') as file:\n",
    "                file.write(r.content)\n",
    "                print('Saved',img_out)\n",
    "                file_count += 1\n",
    "\n",
    "\n",
    "print('--- mini LOG ---')\n",
    "print('files requested:',item_count)\n",
    "print('errors:',error_count)\n",
    "print('files written:',file_count)"
   ]
  }
 ],
 "metadata": {
  "kernelspec": {
   "display_name": "3.12.0",
   "language": "python",
   "name": "python3"
  },
  "language_info": {
   "codemirror_mode": {
    "name": "ipython",
    "version": 3
   },
   "file_extension": ".py",
   "mimetype": "text/x-python",
   "name": "python",
   "nbconvert_exporter": "python",
   "pygments_lexer": "ipython3",
   "version": "3.12.0"
  }
 },
 "nbformat": 4,
 "nbformat_minor": 2
}
