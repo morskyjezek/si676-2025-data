{
 "cells": [
  {
   "cell_type": "markdown",
   "id": "8bec8f5c-90cb-4936-a161-b1f1c53ed2df",
   "metadata": {},
   "source": [
    "# Extract (Harvest) Metadata and Content\n",
    "\n",
    "This notebook demonstrates the first step in the generalized workflow\n",
    "to develop your reference digital collections. \n",
    "We will walk through each step in class, but you will need to adapt these demonstrations\n",
    "so that they work for your own collections, so this work will also be self-guided.\n",
    "\n",
    "## ETL Workflow\n",
    "\n",
    "The overarching process here follows a generalized \"Extract - Transform - Load\" workflow.This is an abstract model for pulling data from one system, transporting, cleaning, and outputting to another system.\n",
    "While often in reference to database work and data engineering, the goals here are the same for our digital collections:\n",
    "**extract** the metadata from the Library of Congress, change (**transform**) it into structures that makes sense to our collection systems (CollectionBuilder and Omeka),\n",
    "then ingest (**load**) that data and associated content into the systems.\n",
    "\n",
    "## Learning objectives\n",
    "\n",
    "After completing the course assignment, you should: \n",
    "\n",
    "* Have a conceptual and a practical understanding of how collection metadata is made available by a REST API.\n",
    "* Be able to explain the concept of metadata extraction and transformation.\n",
    "* Create a structure for documenting metadata practices in a collection or repository (a Metadata Application Profile) and implement that structure for transformations. \n",
    "* Use programming to work with data supplied by an API in JSON format, to manage and transform useful parts of that data into CSV format.\n",
    "* Create ingest-ready collection metadata that conforms to Dublin Core and other digital collection metadata standards, which can be used to load content into another site (in this case, an Omeka S site). \n",
    "\n",
    "## Introduction\n",
    "\n",
    "The main steps outlined in this notebook are as follows:\n",
    "\n",
    "* **Extract the metadata.** This may be done in whatever way works for you. As illustrated here, there are two main steps that involve requesting JSON data from the Library of Congress: \n",
    "  1. Get collections list - using the requests library, make a request to the library of congress API to get the list of items in the \"Free to Use\" libraries collection. Write this to a local file (here called `collection_items_list.csv` and in the `data` directory). \n"
   ]
  },
  {
   "cell_type": "markdown",
   "id": "00a281bf-4fb1-4bb2-b01f-d4f1c523e905",
   "metadata": {},
   "source": [
    "# Get collection list"
   ]
  },
  {
   "cell_type": "code",
   "execution_count": 1,
   "id": "fd81df05-072c-47cd-b4dc-b3abdbaa8400",
   "metadata": {},
   "outputs": [],
   "source": [
    "import csv\n",
    "import json\n",
    "import requests"
   ]
  },
  {
   "cell_type": "markdown",
   "id": "a7b58b95",
   "metadata": {},
   "source": [
    "### Build the URL"
   ]
  },
  {
   "cell_type": "code",
   "execution_count": 2,
   "id": "fc347104-09d2-4775-8a40-bcccf62488da",
   "metadata": {},
   "outputs": [],
   "source": [
    "endpoint = 'https://www.loc.gov/free-to-use'\n",
    "parameters = {\n",
    "    'fo' : 'json'\n",
    "}"
   ]
  },
  {
   "cell_type": "code",
   "execution_count": 3,
   "id": "782bf143-ead3-4b6c-a5e4-fe716fa6ca29",
   "metadata": {},
   "outputs": [],
   "source": [
    "collection = 'libraries'"
   ]
  },
  {
   "cell_type": "code",
   "execution_count": 4,
   "id": "3f80d186-dae5-4e58-a477-522d2daa3879",
   "metadata": {},
   "outputs": [],
   "source": [
    "collection_list_response = requests.get(endpoint + '/' + collection, params=parameters)"
   ]
  },
  {
   "cell_type": "code",
   "execution_count": 5,
   "id": "818bdf3e-21eb-4cbb-b0c8-cc19b96642b7",
   "metadata": {},
   "outputs": [
    {
     "data": {
      "text/plain": [
       "'https://www.loc.gov/free-to-use/libraries?fo=json'"
      ]
     },
     "execution_count": 5,
     "metadata": {},
     "output_type": "execute_result"
    }
   ],
   "source": [
    "collection_list_response.url"
   ]
  },
  {
   "cell_type": "markdown",
   "id": "f780f77b",
   "metadata": {},
   "source": [
    "### Examine the response\n",
    "\n",
    "Look at the JSON response and find the data you want: the collection set list."
   ]
  },
  {
   "cell_type": "code",
   "execution_count": 6,
   "id": "085b1467-c97a-4dac-9a8d-e79482d2e892",
   "metadata": {},
   "outputs": [],
   "source": [
    "collection_json = collection_list_response.json()"
   ]
  },
  {
   "cell_type": "markdown",
   "id": "f094c36f-a94a-4645-b3a6-8310898aeaff",
   "metadata": {},
   "source": [
    "Take a moment to look around in the JSON response. Where would you look for the data about the items in the collection of free to use library images? \n",
    "\n",
    "_Hint: At this point we're not really looking for the information about the images, but the pointers to them (such as headings, links, etc)._ "
   ]
  },
  {
   "cell_type": "code",
   "execution_count": 7,
   "id": "02b66184",
   "metadata": {},
   "outputs": [
    {
     "data": {
      "text/plain": [
       "dict_keys(['breadcrumbs', 'content', 'content_is_post', 'description', 'disable_max_line_length', 'expert_resources', 'next', 'next_sibling', 'options', 'pages', 'portal', 'previous', 'previous_sibling', 'site_type', 'timestamp', 'title', 'type'])"
      ]
     },
     "execution_count": 7,
     "metadata": {},
     "output_type": "execute_result"
    }
   ],
   "source": [
    "# .keys() is a helpful function to see what the data elements are\n",
    "collection_json.keys()"
   ]
  },
  {
   "cell_type": "markdown",
   "id": "b74d398e",
   "metadata": {},
   "source": [
    "Looking further into the dictionary, it seems that you can get a list of the items in the set by looking into `content`, then `set`, then the `items` element:"
   ]
  },
  {
   "cell_type": "code",
   "execution_count": 8,
   "id": "c92bbacc-7cf8-47e7-9e2e-88542eaf9d8b",
   "metadata": {
    "collapsed": true,
    "jupyter": {
     "outputs_hidden": true
    },
    "tags": []
   },
   "outputs": [
    {
     "name": "stdout",
     "output_type": "stream",
     "text": [
      "{'image': '/static/portals/free-to-use/public-domain/libraries/libraries-1.jpg', 'link': '/resource/cph.3f05183/', 'title': 'For greater knowledge, on more subjects, use your library more often. Illinois WPA Arts Project, 1936-1941. Prints & Photographs Division'}\n",
      "{'image': '/static/portals/free-to-use/public-domain/libraries/libraries-2.jpg', 'link': '/resource/highsm.20336/', 'title': 'Noyes Library for Young Children. Kensington, Maryland. Photo by Carol M. Highsmith,  2011. Prints & Photographs Division'}\n",
      "{'image': '/static/portals/free-to-use/public-domain/libraries/libraries-3.jpg', 'link': '/resource/fsa.8d24709/', 'title': 'Bethune-Cookman College. Students in the library reading room, Daytona Beach, Florida. Gordon Parks, 1943. Prints & Photographs Division'}\n",
      "{'image': '/static/portals/free-to-use/public-domain/libraries/libraries-4.jpg', 'link': '/resource/highsm.36052/', 'title': 'Public library in Antonito,  Colorado, near the New Mexico border. Photo by Carol M. Highsmith, 2015. Prints & Photographs Division'}\n",
      "{'image': '/static/portals/free-to-use/public-domain/libraries/libraries-5.jpg', 'link': '/resource/highsm.51772/', 'title': 'Library and Innovation Center in New Castle, Delaware, defines itself as \"a community learning and resource hub.\" Photo by Carol M. Highsmith, 2018. Prints & Photographs Division\\n'}\n",
      "{'image': '/static/portals/free-to-use/public-domain/libraries/libraries-6.jpg', 'link': '/resource/cph.3b43255/', 'title': 'Silence. Lithograph by Mabel Dwight, 1939. Prints & Photographs Division'}\n",
      "{'image': '/static/portals/free-to-use/public-domain/libraries/libraries-7.jpg', 'link': '/resource/highsm.20483/', 'title': 'Patterson Park Branch of the Enoch Pratt Free Library System. Photo by Carol M. Highsmith, 2011. Prints & Photographs Division'}\n",
      "{'image': '/static/portals/free-to-use/public-domain/libraries/libraries-8.jpg', 'link': '/resource/highsm.29207/', 'title': 'The easily identifiable J. Erik Jonsson Central Library, Dallas, Texas. Photo by Carol M. Highsmith, 2014. Prints & Photographs Division'}\n",
      "{'image': '/static/portals/free-to-use/public-domain/libraries/libraries-9.jpg', 'link': '/resource/fsa.8b32222/', 'title': 'Public library in the southwestern section of Mississippi, in the piney woods. Photo by Dorothea Lange, 1937. Prints & Photographs Division'}\n",
      "{'image': '/static/portals/free-to-use/public-domain/libraries/libraries-10.jpg', 'link': '/resource/highsm.64003/', 'title': '\"Bookmobile\" bus belonging to the Perry County Public Library in Hazard, Kentucky. Photo by Carol M. Highsmith, 2020. Prints & Photographs Division\\n'}\n",
      "{'image': '/static/portals/free-to-use/public-domain/libraries/libraries-11.jpg', 'link': '/resource/ppmsca.15412/', 'title': \"Creating the first fully developed children's department in 1899 is one of the historic milestones claimed by the Pittsburgh, Pennsylvania, Carnegie Library. Photo, 1900-1905. Prints & Photographs Division\\n\"}\n",
      "{'image': '/static/portals/free-to-use/public-domain/libraries/libraries-12.jpg', 'link': '/resource/highsm.49335/', 'title': 'Even a sculpted gila monster appears to be into reading near a Little Free Library in the Dunbar Spring neighborhood of Tucson, Arizona. Photo by Carol M. Highsmith, 2018. Prints & Photographs Division'}\n",
      "{'image': '/static/portals/free-to-use/public-domain/libraries/libraries-13.jpg', 'link': '/resource/highsm.20497/', 'title': 'Handley Library, Winchester, Virginia. Photo by Carol M. Highsmith, 2011. Prints & Photographs Division'}\n",
      "{'image': '/static/portals/free-to-use/public-domain/libraries/libraries-14.jpg', 'link': '/resource/npcc.28724/', 'title': 'Reading room for the blind, Library of Congress, Washington, DC. By National Photo Co., 1919 or 1920. Prints & Photographs Division'}\n",
      "{'image': '/static/portals/free-to-use/public-domain/libraries/libraries-15.jpg', 'link': '/resource/ds.06560/', 'title': 'Main public library building, Detroit, Michigan. Cass Gilbert, architect. Postcard by Albertype Co., 1921-1930. Prints & Photographs Division'}\n",
      "{'image': '/static/portals/free-to-use/public-domain/libraries/libraries-16.jpg', 'link': '/resource/hhh.hi0135.photos', 'title': \"Mother Marianne Library, Moloka'i Island, Kalaupapa, Kalawao County, Hawaii. Photo by Jack Boucher, 1991. Historic American Buildings Survey. Prints & Photographs Division\"}\n",
      "{'image': '/static/portals/free-to-use/public-domain/libraries/libraries-17.jpg', 'link': '/resource/cph.3f05168/', 'title': 'Curb service, 10,000 current books, convenient, free, time saving : Chicago Public Library, Randolph St. corridor. Illinois WPA Art Project, 1936-1941. Prints & Photographs Division\\n'}\n",
      "{'image': '/static/portals/free-to-use/public-domain/libraries/libraries-18.jpg', 'link': '/resource/ppmsca.15375/', 'title': 'Reading Room, Billings Memorial Library, University of Vermont, Burlington, Vermont. H.H. Richardson, architect. Photo, approx. 1890. Prints & Photographs Division'}\n",
      "{'image': '/static/portals/free-to-use/public-domain/libraries/libraries-19.jpg', 'link': '/resource/highsm.53335/', 'title': 'Library. Herbert Hoover Federal Building in Washington, D.C. Photo by Carol M. Highsmith, 2018. Prints & Photographs Division'}\n",
      "{'image': '/static/portals/free-to-use/public-domain/libraries/libraries-20.jpg', 'link': '/resource/hhh.ks0072.photos/?sp=2', 'title': 'Paola Free Library, Paola, Kansas. Photo by Dan Collins, 1984. Historic American Buildings Survey. Prints & Photographs Division'}\n",
      "{'image': '/static/portals/free-to-use/public-domain/libraries/libraries-21.jpg', 'link': '/resource/highsm.34640/', 'title': 'The Guernsey Branch Library, in Guernsey, Wyoming. Photo by Carol M. Highsmith, 2015. Prints & Photographs Division'}\n",
      "{'image': '/static/portals/free-to-use/public-domain/libraries/libraries-22.jpg', 'link': '/resource/ppmsca.17588/', 'title': 'Library of Congress when it was located in the U.S. Capitol. Copy of watercolor by William Bengough, 1897. Prints & Photographs Division'}\n",
      "{'image': '/static/portals/free-to-use/public-domain/libraries/libraries-23.jpg', 'link': '/resource/ppmsca.18016/', 'title': 'Library of Congress, Washington. By Detroit Publishing Co., 1902. Prints & Photographs Division'}\n",
      "{'image': '/static/portals/free-to-use/public-domain/libraries/libraries-24.jpg', 'link': '/resource/hhh.me0057.photos/?sp=1', 'title': 'Hubbard Free Library, Hallowell, Kennebec County, Maine. Copy of photo from approx. 1880. Historic American Buildings Survey. Prints & Photographs Division'}\n",
      "{'image': '/static/portals/free-to-use/public-domain/libraries/libraries-25.jpg', 'link': '/resource/highsm.41101/', 'title': 'Modernist stairway and bookstacks inside the Allen County Public Library, Fort Wayne, Indiana. Photo by Carol M. Highsmith, 2016. Prints & Photographs Division'}\n",
      "{'image': '/static/portals/free-to-use/public-domain/libraries/libraries-26.jpg', 'link': '/resource/det.4a17925/', 'title': 'Cossitt Library, Memphis, Tennessee. Photo by Detroit Publishing Co., 1906. Prints & Photographs Division'}\n",
      "{'image': '/static/portals/free-to-use/public-domain/libraries/libraries-27.jpg', 'link': '/resource/ppmsca.15426/', 'title': 'Main entrance. Boston Public Library. Massachusetts. 1895. Prints & Photographs Division'}\n",
      "{'image': '/static/portals/free-to-use/public-domain/libraries/libraries-28.jpg', 'link': '/resource/ppmscd.00084/', 'title': 'Interior view of library reading room with male and female students sitting at tables, reading, at the Tuskegee Institute, Alabama. Photo by Frances B. Johnston, approx. 1902. Prints & Photographs Division'}\n",
      "{'image': '/static/portals/free-to-use/public-domain/libraries/libraries-29.jpg', 'link': '/resource/highsm.18384/', 'title': 'George Peabody Library, Johns Hopkins University, Baltimore, Maryland. Photo by Carol M.  Highsmith, 2012. Prints & Photographs Division'}\n",
      "{'image': '/static/portals/free-to-use/public-domain/libraries/libraries-30.jpg', 'link': '/resource/g3851e.ct006252/', 'title': 'Map of Libraries, Washington, D.C. Library of Congress, 1926. Geography & Map Division'}\n",
      "{'image': '/static/portals/free-to-use/public-domain/libraries/libraries-31.jpg', 'link': '/resource/ppmsca.35590/', 'title': '\"Open Free to All\" is carved over the door of the Carnegie Public Library in Taunton, Massachusetts. Drawing by Albert R. Ross, approx. 1903. Prints & Photographs Division\\n'}\n",
      "{'image': '/static/portals/free-to-use/public-domain/libraries/libraries-32.jpg', 'link': '/resource/hhh.il0998.sheet/?sp=1', 'title': 'Paxton Carnegie Library, Paxton, Illinois. Drawing, 2011. Historic American Buildings Survey. Prints & Photographs Division'}\n",
      "{'image': '/static/portals/free-to-use/public-domain/libraries/libraries-33.jpg', 'link': '/resource/hhh.ok0012.sheet/?sp=8&q=hhh.ok0012', 'title': 'Carnegie Library, Guthrie, Oklahoma. Cross section drawing, 1973. Historic American Buildings Survey. Prints & Photographs Division'}\n",
      "{'image': '/static/portals/free-to-use/public-domain/libraries/libraries-34.jpg', 'link': '/resource/hhh.sc0767.photos/?sp=1', 'title': 'Carnegie Free Library, Union, South Carolina. Photo by Jack Boucher, 1987. Historic American Buildings Survey. Prints & Photographs Division'}\n",
      "{'image': '/static/portals/free-to-use/public-domain/libraries/libraries-35.jpg', 'link': '/resource/hhh.nj0089.photos/?sp=4', 'title': 'Princeton University, Library, Princeton, New Jersey. Photo by Jack Boucher, 1964. Historic American Buildings Survey. Prints & Photographs Division'}\n",
      "{'image': '/static/portals/free-to-use/public-domain/libraries/libraries-36.jpg', 'link': '/resource/highsm.31350/', 'title': 'Public library in Shepherdstown, West Virginia. Photo by Carol M. Highsmith, 2015. Prints & Photographs Division'}\n",
      "{'image': '/static/portals/free-to-use/public-domain/libraries/libraries-37.jpg', 'link': '/resource/hhh.ri0071.photos/?sp=8', 'title': 'Redwood Library, Newport, Rhode Island. Photo by Cervin Robinson, 1970. Historic American Buildings Survey. Prints & Photographs Division'}\n",
      "{'image': '/static/portals/free-to-use/public-domain/libraries/libraries-38.jpg', 'link': '/resource/highsm.48241/', 'title': 'Cook Memorial Library, the public library of Tamworth, New Hampshire. Photo by Carol M. Highsmith, 2017. Prints & Photographs Division'}\n",
      "{'image': '/static/portals/free-to-use/public-domain/libraries/libraries-39.jpg', 'link': '/resource/det.4a23603/', 'title': 'Little Rock Public Library, Little Rock, Arkansas. Photo by Detroit Publishing Co., approx. 1910. Prints & Photographs Division'}\n",
      "{'image': '/static/portals/free-to-use/public-domain/libraries/libraries-40.jpg', 'link': '/resource/highsm.04362/', 'title': 'Public Library, Salt Lake City, Utah. Photo by Carol M. Highsmith, 2007. Prints & Photographs Division'}\n",
      "{'image': '/static/portals/free-to-use/public-domain/libraries/libraries-41.jpg', 'link': '/resource/hhh.dc0121.photos/?sp=24', 'title': 'Riggs Library, Georgetown University, Washington, DC. Historic American Buildings Survey. 1969. Prints & Photographs Division'}\n",
      "{'image': '/static/portals/free-to-use/public-domain/libraries/libraries-42.jpg', 'link': '/resource/ppbd.00600/', 'title': \"The People's Library, set up by the Occupy Wall Street protest movement in Zuccotti Park, New York City. Photo by Teri Sierra, 2011. Prints & Photographs Division\\n\"}\n",
      "{'image': '/static/portals/free-to-use/public-domain/libraries/libraries-43.jpg', 'link': '/resource/fsa.8b14169/', 'title': 'Newspaper reading room of public library. Omaha, Nebraska. Photo by John Vachon, 1938. Prints & Photographs Division'}\n",
      "{'image': '/static/portals/free-to-use/public-domain/libraries/libraries-44.jpg', 'link': '/resource/highsm.32720/', 'title': 'Dusk view, Rawlings Public Library, Pueblo, Colorado. Photo by Carol M. Highsmith, 2015. Prints & Photographs Division'}\n",
      "{'image': '/static/portals/free-to-use/public-domain/libraries/libraries-45.jpg', 'link': '/resource/fsa.8c22565/', 'title': 'Library tent at the Farm Security Administration mobile camp for migratory farm workers, Odell, Oregon. Photo by Russell Lee, 1941. Prints & Photographs Division'}\n",
      "{'image': '/static/portals/free-to-use/public-domain/libraries/libraries-46.jpg', 'link': '/resource/mrg.00785/', 'title': 'Parmly Billings Library (Western Heritage Center), Billings, Montana. Photo by John Margolies, 2004. Prints & Photographs Division'}\n",
      "{'image': '/static/portals/free-to-use/public-domain/libraries/libraries-47.jpg', 'link': '/resource/hhh.ak0345.photos/?sp=2', 'title': 'Juneau Public Library, Juneau, Alaska. Photo by Jet Lowe, 1991. Historic American Buildings Survey. Prints & Photographs Division'}\n",
      "{'image': '/static/portals/free-to-use/public-domain/libraries/libraries-48.jpg', 'link': '/resource/highsm.43863/', 'title': 'Historic library in the North Carolina Capitol in Raleigh. Photo by Carol M. Highsmith, 2017. Prints & Photographs Division'}\n",
      "{'image': '/static/portals/free-to-use/public-domain/libraries/libraries-49.jpg', 'link': '/resource/highsm.42123/', 'title': \"An upright polar bear in Cincinnati, Ohio, not at the zoo, since it's stuffed, but at Cincinnati's main library. Photo by Carol M. Highsmith, 2016. Prints & Photographs Division\\n\"}\n",
      "{'image': '/static/portals/free-to-use/public-domain/libraries/libraries-50.jpg', 'link': '/resource/cph.3c18157/', 'title': 'Carnegie Library, Sheldon, Iowa. 1909. Prints & Photographs Division'}\n",
      "{'image': '/static/portals/free-to-use/public-domain/libraries/libraries-51.jpg', 'link': '/resource/ds.06507/', 'title': \"Buffalo, New York, Public library. Children's room. Photo by Levin C. Handy, approx. 1900. Prints & Photographs Division\\n\"}\n",
      "{'image': '/static/portals/free-to-use/public-domain/libraries/libraries-52.jpg', 'link': '/resource/highsm.24333/', 'title': 'Tower of the Central Library, Los Angeles, California. Photo by Carol M. Highsmith, 2013. Prints & Photographs Division'}\n",
      "{'image': '/static/portals/free-to-use/public-domain/libraries/libraries-53.jpg', 'link': '/resource/mrg.00788/', 'title': 'Library, Dickason Street, Columbus, Wisconsin. Photo by John Margolies, 2008. Prints & Photographs Division'}\n",
      "{'image': '/static/portals/free-to-use/public-domain/libraries/libraries-54.jpg', 'link': '/resource/highsm.20216/', 'title': 'Norfolk Library, Norfolk, Connecticut. Photo by Carol M. Highsmith, 2011. Prints & Photographs Division'}\n",
      "{'image': '/static/portals/free-to-use/public-domain/libraries/libraries-55.jpg', 'link': '/resource/cph.3b41963/', 'title': 'Carnegie Library, Cordele, Georgia. Photo, approx. 1916. Prints & Photographs Division'}\n",
      "{'image': '/static/portals/free-to-use/public-domain/libraries/libraries-56.jpg', 'link': '/resource/mrg.00432/', 'title': 'Nampa Public Library, Nampa, Idaho. Photo by John Margolies, 2004. Prints & Photographs Division'}\n",
      "{'image': '/static/portals/free-to-use/public-domain/libraries/libraries-57.jpg', 'link': '/resource/cph.3b39859/', 'title': 'Louisiana Industrial Institute and College Library with students reading, Ruston, Louisiana. Photo, 1900-1920. Prints & Photographs Division'}\n",
      "{'image': '/static/portals/free-to-use/public-domain/libraries/libraries-58.jpg', 'link': '/resource/highsm.60215/', 'title': 'The public library, with a creative book-themed facade, in Houston, Minnesota. Photo by Carol Highsmith, 2019. Prints & Photographs Division'}\n",
      "{'image': '/static/portals/free-to-use/public-domain/libraries/libraries-59.jpg', 'link': '/resource/ppmsca.15419/', 'title': 'Book room, Carnegie library, St. Joseph, Missouri. Photo, 1900-1905. Prints & Photographs Division'}\n",
      "{'image': '/static/portals/free-to-use/public-domain/libraries/libraries-60.jpg', 'link': '/resource/highsm.50410/', 'title': \"You wouldn't guess that this is a public library, but it is, in Skynomish, Washington. Photo by Carol M. Highsmith, 2018. Prints & Photographs Division\\n\"}\n",
      "{'image': '/static/portals/free-to-use/public-domain/libraries/libraries-61.jpg', 'link': '/resource/hhh.nv0134.photos', 'title': 'Library (C425), looking SW - Hawthorne Naval Ammunition Depot, Babbitt Housing Area, Hawthorne, Nevada. Photo by Joe C. Freeman, 1992. Historic American Buildings Survey. Prints & Photographs Division'}\n",
      "{'image': '/static/portals/free-to-use/public-domain/libraries/libraries-62.jpg', 'link': '/resource/highsm.18402', 'title': 'Interior of the Hutzler Reading room located in Gilman Hall, Johns Hopkins University, Baltimore, Maryland. Photo by Carol M. Highsmith, 2012. Prints & Photographs Division'}\n"
     ]
    }
   ],
   "source": [
    "for k in collection_json['content']['set']['items']:\n",
    "    print(k)"
   ]
  },
  {
   "cell_type": "markdown",
   "id": "d76acaa2",
   "metadata": {},
   "source": [
    "How many items are there in the set?"
   ]
  },
  {
   "cell_type": "code",
   "execution_count": 9,
   "id": "92350a24",
   "metadata": {},
   "outputs": [
    {
     "data": {
      "text/plain": [
       "62"
      ]
     },
     "execution_count": 9,
     "metadata": {},
     "output_type": "execute_result"
    }
   ],
   "source": [
    "len(collection_json['content']['set']['items'])"
   ]
  },
  {
   "cell_type": "markdown",
   "id": "ac468dae-56b8-40ba-8b20-bcb8cf629230",
   "metadata": {},
   "source": [
    " Now that you can find the list of items in the collection, note that each of these \"items\" has 3 elements: `image`, `link`, and `title`. "
   ]
  },
  {
   "cell_type": "code",
   "execution_count": 10,
   "id": "557d0ee2",
   "metadata": {},
   "outputs": [
    {
     "data": {
      "text/plain": [
       "dict_keys(['image', 'link', 'title'])"
      ]
     },
     "execution_count": 10,
     "metadata": {},
     "output_type": "execute_result"
    }
   ],
   "source": [
    "collection_json['content']['set']['items'][0].keys()"
   ]
  },
  {
   "cell_type": "markdown",
   "id": "2ca23fb7",
   "metadata": {},
   "source": [
    "In a more fully automated environment, you might want to make a function that can return and save the collection list, then reuse it in other code, but for this task, it is useful to save the information. So, extract these and save them locally to a CSV. "
   ]
  },
  {
   "cell_type": "code",
   "execution_count": 11,
   "id": "f3dfa45e-27a2-4485-a341-2f3263dffb22",
   "metadata": {},
   "outputs": [
    {
     "name": "stdout",
     "output_type": "stream",
     "text": [
      "wrote ../collection-project/collection_set_list.csv\n"
     ]
    }
   ],
   "source": [
    "# create a path for a CSV file, in this case to write to the collection-project directory\n",
    "collection_set_list = '../collection-project/collection_set_list.csv'\n",
    "headers = ['image','link','title']\n",
    "\n",
    "with open(collection_set_list, 'w', encoding='utf-8', newline='') as f:\n",
    "    writer = csv.DictWriter(f, fieldnames=headers)\n",
    "    writer.writeheader()\n",
    "    for item in collection_json['content']['set']['items']:\n",
    "        \n",
    "        # clean up errant spaces in the title fields\n",
    "        item['title'] = item['title'].rstrip()\n",
    "        writer.writerow(item)\n",
    "    print('wrote',collection_set_list)"
   ]
  },
  {
   "cell_type": "markdown",
   "id": "b46c6b32",
   "metadata": {},
   "source": [
    "Now you have a re-usable collection list that you can work from.\n",
    "This is useful for setting up loops in future, when you want to\n",
    "perform batch operations for each thing in the collection.\n",
    "\n",
    "The next step in this workflow development assignment is to harvest metadata for each of the individual items. Continue in the next notebook!"
   ]
  }
 ],
 "metadata": {
  "kernelspec": {
   "display_name": "base",
   "language": "python",
   "name": "python3"
  },
  "language_info": {
   "codemirror_mode": {
    "name": "ipython",
    "version": 3
   },
   "file_extension": ".py",
   "mimetype": "text/x-python",
   "name": "python",
   "nbconvert_exporter": "python",
   "pygments_lexer": "ipython3",
   "version": "3.9.18"
  }
 },
 "nbformat": 4,
 "nbformat_minor": 5
}
