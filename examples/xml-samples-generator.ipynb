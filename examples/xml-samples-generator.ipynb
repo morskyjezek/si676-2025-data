{
 "cells": [
  {
   "cell_type": "markdown",
   "id": "de898c2b",
   "metadata": {},
   "source": [
    "# XML Samples Generator\n",
    "\n",
    "This notebook was used to generate the code and snippet samples\n",
    "used in the XML lecture slides."
   ]
  },
  {
   "cell_type": "code",
   "execution_count": 1,
   "id": "1a3b3738",
   "metadata": {},
   "outputs": [
    {
     "name": "stdout",
     "output_type": "stream",
     "text": [
      "running with lxml.etree\n"
     ]
    }
   ],
   "source": [
    "import xml.etree.ElementTree as ET\n",
    "# for writing\n",
    "try:\n",
    "    from lxml import etree\n",
    "    print(\"running with lxml.etree\")\n",
    "except ImportError:\n",
    "    import xml.etree.ElementTree as etree\n",
    "    print(\"running with Python's xml.etree.ElementTree\")"
   ]
  },
  {
   "cell_type": "markdown",
   "id": "8a3e0e09",
   "metadata": {},
   "source": [
    "## The `bo` and `xhtml` example\n",
    "\n",
    "Illustrates namespaces"
   ]
  },
  {
   "cell_type": "code",
   "execution_count": 2,
   "id": "ed054d94",
   "metadata": {},
   "outputs": [],
   "source": [
    "ns = {\n",
    "    'xhtml': 'http://www.w3c.org/1999/xhtml',\n",
    "    'bo'   : 'http://www.nogood.com/Book'\n",
    "}"
   ]
  },
  {
   "cell_type": "markdown",
   "id": "9536d215",
   "metadata": {},
   "source": [
    "Generate the markup"
   ]
  },
  {
   "cell_type": "code",
   "execution_count": 3,
   "id": "38c08d35",
   "metadata": {},
   "outputs": [],
   "source": [
    "# establish filename\n",
    "xml_with_all_namespaces = '../data/sample-xml-with-namespaces.xml'"
   ]
  },
  {
   "cell_type": "code",
   "execution_count": 4,
   "id": "f3824056",
   "metadata": {},
   "outputs": [],
   "source": [
    "# register namespaces\n",
    "etree.register_namespace('xhtml', ns['xhtml'])\n",
    "etree.register_namespace('bo', ns['bo'])"
   ]
  },
  {
   "cell_type": "code",
   "execution_count": 5,
   "id": "cf9bab80",
   "metadata": {},
   "outputs": [],
   "source": [
    "# create a function for \"pretty printing\"\n",
    "def prettyprint(element):\n",
    "    xml = etree.tostring(element, pretty_print=True)\n",
    "    print(xml.decode(), end='')"
   ]
  },
  {
   "cell_type": "markdown",
   "id": "4cf903c4",
   "metadata": {},
   "source": [
    "Build a root element:"
   ]
  },
  {
   "cell_type": "code",
   "execution_count": 6,
   "id": "d2d34ee8",
   "metadata": {},
   "outputs": [],
   "source": [
    "# by declaring the nsmap property, you request the namespace declarations in the root element\n",
    "html = etree.Element(f\"{{{ns['xhtml']}}}html\", nsmap=ns)"
   ]
  },
  {
   "cell_type": "markdown",
   "id": "10063a75",
   "metadata": {},
   "source": [
    "Build up XML tree element by element:"
   ]
  },
  {
   "cell_type": "code",
   "execution_count": 7,
   "id": "12967394",
   "metadata": {},
   "outputs": [],
   "source": [
    "# create head\n",
    "head = etree.SubElement(html, f\"{{{ns['xhtml']}}}head\")\n",
    "title = etree.SubElement(head, f\"{{{ns['xhtml']}}}title\")\n",
    "title.text = 'My home page'\n",
    "\n",
    "# create body\n",
    "body = etree.SubElement(html, f\"{{{ns['xhtml']}}}body\")\n",
    "\n",
    "# p My hobby\n",
    "p1 = etree.SubElement(body, f\"{{{ns['xhtml']}}}p\")\n",
    "p1.text = \"My hobby\"\n",
    "\n",
    "# p My books\n",
    "p2 = etree.SubElement(body, f\"{{{ns['xhtml']}}}p\")\n",
    "p2.text = \"My books\"\n",
    "\n",
    "# book in p My books author=Kevin Davies ISBN=0743204794\n",
    "book = etree.SubElement(body, f\"{{{ns['bo']}}}Book\")\n",
    "\n",
    "# add book elements\n",
    "isbn = etree.SubElement(book, f\"{{{ns['bo']}}}isbn\")\n",
    "isbn.text = '0743204794'\n",
    "author = etree.SubElement(book, f\"{{{ns['bo']}}}author\")\n",
    "author.text = 'Kevin Davies'"
   ]
  },
  {
   "cell_type": "code",
   "execution_count": 8,
   "id": "8fba4a8e",
   "metadata": {},
   "outputs": [
    {
     "name": "stdout",
     "output_type": "stream",
     "text": [
      "<xhtml:html xmlns:xhtml=\"http://www.w3c.org/1999/xhtml\" xmlns:bo=\"http://www.nogood.com/Book\">\n",
      "  <xhtml:head>\n",
      "    <xhtml:title>My home page</xhtml:title>\n",
      "  </xhtml:head>\n",
      "  <xhtml:body>\n",
      "    <xhtml:p>My hobby</xhtml:p>\n",
      "    <xhtml:p>My books</xhtml:p>\n",
      "    <bo:Book>\n",
      "      <bo:isbn>0743204794</bo:isbn>\n",
      "      <bo:author>Kevin Davies</bo:author>\n",
      "    </bo:Book>\n",
      "  </xhtml:body>\n",
      "</xhtml:html>\n"
     ]
    }
   ],
   "source": [
    "prettyprint(html)"
   ]
  },
  {
   "cell_type": "code",
   "execution_count": 9,
   "id": "9db61814",
   "metadata": {},
   "outputs": [
    {
     "name": "stdout",
     "output_type": "stream",
     "text": [
      "wrote file\n"
     ]
    }
   ],
   "source": [
    "# write the xml file with all prefixes, and pretty printing (indented)\n",
    "tree = etree.ElementTree(html)\n",
    "tree.write(xml_with_all_namespaces, \n",
    "           pretty_print=True, \n",
    "           xml_declaration=True, \n",
    "           encoding='utf-8')\n",
    "print('wrote file')"
   ]
  },
  {
   "cell_type": "markdown",
   "id": "afe2c1f6",
   "metadata": {},
   "source": [
    "Write with xhtml unprefixed"
   ]
  },
  {
   "cell_type": "code",
   "execution_count": 10,
   "id": "da224326",
   "metadata": {},
   "outputs": [],
   "source": [
    "# write with xhtml not prefixed, bo prefixed\n",
    "# by declaring the nsmap property, you request the namespace declarations in the root element\n",
    "html = etree.Element(f\"{{{ns['xhtml']}}}html\",\n",
    "                            nsmap={\n",
    "                                None: ns['xhtml'],\n",
    "                                'bo': ns['bo']\n",
    "                                })"
   ]
  },
  {
   "cell_type": "code",
   "execution_count": 11,
   "id": "d1296930",
   "metadata": {},
   "outputs": [],
   "source": [
    "# create head\n",
    "head = etree.SubElement(html, f\"{{{ns['xhtml']}}}head\")\n",
    "title = etree.SubElement(head, f\"{{{ns['xhtml']}}}title\")\n",
    "title.text = 'My home page'\n",
    "\n",
    "# create body\n",
    "body = etree.SubElement(html, f\"{{{ns['xhtml']}}}body\")\n",
    "\n",
    "# p My hobby\n",
    "p1 = etree.SubElement(body, f\"{{{ns['xhtml']}}}p\")\n",
    "p1.text = \"My hobby\"\n",
    "\n",
    "# p My books\n",
    "p2 = etree.SubElement(body, f\"{{{ns['xhtml']}}}p\")\n",
    "p2.text = \"My books\"\n",
    "\n",
    "# book in p My books author=Kevin Davies ISBN=0743204794\n",
    "book = etree.SubElement(body, f\"{{{ns['bo']}}}Book\")\n",
    "\n",
    "# add book elements\n",
    "isbn = etree.SubElement(book, f\"{{{ns['bo']}}}isbn\")\n",
    "isbn.text = '0743204794'\n",
    "author = etree.SubElement(book, f\"{{{ns['bo']}}}author\")\n",
    "author.text = 'Kevin Davies'"
   ]
  },
  {
   "cell_type": "code",
   "execution_count": 12,
   "id": "ee5568c1",
   "metadata": {},
   "outputs": [
    {
     "name": "stdout",
     "output_type": "stream",
     "text": [
      "wrote file\n"
     ]
    }
   ],
   "source": [
    "xml_unqualified_namespaces = '../data/sample-xml-unqualified-ns.xml'\n",
    "\n",
    "# write the xml file with all prefixes, and pretty printing (indented)\n",
    "tree = etree.ElementTree(html)\n",
    "tree.write(xml_unqualified_namespaces, \n",
    "           pretty_print=True, \n",
    "           xml_declaration=True, \n",
    "           encoding='utf-8')\n",
    "print('wrote file')"
   ]
  }
 ],
 "metadata": {
  "kernelspec": {
   "display_name": "3.12.0",
   "language": "python",
   "name": "python3"
  },
  "language_info": {
   "codemirror_mode": {
    "name": "ipython",
    "version": 3
   },
   "file_extension": ".py",
   "mimetype": "text/x-python",
   "name": "python",
   "nbconvert_exporter": "python",
   "pygments_lexer": "ipython3",
   "version": "3.12.0"
  }
 },
 "nbformat": 4,
 "nbformat_minor": 5
}
