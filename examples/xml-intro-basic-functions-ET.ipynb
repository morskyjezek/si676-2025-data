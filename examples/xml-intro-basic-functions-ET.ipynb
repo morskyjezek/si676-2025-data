{
 "cells": [
  {
   "cell_type": "markdown",
   "metadata": {},
   "source": [
    "# Introduction to XML Parsing in Python with the ElementTree module\n",
    "\n",
    "This notebook reviews some of the essential functions and procedures for parsing XML in Python. XML is a standard markup language derived from SGML. This notebook assumes you are familiar with the basic syntax and requirements of XML. As a primer, the TEI Project provides a \"[Gentle Introduction to XML](https://tei-c.org/release/doc/tei-p5-doc/es/html/SG.html)\" that covers the primary features of XML as a data structure and for encoding text in XML.\n",
    "\n",
    "First, import the etree module. Although it does support other parsers, we will mostly use ElementTree, which is imported as follows (this is favored since it allows you to call the module by typing `ET` rather than the whole string): "
   ]
  },
  {
   "cell_type": "code",
   "execution_count": 1,
   "metadata": {},
   "outputs": [],
   "source": [
    "import xml.etree.ElementTree as ET"
   ]
  },
  {
   "cell_type": "code",
   "execution_count": 2,
   "metadata": {},
   "outputs": [],
   "source": [
    "import os"
   ]
  },
  {
   "cell_type": "markdown",
   "metadata": {},
   "source": [
    "## Inspect the available classes and functions\n",
    "\n",
    "To get an idea of the available classes and functions, try the `inspect` module:"
   ]
  },
  {
   "cell_type": "code",
   "execution_count": 3,
   "metadata": {},
   "outputs": [],
   "source": [
    "from inspect import getmembers, isclass, isfunction"
   ]
  },
  {
   "cell_type": "code",
   "execution_count": 4,
   "metadata": {},
   "outputs": [
    {
     "name": "stdout",
     "output_type": "stream",
     "text": [
      "C14NWriterTarget\n",
      "Element\n",
      "ElementTree\n",
      "ParseError\n",
      "QName\n",
      "TreeBuilder\n",
      "XMLParser\n",
      "XMLPullParser\n"
     ]
    }
   ],
   "source": [
    "# Display classes in ET module\n",
    "for (name, member) in getmembers(ET, isclass):\n",
    "    if not name.startswith('_'):\n",
    "        print(name)"
   ]
  },
  {
   "cell_type": "code",
   "execution_count": 5,
   "metadata": {},
   "outputs": [
    {
     "name": "stdout",
     "output_type": "stream",
     "text": [
      "Comment\n",
      "PI\n",
      "ProcessingInstruction\n",
      "XML\n",
      "XMLID\n",
      "canonicalize\n",
      "dump\n",
      "fromstring\n",
      "fromstringlist\n",
      "indent\n",
      "iselement\n",
      "iterparse\n",
      "parse\n",
      "register_namespace\n",
      "tostring\n",
      "tostringlist\n"
     ]
    }
   ],
   "source": [
    "# display functions in ET module\n",
    "for (name, member) in getmembers(ET, isfunction):\n",
    "    if not name.startswith('_'):\n",
    "        print(name)"
   ]
  },
  {
   "cell_type": "markdown",
   "metadata": {},
   "source": [
    "## Basic parsing with etree\n",
    "\n",
    "In this section, we will focus on the basic usage of a few of the functions. To accomplish initial XML parsing these are:\n",
    "\n",
    "### Load and parse an XML document\n",
    "\n",
    "* `.parse()` - creates a python object that we can manipulate with ElementTree\n",
    "* `.getroot()` - structures an ElementTree object according to the root element that you set\n",
    "* `.tostring()` - converts XML object data into string format\n",
    "* `.fromstring()` - converts string data into an XML encodable object\n",
    "\n",
    "### Find and retrieve values of elements and attributes\n",
    "\n",
    "* `.find()` - returns the first match to an element name, provided as a string or variable; \n",
    "* related, if you want to locate multiple elements or search through the tree, `findall()` will return a list of all matching elements;\n",
    "* `.iter()` - creates an iterable, which can be used in a loop. Useful to find all of the elements within a given tree or element structure, not just the ones at the current level or matching a specific element name;\n",
    "* `.get()` - allows you to get specified attributes\n",
    "\n",
    "### Modify or add values\n",
    "\n",
    "* `.set()` - allows you to add (\"set\") specified attributes\n",
    "* `.write()` when applied to an ElementTree object, this will write out to the filename passed as an argument\n",
    "* `.append()` - to add a new Element or \"tag\" if input as a string (that is, `.fromstring()`); alternatively use an `Element` constructor\n",
    "* to remove attributes, use `del()` - this works because the ElementTree processes attributes as a dictionary"
   ]
  },
  {
   "cell_type": "code",
   "execution_count": 6,
   "metadata": {},
   "outputs": [],
   "source": [
    "ead_file = os.path.join('..','data','xml','day_20221004_205435_UTC__ead.xml')"
   ]
  },
  {
   "cell_type": "code",
   "execution_count": 7,
   "metadata": {},
   "outputs": [
    {
     "name": "stdout",
     "output_type": "stream",
     "text": [
      "[<Element '{http://ead3.archivists.org/schema/}control' at 0x7fa5a896df90>, <Element '{http://ead3.archivists.org/schema/}archdesc' at 0x7fa5a8974130>]\n"
     ]
    }
   ],
   "source": [
    "tree = ET.parse(ead_file)\n",
    "root = tree.getroot()\n",
    "\n",
    "print(root[:250])"
   ]
  },
  {
   "cell_type": "markdown",
   "metadata": {},
   "source": [
    "## Finding values of tags, attributes, or contents\n",
    "\n",
    "Once elements are identified or parsed, it is possible to extract the values of tag, any associated attributes, and the contents nested within the element markers. These methods can be appended to any `Element` object : `.tag` returns the name of the tag; `.attrib` provides the attributes, as a dictionary; and `.text` returns the nested content. \n",
    "\n",
    "In addition, since we are parsing an EAD document with a namespace specified, the name of the element includes the very specific and helpful (though rather long) specification to the EAD3 namespace. In other words, it is telling us the vocabulary that it is associated with."
   ]
  },
  {
   "cell_type": "code",
   "execution_count": 8,
   "metadata": {},
   "outputs": [
    {
     "name": "stdout",
     "output_type": "stream",
     "text": [
      "{http://ead3.archivists.org/schema/}control <class 'xml.etree.ElementTree.Element'>\n",
      "{http://ead3.archivists.org/schema/}archdesc <class 'xml.etree.ElementTree.Element'>\n"
     ]
    }
   ],
   "source": [
    "for element in root:\n",
    "    print(element.tag, type(element))"
   ]
  },
  {
   "cell_type": "markdown",
   "metadata": {},
   "source": [
    "If you see things like ... `control` and `archdesc` IT WORKED! You've parsed XML with python. \n",
    "\n",
    "Now, let's get more fancy. For example, let's look at the content in a human readable text. This can be done wiht the `.tostring()` function, which will convert those binary byte objects into plain text."
   ]
  },
  {
   "cell_type": "code",
   "execution_count": 9,
   "metadata": {},
   "outputs": [
    {
     "name": "stdout",
     "output_type": "stream",
     "text": [
      "b'<ns0:ead xmlns:ns0=\"http://ead3.archivists.org/schema/\"><ns0:control countryencoding=\"iso3166-1\" dateencoding=\"iso8601\" langencoding=\"iso639-2b\" relatedencoding=\"marc\" repositoryencoding=\"iso15511\" scriptencoding=\"iso15924\" language=\"en-US\"><ns0:recordid instanceurl=\"\">umich-scl-day</ns0:recordid><ns0:filedesc><ns0:titlestmt><ns0:titleproper>Finding Aid for the William R. Day Collection day </ns0:titleproper><ns0:titleproper localtype=\"filing\">William R. Day Collection</ns0:titleproper><ns0:auth'\n"
     ]
    }
   ],
   "source": [
    "print(ET.tostring(root)[:500])"
   ]
  },
  {
   "cell_type": "markdown",
   "metadata": {},
   "source": [
    "We can see the tags of an Element object using the `.tag` method, and the attributes associated with the element are stored in a dictionary that can be called with the `.attrib` method. "
   ]
  },
  {
   "cell_type": "code",
   "execution_count": 10,
   "metadata": {},
   "outputs": [
    {
     "data": {
      "text/plain": [
       "'{http://ead3.archivists.org/schema/}ead'"
      ]
     },
     "execution_count": 10,
     "metadata": {},
     "output_type": "execute_result"
    }
   ],
   "source": [
    "root.tag"
   ]
  },
  {
   "cell_type": "code",
   "execution_count": 11,
   "metadata": {},
   "outputs": [
    {
     "data": {
      "text/plain": [
       "{}"
      ]
     },
     "execution_count": 11,
     "metadata": {},
     "output_type": "execute_result"
    }
   ],
   "source": [
    "root.attrib"
   ]
  },
  {
   "cell_type": "code",
   "execution_count": 12,
   "metadata": {},
   "outputs": [
    {
     "name": "stdout",
     "output_type": "stream",
     "text": [
      "{http://ead3.archivists.org/schema/}control {'countryencoding': 'iso3166-1', 'dateencoding': 'iso8601', 'langencoding': 'iso639-2b', 'relatedencoding': 'marc', 'repositoryencoding': 'iso15511', 'scriptencoding': 'iso15924', 'language': 'en-US'}\n",
      "{http://ead3.archivists.org/schema/}archdesc {'level': 'collection'}\n"
     ]
    }
   ],
   "source": [
    "for element in root:\n",
    "    print(element.tag, element.attrib)"
   ]
  },
  {
   "cell_type": "markdown",
   "metadata": {},
   "source": [
    "Or, to see all of the elements at this and lower subElement levels, use the `.iter()` function:"
   ]
  },
  {
   "cell_type": "code",
   "execution_count": 13,
   "metadata": {},
   "outputs": [
    {
     "name": "stdout",
     "output_type": "stream",
     "text": [
      "{http://ead3.archivists.org/schema/}ead {}\n",
      "{http://ead3.archivists.org/schema/}control {'countryencoding': 'iso3166-1', 'dateencoding': 'iso8601', 'langencoding': 'iso639-2b', 'relatedencoding': 'marc', 'repositoryencoding': 'iso15511', 'scriptencoding': 'iso15924', 'language': 'en-US'}\n",
      "{http://ead3.archivists.org/schema/}recordid {'instanceurl': ''}\n",
      "{http://ead3.archivists.org/schema/}filedesc {}\n",
      "{http://ead3.archivists.org/schema/}titlestmt {}\n",
      "{http://ead3.archivists.org/schema/}titleproper {}\n",
      "{http://ead3.archivists.org/schema/}titleproper {'localtype': 'filing'}\n",
      "{http://ead3.archivists.org/schema/}author {}\n",
      "{http://ead3.archivists.org/schema/}publicationstmt {}\n",
      "{http://ead3.archivists.org/schema/}publisher {}\n",
      "{http://ead3.archivists.org/schema/}address {}\n",
      "{http://ead3.archivists.org/schema/}addressline {}\n",
      "{http://ead3.archivists.org/schema/}addressline {}\n",
      "{http://ead3.archivists.org/schema/}addressline {}\n",
      "{http://ead3.archivists.org/schema/}addressline {}\n",
      "{http://ead3.archivists.org/schema/}addressline {}\n",
      "{http://ead3.archivists.org/schema/}ref {'href': 'https://www.lib.umich.edu/special-collections-research-center', 'linktitle': 'https://www.lib.umich.edu/special-collections-research-center', 'show': 'new'}\n",
      "{http://ead3.archivists.org/schema/}date {}\n",
      "{http://ead3.archivists.org/schema/}num {}\n",
      "{http://ead3.archivists.org/schema/}maintenancestatus {'value': 'derived'}\n",
      "{http://ead3.archivists.org/schema/}maintenanceagency {'countrycode': 'US'}\n",
      "{http://ead3.archivists.org/schema/}agencycode {}\n",
      "{http://ead3.archivists.org/schema/}agencyname {}\n",
      "{http://ead3.archivists.org/schema/}languagedeclaration {}\n",
      "{http://ead3.archivists.org/schema/}language {}\n",
      "{http://ead3.archivists.org/schema/}script {'scriptcode': 'Latn'}\n",
      "{http://ead3.archivists.org/schema/}conventiondeclaration {}\n",
      "{http://ead3.archivists.org/schema/}abbr {}\n",
      "{http://ead3.archivists.org/schema/}citation {}\n",
      "{http://ead3.archivists.org/schema/}localcontrol {'localtype': 'findaidstatus'}\n",
      "{http://ead3.archivists.org/schema/}term {}\n",
      "{http://ead3.archivists.org/schema/}maintenancehistory {}\n",
      "{http://ead3.archivists.org/schema/}maintenanceevent {}\n",
      "{http://ead3.archivists.org/schema/}eventtype {'value': 'derived'}\n",
      "{http://ead3.archivists.org/schema/}eventdatetime {}\n",
      "{http://ead3.archivists.org/schema/}agenttype {'value': 'machine'}\n",
      "{http://ead3.archivists.org/schema/}agent {}\n",
      "{http://ead3.archivists.org/schema/}eventdescription {}\n",
      "{http://ead3.archivists.org/schema/}archdesc {'level': 'collection'}\n",
      "{http://ead3.archivists.org/schema/}did {}\n",
      "{http://ead3.archivists.org/schema/}unittitle {}\n",
      "{http://ead3.archivists.org/schema/}unitid {}\n",
      "{http://ead3.archivists.org/schema/}repository {}\n",
      "{http://ead3.archivists.org/schema/}corpname {}\n",
      "{http://ead3.archivists.org/schema/}part {}\n",
      "{http://ead3.archivists.org/schema/}langmaterial {}\n",
      "{http://ead3.archivists.org/schema/}language {'langcode': 'eng'}\n",
      "{http://ead3.archivists.org/schema/}physdescstructured {'coverage': 'whole', 'physdescstructuredtype': 'spaceoccupied'}\n",
      "{http://ead3.archivists.org/schema/}quantity {}\n",
      "{http://ead3.archivists.org/schema/}unittype {}\n",
      "{http://ead3.archivists.org/schema/}physdesc {'localtype': 'container_summary'}\n",
      "{http://ead3.archivists.org/schema/}unitdatestructured {'unitdatetype': 'inclusive'}\n",
      "{http://ead3.archivists.org/schema/}daterange {}\n",
      "{http://ead3.archivists.org/schema/}fromdate {'standarddate': '1788'}\n",
      "{http://ead3.archivists.org/schema/}todate {'standarddate': '1942'}\n",
      "{http://ead3.archivists.org/schema/}unitdate {'unitdatetype': 'inclusive'}\n",
      "{http://ead3.archivists.org/schema/}abstract {'id': 'aspace_ref88'}\n",
      "{http://ead3.archivists.org/schema/}origination {'label': 'creator'}\n",
      "{http://ead3.archivists.org/schema/}persname {'source': 'local'}\n",
      "{http://ead3.archivists.org/schema/}part {}\n",
      "{http://ead3.archivists.org/schema/}origination {'label': 'creator'}\n",
      "{http://ead3.archivists.org/schema/}persname {'source': 'lcsh'}\n",
      "{http://ead3.archivists.org/schema/}part {}\n",
      "{http://ead3.archivists.org/schema/}scopecontent {'id': 'aspace_ref87'}\n",
      "{http://ead3.archivists.org/schema/}head {}\n",
      "{http://ead3.archivists.org/schema/}p {}\n",
      "{http://ead3.archivists.org/schema/}p {}\n",
      "{http://ead3.archivists.org/schema/}p {}\n",
      "{http://ead3.archivists.org/schema/}p {}\n",
      "{http://ead3.archivists.org/schema/}title {'render': 'italic'}\n",
      "{http://ead3.archivists.org/schema/}part {}\n",
      "{http://ead3.archivists.org/schema/}p {}\n",
      "{http://ead3.archivists.org/schema/}p {}\n",
      "{http://ead3.archivists.org/schema/}p {}\n",
      "{http://ead3.archivists.org/schema/}title {'render': 'italic'}\n",
      "{http://ead3.archivists.org/schema/}part {}\n",
      "{http://ead3.archivists.org/schema/}p {}\n",
      "{http://ead3.archivists.org/schema/}p {}\n",
      "{http://ead3.archivists.org/schema/}bioghist {'id': 'aspace_ref85'}\n",
      "{http://ead3.archivists.org/schema/}head {}\n",
      "{http://ead3.archivists.org/schema/}p {}\n",
      "{http://ead3.archivists.org/schema/}accessrestrict {'id': 'aspace_ref89'}\n",
      "{http://ead3.archivists.org/schema/}head {}\n",
      "{http://ead3.archivists.org/schema/}p {}\n",
      "{http://ead3.archivists.org/schema/}userestrict {'id': 'aspace_ref90'}\n",
      "{http://ead3.archivists.org/schema/}head {}\n",
      "{http://ead3.archivists.org/schema/}p {}\n",
      "{http://ead3.archivists.org/schema/}prefercite {'id': 'aspace_ref91'}\n",
      "{http://ead3.archivists.org/schema/}head {}\n",
      "{http://ead3.archivists.org/schema/}p {}\n",
      "{http://ead3.archivists.org/schema/}controlaccess {}\n",
      "{http://ead3.archivists.org/schema/}genreform {'source': 'aat'}\n",
      "{http://ead3.archivists.org/schema/}part {}\n",
      "{http://ead3.archivists.org/schema/}genreform {'source': 'aat'}\n",
      "{http://ead3.archivists.org/schema/}part {}\n",
      "{http://ead3.archivists.org/schema/}genreform {'source': 'aat'}\n",
      "{http://ead3.archivists.org/schema/}part {}\n",
      "{http://ead3.archivists.org/schema/}genreform {'source': 'aat'}\n",
      "{http://ead3.archivists.org/schema/}part {}\n",
      "{http://ead3.archivists.org/schema/}geogname {'source': 'lcnaf'}\n",
      "{http://ead3.archivists.org/schema/}part {}\n",
      "{http://ead3.archivists.org/schema/}subject {'source': 'lcsh'}\n",
      "{http://ead3.archivists.org/schema/}part {}\n",
      "{http://ead3.archivists.org/schema/}persname {'source': 'lcnaf'}\n",
      "{http://ead3.archivists.org/schema/}part {}\n",
      "{http://ead3.archivists.org/schema/}persname {'source': 'lcnaf'}\n",
      "{http://ead3.archivists.org/schema/}part {}\n",
      "{http://ead3.archivists.org/schema/}corpname {'source': 'lcnaf'}\n",
      "{http://ead3.archivists.org/schema/}part {}\n",
      "{http://ead3.archivists.org/schema/}dsc {}\n",
      "{http://ead3.archivists.org/schema/}c01 {'id': 'aspace_ref1', 'level': 'series'}\n",
      "{http://ead3.archivists.org/schema/}did {}\n",
      "{http://ead3.archivists.org/schema/}unittitle {}\n",
      "{http://ead3.archivists.org/schema/}scopecontent {'id': 'aspace_ref45'}\n",
      "{http://ead3.archivists.org/schema/}head {}\n",
      "{http://ead3.archivists.org/schema/}p {}\n",
      "{http://ead3.archivists.org/schema/}c02 {'id': 'aspace_ref10', 'level': 'subseries'}\n",
      "{http://ead3.archivists.org/schema/}did {}\n",
      "{http://ead3.archivists.org/schema/}unittitle {}\n",
      "{http://ead3.archivists.org/schema/}unitdatestructured {'unitdatetype': 'inclusive'}\n",
      "{http://ead3.archivists.org/schema/}daterange {}\n",
      "{http://ead3.archivists.org/schema/}fromdate {'standarddate': '1896'}\n",
      "{http://ead3.archivists.org/schema/}todate {'standarddate': '1923'}\n",
      "{http://ead3.archivists.org/schema/}unitdate {'unitdatetype': 'inclusive'}\n",
      "{http://ead3.archivists.org/schema/}c03 {'id': 'aspace_ref2', 'level': 'file'}\n",
      "{http://ead3.archivists.org/schema/}did {}\n",
      "{http://ead3.archivists.org/schema/}unittitle {}\n",
      "{http://ead3.archivists.org/schema/}unitdatestructured {'unitdatetype': 'inclusive'}\n",
      "{http://ead3.archivists.org/schema/}daterange {}\n",
      "{http://ead3.archivists.org/schema/}fromdate {'standarddate': '1896'}\n",
      "{http://ead3.archivists.org/schema/}todate {'standarddate': '1896'}\n",
      "{http://ead3.archivists.org/schema/}unitdate {'unitdatetype': 'inclusive'}\n",
      "{http://ead3.archivists.org/schema/}container {'id': 'aspace_34f660459ea16685f1c68adf75ed2d8c', 'label': 'Mixed Materials', 'localtype': 'Box'}\n",
      "{http://ead3.archivists.org/schema/}c03 {'id': 'aspace_ref3', 'level': 'file'}\n",
      "{http://ead3.archivists.org/schema/}did {}\n",
      "{http://ead3.archivists.org/schema/}unittitle {}\n",
      "{http://ead3.archivists.org/schema/}unitdatestructured {'unitdatetype': 'inclusive'}\n",
      "{http://ead3.archivists.org/schema/}daterange {}\n",
      "{http://ead3.archivists.org/schema/}fromdate {'standarddate': '1897'}\n",
      "{http://ead3.archivists.org/schema/}todate {'standarddate': '1897'}\n",
      "{http://ead3.archivists.org/schema/}unitdate {'unitdatetype': 'inclusive'}\n",
      "{http://ead3.archivists.org/schema/}container {'id': 'aspace_c5fbaf0b88a8c14afc2b247eb9563c20', 'label': 'Mixed Materials', 'localtype': 'Box'}\n",
      "{http://ead3.archivists.org/schema/}c03 {'id': 'aspace_ref4', 'level': 'file'}\n",
      "{http://ead3.archivists.org/schema/}did {}\n",
      "{http://ead3.archivists.org/schema/}unittitle {}\n",
      "{http://ead3.archivists.org/schema/}unitdatestructured {'unitdatetype': 'inclusive'}\n",
      "{http://ead3.archivists.org/schema/}daterange {}\n",
      "{http://ead3.archivists.org/schema/}fromdate {'standarddate': '1898'}\n",
      "{http://ead3.archivists.org/schema/}todate {'standarddate': '1898'}\n",
      "{http://ead3.archivists.org/schema/}unitdate {'unitdatetype': 'inclusive'}\n",
      "{http://ead3.archivists.org/schema/}container {'id': 'aspace_07ea3f9af8c41e2e72f45e38fd7f564e', 'label': 'Mixed Materials', 'localtype': 'Box'}\n",
      "{http://ead3.archivists.org/schema/}c03 {'id': 'aspace_ref7', 'level': 'file'}\n",
      "{http://ead3.archivists.org/schema/}did {}\n",
      "{http://ead3.archivists.org/schema/}unittitle {}\n",
      "{http://ead3.archivists.org/schema/}unitdatestructured {'unitdatetype': 'inclusive'}\n",
      "{http://ead3.archivists.org/schema/}daterange {}\n",
      "{http://ead3.archivists.org/schema/}fromdate {'standarddate': '1899'}\n",
      "{http://ead3.archivists.org/schema/}todate {'standarddate': '1899'}\n",
      "{http://ead3.archivists.org/schema/}unitdate {'unitdatetype': 'inclusive'}\n",
      "{http://ead3.archivists.org/schema/}container {'id': 'aspace_1675afe680644f03bd50e9a9afef16f8', 'label': 'Mixed Materials', 'localtype': 'Box'}\n",
      "{http://ead3.archivists.org/schema/}c03 {'id': 'aspace_ref8', 'level': 'file'}\n",
      "{http://ead3.archivists.org/schema/}did {}\n",
      "{http://ead3.archivists.org/schema/}unittitle {}\n",
      "{http://ead3.archivists.org/schema/}unitdatestructured {'unitdatetype': 'inclusive'}\n",
      "{http://ead3.archivists.org/schema/}daterange {}\n",
      "{http://ead3.archivists.org/schema/}fromdate {'standarddate': '1900'}\n",
      "{http://ead3.archivists.org/schema/}todate {'standarddate': '1911'}\n",
      "{http://ead3.archivists.org/schema/}unitdate {'unitdatetype': 'inclusive'}\n",
      "{http://ead3.archivists.org/schema/}container {'id': 'aspace_7913a259c3689004a8131efbfafa1acc', 'label': 'Mixed Materials', 'localtype': 'Box'}\n",
      "{http://ead3.archivists.org/schema/}c03 {'id': 'aspace_ref9', 'level': 'file'}\n",
      "{http://ead3.archivists.org/schema/}did {}\n",
      "{http://ead3.archivists.org/schema/}unittitle {}\n",
      "{http://ead3.archivists.org/schema/}unitdatestructured {'unitdatetype': 'inclusive'}\n",
      "{http://ead3.archivists.org/schema/}daterange {}\n",
      "{http://ead3.archivists.org/schema/}fromdate {'standarddate': '1920'}\n",
      "{http://ead3.archivists.org/schema/}todate {'standarddate': '1923'}\n",
      "{http://ead3.archivists.org/schema/}unitdate {'unitdatetype': 'inclusive'}\n",
      "{http://ead3.archivists.org/schema/}container {'id': 'aspace_0139c26a0c234d1bfb396fc19c3f11df', 'label': 'Mixed Materials', 'localtype': 'Box'}\n",
      "{http://ead3.archivists.org/schema/}c03 {'id': 'aspace_ref15', 'level': 'file'}\n",
      "{http://ead3.archivists.org/schema/}did {}\n",
      "{http://ead3.archivists.org/schema/}unittitle {}\n",
      "{http://ead3.archivists.org/schema/}container {'id': 'aspace_04a82f3d107ad7fb74eeb0add90d9dad', 'label': 'Mixed Materials', 'localtype': 'Box'}\n",
      "{http://ead3.archivists.org/schema/}c03 {'id': 'aspace_ref30', 'level': 'file'}\n",
      "{http://ead3.archivists.org/schema/}did {}\n",
      "{http://ead3.archivists.org/schema/}unittitle {}\n",
      "{http://ead3.archivists.org/schema/}container {'id': 'aspace_cb03e89ad3564ab95fa928042cded5a5', 'label': 'Mixed Materials', 'localtype': 'Box'}\n",
      "{http://ead3.archivists.org/schema/}c03 {'id': 'aspace_ref82', 'level': 'item'}\n",
      "{http://ead3.archivists.org/schema/}did {}\n",
      "{http://ead3.archivists.org/schema/}unittitle {}\n",
      "{http://ead3.archivists.org/schema/}container {'id': 'aspace_569c71d50c656fc7d203cd63984746fd', 'label': 'Mixed Materials', 'localtype': 'Box'}\n",
      "{http://ead3.archivists.org/schema/}c02 {'id': 'aspace_ref11', 'level': 'subseries'}\n",
      "{http://ead3.archivists.org/schema/}did {}\n",
      "{http://ead3.archivists.org/schema/}unittitle {}\n",
      "{http://ead3.archivists.org/schema/}c03 {'id': 'aspace_ref12', 'level': 'file'}\n",
      "{http://ead3.archivists.org/schema/}did {}\n",
      "{http://ead3.archivists.org/schema/}unittitle {}\n",
      "{http://ead3.archivists.org/schema/}unitdatestructured {'unitdatetype': 'inclusive'}\n",
      "{http://ead3.archivists.org/schema/}daterange {}\n",
      "{http://ead3.archivists.org/schema/}fromdate {'standarddate': '1844'}\n",
      "{http://ead3.archivists.org/schema/}todate {'standarddate': '1884'}\n",
      "{http://ead3.archivists.org/schema/}unitdate {'unitdatetype': 'inclusive'}\n",
      "{http://ead3.archivists.org/schema/}container {'id': 'aspace_0f570d7cfd0df20def95bbaae79df071', 'label': 'Mixed Materials', 'localtype': 'Box'}\n",
      "{http://ead3.archivists.org/schema/}c03 {'id': 'aspace_ref13', 'level': 'file'}\n",
      "{http://ead3.archivists.org/schema/}did {}\n",
      "{http://ead3.archivists.org/schema/}unittitle {}\n",
      "{http://ead3.archivists.org/schema/}unitdatestructured {'unitdatetype': 'inclusive'}\n",
      "{http://ead3.archivists.org/schema/}daterange {}\n",
      "{http://ead3.archivists.org/schema/}fromdate {'standarddate': '1840'}\n",
      "{http://ead3.archivists.org/schema/}todate {'standarddate': '1884'}\n",
      "{http://ead3.archivists.org/schema/}unitdate {'unitdatetype': 'inclusive'}\n",
      "{http://ead3.archivists.org/schema/}container {'id': 'aspace_6fb6644f20429c0cc896706f1c454fca', 'label': 'Mixed Materials', 'localtype': 'Box'}\n",
      "{http://ead3.archivists.org/schema/}c03 {'id': 'aspace_ref35', 'level': 'file'}\n",
      "{http://ead3.archivists.org/schema/}did {}\n",
      "{http://ead3.archivists.org/schema/}unittitle {}\n",
      "{http://ead3.archivists.org/schema/}container {'id': 'aspace_936f21ee59ad82657e7229393ee2076b', 'label': 'Mixed Materials', 'localtype': 'Box'}\n",
      "{http://ead3.archivists.org/schema/}c03 {'id': 'aspace_ref31', 'level': 'file'}\n",
      "{http://ead3.archivists.org/schema/}did {}\n",
      "{http://ead3.archivists.org/schema/}unittitle {}\n",
      "{http://ead3.archivists.org/schema/}container {'id': 'aspace_3da3f76967f07a2d6fa182eff69088f9', 'label': 'Mixed Materials', 'localtype': 'Box'}\n",
      "{http://ead3.archivists.org/schema/}c02 {'id': 'aspace_ref16', 'level': 'subseries'}\n",
      "{http://ead3.archivists.org/schema/}did {}\n",
      "{http://ead3.archivists.org/schema/}unittitle {}\n",
      "{http://ead3.archivists.org/schema/}container {'id': 'aspace_1f16d0aa2c34091853929677065d5da0', 'label': 'Mixed Materials', 'localtype': 'Box'}\n",
      "{http://ead3.archivists.org/schema/}c01 {'id': 'aspace_ref18', 'level': 'series'}\n",
      "{http://ead3.archivists.org/schema/}did {}\n",
      "{http://ead3.archivists.org/schema/}unittitle {}\n",
      "{http://ead3.archivists.org/schema/}scopecontent {'id': 'aspace_ref47'}\n",
      "{http://ead3.archivists.org/schema/}head {}\n",
      "{http://ead3.archivists.org/schema/}p {}\n",
      "{http://ead3.archivists.org/schema/}c02 {'id': 'aspace_ref19', 'level': 'file'}\n",
      "{http://ead3.archivists.org/schema/}did {}\n",
      "{http://ead3.archivists.org/schema/}unittitle {}\n",
      "{http://ead3.archivists.org/schema/}container {'id': 'aspace_438177bff956336b3ea784c236284656', 'label': 'Mixed Materials', 'localtype': 'Box'}\n",
      "{http://ead3.archivists.org/schema/}c02 {'id': 'aspace_ref20', 'level': 'file'}\n",
      "{http://ead3.archivists.org/schema/}did {}\n",
      "{http://ead3.archivists.org/schema/}unittitle {}\n",
      "{http://ead3.archivists.org/schema/}container {'id': 'aspace_11584dde663b12e2c3e334bec2e8ea49', 'label': 'Mixed Materials', 'localtype': 'Box'}\n",
      "{http://ead3.archivists.org/schema/}c02 {'id': 'aspace_ref21', 'level': 'file'}\n",
      "{http://ead3.archivists.org/schema/}did {}\n",
      "{http://ead3.archivists.org/schema/}unittitle {}\n",
      "{http://ead3.archivists.org/schema/}unitdatestructured {'unitdatetype': 'inclusive'}\n",
      "{http://ead3.archivists.org/schema/}daterange {}\n",
      "{http://ead3.archivists.org/schema/}fromdate {'standarddate': '1942'}\n",
      "{http://ead3.archivists.org/schema/}todate {'standarddate': '1942'}\n",
      "{http://ead3.archivists.org/schema/}unitdate {'unitdatetype': 'inclusive'}\n",
      "{http://ead3.archivists.org/schema/}container {'id': 'aspace_4e1315f7d118ba29445ce89b55a79a44', 'label': 'Mixed Materials', 'localtype': 'Box'}\n",
      "{http://ead3.archivists.org/schema/}c02 {'id': 'aspace_ref48', 'level': 'file'}\n",
      "{http://ead3.archivists.org/schema/}did {}\n",
      "{http://ead3.archivists.org/schema/}unittitle {}\n",
      "{http://ead3.archivists.org/schema/}container {'id': 'aspace_90d04d528884f1062bfc1f3fdfe5c343', 'label': 'Mixed Materials', 'localtype': 'Box'}\n",
      "{http://ead3.archivists.org/schema/}c01 {'id': 'aspace_ref22', 'level': 'series'}\n",
      "{http://ead3.archivists.org/schema/}did {}\n",
      "{http://ead3.archivists.org/schema/}unittitle {}\n",
      "{http://ead3.archivists.org/schema/}scopecontent {'id': 'aspace_ref49'}\n",
      "{http://ead3.archivists.org/schema/}head {}\n",
      "{http://ead3.archivists.org/schema/}p {}\n",
      "{http://ead3.archivists.org/schema/}title {'render': 'italic'}\n",
      "{http://ead3.archivists.org/schema/}part {}\n",
      "{http://ead3.archivists.org/schema/}c02 {'id': 'aspace_ref24', 'level': 'file'}\n",
      "{http://ead3.archivists.org/schema/}did {}\n",
      "{http://ead3.archivists.org/schema/}unittitle {}\n",
      "{http://ead3.archivists.org/schema/}title {'render': 'italic'}\n",
      "{http://ead3.archivists.org/schema/}part {}\n",
      "{http://ead3.archivists.org/schema/}unitdatestructured {'unitdatetype': 'inclusive'}\n",
      "{http://ead3.archivists.org/schema/}daterange {}\n",
      "{http://ead3.archivists.org/schema/}fromdate {'standarddate': '1868'}\n",
      "{http://ead3.archivists.org/schema/}todate {'standarddate': '1870'}\n",
      "{http://ead3.archivists.org/schema/}unitdate {'unitdatetype': 'inclusive'}\n",
      "{http://ead3.archivists.org/schema/}container {'id': 'aspace_5edaab2b455a32c6a8b090d81b5364e5', 'label': 'Mixed Materials', 'localtype': 'Box'}\n",
      "{http://ead3.archivists.org/schema/}c02 {'id': 'aspace_ref25', 'level': 'file'}\n",
      "{http://ead3.archivists.org/schema/}did {}\n",
      "{http://ead3.archivists.org/schema/}unittitle {}\n",
      "{http://ead3.archivists.org/schema/}unitdatestructured {'unitdatetype': 'inclusive'}\n",
      "{http://ead3.archivists.org/schema/}daterange {}\n",
      "{http://ead3.archivists.org/schema/}fromdate {'standarddate': '1894'}\n",
      "{http://ead3.archivists.org/schema/}todate {'standarddate': '1950'}\n",
      "{http://ead3.archivists.org/schema/}unitdate {'unitdatetype': 'inclusive'}\n",
      "{http://ead3.archivists.org/schema/}container {'id': 'aspace_e171db04a3f315613c440529d2186bb9', 'label': 'Mixed Materials', 'localtype': 'Box'}\n",
      "{http://ead3.archivists.org/schema/}c01 {'id': 'aspace_ref26', 'level': 'series'}\n",
      "{http://ead3.archivists.org/schema/}did {}\n",
      "{http://ead3.archivists.org/schema/}unittitle {}\n",
      "{http://ead3.archivists.org/schema/}scopecontent {'id': 'aspace_ref83'}\n",
      "{http://ead3.archivists.org/schema/}head {}\n",
      "{http://ead3.archivists.org/schema/}p {}\n",
      "{http://ead3.archivists.org/schema/}c02 {'id': 'aspace_ref27', 'level': 'file'}\n",
      "{http://ead3.archivists.org/schema/}did {}\n",
      "{http://ead3.archivists.org/schema/}unittitle {}\n",
      "{http://ead3.archivists.org/schema/}c03 {'id': 'aspace_ref36', 'level': 'item'}\n",
      "{http://ead3.archivists.org/schema/}did {}\n",
      "{http://ead3.archivists.org/schema/}unittitle {}\n",
      "{http://ead3.archivists.org/schema/}title {'render': 'italic'}\n",
      "{http://ead3.archivists.org/schema/}part {}\n",
      "{http://ead3.archivists.org/schema/}unitdatestructured {'unitdatetype': 'inclusive'}\n",
      "{http://ead3.archivists.org/schema/}daterange {}\n",
      "{http://ead3.archivists.org/schema/}fromdate {'standarddate': '1916'}\n",
      "{http://ead3.archivists.org/schema/}todate {'standarddate': '1916'}\n",
      "{http://ead3.archivists.org/schema/}unitdate {'unitdatetype': 'inclusive'}\n",
      "{http://ead3.archivists.org/schema/}container {'id': 'aspace_e1d5a51d2275db60a4db70b0eb3c18e1', 'label': 'Mixed Materials', 'localtype': 'Box'}\n",
      "{http://ead3.archivists.org/schema/}c03 {'id': 'aspace_ref37', 'level': 'item'}\n",
      "{http://ead3.archivists.org/schema/}did {}\n",
      "{http://ead3.archivists.org/schema/}unittitle {}\n",
      "{http://ead3.archivists.org/schema/}title {'render': 'italic'}\n",
      "{http://ead3.archivists.org/schema/}part {}\n",
      "{http://ead3.archivists.org/schema/}unitdatestructured {'unitdatetype': 'inclusive'}\n",
      "{http://ead3.archivists.org/schema/}daterange {}\n",
      "{http://ead3.archivists.org/schema/}fromdate {'standarddate': '1923'}\n",
      "{http://ead3.archivists.org/schema/}todate {'standarddate': '1923'}\n",
      "{http://ead3.archivists.org/schema/}unitdate {'unitdatetype': 'inclusive'}\n",
      "{http://ead3.archivists.org/schema/}container {'id': 'aspace_47a18c8809cd8edc0e2a6f2b68a566d2', 'label': 'Mixed Materials', 'localtype': 'Box'}\n",
      "{http://ead3.archivists.org/schema/}c03 {'id': 'aspace_ref38', 'level': 'item'}\n",
      "{http://ead3.archivists.org/schema/}did {}\n",
      "{http://ead3.archivists.org/schema/}unittitle {}\n",
      "{http://ead3.archivists.org/schema/}title {'render': 'italic'}\n",
      "{http://ead3.archivists.org/schema/}part {}\n",
      "{http://ead3.archivists.org/schema/}unitdatestructured {'unitdatetype': 'inclusive'}\n",
      "{http://ead3.archivists.org/schema/}daterange {}\n",
      "{http://ead3.archivists.org/schema/}fromdate {'standarddate': '1890'}\n",
      "{http://ead3.archivists.org/schema/}todate {'standarddate': '1890'}\n",
      "{http://ead3.archivists.org/schema/}unitdate {'unitdatetype': 'inclusive'}\n",
      "{http://ead3.archivists.org/schema/}container {'id': 'aspace_3c85895a5d837d7829631ef81b1628d5', 'label': 'Mixed Materials', 'localtype': 'Box'}\n",
      "{http://ead3.archivists.org/schema/}c03 {'id': 'aspace_ref39', 'level': 'item'}\n",
      "{http://ead3.archivists.org/schema/}did {}\n",
      "{http://ead3.archivists.org/schema/}unittitle {}\n",
      "{http://ead3.archivists.org/schema/}title {'render': 'italic'}\n",
      "{http://ead3.archivists.org/schema/}part {}\n",
      "{http://ead3.archivists.org/schema/}unitdatestructured {'unitdatetype': 'inclusive'}\n",
      "{http://ead3.archivists.org/schema/}daterange {}\n",
      "{http://ead3.archivists.org/schema/}fromdate {'standarddate': '1922'}\n",
      "{http://ead3.archivists.org/schema/}todate {'standarddate': '1922'}\n",
      "{http://ead3.archivists.org/schema/}unitdate {'unitdatetype': 'inclusive'}\n",
      "{http://ead3.archivists.org/schema/}container {'id': 'aspace_d9126f746b792d538f8d8163955c849c', 'label': 'Mixed Materials', 'localtype': 'Box'}\n",
      "{http://ead3.archivists.org/schema/}c03 {'id': 'aspace_ref40', 'level': 'item'}\n",
      "{http://ead3.archivists.org/schema/}did {}\n",
      "{http://ead3.archivists.org/schema/}unittitle {}\n",
      "{http://ead3.archivists.org/schema/}title {'render': 'italic'}\n",
      "{http://ead3.archivists.org/schema/}part {}\n",
      "{http://ead3.archivists.org/schema/}unitdatestructured {'unitdatetype': 'inclusive'}\n",
      "{http://ead3.archivists.org/schema/}daterange {}\n",
      "{http://ead3.archivists.org/schema/}fromdate {'standarddate': '1922'}\n",
      "{http://ead3.archivists.org/schema/}todate {'standarddate': '1922'}\n",
      "{http://ead3.archivists.org/schema/}unitdate {'unitdatetype': 'inclusive'}\n",
      "{http://ead3.archivists.org/schema/}container {'id': 'aspace_9e772b31401acbae341f7d48a73eae68', 'label': 'Mixed Materials', 'localtype': 'Box'}\n",
      "{http://ead3.archivists.org/schema/}c03 {'id': 'aspace_ref41', 'level': 'item'}\n",
      "{http://ead3.archivists.org/schema/}did {}\n",
      "{http://ead3.archivists.org/schema/}unittitle {}\n",
      "{http://ead3.archivists.org/schema/}title {'render': 'italic'}\n",
      "{http://ead3.archivists.org/schema/}part {}\n",
      "{http://ead3.archivists.org/schema/}container {'id': 'aspace_0128c752e324967842d677fa7fa1714c', 'label': 'Mixed Materials', 'localtype': 'Box'}\n",
      "{http://ead3.archivists.org/schema/}c03 {'id': 'aspace_ref43', 'level': 'item'}\n",
      "{http://ead3.archivists.org/schema/}did {}\n",
      "{http://ead3.archivists.org/schema/}unittitle {}\n",
      "{http://ead3.archivists.org/schema/}title {'render': 'italic'}\n",
      "{http://ead3.archivists.org/schema/}part {}\n",
      "{http://ead3.archivists.org/schema/}unitdatestructured {'unitdatetype': 'inclusive'}\n",
      "{http://ead3.archivists.org/schema/}daterange {}\n",
      "{http://ead3.archivists.org/schema/}fromdate {'standarddate': '1862'}\n",
      "{http://ead3.archivists.org/schema/}todate {'standarddate': '1862'}\n",
      "{http://ead3.archivists.org/schema/}unitdate {'unitdatetype': 'inclusive'}\n",
      "{http://ead3.archivists.org/schema/}container {'id': 'aspace_67bf218327b9ecaec128267f5254128c', 'label': 'Mixed Materials', 'localtype': 'Box'}\n",
      "{http://ead3.archivists.org/schema/}c03 {'id': 'aspace_ref44', 'level': 'item'}\n",
      "{http://ead3.archivists.org/schema/}did {}\n",
      "{http://ead3.archivists.org/schema/}unittitle {}\n",
      "{http://ead3.archivists.org/schema/}title {'render': 'italic'}\n",
      "{http://ead3.archivists.org/schema/}part {}\n",
      "{http://ead3.archivists.org/schema/}unitdatestructured {'unitdatetype': 'inclusive'}\n",
      "{http://ead3.archivists.org/schema/}daterange {}\n",
      "{http://ead3.archivists.org/schema/}fromdate {'standarddate': '1909'}\n",
      "{http://ead3.archivists.org/schema/}todate {'standarddate': '1909'}\n",
      "{http://ead3.archivists.org/schema/}unitdate {'unitdatetype': 'inclusive'}\n",
      "{http://ead3.archivists.org/schema/}container {'id': 'aspace_7979bf39029c8ec51c684c80becdae90', 'label': 'Mixed Materials', 'localtype': 'Box'}\n",
      "{http://ead3.archivists.org/schema/}c02 {'id': 'aspace_ref54', 'level': 'file'}\n",
      "{http://ead3.archivists.org/schema/}did {}\n",
      "{http://ead3.archivists.org/schema/}unittitle {}\n",
      "{http://ead3.archivists.org/schema/}c03 {'id': 'aspace_ref55', 'level': 'file'}\n",
      "{http://ead3.archivists.org/schema/}did {}\n",
      "{http://ead3.archivists.org/schema/}unittitle {}\n",
      "{http://ead3.archivists.org/schema/}container {'id': 'aspace_e56c67cf1f62eb9e5cb08467aac42bcc', 'label': 'Mixed Materials', 'localtype': 'Box'}\n",
      "{http://ead3.archivists.org/schema/}c03 {'id': 'aspace_ref56', 'level': 'item'}\n",
      "{http://ead3.archivists.org/schema/}did {}\n",
      "{http://ead3.archivists.org/schema/}unittitle {}\n",
      "{http://ead3.archivists.org/schema/}unitdatestructured {'unitdatetype': 'inclusive'}\n",
      "{http://ead3.archivists.org/schema/}daterange {}\n",
      "{http://ead3.archivists.org/schema/}fromdate {'standarddate': '1922'}\n",
      "{http://ead3.archivists.org/schema/}todate {'standarddate': '1922'}\n",
      "{http://ead3.archivists.org/schema/}unitdate {'unitdatetype': 'inclusive'}\n",
      "{http://ead3.archivists.org/schema/}container {'id': 'aspace_3b052140097d3f67a04518aeb2ab43c3', 'label': 'Mixed Materials', 'localtype': 'Box'}\n",
      "{http://ead3.archivists.org/schema/}c03 {'id': 'aspace_ref57', 'level': 'item'}\n",
      "{http://ead3.archivists.org/schema/}did {}\n",
      "{http://ead3.archivists.org/schema/}unittitle {}\n",
      "{http://ead3.archivists.org/schema/}unitdatestructured {'unitdatetype': 'inclusive'}\n",
      "{http://ead3.archivists.org/schema/}daterange {}\n",
      "{http://ead3.archivists.org/schema/}fromdate {'standarddate': '1922'}\n",
      "{http://ead3.archivists.org/schema/}todate {'standarddate': '1922'}\n",
      "{http://ead3.archivists.org/schema/}unitdate {'unitdatetype': 'inclusive'}\n",
      "{http://ead3.archivists.org/schema/}container {'id': 'aspace_3d4b797ffafadae95692faefaaf08217', 'label': 'Mixed Materials', 'localtype': 'Box'}\n",
      "{http://ead3.archivists.org/schema/}c02 {'id': 'aspace_ref50', 'level': 'file'}\n",
      "{http://ead3.archivists.org/schema/}did {}\n",
      "{http://ead3.archivists.org/schema/}unittitle {}\n",
      "{http://ead3.archivists.org/schema/}c03 {'id': 'aspace_ref51', 'level': 'item'}\n",
      "{http://ead3.archivists.org/schema/}did {}\n",
      "{http://ead3.archivists.org/schema/}unittitle {}\n",
      "{http://ead3.archivists.org/schema/}unitdatestructured {'unitdatetype': 'inclusive'}\n",
      "{http://ead3.archivists.org/schema/}daterange {}\n",
      "{http://ead3.archivists.org/schema/}fromdate {'standarddate': '1921'}\n",
      "{http://ead3.archivists.org/schema/}todate {'standarddate': '1921'}\n",
      "{http://ead3.archivists.org/schema/}unitdate {'unitdatetype': 'inclusive'}\n",
      "{http://ead3.archivists.org/schema/}container {'id': 'aspace_2561c330173e2e4c0dcd72d2e1eed9a2', 'label': 'Mixed Materials', 'localtype': 'Box'}\n",
      "{http://ead3.archivists.org/schema/}c03 {'id': 'aspace_ref52', 'level': 'item'}\n",
      "{http://ead3.archivists.org/schema/}did {}\n",
      "{http://ead3.archivists.org/schema/}unittitle {}\n",
      "{http://ead3.archivists.org/schema/}unitdatestructured {'unitdatetype': 'inclusive'}\n",
      "{http://ead3.archivists.org/schema/}daterange {}\n",
      "{http://ead3.archivists.org/schema/}fromdate {'standarddate': '1922'}\n",
      "{http://ead3.archivists.org/schema/}todate {'standarddate': '1922'}\n",
      "{http://ead3.archivists.org/schema/}unitdate {'unitdatetype': 'inclusive'}\n",
      "{http://ead3.archivists.org/schema/}container {'id': 'aspace_10d3a624dc3dd3b494cc891896a7fd0f', 'label': 'Mixed Materials', 'localtype': 'Box'}\n",
      "{http://ead3.archivists.org/schema/}c03 {'id': 'aspace_ref53', 'level': 'item'}\n",
      "{http://ead3.archivists.org/schema/}did {}\n",
      "{http://ead3.archivists.org/schema/}unittitle {}\n",
      "{http://ead3.archivists.org/schema/}unitdatestructured {'unitdatetype': 'inclusive'}\n",
      "{http://ead3.archivists.org/schema/}daterange {}\n",
      "{http://ead3.archivists.org/schema/}fromdate {'standarddate': '1901'}\n",
      "{http://ead3.archivists.org/schema/}todate {'standarddate': '1901'}\n",
      "{http://ead3.archivists.org/schema/}unitdate {'unitdatetype': 'inclusive'}\n",
      "{http://ead3.archivists.org/schema/}container {'id': 'aspace_446aabcda9fa200babfe589b0555cf26', 'label': 'Mixed Materials', 'localtype': 'Box'}\n",
      "{http://ead3.archivists.org/schema/}c02 {'id': 'aspace_ref58', 'level': 'file'}\n",
      "{http://ead3.archivists.org/schema/}did {}\n",
      "{http://ead3.archivists.org/schema/}unittitle {}\n",
      "{http://ead3.archivists.org/schema/}c03 {'id': 'aspace_ref59', 'level': 'item'}\n",
      "{http://ead3.archivists.org/schema/}did {}\n",
      "{http://ead3.archivists.org/schema/}unittitle {}\n",
      "{http://ead3.archivists.org/schema/}title {'render': 'italic'}\n",
      "{http://ead3.archivists.org/schema/}part {}\n",
      "{http://ead3.archivists.org/schema/}unitdatestructured {'unitdatetype': 'inclusive'}\n",
      "{http://ead3.archivists.org/schema/}daterange {}\n",
      "{http://ead3.archivists.org/schema/}fromdate {'standarddate': '1864'}\n",
      "{http://ead3.archivists.org/schema/}todate {'standarddate': '1864'}\n",
      "{http://ead3.archivists.org/schema/}unitdate {'unitdatetype': 'inclusive'}\n",
      "{http://ead3.archivists.org/schema/}container {'id': 'aspace_9fcc3c85b204544acbe4687142a8a134', 'label': 'Mixed Materials', 'localtype': 'Box'}\n",
      "{http://ead3.archivists.org/schema/}c03 {'id': 'aspace_ref60', 'level': 'item'}\n",
      "{http://ead3.archivists.org/schema/}did {}\n",
      "{http://ead3.archivists.org/schema/}unittitle {}\n",
      "{http://ead3.archivists.org/schema/}container {'id': 'aspace_1962e8a8dd6c89791f671161469ca203', 'label': 'Mixed Materials', 'localtype': 'Box'}\n",
      "{http://ead3.archivists.org/schema/}c02 {'id': 'aspace_ref61', 'level': 'file'}\n",
      "{http://ead3.archivists.org/schema/}did {}\n",
      "{http://ead3.archivists.org/schema/}unittitle {}\n",
      "{http://ead3.archivists.org/schema/}c03 {'id': 'aspace_ref62', 'level': 'item'}\n",
      "{http://ead3.archivists.org/schema/}did {}\n",
      "{http://ead3.archivists.org/schema/}unittitle {}\n",
      "{http://ead3.archivists.org/schema/}unitdatestructured {'unitdatetype': 'inclusive'}\n",
      "{http://ead3.archivists.org/schema/}daterange {}\n",
      "{http://ead3.archivists.org/schema/}fromdate {'standarddate': '1909'}\n",
      "{http://ead3.archivists.org/schema/}todate {'standarddate': '1909'}\n",
      "{http://ead3.archivists.org/schema/}unitdate {'unitdatetype': 'inclusive'}\n",
      "{http://ead3.archivists.org/schema/}container {'id': 'aspace_6386c80d1dde1e7846fec89033a0710e', 'label': 'Mixed Materials', 'localtype': 'Box'}\n",
      "{http://ead3.archivists.org/schema/}c03 {'id': 'aspace_ref63', 'level': 'item'}\n",
      "{http://ead3.archivists.org/schema/}did {}\n",
      "{http://ead3.archivists.org/schema/}unittitle {}\n",
      "{http://ead3.archivists.org/schema/}title {'render': 'italic'}\n",
      "{http://ead3.archivists.org/schema/}part {}\n",
      "{http://ead3.archivists.org/schema/}unitdatestructured {'unitdatetype': 'inclusive'}\n",
      "{http://ead3.archivists.org/schema/}daterange {}\n",
      "{http://ead3.archivists.org/schema/}fromdate {'standarddate': '1901'}\n",
      "{http://ead3.archivists.org/schema/}todate {'standarddate': '1901'}\n",
      "{http://ead3.archivists.org/schema/}unitdate {'unitdatetype': 'inclusive'}\n",
      "{http://ead3.archivists.org/schema/}container {'id': 'aspace_ccee1ac0fbbc1701913be800eccb17f0', 'label': 'Mixed Materials', 'localtype': 'Box'}\n",
      "{http://ead3.archivists.org/schema/}c03 {'id': 'aspace_ref64', 'level': 'item'}\n",
      "{http://ead3.archivists.org/schema/}did {}\n",
      "{http://ead3.archivists.org/schema/}unittitle {}\n",
      "{http://ead3.archivists.org/schema/}unitdatestructured {'unitdatetype': 'inclusive'}\n",
      "{http://ead3.archivists.org/schema/}daterange {}\n",
      "{http://ead3.archivists.org/schema/}fromdate {'standarddate': '1914'}\n",
      "{http://ead3.archivists.org/schema/}todate {'standarddate': '1914'}\n",
      "{http://ead3.archivists.org/schema/}unitdate {'unitdatetype': 'inclusive'}\n",
      "{http://ead3.archivists.org/schema/}container {'id': 'aspace_6efe7a032bcf95a82c94aa5a710c72b3', 'label': 'Mixed Materials', 'localtype': 'Box'}\n",
      "{http://ead3.archivists.org/schema/}c03 {'id': 'aspace_ref65', 'level': 'item'}\n",
      "{http://ead3.archivists.org/schema/}did {}\n",
      "{http://ead3.archivists.org/schema/}unittitle {}\n",
      "{http://ead3.archivists.org/schema/}unitdatestructured {'unitdatetype': 'inclusive'}\n",
      "{http://ead3.archivists.org/schema/}daterange {}\n",
      "{http://ead3.archivists.org/schema/}fromdate {'standarddate': '1909'}\n",
      "{http://ead3.archivists.org/schema/}todate {'standarddate': '1909'}\n",
      "{http://ead3.archivists.org/schema/}unitdate {'unitdatetype': 'inclusive'}\n",
      "{http://ead3.archivists.org/schema/}container {'id': 'aspace_769d9f45aa5d722f74c8e478bcfd6506', 'label': 'Mixed Materials', 'localtype': 'Box'}\n",
      "{http://ead3.archivists.org/schema/}c03 {'id': 'aspace_ref67', 'level': 'item'}\n",
      "{http://ead3.archivists.org/schema/}did {}\n",
      "{http://ead3.archivists.org/schema/}unittitle {}\n",
      "{http://ead3.archivists.org/schema/}unitdatestructured {'unitdatetype': 'inclusive'}\n",
      "{http://ead3.archivists.org/schema/}daterange {}\n",
      "{http://ead3.archivists.org/schema/}fromdate {'standarddate': '1921'}\n",
      "{http://ead3.archivists.org/schema/}todate {'standarddate': '1921'}\n",
      "{http://ead3.archivists.org/schema/}unitdate {'unitdatetype': 'inclusive'}\n",
      "{http://ead3.archivists.org/schema/}container {'id': 'aspace_9f2ef19c40111aee214a110ad0af75ea', 'label': 'Mixed Materials', 'localtype': 'Box'}\n",
      "{http://ead3.archivists.org/schema/}c03 {'id': 'aspace_ref68', 'level': 'item'}\n",
      "{http://ead3.archivists.org/schema/}did {}\n",
      "{http://ead3.archivists.org/schema/}unittitle {}\n",
      "{http://ead3.archivists.org/schema/}unitdatestructured {'unitdatetype': 'inclusive'}\n",
      "{http://ead3.archivists.org/schema/}daterange {}\n",
      "{http://ead3.archivists.org/schema/}fromdate {'standarddate': '1921'}\n",
      "{http://ead3.archivists.org/schema/}todate {'standarddate': '1921'}\n",
      "{http://ead3.archivists.org/schema/}unitdate {'unitdatetype': 'inclusive'}\n",
      "{http://ead3.archivists.org/schema/}container {'id': 'aspace_cacb13b27a5339f042cd95e74aeb909b', 'label': 'Mixed Materials', 'localtype': 'Box'}\n",
      "{http://ead3.archivists.org/schema/}c03 {'id': 'aspace_ref80', 'level': 'item'}\n",
      "{http://ead3.archivists.org/schema/}did {}\n",
      "{http://ead3.archivists.org/schema/}unittitle {}\n",
      "{http://ead3.archivists.org/schema/}unitdatestructured {'unitdatetype': 'inclusive'}\n",
      "{http://ead3.archivists.org/schema/}daterange {}\n",
      "{http://ead3.archivists.org/schema/}fromdate {'standarddate': '1868'}\n",
      "{http://ead3.archivists.org/schema/}todate {'standarddate': '1868'}\n",
      "{http://ead3.archivists.org/schema/}unitdate {'unitdatetype': 'inclusive'}\n",
      "{http://ead3.archivists.org/schema/}container {'id': 'aspace_883142cea45b4905d2217620d58f5451', 'label': 'Mixed Materials', 'localtype': 'Box'}\n",
      "{http://ead3.archivists.org/schema/}c02 {'id': 'aspace_ref69', 'level': 'file'}\n",
      "{http://ead3.archivists.org/schema/}did {}\n",
      "{http://ead3.archivists.org/schema/}unittitle {}\n",
      "{http://ead3.archivists.org/schema/}c03 {'id': 'aspace_ref70', 'level': 'item'}\n",
      "{http://ead3.archivists.org/schema/}did {}\n",
      "{http://ead3.archivists.org/schema/}unittitle {}\n",
      "{http://ead3.archivists.org/schema/}title {'render': 'italic'}\n",
      "{http://ead3.archivists.org/schema/}part {}\n",
      "{http://ead3.archivists.org/schema/}unitdatestructured {'unitdatetype': 'inclusive'}\n",
      "{http://ead3.archivists.org/schema/}daterange {}\n",
      "{http://ead3.archivists.org/schema/}fromdate {'standarddate': '1923'}\n",
      "{http://ead3.archivists.org/schema/}todate {'standarddate': '1923'}\n",
      "{http://ead3.archivists.org/schema/}unitdate {'unitdatetype': 'inclusive'}\n",
      "{http://ead3.archivists.org/schema/}container {'id': 'aspace_3b9f0d21e0e2310623916e6467847052', 'label': 'Mixed Materials', 'localtype': 'Box'}\n",
      "{http://ead3.archivists.org/schema/}c03 {'id': 'aspace_ref71', 'level': 'item'}\n",
      "{http://ead3.archivists.org/schema/}did {}\n",
      "{http://ead3.archivists.org/schema/}unittitle {}\n",
      "{http://ead3.archivists.org/schema/}title {'render': 'italic'}\n",
      "{http://ead3.archivists.org/schema/}part {}\n",
      "{http://ead3.archivists.org/schema/}unitdatestructured {'unitdatetype': 'inclusive'}\n",
      "{http://ead3.archivists.org/schema/}daterange {}\n",
      "{http://ead3.archivists.org/schema/}fromdate {'standarddate': '1917'}\n",
      "{http://ead3.archivists.org/schema/}todate {'standarddate': '1917'}\n",
      "{http://ead3.archivists.org/schema/}unitdate {'unitdatetype': 'inclusive'}\n",
      "{http://ead3.archivists.org/schema/}container {'id': 'aspace_379e7515b6685d70aba8553777a69467', 'label': 'Mixed Materials', 'localtype': 'Box'}\n",
      "{http://ead3.archivists.org/schema/}c03 {'id': 'aspace_ref72', 'level': 'item'}\n",
      "{http://ead3.archivists.org/schema/}did {}\n",
      "{http://ead3.archivists.org/schema/}unittitle {}\n",
      "{http://ead3.archivists.org/schema/}title {'render': 'italic'}\n",
      "{http://ead3.archivists.org/schema/}part {}\n",
      "{http://ead3.archivists.org/schema/}unitdatestructured {'unitdatetype': 'inclusive'}\n",
      "{http://ead3.archivists.org/schema/}daterange {}\n",
      "{http://ead3.archivists.org/schema/}fromdate {'standarddate': '1848'}\n",
      "{http://ead3.archivists.org/schema/}todate {'standarddate': '1848'}\n",
      "{http://ead3.archivists.org/schema/}unitdate {'unitdatetype': 'inclusive'}\n",
      "{http://ead3.archivists.org/schema/}container {'id': 'aspace_6deebcbdbfd947f6b7ccd34be7723ff0', 'label': 'Mixed Materials', 'localtype': 'Box'}\n",
      "{http://ead3.archivists.org/schema/}c03 {'id': 'aspace_ref73', 'level': 'file'}\n",
      "{http://ead3.archivists.org/schema/}did {}\n",
      "{http://ead3.archivists.org/schema/}unittitle {}\n",
      "{http://ead3.archivists.org/schema/}title {'render': 'italic'}\n",
      "{http://ead3.archivists.org/schema/}part {}\n",
      "{http://ead3.archivists.org/schema/}unitdatestructured {'unitdatetype': 'inclusive'}\n",
      "{http://ead3.archivists.org/schema/}daterange {}\n",
      "{http://ead3.archivists.org/schema/}fromdate {'standarddate': '1914'}\n",
      "{http://ead3.archivists.org/schema/}todate {'standarddate': '1914'}\n",
      "{http://ead3.archivists.org/schema/}unitdate {'unitdatetype': 'inclusive'}\n",
      "{http://ead3.archivists.org/schema/}container {'id': 'aspace_f5b98926c22c436ac6f0c0108b6e7e8b', 'label': 'Mixed Materials', 'localtype': 'Box'}\n",
      "{http://ead3.archivists.org/schema/}c03 {'id': 'aspace_ref74', 'level': 'item'}\n",
      "{http://ead3.archivists.org/schema/}did {}\n",
      "{http://ead3.archivists.org/schema/}unittitle {}\n",
      "{http://ead3.archivists.org/schema/}title {'render': 'italic'}\n",
      "{http://ead3.archivists.org/schema/}part {}\n",
      "{http://ead3.archivists.org/schema/}container {'id': 'aspace_a02deabc7e5cc2cf41d6da35a60789b9', 'label': 'Mixed Materials', 'localtype': 'Box'}\n",
      "{http://ead3.archivists.org/schema/}c03 {'id': 'aspace_ref75', 'level': 'item'}\n",
      "{http://ead3.archivists.org/schema/}did {}\n",
      "{http://ead3.archivists.org/schema/}unittitle {}\n",
      "{http://ead3.archivists.org/schema/}title {'render': 'italic'}\n",
      "{http://ead3.archivists.org/schema/}part {}\n",
      "{http://ead3.archivists.org/schema/}container {'id': 'aspace_3676d85439190851064a14a03c0c1158', 'label': 'Mixed Materials', 'localtype': 'Box'}\n",
      "{http://ead3.archivists.org/schema/}c03 {'id': 'aspace_ref76', 'level': 'item'}\n",
      "{http://ead3.archivists.org/schema/}did {}\n",
      "{http://ead3.archivists.org/schema/}unittitle {}\n",
      "{http://ead3.archivists.org/schema/}title {'render': 'italic'}\n",
      "{http://ead3.archivists.org/schema/}part {}\n",
      "{http://ead3.archivists.org/schema/}container {'id': 'aspace_77da1051da3ff929d110e9f555cc196e', 'label': 'Mixed Materials', 'localtype': 'Box'}\n",
      "{http://ead3.archivists.org/schema/}c03 {'id': 'aspace_ref77', 'level': 'item'}\n",
      "{http://ead3.archivists.org/schema/}did {}\n",
      "{http://ead3.archivists.org/schema/}unittitle {}\n",
      "{http://ead3.archivists.org/schema/}title {'render': 'italic'}\n",
      "{http://ead3.archivists.org/schema/}part {}\n",
      "{http://ead3.archivists.org/schema/}container {'id': 'aspace_79adfcd12ef9064b7d253f680bab7e78', 'label': 'Mixed Materials', 'localtype': 'Box'}\n",
      "{http://ead3.archivists.org/schema/}c03 {'id': 'aspace_ref78', 'level': 'item'}\n",
      "{http://ead3.archivists.org/schema/}did {}\n",
      "{http://ead3.archivists.org/schema/}unittitle {}\n",
      "{http://ead3.archivists.org/schema/}title {'render': 'italic'}\n",
      "{http://ead3.archivists.org/schema/}part {}\n",
      "{http://ead3.archivists.org/schema/}container {'id': 'aspace_2076b4888a1003153dc37bb8c76cd2ac', 'label': 'Mixed Materials', 'localtype': 'Box'}\n",
      "{http://ead3.archivists.org/schema/}c01 {'id': 'aspace_ref28', 'level': 'series'}\n",
      "{http://ead3.archivists.org/schema/}did {}\n",
      "{http://ead3.archivists.org/schema/}unittitle {}\n",
      "{http://ead3.archivists.org/schema/}scopecontent {'id': 'aspace_ref84'}\n",
      "{http://ead3.archivists.org/schema/}head {}\n",
      "{http://ead3.archivists.org/schema/}p {}\n",
      "{http://ead3.archivists.org/schema/}c02 {'id': 'aspace_ref29', 'level': 'item'}\n",
      "{http://ead3.archivists.org/schema/}did {}\n",
      "{http://ead3.archivists.org/schema/}unittitle {}\n",
      "{http://ead3.archivists.org/schema/}container {'id': 'aspace_6b383000a8e7a29c6251a657750b8325', 'label': 'Mixed Materials', 'localtype': 'Box'}\n",
      "{http://ead3.archivists.org/schema/}c02 {'id': 'aspace_ref81', 'level': 'item'}\n",
      "{http://ead3.archivists.org/schema/}did {}\n",
      "{http://ead3.archivists.org/schema/}unittitle {}\n",
      "{http://ead3.archivists.org/schema/}container {'id': 'aspace_2b71f64cc4f012837bf13a6cb9210ddb', 'label': 'Mixed Materials', 'localtype': 'Box'}\n"
     ]
    }
   ],
   "source": [
    "for element in root.iter():\n",
    "    print(element.tag, element.attrib)"
   ]
  },
  {
   "cell_type": "markdown",
   "metadata": {},
   "source": [
    "To select particular elements, use the `find()` function (this will return the first element that matches your request). The argument here is a modified XPath selector, which is how we will guide the function to the elements that we want to see in the tree. If looking for multiple elements, there is also a `findall()` function. "
   ]
  },
  {
   "cell_type": "code",
   "execution_count": 14,
   "metadata": {},
   "outputs": [
    {
     "name": "stdout",
     "output_type": "stream",
     "text": [
      "{'countryencoding': 'iso3166-1', 'dateencoding': 'iso8601', 'langencoding': 'iso639-2b', 'relatedencoding': 'marc', 'repositoryencoding': 'iso15511', 'scriptencoding': 'iso15924', 'language': 'en-US'}\n"
     ]
    }
   ],
   "source": [
    "control = tree.find('{http://ead3.archivists.org/schema/}control')\n",
    "print(control.attrib) "
   ]
  },
  {
   "cell_type": "markdown",
   "metadata": {},
   "source": [
    "\n",
    "Once we find the elements, use the `.get()` method to take a look at the attributes associated with a particular element. \n",
    "\n",
    "Continuing with the `control` element, get the value of a particular attribute. For example, `countryencoding`."
   ]
  },
  {
   "cell_type": "code",
   "execution_count": 15,
   "metadata": {},
   "outputs": [
    {
     "name": "stdout",
     "output_type": "stream",
     "text": [
      "Country encoding is according to: iso3166-1\n"
     ]
    }
   ],
   "source": [
    "countryCode = control.get('countryencoding')\n",
    "\n",
    "print(f'Country encoding is according to: {countryCode}')"
   ]
  },
  {
   "cell_type": "markdown",
   "metadata": {},
   "source": [
    "Once identified, Element objects can be iterated through, like the root element previously:"
   ]
  },
  {
   "cell_type": "code",
   "execution_count": 16,
   "metadata": {},
   "outputs": [
    {
     "name": "stdout",
     "output_type": "stream",
     "text": [
      "{http://ead3.archivists.org/schema/}recordid {'instanceurl': ''}\n",
      "{http://ead3.archivists.org/schema/}filedesc {}\n",
      "{http://ead3.archivists.org/schema/}maintenancestatus {'value': 'derived'}\n",
      "{http://ead3.archivists.org/schema/}maintenanceagency {'countrycode': 'US'}\n",
      "{http://ead3.archivists.org/schema/}languagedeclaration {}\n",
      "{http://ead3.archivists.org/schema/}conventiondeclaration {}\n",
      "{http://ead3.archivists.org/schema/}localcontrol {'localtype': 'findaidstatus'}\n",
      "{http://ead3.archivists.org/schema/}maintenancehistory {}\n"
     ]
    }
   ],
   "source": [
    "for element in control:\n",
    "    print(element.tag, element.attrib)"
   ]
  },
  {
   "cell_type": "markdown",
   "metadata": {},
   "source": [
    "## Working with namespaces\n",
    "\n",
    "Now, let's simplify the usage of namespaces. As you can see from the tags above, it can get tedious to use the full reference for each tag. When an XML with a namespace declaration is parsed by eTree, it prepends the associated namespace to each tag element. Thus, the `control` element in the EAD document here becomes `{http://ead3.archivists.org/schema/}control`. It's a lot to type each time you reference an element. Easier would be to shorten this to a prefix, in this case `ead:control` which provides a shorthand for the schema URI. \n",
    "\n",
    "To do this, the etree module provides a namespace handler. To initialize namespaces, establish a dictionary, typically named `ns` (or something short and easy to remember), that will be passed into the parser:"
   ]
  },
  {
   "cell_type": "code",
   "execution_count": 17,
   "metadata": {},
   "outputs": [],
   "source": [
    "ns = {\n",
    "    'ead' : 'http://ead3.archivists.org/schema/'\n",
    "}"
   ]
  },
  {
   "cell_type": "markdown",
   "metadata": {},
   "source": [
    "Now, elements associated with that namespace can be referenced in find, findall, or other statements in your code by using the prefix and element name, like `ead:control`: "
   ]
  },
  {
   "cell_type": "code",
   "execution_count": 18,
   "metadata": {},
   "outputs": [
    {
     "name": "stdout",
     "output_type": "stream",
     "text": [
      "{'countryencoding': 'iso3166-1', 'dateencoding': 'iso8601', 'langencoding': 'iso639-2b', 'relatedencoding': 'marc', 'repositoryencoding': 'iso15511', 'scriptencoding': 'iso15924', 'language': 'en-US'}\n"
     ]
    }
   ],
   "source": [
    "control = root.find('ead:control', ns)\n",
    "print(control.attrib)"
   ]
  },
  {
   "cell_type": "markdown",
   "metadata": {},
   "source": [
    "Compared to JSON, this may seem a bit fussy, but one advantage is the highly specific name referencing elements, and we can be very precise in defining what an element means. For example, all of the elements and allowed attributes are defined in detail at the EAD specification: https://loc.gov/ead/EAD3taglib/. "
   ]
  },
  {
   "cell_type": "markdown",
   "metadata": {},
   "source": [
    "## Writing XML with etree\n",
    "\n",
    "To write an XML file, use the `.write()` function. This can be applied to an ElementTree object. Since above we have assigned the object to `tree`, we can use that here to write out the XML. \n",
    "\n",
    "A few additional arguments must be passed to the `write()` function in order to create valid XML. First, you will need to register any namespaces that are used in the document. To register namespaces, use the `.register_namespace()` function. This can be used multiple times to register multiple namespaces within a single script.\n",
    "\n",
    "To establish a primary namespace (i.e., one that is assumed for the whole document, supplied in an `xmlns` attribute on the root element, and not prepended to each element), use a blank reference in the first argument passed to the `register_namespace()` function. Below, the `register_namespace()` function is called multiple times to register EAD, MODS, DublinCore, and the basic W3C schema for XML (many shared attributes among these schemes is inherited from the W3C XML schema). (To learn more about these metadata structure standards, follow the associated links.) \n",
    "\n",
    "Depending on how you register namespaces, your XML document may look slightly different: if you do not establish a primary namespace each tag will be prepended with the namespace. That can look a bit redundant, but it is specific and still valid XML. As the [MODS User Guide states](https://www.loc.gov/standards/mods/userguide/introduction.html), \"Within a record or group of records it is optional to use the \"mods\" prefix before each element (and before the \"mods\" namespace declaration), since the MODS namespace is indicated in the record. It is most useful to use the prefix \"mods:\" before each element when combining a MODS record with XML data from another namespace.\" (referenced October 2022) "
   ]
  },
  {
   "cell_type": "code",
   "execution_count": 19,
   "metadata": {},
   "outputs": [],
   "source": [
    "# to establish an unprefixed namespace, use a blank in the first argument:\n",
    "ET.register_namespace('', 'http://ead3.archivists.org/schema/')\n",
    "# alternatively, specify the 'ead' prefix to be extra specific\n",
    "#ET.register_namespace('ead', 'http://ead3.archivists.org/schema/')\n",
    "ET.register_namespace('mods', 'http://www.loc.gov/mods/v3')\n",
    "ET.register_namespace('dc', 'http://purl.org/dc/elements/1.1/')\n",
    "ET.register_namespace('xsi', 'http://www.w3.org/2001/XMLSchema')"
   ]
  },
  {
   "cell_type": "markdown",
   "metadata": {},
   "source": [
    "In addition, you must specify how you want eTree to write the file. To do this, you will provide a file name for output, as well as specify the following variables: \n",
    "\n",
    "* `xml_declaration` variable - takes a boolean (True or False) \n",
    "* `encoding` variable - to specify the character encoding (here use 'utf-8'), and \n",
    "* `method` variable to specify for the writer to use (the default here is `xml`, but you can also request `xhtml` or `html`) provided as a string.\n",
    "\n",
    "Notice that the first two variables you need are the same information provided in a standard XML document declaration statement:\n",
    "\n",
    "```xml\n",
    "<?xml version='1.0' encoding='utf-8'?>\n",
    "```\n",
    "\n",
    "A full `write` function might look like this:"
   ]
  },
  {
   "cell_type": "code",
   "execution_count": 20,
   "metadata": {},
   "outputs": [],
   "source": [
    "tree.write(ead_file, xml_declaration=True, encoding='utf-8', method='xml')"
   ]
  },
  {
   "cell_type": "markdown",
   "metadata": {},
   "source": [
    "## Modifying XML with the etree module\n",
    "\n",
    "The `etree` module can also be used to modify XML, including adding/modifying/removing attributes, reading and modifying elements, or adding text within an element.\n",
    "\n",
    "To create new attributes, etree provides the `.set()` function. This takes the name of the desired attribute and the value as strings; it is called on an Element object. "
   ]
  },
  {
   "cell_type": "code",
   "execution_count": 21,
   "metadata": {},
   "outputs": [],
   "source": [
    "# control already contains the ead:control element\n",
    "control.set('language', 'en-US')"
   ]
  },
  {
   "cell_type": "code",
   "execution_count": 22,
   "metadata": {},
   "outputs": [
    {
     "name": "stdout",
     "output_type": "stream",
     "text": [
      "wrote ../data/xml/day_20221004_205435_UTC__ead.xml\n"
     ]
    }
   ],
   "source": [
    "# save the changes using write()\n",
    "tree.write(ead_file, xml_declaration=True, encoding='utf-8', method='xml')\n",
    "print('wrote',ead_file)"
   ]
  },
  {
   "cell_type": "markdown",
   "metadata": {},
   "source": [
    "When you run the above two cells, you will notice that the `xml-model` declaration disappears. It is replaced by a different namespace declaration contined in the root tag (in this case, an `xmlns:ead` attribute). The elements are transcribed slightly differently as well: instead of bare EAD elements (like `ead` and `control`), these are now prefixed (thus `ead:ead` or `ead:control`). While this makes the file slightly longer, this is standard and also creates well-formed and valid XML. In fact, many machine-generated XML files will use this sort of prefixed convention. "
   ]
  },
  {
   "cell_type": "markdown",
   "metadata": {},
   "source": [
    "To remove attributes, use the `del()` function which is a standard dictionary operation since Python treats the attributes of any Element object as a dictionary."
   ]
  },
  {
   "cell_type": "code",
   "execution_count": 23,
   "metadata": {},
   "outputs": [],
   "source": [
    "del(control.attrib['language'])"
   ]
  },
  {
   "cell_type": "code",
   "execution_count": 24,
   "metadata": {},
   "outputs": [],
   "source": [
    "# save the changes using write()\n",
    "tree.write(ead_file, xml_declaration=True, encoding='utf-8', method='xml')"
   ]
  },
  {
   "cell_type": "markdown",
   "metadata": {},
   "source": [
    "## Using XPath within etree\n",
    "\n",
    "XPath is a selector language that allows us to search for specific elements and attributes within the tree. The power of this language is that it allows us to select very precisely, and it also allows us to see multiple items at similar levels in the hierarchy or those that meet particular characteristics (such as having a particular attribute). \n",
    "\n",
    "Remember that while XML can be represented as a tree, any of the nodes, attributes, or embedded values in XML might also be represented by a path. For example, take a look at this basic EAD hierarchy:\n",
    "\n",
    "![A sample EAD hierarchy with 4 levels descending from the \"root\" EAD element](../assets/xml-tree-basic.png 'A sample EAD hierarchy with 4 levels')\n",
    "\n",
    "To see this as a \"tree,\" imagine inverting the hierarchy document and consider the `ead` element as the \"root\" from which the other elements are branching out. The tree metaphor is commonly used in describing XML. This is useful in illustrating the hierarchical relationships, which reflects the inheritance relationships from element to element, and can illustrate \"parent\" (source nodes) and \"child\" (descending nodes) relationships. \n",
    "\n",
    "Another metaphor is a file path. In this representation of the structure, imagine notating each node from the top to the destination. Thus, we can create a specific address for each element in the structure. To address the root node, for example, use a slash and the name of the root element: `/ead`. To reference an entire level, for example everything in the `dsc` level, you might use a path expansion: `/ead/archdesc/dsc/*`. Individual attributes may be referenced by the `@` symbol: `/ead/archdesc[@level]`. This notation provides a specific way to address any element of the structure and reference it within a program. \n",
    "\n",
    "**XPath** syntax allows for the creation of patterns that can select particular addresses within the tree. This might be akin to an advanced path expansion or regular expression but for finding things in XML. Currently, ElementTree does not provide full support for XPath syntax, but it does allow for many queries that allow a script to select data from XML in powerful ways. \n",
    "\n",
    "Paths in XPath separate node elements with slashes (`/`). \n",
    "\n",
    "Elements are strung together with slashes in bewteen to indicate a path from the location of the query. Generally, any query beginning with a slash descends from the root node, but this is not always the case. When the root is not the source, elements begin from a _context node_. \n",
    "\n",
    "XPath selectors available in ElementTree include:\n",
    "\n",
    "| Syntax | Meaning |\n",
    "| ------ | ------ | \n",
    "| `tag` | Selects all child elements of the context node with the given `tag`. These can be used with namespace selectors as well, for example `{namespace}*` selects all tags in a given namespace, or `{*}tag` selects all matching tags in any (or no namespace). |\n",
    "| `*` | Selects all child elements of a context node. |\n",
    "| `.` | Selects the current node. |\n",
    "| `//` | Selects all subelements, on all levels beneath the context element. Useful for matching elements or attributes across various branches of the hierarchy. | \n",
    "| `..` | Select a parent element of the context node. |\n",
    "| `[@attrib]` | Selects all elements with the given attribute. In this case where the attribute name matches `attrib`. |\n",
    "| `[@attrib='value']` | Selects elements for which the attribute is a given value. In this case where an element includes `attrib=\"value\"`. Note that the value cannot contain quote marks. | \n",
    "| `[tag]` | Selects elements with a child that matches the `tag`. | \n",
    "\n",
    "Additional XPath expressions are possible. For reference, see the [Python ElementTree documentation](https://docs.python.org/3/library/xml.etree.elementtree.html#supported-xpath-syntax), and for more on XPath generally this [quick introduction to XPath from Library Carpentry](https://librarycarpentry.org/lc-webscraping/02-xpath/index.html).\n",
    "\n",
    "### Exploring Xpath in ElementTree\n",
    "\n",
    "Let's take a closer look with the `<titleproper>` elements and explore basic XPath expressions:"
   ]
  },
  {
   "cell_type": "code",
   "execution_count": 25,
   "metadata": {},
   "outputs": [
    {
     "name": "stdout",
     "output_type": "stream",
     "text": [
      "{http://ead3.archivists.org/schema/}titleproper Finding Aid for the William R. Day Collection day \n"
     ]
    }
   ],
   "source": [
    "title = tree.find('ead:control/ead:filedesc/ead:titlestmt/ead:titleproper', ns)\n",
    "print(title.tag, title.text)"
   ]
  },
  {
   "cell_type": "code",
   "execution_count": 26,
   "metadata": {},
   "outputs": [
    {
     "name": "stdout",
     "output_type": "stream",
     "text": [
      "{http://ead3.archivists.org/schema/}titleproper Finding Aid for the William R. Day Collection day \n",
      "{http://ead3.archivists.org/schema/}titleproper William R. Day Collection\n"
     ]
    }
   ],
   "source": [
    "for title in tree.findall('ead:control/ead:filedesc/ead:titlestmt/ead:titleproper', ns):\n",
    "    print(title.tag, title.text)"
   ]
  },
  {
   "cell_type": "markdown",
   "metadata": {},
   "source": [
    "Using an XPath selector, we can write the above more efficiently. We can select all elements with a matching element tag using `.` followed by `//`. The `.` selects the current element (if we specify `tree` that is the root element in this case `ead`), and the double slash `//` selects any child element matching the element name supllied. Thus. `.//ead:titleproper` will select any `titleproper` elements in the file:"
   ]
  },
  {
   "cell_type": "code",
   "execution_count": 27,
   "metadata": {},
   "outputs": [
    {
     "name": "stdout",
     "output_type": "stream",
     "text": [
      "{http://ead3.archivists.org/schema/}titleproper Finding Aid for the William R. Day Collection day \n",
      "{http://ead3.archivists.org/schema/}titleproper William R. Day Collection\n"
     ]
    }
   ],
   "source": [
    "for title in tree.findall('.//ead:titleproper', ns):\n",
    "    print(title.tag, title.text)"
   ]
  },
  {
   "cell_type": "markdown",
   "metadata": {},
   "source": [
    "Similarly, we could look for some of the elements in the collection contents using the `c` elements. For example, the `c01` tag (representing the \"first level\" of container objects), occurs multiple times and in this case represents the various series in the collection). Below, the loop uses `findall` to look for all `c01` elements in the current tree, prints the `id` attribute, tag name and list of attributes. Then, a `find` statement is extracts the text of the series description from the `scopecontent` note of the `c01` level and prints it. Finally, a second nested `findall()` looks for the `unittitle` of all `c02` elements within the series and prints a list of the folders or boxes in the series:  "
   ]
  },
  {
   "cell_type": "code",
   "execution_count": 28,
   "metadata": {},
   "outputs": [
    {
     "name": "stdout",
     "output_type": "stream",
     "text": [
      "Series id: aspace_ref1\n",
      " {http://ead3.archivists.org/schema/}c01 {'id': 'aspace_ref1', 'level': 'series'}\n",
      "The Correspondence and Papers series contains correspondence and papers from William Day and various family members. \n",
      "\n",
      "William Day\n",
      "1896\n",
      "1897\n",
      "1898 (3 folders)\n",
      "1899\n",
      "1900-1911\n",
      "1920-1923\n",
      "Undated\n",
      "Biographical\n",
      "Scrapbook\n",
      "Family\n",
      "Luther Day (Father)\n",
      "Emily Spalding Day (Mother)\n",
      "Louis Schaefer (Father-in-Law)\n",
      "Other Members\n",
      "Miscellaneous (3 folders)\n",
      "Series id: aspace_ref18\n",
      " {http://ead3.archivists.org/schema/}c01 {'id': 'aspace_ref18', 'level': 'series'}\n",
      "The Manuscripts series contains work by William Day and his son, Stephen Day. It also has a dissertation about William Day by Joseph McLean, and a folder of miscellaneous materials. \n",
      "\n",
      "William Day on McKinley\n",
      "Stephan Day Notebook\n",
      "McLean Dissertation on William Day (2 folders)\n",
      "Miscellaneous\n",
      "Series id: aspace_ref22\n",
      " {http://ead3.archivists.org/schema/}c01 {'id': 'aspace_ref22', 'level': 'series'}\n",
      "The Newspaper series includes issues of the University of Michigan newspaper  \n",
      "\n",
      "None\n",
      "Clippings\n",
      "Series id: aspace_ref26\n",
      " {http://ead3.archivists.org/schema/}c01 {'id': 'aspace_ref26', 'level': 'series'}\n",
      "The Publications series brings together the published materials within the William R. Day Collection, including some of his speeches. \n",
      "\n",
      "Supreme Court Booklets (2 folders)\n",
      "None\n",
      "None\n",
      "None\n",
      "None\n",
      "None\n",
      "None\n",
      "None\n",
      "None\n",
      "House of Representatives Booklets\n",
      "Forty-Eighth Congress Jonathan H. Wallace vs William McKinley, Jr (2 copies)\n",
      "H. R. 12704 - appropriation act\n",
      "Expenses of Mixed Claims Commission, United States and Germany\n",
      "Treaties\n",
      "Treaty series number 659 between the United States and Austria\n",
      "Treaty series 665 between the United States and Germany\n",
      "Papers Relating to the Treaty with Spain\n",
      "Ohio Booklets\n",
      "None\n",
      "Supreme Court of Ohio Richard H. Umbenhour vs The State of Ohio\n",
      "Speeches and Writings by William Day\n",
      "Address of William R. Day at the Ravenna, Ohio Homecoming, August 25, 1909 (2 copies)\n",
      "None\n",
      "Address of William R. Day at the Conference under the auspices of the American Peace Centenary Committee, held at Makinac Island July 21, 22, 1914\n",
      "Address of William R. Day at the Unveiling of the Marquette Statue on Mackinac Island, September 1, 1909 (2 copies)\n",
      "Remarks of William R. Day at the dinner in honor of John Joy Edson on this seventy-fifth birthday, May 17, 1921 (2 copies)\n",
      "Testimonial to John Joy Edson by his Friends and Fellow-Citizens\n",
      "Sophomore Exhibition program Class of 1870\n",
      "Miscellaneous Booklets\n",
      "None\n",
      "None\n",
      "None\n",
      "None\n",
      "None\n",
      "None\n",
      "None\n",
      "None\n",
      "None\n",
      "Series id: aspace_ref28\n",
      " {http://ead3.archivists.org/schema/}c01 {'id': 'aspace_ref28', 'level': 'series'}\n",
      "The Ephemera series contains a carte de visite and a packet of seeds. \n",
      "\n",
      "Envelope for Goldie's Pens: Contains seeds.\n",
      "Carte de Visite of William R. Day (?)\n"
     ]
    }
   ],
   "source": [
    "did_count = 0\n",
    "\n",
    "for obj in tree.findall('.//ead:c01', ns):\n",
    "    did_count += 1\n",
    "    # extract the series id for the c01 element \n",
    "    print(f'Series id: {obj.attrib[\"id\"]}\\n', obj.tag, obj.attrib)\n",
    "\n",
    "    # extract and print the paragraph in the scopecontent note for the series \n",
    "    scope = obj.find('.//ead:scopecontent/ead:p', ns)\n",
    "    print(scope.text,'\\n')\n",
    "\n",
    "    # look through the siers and find the c02 second levels and their unittitles to see the various folders or subseries in the c01 level\n",
    "    for item in obj.findall('.//ead:c02//ead:unittitle', ns):\n",
    "        print(item.text)"
   ]
  },
  {
   "cell_type": "markdown",
   "metadata": {},
   "source": [
    "To summarize, this notebook illustrates the basics of parsing XML with the eTree module in Python. Specifically, we demonstrated how to load and parse an XML document from a file, explored how to navigate and identify specific elements and attributes, how to work with namespaces (within a progrm and when writing out XML), how to write XML to a file, and how add and remove attributes. This provides a basic toolbox for working with, analyzing, and modifying XML.  "
   ]
  }
 ],
 "metadata": {
  "kernelspec": {
   "display_name": "base",
   "language": "python",
   "name": "python3"
  },
  "language_info": {
   "codemirror_mode": {
    "name": "ipython",
    "version": 3
   },
   "file_extension": ".py",
   "mimetype": "text/x-python",
   "name": "python",
   "nbconvert_exporter": "python",
   "pygments_lexer": "ipython3",
   "version": "3.9.18"
  },
  "orig_nbformat": 4
 },
 "nbformat": 4,
 "nbformat_minor": 2
}
