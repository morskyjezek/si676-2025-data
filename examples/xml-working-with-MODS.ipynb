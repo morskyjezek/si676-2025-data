{
 "cells": [
  {
   "cell_type": "markdown",
   "id": "2baacb69-bf75-4c78-93ee-cf8a5872cc14",
   "metadata": {},
   "source": [
    "# More with XML: Parsing sample MODS records\n",
    "\n",
    "The [Metadata Object Description Schema](https://www.loc.gov/standards/mods/), \n",
    "more commonly known by its acronym MODS, is a frequently used metadata\n",
    "schema used by libraries and other cultural heritage organizations to record and transfer information\n",
    "about digital objects, bibliographic items, and other sorts of collection materials. MODS was designed\n",
    "to be a somewhat simplified schema in comparison to the MaRC structure for bibliographic metadata, but it is \n",
    "more complex (and possibly less widely used) than the DublinCore schema. \n",
    "\n",
    "## Other parsers for XML: lxml and BeautifulSoup \n",
    "\n",
    "Although the ElementTree module is a standard Python module for processing XML, there are \n",
    "other options for parsing XML in Python. The [lxml](https://lxml.de/) library provides \n",
    "greater support for XPath, provides a more Element-focused library (vs ET focused on the tree structure),\n",
    "and supports efficient XML writing, and provides support for XML validation. Likewise, the [BeautifulSoup](https://www.crummy.com/software/BeautifulSoup/bs4/doc/)\n",
    "library provides support for HTMl parsing, but also supports work with an XML tree structure. \n",
    "\n",
    "### Setup\n",
    "\n",
    "This section shows how to load BeautifulSoup, an additional library that can assist in parsing markup languages like HTML and XML. We will be using an additional library called `lxml`, which helps BeautifulSoup (aka BS4) to search and build XML. It is possible that you may need to do an extra step to install `lxml` if you have not used it before, and those steps are [outlined in the BS4 documentation here](https://beautiful-soup-4.readthedocs.io/en/latest/index.html?highlight=namespace#installing-a-parser)."
   ]
  },
  {
   "cell_type": "code",
   "execution_count": 1,
   "id": "422adfb2-f955-4bfc-8a18-50e17c4372ae",
   "metadata": {},
   "outputs": [],
   "source": [
    "from bs4 import BeautifulSoup"
   ]
  },
  {
   "cell_type": "markdown",
   "id": "a7ce01f3-422f-42c7-9fdd-b5d9787a49a1",
   "metadata": {},
   "source": [
    "If you use the cells below that use LXML on its own, then you'll also need to import\n",
    "the library so you can call it directly:"
   ]
  },
  {
   "cell_type": "code",
   "execution_count": 3,
   "id": "aac61f2b-2680-497d-a539-8d765eaaa764",
   "metadata": {},
   "outputs": [
    {
     "name": "stdout",
     "output_type": "stream",
     "text": [
      "running with lxml.etree\n"
     ]
    }
   ],
   "source": [
    "import xml.etree.ElementTree as ET\n",
    "\n",
    "try:\n",
    "    from lxml import etree\n",
    "    print('running with lxml.etree')\n",
    "except ImportError:\n",
    "    print('you\\'re not running with lxml active')"
   ]
  },
  {
   "cell_type": "markdown",
   "id": "00d73de6-3051-4a71-8b8e-c26896be9d67",
   "metadata": {},
   "source": [
    "Later on, we will use regular expressions to identify strings that match certain patterns. \n",
    "To do this, you also need to install the `re` module. We will also use some file paths and system operations, which will use the `os` module."
   ]
  },
  {
   "cell_type": "code",
   "execution_count": 4,
   "id": "32ae53c7-ff08-40b5-af49-499b6e2187e1",
   "metadata": {},
   "outputs": [],
   "source": [
    "import re\n",
    "import os"
   ]
  },
  {
   "cell_type": "markdown",
   "id": "45b07a8b-4b4b-4570-a2e2-1c1f8b4e8bed",
   "metadata": {},
   "source": [
    "## First Steps to Navigating the Tree: Beautiful Soup\n",
    "\n",
    "### Load the records\n",
    "\n",
    "This activity is designed to have the data included alongside our notebook, so the files are already included in this repository. This should allow you to download and run the notebook yourself, using the same commands and finding the same results. There could be other ways to do this if you are working in a different context - for example, if you are working with records you're pulling from the web, you might want to pull them dynamically using the `requests` library (that allows you to make HTML requests). \n",
    "\n",
    "Here is how we can parse the XML records using lxml:"
   ]
  },
  {
   "cell_type": "code",
   "execution_count": 8,
   "id": "8ce2c53e-eaa0-469c-8583-d2c74681c0de",
   "metadata": {},
   "outputs": [],
   "source": [
    "MODS_collection = open('data/xml/2018_lcwa_MODS_5.xml', 'r')"
   ]
  },
  {
   "cell_type": "markdown",
   "id": "fbe20b3d-51f2-4282-889b-a63bc92a313f",
   "metadata": {},
   "source": [
    "Let's find a bit of information in the \"soup\" (that is, the file loaded as data). \n",
    "To do that, we can use the BS4 library to call items by name. This\n",
    "requires some advance knowledge of what tags and items you would expect to find in the record,\n",
    "which you can find in the documentation linked above, and we will also look at later."
   ]
  },
  {
   "cell_type": "code",
   "execution_count": 9,
   "id": "0bb9ac2a",
   "metadata": {},
   "outputs": [],
   "source": [
    "mods_collec = etree.parse(MODS_collection)"
   ]
  },
  {
   "cell_type": "code",
   "execution_count": 10,
   "id": "6b4446ed",
   "metadata": {},
   "outputs": [],
   "source": [
    "metadata = mods_collec.getroot()"
   ]
  },
  {
   "cell_type": "markdown",
   "id": "ce265604",
   "metadata": {},
   "source": [
    "You can use a for loop to see what top-level elements are in the tree:"
   ]
  },
  {
   "cell_type": "code",
   "execution_count": 11,
   "id": "01886e3f",
   "metadata": {},
   "outputs": [
    {
     "name": "stdout",
     "output_type": "stream",
     "text": [
      "{http://www.loc.gov/mods/v3}mods\n",
      "{http://www.loc.gov/mods/v3}mods\n",
      "{http://www.loc.gov/mods/v3}mods\n",
      "{http://www.loc.gov/mods/v3}mods\n",
      "{http://www.loc.gov/mods/v3}mods\n"
     ]
    }
   ],
   "source": [
    "for item in metadata:\n",
    "    print(item.tag)"
   ]
  },
  {
   "cell_type": "markdown",
   "id": "d04bc33b",
   "metadata": {},
   "source": [
    "To get an idea of the entire scope of elements in the, you can use the `.iter()` function.\n",
    "There are quite a few, so use a counter to tally them: "
   ]
  },
  {
   "cell_type": "code",
   "execution_count": 13,
   "id": "211c8ea3",
   "metadata": {},
   "outputs": [
    {
     "name": "stdout",
     "output_type": "stream",
     "text": [
      "modsCollection\n",
      "{http://www.loc.gov/mods/v3}mods\n",
      "{http://www.loc.gov/mods/v3}identifier\n",
      "{http://www.loc.gov/mods/v3}identifier\n",
      "{http://www.loc.gov/mods/v3}identifier\n",
      "{http://www.loc.gov/mods/v3}titleInfo\n",
      "{http://www.loc.gov/mods/v3}title\n",
      "{http://www.loc.gov/mods/v3}language\n",
      "{http://www.loc.gov/mods/v3}languageTerm\n",
      "{http://www.loc.gov/mods/v3}physicalDescription\n",
      "{http://www.loc.gov/mods/v3}form\n",
      "{http://www.loc.gov/mods/v3}internetMediaType\n",
      "{http://www.loc.gov/mods/v3}digitalOrigin\n",
      "{http://www.loc.gov/mods/v3}targetAudience\n",
      "{http://www.loc.gov/mods/v3}typeOfResource\n",
      "{http://www.loc.gov/mods/v3}genre\n",
      "{http://www.loc.gov/mods/v3}originInfo\n",
      "{http://www.loc.gov/mods/v3}place\n",
      "{http://www.loc.gov/mods/v3}placeTerm\n",
      "{http://www.loc.gov/mods/v3}abstract\n",
      "{http://www.loc.gov/mods/v3}relatedItem\n",
      "{http://www.loc.gov/mods/v3}titleInfo\n",
      "{http://www.loc.gov/mods/v3}title\n",
      "{http://www.loc.gov/mods/v3}relatedItem\n",
      "{http://www.loc.gov/mods/v3}titleInfo\n",
      "{http://www.loc.gov/mods/v3}title\n",
      "{http://www.loc.gov/mods/v3}relatedItem\n",
      "{http://www.loc.gov/mods/v3}identifier\n",
      "{http://www.loc.gov/mods/v3}identifier\n",
      "{http://www.loc.gov/mods/v3}location\n",
      "{http://www.loc.gov/mods/v3}url\n",
      "{http://www.loc.gov/mods/v3}part\n",
      "{http://www.loc.gov/mods/v3}text\n",
      "{http://www.loc.gov/mods/v3}text\n",
      "{http://www.loc.gov/mods/v3}text\n",
      "{http://www.loc.gov/mods/v3}text\n",
      "{http://www.loc.gov/mods/v3}location\n",
      "{http://www.loc.gov/mods/v3}url\n",
      "{http://www.loc.gov/mods/v3}location\n",
      "{http://www.loc.gov/mods/v3}physicalLocation\n",
      "{http://www.loc.gov/mods/v3}physicalLocation\n",
      "{http://www.loc.gov/mods/v3}accessCondition\n",
      "{http://www.loc.gov/mods/v3}recordInfo\n",
      "{http://www.loc.gov/mods/v3}recordContentSource\n",
      "{http://www.loc.gov/mods/v3}recordCreationDate\n",
      "{http://www.loc.gov/mods/v3}recordIdentifier\n",
      "{http://www.loc.gov/mods/v3}languageOfCataloging\n",
      "{http://www.loc.gov/mods/v3}languageTerm\n",
      "{http://www.loc.gov/mods/v3}mods\n",
      "{http://www.loc.gov/mods/v3}identifier\n",
      "{http://www.loc.gov/mods/v3}identifier\n",
      "{http://www.loc.gov/mods/v3}identifier\n",
      "{http://www.loc.gov/mods/v3}titleInfo\n",
      "{http://www.loc.gov/mods/v3}title\n",
      "{http://www.loc.gov/mods/v3}language\n",
      "{http://www.loc.gov/mods/v3}languageTerm\n",
      "{http://www.loc.gov/mods/v3}physicalDescription\n",
      "{http://www.loc.gov/mods/v3}form\n",
      "{http://www.loc.gov/mods/v3}internetMediaType\n",
      "{http://www.loc.gov/mods/v3}digitalOrigin\n",
      "{http://www.loc.gov/mods/v3}targetAudience\n",
      "{http://www.loc.gov/mods/v3}typeOfResource\n",
      "{http://www.loc.gov/mods/v3}genre\n",
      "{http://www.loc.gov/mods/v3}originInfo\n",
      "{http://www.loc.gov/mods/v3}place\n",
      "{http://www.loc.gov/mods/v3}placeTerm\n",
      "{http://www.loc.gov/mods/v3}abstract\n",
      "{http://www.loc.gov/mods/v3}relatedItem\n",
      "{http://www.loc.gov/mods/v3}titleInfo\n",
      "{http://www.loc.gov/mods/v3}title\n",
      "{http://www.loc.gov/mods/v3}relatedItem\n",
      "{http://www.loc.gov/mods/v3}titleInfo\n",
      "{http://www.loc.gov/mods/v3}title\n",
      "{http://www.loc.gov/mods/v3}relatedItem\n",
      "{http://www.loc.gov/mods/v3}identifier\n",
      "{http://www.loc.gov/mods/v3}identifier\n",
      "{http://www.loc.gov/mods/v3}location\n",
      "{http://www.loc.gov/mods/v3}url\n",
      "{http://www.loc.gov/mods/v3}part\n",
      "{http://www.loc.gov/mods/v3}text\n",
      "{http://www.loc.gov/mods/v3}text\n",
      "{http://www.loc.gov/mods/v3}text\n",
      "{http://www.loc.gov/mods/v3}text\n",
      "{http://www.loc.gov/mods/v3}location\n",
      "{http://www.loc.gov/mods/v3}url\n",
      "{http://www.loc.gov/mods/v3}location\n",
      "{http://www.loc.gov/mods/v3}physicalLocation\n",
      "{http://www.loc.gov/mods/v3}physicalLocation\n",
      "{http://www.loc.gov/mods/v3}accessCondition\n",
      "{http://www.loc.gov/mods/v3}recordInfo\n",
      "{http://www.loc.gov/mods/v3}recordContentSource\n",
      "{http://www.loc.gov/mods/v3}recordCreationDate\n",
      "{http://www.loc.gov/mods/v3}recordIdentifier\n",
      "{http://www.loc.gov/mods/v3}languageOfCataloging\n",
      "{http://www.loc.gov/mods/v3}languageTerm\n",
      "{http://www.loc.gov/mods/v3}mods\n",
      "{http://www.loc.gov/mods/v3}identifier\n",
      "{http://www.loc.gov/mods/v3}identifier\n",
      "{http://www.loc.gov/mods/v3}identifier\n",
      "{http://www.loc.gov/mods/v3}identifier\n",
      "{http://www.loc.gov/mods/v3}titleInfo\n",
      "{http://www.loc.gov/mods/v3}title\n",
      "{http://www.loc.gov/mods/v3}language\n",
      "{http://www.loc.gov/mods/v3}languageTerm\n",
      "{http://www.loc.gov/mods/v3}physicalDescription\n",
      "{http://www.loc.gov/mods/v3}form\n",
      "{http://www.loc.gov/mods/v3}internetMediaType\n",
      "{http://www.loc.gov/mods/v3}digitalOrigin\n",
      "{http://www.loc.gov/mods/v3}targetAudience\n",
      "{http://www.loc.gov/mods/v3}typeOfResource\n",
      "{http://www.loc.gov/mods/v3}genre\n",
      "{http://www.loc.gov/mods/v3}originInfo\n",
      "{http://www.loc.gov/mods/v3}place\n",
      "{http://www.loc.gov/mods/v3}placeTerm\n",
      "{http://www.loc.gov/mods/v3}abstract\n",
      "{http://www.loc.gov/mods/v3}relatedItem\n",
      "{http://www.loc.gov/mods/v3}titleInfo\n",
      "{http://www.loc.gov/mods/v3}title\n",
      "{http://www.loc.gov/mods/v3}relatedItem\n",
      "{http://www.loc.gov/mods/v3}titleInfo\n",
      "{http://www.loc.gov/mods/v3}title\n",
      "{http://www.loc.gov/mods/v3}relatedItem\n",
      "{http://www.loc.gov/mods/v3}identifier\n",
      "{http://www.loc.gov/mods/v3}identifier\n",
      "{http://www.loc.gov/mods/v3}location\n",
      "{http://www.loc.gov/mods/v3}url\n",
      "{http://www.loc.gov/mods/v3}part\n",
      "{http://www.loc.gov/mods/v3}text\n",
      "{http://www.loc.gov/mods/v3}text\n",
      "{http://www.loc.gov/mods/v3}text\n",
      "{http://www.loc.gov/mods/v3}text\n",
      "{http://www.loc.gov/mods/v3}text\n",
      "{http://www.loc.gov/mods/v3}text\n",
      "{http://www.loc.gov/mods/v3}text\n",
      "{http://www.loc.gov/mods/v3}location\n",
      "{http://www.loc.gov/mods/v3}url\n",
      "{http://www.loc.gov/mods/v3}location\n",
      "{http://www.loc.gov/mods/v3}physicalLocation\n",
      "{http://www.loc.gov/mods/v3}physicalLocation\n",
      "{http://www.loc.gov/mods/v3}accessCondition\n",
      "{http://www.loc.gov/mods/v3}recordInfo\n",
      "{http://www.loc.gov/mods/v3}recordContentSource\n",
      "{http://www.loc.gov/mods/v3}recordCreationDate\n",
      "{http://www.loc.gov/mods/v3}recordIdentifier\n",
      "{http://www.loc.gov/mods/v3}languageOfCataloging\n",
      "{http://www.loc.gov/mods/v3}languageTerm\n",
      "{http://www.loc.gov/mods/v3}mods\n",
      "{http://www.loc.gov/mods/v3}identifier\n",
      "{http://www.loc.gov/mods/v3}identifier\n",
      "{http://www.loc.gov/mods/v3}titleInfo\n",
      "{http://www.loc.gov/mods/v3}title\n",
      "{http://www.loc.gov/mods/v3}language\n",
      "{http://www.loc.gov/mods/v3}languageTerm\n",
      "{http://www.loc.gov/mods/v3}physicalDescription\n",
      "{http://www.loc.gov/mods/v3}form\n",
      "{http://www.loc.gov/mods/v3}internetMediaType\n",
      "{http://www.loc.gov/mods/v3}digitalOrigin\n",
      "{http://www.loc.gov/mods/v3}targetAudience\n",
      "{http://www.loc.gov/mods/v3}typeOfResource\n",
      "{http://www.loc.gov/mods/v3}genre\n",
      "{http://www.loc.gov/mods/v3}originInfo\n",
      "{http://www.loc.gov/mods/v3}place\n",
      "{http://www.loc.gov/mods/v3}placeTerm\n",
      "{http://www.loc.gov/mods/v3}abstract\n",
      "{http://www.loc.gov/mods/v3}relatedItem\n",
      "{http://www.loc.gov/mods/v3}titleInfo\n",
      "{http://www.loc.gov/mods/v3}title\n",
      "{http://www.loc.gov/mods/v3}relatedItem\n",
      "{http://www.loc.gov/mods/v3}titleInfo\n",
      "{http://www.loc.gov/mods/v3}title\n",
      "{http://www.loc.gov/mods/v3}relatedItem\n",
      "{http://www.loc.gov/mods/v3}identifier\n",
      "{http://www.loc.gov/mods/v3}identifier\n",
      "{http://www.loc.gov/mods/v3}location\n",
      "{http://www.loc.gov/mods/v3}url\n",
      "{http://www.loc.gov/mods/v3}part\n",
      "{http://www.loc.gov/mods/v3}text\n",
      "{http://www.loc.gov/mods/v3}text\n",
      "{http://www.loc.gov/mods/v3}text\n",
      "{http://www.loc.gov/mods/v3}relatedItem\n",
      "{http://www.loc.gov/mods/v3}identifier\n",
      "{http://www.loc.gov/mods/v3}identifier\n",
      "{http://www.loc.gov/mods/v3}location\n",
      "{http://www.loc.gov/mods/v3}url\n",
      "{http://www.loc.gov/mods/v3}part\n",
      "{http://www.loc.gov/mods/v3}text\n",
      "{http://www.loc.gov/mods/v3}text\n",
      "{http://www.loc.gov/mods/v3}text\n",
      "{http://www.loc.gov/mods/v3}text\n",
      "{http://www.loc.gov/mods/v3}text\n",
      "{http://www.loc.gov/mods/v3}location\n",
      "{http://www.loc.gov/mods/v3}url\n",
      "{http://www.loc.gov/mods/v3}location\n",
      "{http://www.loc.gov/mods/v3}physicalLocation\n",
      "{http://www.loc.gov/mods/v3}physicalLocation\n",
      "{http://www.loc.gov/mods/v3}accessCondition\n",
      "{http://www.loc.gov/mods/v3}recordInfo\n",
      "{http://www.loc.gov/mods/v3}recordContentSource\n",
      "{http://www.loc.gov/mods/v3}recordCreationDate\n",
      "{http://www.loc.gov/mods/v3}recordIdentifier\n",
      "{http://www.loc.gov/mods/v3}languageOfCataloging\n",
      "{http://www.loc.gov/mods/v3}languageTerm\n",
      "{http://www.loc.gov/mods/v3}mods\n",
      "{http://www.loc.gov/mods/v3}identifier\n",
      "{http://www.loc.gov/mods/v3}identifier\n",
      "{http://www.loc.gov/mods/v3}identifier\n",
      "{http://www.loc.gov/mods/v3}titleInfo\n",
      "{http://www.loc.gov/mods/v3}title\n",
      "{http://www.loc.gov/mods/v3}language\n",
      "{http://www.loc.gov/mods/v3}languageTerm\n",
      "{http://www.loc.gov/mods/v3}physicalDescription\n",
      "{http://www.loc.gov/mods/v3}form\n",
      "{http://www.loc.gov/mods/v3}internetMediaType\n",
      "{http://www.loc.gov/mods/v3}digitalOrigin\n",
      "{http://www.loc.gov/mods/v3}targetAudience\n",
      "{http://www.loc.gov/mods/v3}typeOfResource\n",
      "{http://www.loc.gov/mods/v3}genre\n",
      "{http://www.loc.gov/mods/v3}originInfo\n",
      "{http://www.loc.gov/mods/v3}place\n",
      "{http://www.loc.gov/mods/v3}placeTerm\n",
      "{http://www.loc.gov/mods/v3}abstract\n",
      "{http://www.loc.gov/mods/v3}relatedItem\n",
      "{http://www.loc.gov/mods/v3}titleInfo\n",
      "{http://www.loc.gov/mods/v3}title\n",
      "{http://www.loc.gov/mods/v3}relatedItem\n",
      "{http://www.loc.gov/mods/v3}titleInfo\n",
      "{http://www.loc.gov/mods/v3}title\n",
      "{http://www.loc.gov/mods/v3}relatedItem\n",
      "{http://www.loc.gov/mods/v3}identifier\n",
      "{http://www.loc.gov/mods/v3}identifier\n",
      "{http://www.loc.gov/mods/v3}location\n",
      "{http://www.loc.gov/mods/v3}url\n",
      "{http://www.loc.gov/mods/v3}part\n",
      "{http://www.loc.gov/mods/v3}text\n",
      "{http://www.loc.gov/mods/v3}text\n",
      "{http://www.loc.gov/mods/v3}location\n",
      "{http://www.loc.gov/mods/v3}url\n",
      "{http://www.loc.gov/mods/v3}location\n",
      "{http://www.loc.gov/mods/v3}physicalLocation\n",
      "{http://www.loc.gov/mods/v3}physicalLocation\n",
      "{http://www.loc.gov/mods/v3}accessCondition\n",
      "{http://www.loc.gov/mods/v3}recordInfo\n",
      "{http://www.loc.gov/mods/v3}recordContentSource\n",
      "{http://www.loc.gov/mods/v3}recordCreationDate\n",
      "{http://www.loc.gov/mods/v3}recordIdentifier\n",
      "{http://www.loc.gov/mods/v3}languageOfCataloging\n",
      "{http://www.loc.gov/mods/v3}languageTerm\n",
      "247\n"
     ]
    }
   ],
   "source": [
    "el_count = 0 \n",
    "\n",
    "for element in metadata.iter():\n",
    "    el_count += 1\n",
    "    print(element.tag)\n",
    "\n",
    "print(el_count)"
   ]
  },
  {
   "cell_type": "markdown",
   "id": "c7011628",
   "metadata": {},
   "source": [
    "### Using BeautifulSoup\n",
    "\n",
    "The following cells parse a record using BeautifulSoup and lxml together:"
   ]
  },
  {
   "cell_type": "code",
   "execution_count": 14,
   "id": "90a31839-e3bd-48da-87fc-ed2d6669ae21",
   "metadata": {},
   "outputs": [],
   "source": [
    "fhand = open('data/xml/2018_lcwa_MODS_5.xml', 'r')\n",
    "\n",
    "soup = BeautifulSoup(fhand, features='xml')"
   ]
  },
  {
   "cell_type": "code",
   "execution_count": 15,
   "id": "68b088f8-b288-4508-ac24-787fd0ff2f02",
   "metadata": {},
   "outputs": [
    {
     "name": "stdout",
     "output_type": "stream",
     "text": [
      "\n",
      "lcwaN001023485999109353Slate Magazineengelectronictext/htmlborn digitalgeneraltextweb siteUnited St\n"
     ]
    }
   ],
   "source": [
    "print(soup.text[:100])"
   ]
  },
  {
   "cell_type": "markdown",
   "id": "c6a75aec-0492-44de-a566-37616483b0bf",
   "metadata": {},
   "source": [
    "The above cell prints a string of text from the XML object that we've loaded, \n",
    "in order to demonstrate that, yes, we have loaded content. \n",
    "\n",
    "Later we will pull more meaningful information. For now, let's quickly \n",
    "pull out some of the titles, this time using the tag names: "
   ]
  },
  {
   "cell_type": "code",
   "execution_count": 16,
   "id": "2f346798-68a8-462e-aa15-008785e1e917",
   "metadata": {},
   "outputs": [
    {
     "name": "stdout",
     "output_type": "stream",
     "text": [
      "title Slate Magazine\n",
      "title General News on the Internet Web Archive\n",
      "title Serial and Government Publications Division\n",
      "title Raw Story\n",
      "title General News on the Internet Web Archive\n",
      "title Serial and Government Publications Division\n",
      "title Huffington Post\n",
      "title General News on the Internet Web Archive\n",
      "title Serial and Government Publications Division\n",
      "title BuzzFeed\n",
      "title General News on the Internet Web Archive\n",
      "title Serial and Government Publications Division\n",
      "title Drudge Report\n",
      "title General News on the Internet Web Archive\n",
      "title Serial and Government Publications Division\n"
     ]
    }
   ],
   "source": [
    "for tag in soup.find_all('title'):\n",
    "    print(tag.name, tag.text)"
   ]
  },
  {
   "cell_type": "markdown",
   "id": "17c5c094-e747-48ac-9dd5-43e2e814f499",
   "metadata": {},
   "source": [
    "### Navigating and Exploring the Tree\n",
    "\n",
    "To get a list of all the tags in the document, try something like this (using `True` to demonstrate the existence of each tag in the file). Here, note the use of the `limit` argument to return only 10 instances. We don't need the whole list here for the purposes of demonstration:"
   ]
  },
  {
   "cell_type": "code",
   "execution_count": 17,
   "id": "5e2dd80e-8f71-434c-aebd-5b0ad316317a",
   "metadata": {},
   "outputs": [
    {
     "name": "stdout",
     "output_type": "stream",
     "text": [
      "modsCollection\n",
      "mods\n",
      "identifier\n",
      "identifier\n",
      "identifier\n",
      "titleInfo\n",
      "title\n",
      "language\n",
      "languageTerm\n",
      "physicalDescription\n",
      "form\n",
      "internetMediaType\n",
      "digitalOrigin\n",
      "targetAudience\n",
      "typeOfResource\n",
      "genre\n",
      "originInfo\n",
      "place\n",
      "placeTerm\n",
      "abstract\n"
     ]
    }
   ],
   "source": [
    "for tag in soup.find_all(True, limit=20):\n",
    "    print(tag.name)"
   ]
  },
  {
   "cell_type": "markdown",
   "id": "11e47a92-9ae0-4469-a3c1-291916e37de0",
   "metadata": {},
   "source": [
    "Or, we could look for each of the attributes on the top-level `mods` tags. We can see that \n",
    "they are stored in a dictionary-like object, which is indicated with curly braces `{}`):"
   ]
  },
  {
   "cell_type": "code",
   "execution_count": 12,
   "id": "5e2e0030-f164-425e-a2d2-00f8367ff1e4",
   "metadata": {},
   "outputs": [
    {
     "name": "stdout",
     "output_type": "stream",
     "text": [
      "mods {'version': '3.4', 'xsi:schemaLocation': 'http://www.loc.gov/mods/v3 http://www.loc.gov/standards/mods/v3/mods-3-4.xsd', 'xmlns': 'http://www.loc.gov/mods/v3', 'xmlns:xlink': 'http://www.w3.org/1999/xlink', 'xmlns:xsi': 'http://www.w3.org/2001/XMLSchema-instance'}\n",
      "mods {'version': '3.4', 'xsi:schemaLocation': 'http://www.loc.gov/mods/v3 http://www.loc.gov/standards/mods/v3/mods-3-4.xsd', 'xmlns': 'http://www.loc.gov/mods/v3', 'xmlns:xlink': 'http://www.w3.org/1999/xlink', 'xmlns:xsi': 'http://www.w3.org/2001/XMLSchema-instance'}\n",
      "mods {'version': '3.4', 'xsi:schemaLocation': 'http://www.loc.gov/mods/v3 http://www.loc.gov/standards/mods/v3/mods-3-4.xsd', 'xmlns': 'http://www.loc.gov/mods/v3', 'xmlns:xlink': 'http://www.w3.org/1999/xlink', 'xmlns:xsi': 'http://www.w3.org/2001/XMLSchema-instance'}\n",
      "mods {'version': '3.4', 'xsi:schemaLocation': 'http://www.loc.gov/mods/v3 http://www.loc.gov/standards/mods/v3/mods-3-4.xsd', 'xmlns': 'http://www.loc.gov/mods/v3', 'xmlns:xlink': 'http://www.w3.org/1999/xlink', 'xmlns:xsi': 'http://www.w3.org/2001/XMLSchema-instance'}\n",
      "mods {'version': '3.4', 'xsi:schemaLocation': 'http://www.loc.gov/mods/v3 http://www.loc.gov/standards/mods/v3/mods-3-4.xsd', 'xmlns': 'http://www.loc.gov/mods/v3', 'xmlns:xlink': 'http://www.w3.org/1999/xlink', 'xmlns:xsi': 'http://www.w3.org/2001/XMLSchema-instance'}\n"
     ]
    }
   ],
   "source": [
    "for tag in soup.find_all('mods'):\n",
    "    print(tag.name, tag.attrs)"
   ]
  },
  {
   "cell_type": "markdown",
   "id": "14bcae38-f80c-4961-a542-419d88875fd0",
   "metadata": {},
   "source": [
    "Finally, don't forget to close the file:"
   ]
  },
  {
   "cell_type": "code",
   "execution_count": 18,
   "id": "b0aa9f30-1ace-476d-be7d-1fd6f151db0e",
   "metadata": {},
   "outputs": [],
   "source": [
    "MODS_collection.close()\n",
    "fhand.close()"
   ]
  },
  {
   "cell_type": "markdown",
   "id": "adcdfa48-c89f-4b3e-8b75-0c0e668b4f52",
   "metadata": {},
   "source": [
    "### Namespaces\n",
    "\n",
    "In some cases, you may be working with data that has tags from various namespaces (that is, \n",
    "basically different tag schemas, such as MODS or EAD). For specificity, it can be \n",
    "important to have a list of the namespaces that you will reference. In this case, \n",
    "that list is a python dictionary named `ns`: "
   ]
  },
  {
   "cell_type": "code",
   "execution_count": 19,
   "id": "9378816d-d81e-4687-9f52-ae7f4d7e082a",
   "metadata": {},
   "outputs": [],
   "source": [
    "ns = {\n",
    "    'mods' : 'http://www.loc.gov/mods/v3',\n",
    "    'ead3'  : 'http://ead3.archivists.org/schema/',\n",
    "}"
   ]
  },
  {
   "cell_type": "markdown",
   "id": "1e230911-cfc4-4eb7-88d6-0790f30f8152",
   "metadata": {},
   "source": [
    "## First Steps to Navigate the Tree Using LXML / XPath\n",
    "\n",
    "Load records, list tags and child elements, see subelements, display tags and attributes... "
   ]
  },
  {
   "cell_type": "markdown",
   "id": "1e36b18d-a6a3-4514-a00a-fa014d7bbc69",
   "metadata": {},
   "source": [
    "## Examples\n",
    "\n",
    "Here are some things we'll do using the BeautifulSoup library,\n",
    "to be developed below in the notebook following:\n",
    " \n",
    "1. Looking in a single XML file with multiple `<mods>` subelements, use a loop to count the elements. \n",
    "1. Using a similar loop to the above, can you go through the individual `<mods>` and extract the record's identifier?  \n",
    "1. Let's get a bit deeper into MODS. These records use the `<titleInfo>` and `<title>` tags. Use the `.findall()` function to look into each of these and pull out the text of each `<title>` element. \n",
    "1. The above pulls out all the titles, including related titles. Use the `.find()` funtion to search for just the first instance and pull out only the main titles.  \n",
    "1. These records contain `<subject>` designations, but only some of these correspond to headings that are authorized headings in the Library of Congress Subject Headings. Those are marked with an attribute `authority='lcsh'`, which is indicated as an embedded attribute in the tag. Look through `<subject>` tags, identify only the ones that include an LCSH attribute, then print the content of those subject headings.  \n",
    "1. Data addition or modification: identify the local call numbers, then check to make sure all of them have appropriate attribute data attached.\n",
    "1. Data validation: check the local call number references to ensure that they are in the proper format (e.g., _lcwaAddddddd_).\n",
    "1. Save the updated metadata. In this case, write the udpated metadata to a new file."
   ]
  },
  {
   "cell_type": "code",
   "execution_count": 20,
   "id": "739723f0",
   "metadata": {},
   "outputs": [],
   "source": [
    "MODS_file = os.path.join('data','xml','2018_lcwa_MODS_5.xml')"
   ]
  },
  {
   "cell_type": "markdown",
   "id": "af2aac51-d27e-4520-b83e-c260c0019a8a",
   "metadata": {},
   "source": [
    "#### 1. Counting Records in the Set\n",
    "\n",
    "Activity 1: How many metadata records for discrete items are included in the set? A compound MODS file may create multiple records in one file; in this scenario, the tag `<mods>` encloses each individual record, and the list of records is enclosed in a `<modsCollection>` tag. Use a loop to count the `<mods>` elements."
   ]
  },
  {
   "cell_type": "code",
   "execution_count": 21,
   "id": "79ae1f21-c988-40a5-a37e-a28fb6bf7461",
   "metadata": {},
   "outputs": [
    {
     "name": "stdout",
     "output_type": "stream",
     "text": [
      "mods <title>Slate Magazine</title> <form authority=\"marcform\">electronic</form>\n",
      "mods <title>Raw Story</title> <form authority=\"marcform\">electronic</form>\n",
      "mods <title>Huffington Post</title> <form authority=\"marcform\">electronic</form>\n",
      "mods <title>BuzzFeed</title> <form authority=\"marcform\">electronic</form>\n",
      "mods <title>Drudge Report</title> <form authority=\"marcform\">electronic</form>\n",
      "5\n"
     ]
    }
   ],
   "source": [
    "#BS4a\n",
    "record_count = 0\n",
    "\n",
    "with open(MODS_file, 'r') as xml_records:\n",
    "    metadata = BeautifulSoup(xml_records, features='xml')\n",
    "    for mods in metadata.find_all('mods'):\n",
    "        print(mods.name, mods.title, mods.form)\n",
    "        record_count += 1\n",
    "\n",
    "print(record_count)"
   ]
  },
  {
   "cell_type": "markdown",
   "id": "9cb8195d-db25-4e81-a2a1-192d8e770253",
   "metadata": {},
   "source": [
    "#### 2. Extract Item Identifiers\n",
    "\n",
    "Activity 2: Each individual metadata record has at least one `<identifier>` element; this element is used to include a reference to the item, such as a URI, or another identifier that a system may use to locate an item. Using a loop similar to the example above, how would you print each record's identifier(s)?  "
   ]
  },
  {
   "cell_type": "code",
   "execution_count": 22,
   "id": "0b794834-de28-401a-991d-c2e577b20b70",
   "metadata": {},
   "outputs": [
    {
     "name": "stdout",
     "output_type": "stream",
     "text": [
      "identifier lcwaN0010234\n",
      "identifier 85999\n",
      "identifier 109353\n",
      "identifier http://www.slate.com/\n",
      "identifier 15046\n",
      "identifier lcwaN0001999\n",
      "identifier 91224\n",
      "identifier 109272\n",
      "identifier http://rawstory.com/\n",
      "identifier 2771\n",
      "identifier lcwaN0003238\n",
      "identifier 91275\n",
      "identifier 109273\n",
      "identifier 96782\n",
      "identifier http://www.huffingtonpost.com/\n",
      "identifier 4619\n",
      "identifier lcwaN0010144\n",
      "identifier nan\n",
      "identifier https://medium.com/buzzfeed-collections\n",
      "identifier 24463\n",
      "identifier http://www.buzzfeed.com/\n",
      "identifier 14906\n",
      "identifier lcwaN0010145\n",
      "identifier 82949\n",
      "identifier 109227\n",
      "identifier http://www.drudgereport.com/\n",
      "identifier 14951\n"
     ]
    }
   ],
   "source": [
    "#BS4\n",
    "with open(MODS_file, 'r') as xml_records:\n",
    "    metadata = BeautifulSoup(xml_records, features='xml')\n",
    "    for mods in metadata.find_all('mods'):\n",
    "        for identifier in mods.find_all('identifier'):\n",
    "            print(identifier.name, identifier.text)"
   ]
  },
  {
   "cell_type": "markdown",
   "id": "e66fdbce-8c35-4eb5-a98f-36747c0fb579",
   "metadata": {},
   "source": [
    "There are clearly different types of identifiers here, and when we check the identifier attributes, \n",
    "it is clear that some of these will be more useful than others. Below, use the `.attrs` method to see the dictionary that each element carries:"
   ]
  },
  {
   "cell_type": "code",
   "execution_count": 23,
   "id": "06325014-2192-44e0-858e-7c1b93af7c4a",
   "metadata": {},
   "outputs": [
    {
     "name": "stdout",
     "output_type": "stream",
     "text": [
      "identifier lcwaN0010234 {}\n",
      "identifier 85999 {'invalid': 'yes', 'type': 'database id'}\n",
      "identifier 109353 {'invalid': 'yes', 'type': 'database id'}\n",
      "identifier http://www.slate.com/ {'displayLabel': 'Access URL', 'type': 'uri'}\n",
      "identifier 15046 {'type': 'database id'}\n",
      "identifier lcwaN0001999 {}\n",
      "identifier 91224 {'invalid': 'yes', 'type': 'database id'}\n",
      "identifier 109272 {'invalid': 'yes', 'type': 'database id'}\n",
      "identifier http://rawstory.com/ {'displayLabel': 'Access URL', 'type': 'uri'}\n",
      "identifier 2771 {'type': 'database id'}\n",
      "identifier lcwaN0003238 {}\n",
      "identifier 91275 {'invalid': 'yes', 'type': 'database id'}\n",
      "identifier 109273 {'invalid': 'yes', 'type': 'database id'}\n",
      "identifier 96782 {'invalid': 'yes', 'type': 'database id'}\n",
      "identifier http://www.huffingtonpost.com/ {'displayLabel': 'Access URL', 'type': 'uri'}\n",
      "identifier 4619 {'type': 'database id'}\n",
      "identifier lcwaN0010144 {}\n",
      "identifier nan {'invalid': 'yes', 'type': 'database id'}\n",
      "identifier https://medium.com/buzzfeed-collections {'displayLabel': 'Access URL', 'type': 'uri'}\n",
      "identifier 24463 {'type': 'database id'}\n",
      "identifier http://www.buzzfeed.com/ {'displayLabel': 'Access URL', 'type': 'uri'}\n",
      "identifier 14906 {'type': 'database id'}\n",
      "identifier lcwaN0010145 {}\n",
      "identifier 82949 {'invalid': 'yes', 'type': 'database id'}\n",
      "identifier 109227 {'invalid': 'yes', 'type': 'database id'}\n",
      "identifier http://www.drudgereport.com/ {'displayLabel': 'Access URL', 'type': 'uri'}\n",
      "identifier 14951 {'type': 'database id'}\n"
     ]
    }
   ],
   "source": [
    "#BS4\n",
    "with open(MODS_file, 'r') as xml_records:\n",
    "    metadata = BeautifulSoup(xml_records, features='xml')\n",
    "    for mods in metadata.find_all('mods'):\n",
    "        for identifier in mods.find_all('identifier'):\n",
    "            print(identifier.name, identifier.text, identifier.attrs)"
   ]
  },
  {
   "cell_type": "markdown",
   "id": "c6643d75-d201-4601-844e-e7727236f0b5",
   "metadata": {},
   "source": [
    "Since some of the elements do not have attributes, we need a try-except loop to look at each dictionary, \n",
    "and to generate a \"Blank\" value for elements without attributes:"
   ]
  },
  {
   "cell_type": "code",
   "execution_count": 24,
   "id": "71bac32e-6d51-4e30-a30d-dbb36e8c6a04",
   "metadata": {},
   "outputs": [
    {
     "name": "stdout",
     "output_type": "stream",
     "text": [
      "identifier lcwaN0010234 Blank type\n",
      "identifier 85999 database id\n",
      "identifier 109353 database id\n",
      "identifier http://www.slate.com/ uri\n",
      "identifier 15046 database id\n",
      "identifier lcwaN0001999 Blank type\n",
      "identifier 91224 database id\n",
      "identifier 109272 database id\n",
      "identifier http://rawstory.com/ uri\n",
      "identifier 2771 database id\n",
      "identifier lcwaN0003238 Blank type\n",
      "identifier 91275 database id\n",
      "identifier 109273 database id\n",
      "identifier 96782 database id\n",
      "identifier http://www.huffingtonpost.com/ uri\n",
      "identifier 4619 database id\n",
      "identifier lcwaN0010144 Blank type\n",
      "identifier nan database id\n",
      "identifier https://medium.com/buzzfeed-collections uri\n",
      "identifier 24463 database id\n",
      "identifier http://www.buzzfeed.com/ uri\n",
      "identifier 14906 database id\n",
      "identifier lcwaN0010145 Blank type\n",
      "identifier 82949 database id\n",
      "identifier 109227 database id\n",
      "identifier http://www.drudgereport.com/ uri\n",
      "identifier 14951 database id\n"
     ]
    }
   ],
   "source": [
    "#BS4\n",
    "with open(MODS_file, 'r') as xml_records:\n",
    "    metadata = BeautifulSoup(xml_records, features='xml')\n",
    "    for mods in metadata.find_all('mods'):\n",
    "        for identifier in mods.find_all('identifier'):\n",
    "            tag = identifier.name\n",
    "            content = identifier.text\n",
    "            try:\n",
    "                type_ = identifier.attrs['type']\n",
    "            except:\n",
    "                type_ = \"Blank type\"\n",
    "            print(tag, content, type_)"
   ]
  },
  {
   "cell_type": "markdown",
   "id": "7ca684a6-b12b-4edc-838b-af7d4fc53fc8",
   "metadata": {},
   "source": [
    "Finally, let's print a clean list of only the URI identifiers:"
   ]
  },
  {
   "cell_type": "code",
   "execution_count": 25,
   "id": "2d43b1bb-a5f2-4637-93bf-bb98eaf28a29",
   "metadata": {},
   "outputs": [
    {
     "name": "stdout",
     "output_type": "stream",
     "text": [
      "uri http://www.slate.com/\n",
      "uri http://rawstory.com/\n",
      "uri http://www.huffingtonpost.com/\n",
      "uri https://medium.com/buzzfeed-collections\n",
      "uri http://www.buzzfeed.com/\n",
      "uri http://www.drudgereport.com/\n"
     ]
    }
   ],
   "source": [
    "#BS4\n",
    "with open(MODS_file, 'r') as xml_records:\n",
    "    metadata = BeautifulSoup(xml_records, features='xml')\n",
    "    for mods in metadata.find_all('mods'):\n",
    "        for identifier in mods.find_all('identifier', type=\"uri\"):\n",
    "            print(identifier.attrs['type'], identifier.text)"
   ]
  },
  {
   "cell_type": "markdown",
   "id": "d97b2d2a-8bdf-444b-a2ea-2dbb06a1599e",
   "metadata": {},
   "source": [
    "Now, we could try that another way using the `lxml` XML library directly:"
   ]
  },
  {
   "cell_type": "code",
   "execution_count": 26,
   "id": "e9149ee4-3a65-478a-a3c4-b9e167273481",
   "metadata": {},
   "outputs": [
    {
     "name": "stdout",
     "output_type": "stream",
     "text": [
      "{http://www.loc.gov/mods/v3}identifier lcwaN0010234 {}\n",
      "{http://www.loc.gov/mods/v3}identifier 85999 {'invalid': 'yes', 'type': 'database id'}\n",
      "{http://www.loc.gov/mods/v3}identifier 109353 {'invalid': 'yes', 'type': 'database id'}\n",
      "{http://www.loc.gov/mods/v3}identifier http://www.slate.com/ {'displayLabel': 'Access URL', 'type': 'uri'}\n",
      "{http://www.loc.gov/mods/v3}identifier 15046 {'type': 'database id'}\n",
      "{http://www.loc.gov/mods/v3}identifier lcwaN0001999 {}\n",
      "{http://www.loc.gov/mods/v3}identifier 91224 {'invalid': 'yes', 'type': 'database id'}\n",
      "{http://www.loc.gov/mods/v3}identifier 109272 {'invalid': 'yes', 'type': 'database id'}\n",
      "{http://www.loc.gov/mods/v3}identifier http://rawstory.com/ {'displayLabel': 'Access URL', 'type': 'uri'}\n",
      "{http://www.loc.gov/mods/v3}identifier 2771 {'type': 'database id'}\n",
      "{http://www.loc.gov/mods/v3}identifier lcwaN0003238 {}\n",
      "{http://www.loc.gov/mods/v3}identifier 91275 {'invalid': 'yes', 'type': 'database id'}\n",
      "{http://www.loc.gov/mods/v3}identifier 109273 {'invalid': 'yes', 'type': 'database id'}\n",
      "{http://www.loc.gov/mods/v3}identifier 96782 {'invalid': 'yes', 'type': 'database id'}\n",
      "{http://www.loc.gov/mods/v3}identifier http://www.huffingtonpost.com/ {'displayLabel': 'Access URL', 'type': 'uri'}\n",
      "{http://www.loc.gov/mods/v3}identifier 4619 {'type': 'database id'}\n",
      "{http://www.loc.gov/mods/v3}identifier lcwaN0010144 {}\n",
      "{http://www.loc.gov/mods/v3}identifier nan {'invalid': 'yes', 'type': 'database id'}\n",
      "{http://www.loc.gov/mods/v3}identifier https://medium.com/buzzfeed-collections {'displayLabel': 'Access URL', 'type': 'uri'}\n",
      "{http://www.loc.gov/mods/v3}identifier 24463 {'type': 'database id'}\n",
      "{http://www.loc.gov/mods/v3}identifier http://www.buzzfeed.com/ {'displayLabel': 'Access URL', 'type': 'uri'}\n",
      "{http://www.loc.gov/mods/v3}identifier 14906 {'type': 'database id'}\n",
      "{http://www.loc.gov/mods/v3}identifier lcwaN0010145 {}\n",
      "{http://www.loc.gov/mods/v3}identifier 82949 {'invalid': 'yes', 'type': 'database id'}\n",
      "{http://www.loc.gov/mods/v3}identifier 109227 {'invalid': 'yes', 'type': 'database id'}\n",
      "{http://www.loc.gov/mods/v3}identifier http://www.drudgereport.com/ {'displayLabel': 'Access URL', 'type': 'uri'}\n",
      "{http://www.loc.gov/mods/v3}identifier 14951 {'type': 'database id'}\n"
     ]
    }
   ],
   "source": [
    "#lxml\n",
    "xml_records = ET.parse(MODS_file)\n",
    "\n",
    "for identifier in xml_records.findall('.//mods:identifier', namespaces=ns): \n",
    "    element = identifier\n",
    "    print(element.tag, element.text, element.attrib)"
   ]
  },
  {
   "cell_type": "markdown",
   "id": "6908f024-58a3-4698-9bf7-951a54b43957",
   "metadata": {},
   "source": [
    "And, filter to identify only the URI elements...\n",
    "\n",
    "Using an XPath expression `etree`, you can filter directly for identifiers that\n",
    "have a `type` attribute with the `uri` value:"
   ]
  },
  {
   "cell_type": "code",
   "execution_count": 28,
   "id": "f7e5f96a-e412-4f2e-b3ce-cefde01b2acb",
   "metadata": {},
   "outputs": [
    {
     "name": "stdout",
     "output_type": "stream",
     "text": [
      "{http://www.loc.gov/mods/v3}identifier uri http://www.slate.com/\n",
      "{http://www.loc.gov/mods/v3}identifier uri http://rawstory.com/\n",
      "{http://www.loc.gov/mods/v3}identifier uri http://www.huffingtonpost.com/\n",
      "{http://www.loc.gov/mods/v3}identifier uri https://medium.com/buzzfeed-collections\n",
      "{http://www.loc.gov/mods/v3}identifier uri http://www.buzzfeed.com/\n",
      "{http://www.loc.gov/mods/v3}identifier uri http://www.drudgereport.com/\n"
     ]
    }
   ],
   "source": [
    "#lxml\n",
    "xml_records = ET.parse(MODS_file)\n",
    "\n",
    "for identifier in xml_records.findall('.//mods:identifier[@type=\"uri\"]', namespaces=ns): \n",
    "    element = identifier\n",
    "    attribs = element.attrib\n",
    "    type = attribs.get('type')\n",
    "    print(element.tag, type, element.text)"
   ]
  },
  {
   "cell_type": "markdown",
   "id": "527fb1ae-ec19-4fb1-a133-db71be382de2",
   "metadata": {},
   "source": [
    "#### 3. Extract the record titles \n",
    "\n",
    "Activity 3: Each individual metadata record has `<titleInfo>` that contains at least one `<title>` element; this element is used to identyify an item's title. Using a loop similar to the example above, how would you print each record's title(s)?  "
   ]
  },
  {
   "cell_type": "code",
   "execution_count": 29,
   "id": "5552c589-59b0-476c-b5ba-170cc00717a9",
   "metadata": {
    "tags": []
   },
   "outputs": [
    {
     "name": "stdout",
     "output_type": "stream",
     "text": [
      "title <titleInfo><title>Slate Magazine</title></titleInfo>\n",
      "title <titleInfo><title>General News on the Internet Web Archive</title></titleInfo>\n",
      "title <titleInfo><title>Serial and Government Publications Division</title></titleInfo>\n",
      "title <titleInfo><title>Raw Story</title></titleInfo>\n",
      "title <titleInfo><title>General News on the Internet Web Archive</title></titleInfo>\n",
      "title <titleInfo><title>Serial and Government Publications Division</title></titleInfo>\n",
      "title <titleInfo><title>Huffington Post</title></titleInfo>\n",
      "title <titleInfo><title>General News on the Internet Web Archive</title></titleInfo>\n",
      "title <titleInfo><title>Serial and Government Publications Division</title></titleInfo>\n",
      "title <titleInfo><title>BuzzFeed</title></titleInfo>\n",
      "title <titleInfo><title>General News on the Internet Web Archive</title></titleInfo>\n",
      "title <titleInfo><title>Serial and Government Publications Division</title></titleInfo>\n",
      "title <titleInfo><title>Drudge Report</title></titleInfo>\n",
      "title <titleInfo><title>General News on the Internet Web Archive</title></titleInfo>\n",
      "title <titleInfo><title>Serial and Government Publications Division</title></titleInfo>\n"
     ]
    }
   ],
   "source": [
    "#BS4\n",
    "with open(MODS_file, 'r') as xml_records:\n",
    "    metadata = BeautifulSoup(xml_records, features='xml')\n",
    "    for mods in metadata.find_all('mods'):\n",
    "        for title in mods.find_all('title'):\n",
    "            print(title.name, title.find_parent())"
   ]
  },
  {
   "cell_type": "markdown",
   "id": "d7280cd4",
   "metadata": {},
   "source": [
    "Similarly, `lxml` may be used with the `.getparent()` function. Note that this is not possible with the ElementTree module, only with the lxml module."
   ]
  },
  {
   "cell_type": "code",
   "execution_count": 30,
   "id": "cb137be5",
   "metadata": {},
   "outputs": [
    {
     "name": "stdout",
     "output_type": "stream",
     "text": [
      "{http://www.loc.gov/mods/v3}title {http://www.loc.gov/mods/v3}titleInfo\n",
      "{http://www.loc.gov/mods/v3}title {http://www.loc.gov/mods/v3}titleInfo\n",
      "{http://www.loc.gov/mods/v3}title {http://www.loc.gov/mods/v3}titleInfo\n",
      "{http://www.loc.gov/mods/v3}title {http://www.loc.gov/mods/v3}titleInfo\n",
      "{http://www.loc.gov/mods/v3}title {http://www.loc.gov/mods/v3}titleInfo\n",
      "{http://www.loc.gov/mods/v3}title {http://www.loc.gov/mods/v3}titleInfo\n",
      "{http://www.loc.gov/mods/v3}title {http://www.loc.gov/mods/v3}titleInfo\n",
      "{http://www.loc.gov/mods/v3}title {http://www.loc.gov/mods/v3}titleInfo\n",
      "{http://www.loc.gov/mods/v3}title {http://www.loc.gov/mods/v3}titleInfo\n",
      "{http://www.loc.gov/mods/v3}title {http://www.loc.gov/mods/v3}titleInfo\n",
      "{http://www.loc.gov/mods/v3}title {http://www.loc.gov/mods/v3}titleInfo\n",
      "{http://www.loc.gov/mods/v3}title {http://www.loc.gov/mods/v3}titleInfo\n",
      "{http://www.loc.gov/mods/v3}title {http://www.loc.gov/mods/v3}titleInfo\n",
      "{http://www.loc.gov/mods/v3}title {http://www.loc.gov/mods/v3}titleInfo\n",
      "{http://www.loc.gov/mods/v3}title {http://www.loc.gov/mods/v3}titleInfo\n"
     ]
    }
   ],
   "source": [
    "#lxml\n",
    "xml_records = etree.parse(MODS_file)\n",
    "metadata = xml_records.getroot()\n",
    "\n",
    "for mods in metadata.findall('.//mods:mods', namespaces=ns):\n",
    "    for title in mods.findall('.//mods:title', namespaces=ns):\n",
    "        parent = title.getparent()\n",
    "        print(title.tag, parent.tag)"
   ]
  },
  {
   "cell_type": "markdown",
   "id": "3e066724-93d5-4307-b70b-ab3704bca5ef",
   "metadata": {},
   "source": [
    "Note above that the `.find_parent()` (BS4) or `.getparent()` (lxml) methods can be used to look \"up\" the tree, \n",
    "in this case displaying the parent element of the `title` element.\n",
    "\n",
    "A similar result can be produced using the `lxml` library directly. In this case, \n",
    "the `.findall()` method is similar, but notice that the request can be given\n",
    "using XPATH references and while specifying namespaces:"
   ]
  },
  {
   "cell_type": "code",
   "execution_count": 31,
   "id": "a724d079-ca6a-42b3-a033-90479e95a415",
   "metadata": {},
   "outputs": [
    {
     "name": "stdout",
     "output_type": "stream",
     "text": [
      "Slate Magazine\n",
      "General News on the Internet Web Archive\n",
      "Serial and Government Publications Division\n",
      "Raw Story\n",
      "General News on the Internet Web Archive\n",
      "Serial and Government Publications Division\n",
      "Huffington Post\n",
      "General News on the Internet Web Archive\n",
      "Serial and Government Publications Division\n",
      "BuzzFeed\n",
      "General News on the Internet Web Archive\n",
      "Serial and Government Publications Division\n",
      "Drudge Report\n",
      "General News on the Internet Web Archive\n",
      "Serial and Government Publications Division\n"
     ]
    }
   ],
   "source": [
    "#lxml\n",
    "xml_records = etree.parse(MODS_file)\n",
    "\n",
    "for titleInfo in xml_records.findall('.//mods:title', namespaces=ns): \n",
    "    element = titleInfo\n",
    "    print(element.text)"
   ]
  },
  {
   "cell_type": "code",
   "execution_count": 43,
   "id": "380b2b00",
   "metadata": {},
   "outputs": [
    {
     "name": "stdout",
     "output_type": "stream",
     "text": [
      "Slate Magazine\n",
      "General News on the Internet Web Archive\n",
      "Serial and Government Publications Division\n",
      "Raw Story\n",
      "General News on the Internet Web Archive\n",
      "Serial and Government Publications Division\n",
      "Huffington Post\n",
      "General News on the Internet Web Archive\n",
      "Serial and Government Publications Division\n",
      "BuzzFeed\n",
      "General News on the Internet Web Archive\n",
      "Serial and Government Publications Division\n",
      "Drudge Report\n",
      "General News on the Internet Web Archive\n",
      "Serial and Government Publications Division\n"
     ]
    }
   ],
   "source": [
    "for title in xml_records.findall('.//mods:title', namespaces=ns):\n",
    "    print(title.text)"
   ]
  },
  {
   "cell_type": "markdown",
   "id": "9af8386b-50ef-492f-8b00-b786eb46cbbc",
   "metadata": {},
   "source": [
    "#### 4. Extract only the Main Titles\n",
    "\n",
    "Activity 4: Notice in the previous activity that even though we are working with only five\n",
    "records, there are well more than five titles. Each of these records has multiple `title` elements,\n",
    "some of which are for `relatedItem` elements. If we want only the main titles, use the `.find()` function \n",
    "to search for only the first instance and print out only the main title. An alternative way to do this in `lxml`\n",
    "is to use a more specific XPath selector."
   ]
  },
  {
   "cell_type": "code",
   "execution_count": 47,
   "id": "18d18f8e-0558-4a7d-8fc2-96cd8f2fd06a",
   "metadata": {},
   "outputs": [
    {
     "name": "stdout",
     "output_type": "stream",
     "text": [
      "title Slate Magazine\n",
      "title Raw Story\n",
      "title Huffington Post\n",
      "title BuzzFeed\n",
      "title Drudge Report\n"
     ]
    }
   ],
   "source": [
    "#BS4\n",
    "with open(MODS_file, 'r') as xml_records:\n",
    "    metadata = BeautifulSoup(xml_records, features='xml')\n",
    "    for mods in metadata.find_all('mods'):\n",
    "        title = mods.find('title')\n",
    "        print(title.name, title.text)"
   ]
  },
  {
   "cell_type": "markdown",
   "id": "f5a31666-bb50-40cc-9351-a7e1a4881374",
   "metadata": {},
   "source": [
    "Try `lxml` to use an XPath request. (Note: you can also use the `.find()` method in `lxml` to return only the first result.)"
   ]
  },
  {
   "cell_type": "code",
   "execution_count": 48,
   "id": "5609472e-7b72-4d01-8c19-8738d54f3726",
   "metadata": {},
   "outputs": [
    {
     "name": "stdout",
     "output_type": "stream",
     "text": [
      "Slate Magazine {http://www.loc.gov/mods/v3}title\n",
      "Raw Story {http://www.loc.gov/mods/v3}title\n",
      "Huffington Post {http://www.loc.gov/mods/v3}title\n",
      "BuzzFeed {http://www.loc.gov/mods/v3}title\n",
      "Drudge Report {http://www.loc.gov/mods/v3}title\n"
     ]
    }
   ],
   "source": [
    "#lxml\n",
    "xml_records = etree.parse(MODS_file)\n",
    "metadata = xml_records.getroot()\n",
    "\n",
    "for title in metadata.findall('.//mods:mods/mods:titleInfo/mods:title', namespaces=ns): \n",
    "    print(title.text, title.tag)"
   ]
  },
  {
   "cell_type": "markdown",
   "id": "5249aa0c-cd7e-4f85-85f9-9553537b61c9",
   "metadata": {},
   "source": [
    "Above, the query specifically asks for the `title` elements that are direct \n",
    "child elements of a `titleInfo` element, which is a child of the `mods` element. \n",
    "This is necessary to filter out any `titleInfo` elements that are actually under a\n",
    "`relatedItem` element. With less specificity, the query will return numerous elements \n",
    "that \"related\" but not the title of the actual item: "
   ]
  },
  {
   "cell_type": "markdown",
   "id": "19210ac8-aa43-42ee-8947-6e57d4467fae",
   "metadata": {},
   "source": [
    "#### 5. Exploring the Subject Element\n",
    "\n",
    "Activity 5: These records contain `<subject>` designations, but only some of these correspond to headings that are authorized headings in the Library of Congress Subject Headings (LCSH). Those are indicated with an attribute `authority='lcsh'`, which is indicated as an embedded attribute in the tag. Look through the `<subject>` tags and identify only the ones that include an LCSH attribute, then print the content of those subject headings.\n",
    "\n",
    "Note: this activity requires using the twenty-five record set rather than the one with five records."
   ]
  },
  {
   "cell_type": "markdown",
   "id": "b30bd112-2136-4ac7-9e8f-ad7137967c11",
   "metadata": {},
   "source": [
    "As LCSH headings are generally constructed as a main topic word, followed by descriptors that indicate further\n",
    "topical, geographic, or chronological details, note that the structure is mimicked here, with `<topic>` and\n",
    "various `<genre>`, `<geographic>`, or other specifiers."
   ]
  },
  {
   "cell_type": "code",
   "execution_count": 49,
   "id": "c8f0dbb2",
   "metadata": {},
   "outputs": [],
   "source": [
    "large_MODS_collec = os.path.join('data','xml','2018_lcwa_MODS_25.xml')"
   ]
  },
  {
   "cell_type": "markdown",
   "id": "a822e0f0",
   "metadata": {},
   "source": [
    "First, take a look at the structure of the subject element sections using the `.tostring()` options:"
   ]
  },
  {
   "cell_type": "code",
   "execution_count": 64,
   "id": "8001629a",
   "metadata": {},
   "outputs": [
    {
     "name": "stdout",
     "output_type": "stream",
     "text": [
      "<ns0:subject xmlns:ns0=\"http://www.loc.gov/mods/v3\" authority=\"lcsh\">\n",
      "        <ns0:topic>Political candidates</ns0:topic>\n",
      "        <ns0:geographic>United States</ns0:geographic>\n",
      "    </ns0:subject>\n",
      "    \n",
      "<ns0:subject xmlns:ns0=\"http://www.loc.gov/mods/v3\" authority=\"lcsh\">\n",
      "        <ns0:topic>Elections</ns0:topic>\n",
      "        <ns0:geographic>United States</ns0:geographic>\n",
      "    </ns0:subject>\n",
      "    \n",
      "<ns0:subject xmlns:ns0=\"http://www.loc.gov/mods/v3\" authority=\"lcsh\">\n",
      "        <ns0:topic>Politics and government</ns0:topic>\n",
      "        <ns0:geographic>United States</ns0:geographic>\n",
      "    </ns0:subject>\n",
      "        \n",
      "<ns0:subject xmlns:ns0=\"http://www.loc.gov/mods/v3\" authority=\"lcsh\" displayLabel=\"United States Elections, 2014\">\n",
      "                <ns0:name type=\"corporate\" authority=\"naf\">\n",
      "                        <ns0:namePart>United States. Congress. Senate</ns0:namePart>\n",
      "                    </ns0:name>\n",
      "            </ns0:subject>\n",
      "    \n",
      "<ns0:subject xmlns:ns0=\"http://www.loc.gov/mods/v3\" authority=\"lcsh\" displayLabel=\"United States Elections, 2014\">\n",
      "        <ns0:geographic>Kansas</ns0:geographic>\n",
      "    </ns0:subject>\n",
      "            \n"
     ]
    }
   ],
   "source": [
    "#lxml\n",
    "xml_records = etree.parse(large_MODS_collec)\n",
    "metadata = xml_records.getroot()\n",
    "\n",
    "for subject in mods.findall('.//mods:subject[@authority=\"lcsh\"]', namespaces=ns):\n",
    "#   uncomment the next line if you want to see the tag names and attributes\n",
    "#    print(subject.tag, subject.attrib)\n",
    "    print(ET.tostring(subject, encoding='utf-8').decode('utf-8'))"
   ]
  },
  {
   "cell_type": "code",
   "execution_count": 66,
   "id": "55b58c47",
   "metadata": {},
   "outputs": [
    {
     "name": "stdout",
     "output_type": "stream",
     "text": [
      "{http://www.loc.gov/mods/v3}subject {'authority': 'lcsh'}\n",
      "{http://www.loc.gov/mods/v3}topic Political candidates\n",
      "{http://www.loc.gov/mods/v3}geographic United States\n",
      "\n",
      "\n",
      "\n",
      "{http://www.loc.gov/mods/v3}subject {'authority': 'lcsh'}\n",
      "{http://www.loc.gov/mods/v3}topic Elections\n",
      "{http://www.loc.gov/mods/v3}geographic United States\n",
      "\n",
      "\n",
      "\n",
      "{http://www.loc.gov/mods/v3}subject {'authority': 'lcsh'}\n",
      "{http://www.loc.gov/mods/v3}topic Politics and government\n",
      "{http://www.loc.gov/mods/v3}geographic United States\n",
      "\n",
      "\n",
      "\n",
      "{http://www.loc.gov/mods/v3}subject {'authority': 'lcsh', 'displayLabel': 'United States Elections, 2014'}\n",
      "{http://www.loc.gov/mods/v3}name \n",
      "                        \n",
      "\n",
      "\n",
      "\n",
      "{http://www.loc.gov/mods/v3}subject {'authority': 'lcsh', 'displayLabel': 'United States Elections, 2014'}\n",
      "{http://www.loc.gov/mods/v3}geographic Kansas\n",
      "\n",
      "\n",
      "\n"
     ]
    }
   ],
   "source": [
    "#lxml\n",
    "xml_records = etree.parse(large_MODS_collec)\n",
    "metadata = xml_records.getroot()\n",
    "\n",
    "for subject in mods.findall('.//mods:subject[@authority=\"lcsh\"]', namespaces=ns):\n",
    "    print(subject.tag, subject.attrib)\n",
    "    for item in subject:\n",
    "        print(item.tag, item.text)\n",
    "    print('\\n\\n')"
   ]
  },
  {
   "cell_type": "code",
   "execution_count": 67,
   "id": "45872103-29f0-492a-80c2-1257e4d57d48",
   "metadata": {},
   "outputs": [
    {
     "name": "stdout",
     "output_type": "stream",
     "text": [
      "<subject authority=\"lcsh\">\n",
      "<name authority=\"naf\" type=\"corporate\">\n",
      "<namePart><!-- TODO: Insert name authority here (can be same as name authority above, under title). --></namePart>\n",
      "</name>\n",
      "</subject> {'authority': 'lcsh'} \n",
      "\n",
      "<subject authority=\"lcsh\">\n",
      "<topic>Animals</topic>\n",
      "<genre>Pictorial works</genre>\n",
      "</subject> {'authority': 'lcsh'} \n",
      "\n",
      "<subject authority=\"lcsh\">\n",
      "<name authority=\"naf\" type=\"corporate\">\n",
      "<namePart><!-- TODO: Insert name authority here (can be same as name authority above, under title). --></namePart>\n",
      "</name>\n",
      "</subject> {'authority': 'lcsh'} \n",
      "\n",
      "<subject authority=\"lcsh\">\n",
      "<topic>Memes</topic>\n",
      "</subject> {'authority': 'lcsh'} \n",
      "\n",
      "<subject authority=\"lcsh\">\n",
      "<name authority=\"naf\" type=\"corporate\">\n",
      "<namePart><!-- TODO: Insert name authority here (can be same as name authority above, under title). --></namePart>\n",
      "</name>\n",
      "</subject> {'authority': 'lcsh'} \n",
      "\n",
      "<subject authority=\"lcsh\">\n",
      "<topic>Memes</topic></subject> {'authority': 'lcsh'} \n",
      "\n",
      "<subject authority=\"lcsh\">\n",
      "<name authority=\"naf\" type=\"corporate\">\n",
      "<namePart><!-- TODO: Insert name authority here (can be same as name authority above, under title). --></namePart>\n",
      "</name>\n",
      "</subject> {'authority': 'lcsh'} \n",
      "\n",
      "<subject authority=\"lcsh\">\n",
      "<topic>Memes</topic></subject> {'authority': 'lcsh'} \n",
      "\n",
      "<subject authority=\"lcsh\">\n",
      "<name authority=\"naf\" type=\"corporate\">\n",
      "<namePart><!-- TODO: Insert name authority here (can be same as name authority above, under title). --></namePart>\n",
      "</name>\n",
      "</subject> {'authority': 'lcsh'} \n",
      "\n",
      "<subject authority=\"lcsh\">\n",
      "<topic>Web portals</topic></subject> {'authority': 'lcsh'} \n",
      "\n",
      "<subject authority=\"lcsh\">\n",
      "<topic>Political candidates</topic>\n",
      "<geographic>United States</geographic>\n",
      "</subject> {'authority': 'lcsh'} \n",
      "\n",
      "<subject authority=\"lcsh\">\n",
      "<topic>Elections</topic>\n",
      "<geographic>United States</geographic>\n",
      "</subject> {'authority': 'lcsh'} \n",
      "\n",
      "<subject authority=\"lcsh\">\n",
      "<topic>Politics and government</topic>\n",
      "<geographic>United States</geographic>\n",
      "</subject> {'authority': 'lcsh'} \n",
      "\n",
      "<subject authority=\"lcsh\" displayLabel=\"United States Elections, 2014\">\n",
      "<name authority=\"naf\" type=\"corporate\">\n",
      "<namePart>United States. Congress. Senate</namePart>\n",
      "</name>\n",
      "</subject> {'authority': 'lcsh', 'displayLabel': 'United States Elections, 2014'} \n",
      "\n",
      "<subject authority=\"lcsh\" displayLabel=\"United States Elections, 2014\">\n",
      "<geographic>Kansas</geographic>\n",
      "</subject> {'authority': 'lcsh', 'displayLabel': 'United States Elections, 2014'} \n",
      "\n",
      "<subject authority=\"lcsh\">\n",
      "<topic>Political candidates</topic>\n",
      "<geographic>United States</geographic>\n",
      "</subject> {'authority': 'lcsh'} \n",
      "\n",
      "<subject authority=\"lcsh\">\n",
      "<topic>Elections</topic>\n",
      "<geographic>United States</geographic>\n",
      "</subject> {'authority': 'lcsh'} \n",
      "\n",
      "<subject authority=\"lcsh\">\n",
      "<topic>Politics and government</topic>\n",
      "<geographic>United States</geographic>\n",
      "</subject> {'authority': 'lcsh'} \n",
      "\n",
      "<subject authority=\"lcsh\" displayLabel=\"United States Elections, 2014\">\n",
      "<name authority=\"naf\" type=\"corporate\">\n",
      "<namePart>United States. Congress. Senate</namePart>\n",
      "</name>\n",
      "</subject> {'authority': 'lcsh', 'displayLabel': 'United States Elections, 2014'} \n",
      "\n",
      "<subject authority=\"lcsh\" displayLabel=\"United States Elections, 2014\">\n",
      "<geographic>Oklahoma</geographic>\n",
      "</subject> {'authority': 'lcsh', 'displayLabel': 'United States Elections, 2014'} \n",
      "\n",
      "<subject authority=\"lcsh\">\n",
      "<topic>Political candidates</topic>\n",
      "<geographic>United States</geographic>\n",
      "</subject> {'authority': 'lcsh'} \n",
      "\n",
      "<subject authority=\"lcsh\">\n",
      "<topic>Elections</topic>\n",
      "<geographic>United States</geographic>\n",
      "</subject> {'authority': 'lcsh'} \n",
      "\n",
      "<subject authority=\"lcsh\">\n",
      "<topic>Politics and government</topic>\n",
      "<geographic>United States</geographic>\n",
      "</subject> {'authority': 'lcsh'} \n",
      "\n",
      "<subject authority=\"lcsh\" displayLabel=\"United States Elections, 2014\">\n",
      "<name authority=\"naf\" type=\"corporate\">\n",
      "<namePart>United States. Congress. Senate</namePart>\n",
      "</name>\n",
      "</subject> {'authority': 'lcsh', 'displayLabel': 'United States Elections, 2014'} \n",
      "\n",
      "<subject authority=\"lcsh\" displayLabel=\"United States Elections, 2014\">\n",
      "<geographic>Tennessee</geographic>\n",
      "</subject> {'authority': 'lcsh', 'displayLabel': 'United States Elections, 2014'} \n",
      "\n",
      "<subject authority=\"lcsh\">\n",
      "<topic>Political candidates</topic>\n",
      "<geographic>United States</geographic>\n",
      "</subject> {'authority': 'lcsh'} \n",
      "\n",
      "<subject authority=\"lcsh\">\n",
      "<topic>Elections</topic>\n",
      "<geographic>United States</geographic>\n",
      "</subject> {'authority': 'lcsh'} \n",
      "\n",
      "<subject authority=\"lcsh\">\n",
      "<topic>Politics and government</topic>\n",
      "<geographic>United States</geographic>\n",
      "</subject> {'authority': 'lcsh'} \n",
      "\n",
      "<subject authority=\"lcsh\" displayLabel=\"United States Elections, 2014\">\n",
      "<name authority=\"naf\" type=\"corporate\">\n",
      "<namePart>United States. Congress. Senate</namePart>\n",
      "</name>\n",
      "</subject> {'authority': 'lcsh', 'displayLabel': 'United States Elections, 2014'} \n",
      "\n",
      "<subject authority=\"lcsh\" displayLabel=\"United States Elections, 2014\">\n",
      "<geographic>Tennessee</geographic>\n",
      "</subject> {'authority': 'lcsh', 'displayLabel': 'United States Elections, 2014'} \n",
      "\n",
      "<subject authority=\"lcsh\">\n",
      "<topic>Political candidates</topic>\n",
      "<geographic>United States</geographic>\n",
      "</subject> {'authority': 'lcsh'} \n",
      "\n",
      "<subject authority=\"lcsh\">\n",
      "<topic>Elections</topic>\n",
      "<geographic>United States</geographic>\n",
      "</subject> {'authority': 'lcsh'} \n",
      "\n",
      "<subject authority=\"lcsh\">\n",
      "<topic>Politics and government</topic>\n",
      "<geographic>United States</geographic>\n",
      "</subject> {'authority': 'lcsh'} \n",
      "\n",
      "<subject authority=\"lcsh\" displayLabel=\"United States Elections, 2014\">\n",
      "<name authority=\"naf\" type=\"corporate\">\n",
      "<namePart>United States. Congress. Senate</namePart>\n",
      "</name>\n",
      "</subject> {'authority': 'lcsh', 'displayLabel': 'United States Elections, 2014'} \n",
      "\n",
      "<subject authority=\"lcsh\" displayLabel=\"United States Elections, 2014\">\n",
      "<geographic>Kansas</geographic>\n",
      "</subject> {'authority': 'lcsh', 'displayLabel': 'United States Elections, 2014'} \n",
      "\n"
     ]
    }
   ],
   "source": [
    "#BS4\n",
    "metadata = BeautifulSoup(open(large_MODS_collec), features='xml')\n",
    "\n",
    "for mods in metadata.find_all('mods'):\n",
    "    for subject in mods.find_all('subject', authority=\"lcsh\"):\n",
    "        print(subject, subject.attrs, '\\n')"
   ]
  },
  {
   "cell_type": "code",
   "execution_count": 68,
   "id": "2365d449-22bc-42d3-8951-d89bebf00a66",
   "metadata": {},
   "outputs": [
    {
     "name": "stdout",
     "output_type": "stream",
     "text": [
      "None\n",
      "<topic>Animals</topic>\n",
      "None\n",
      "<topic>Memes</topic>\n",
      "None\n",
      "<topic>Memes</topic>\n",
      "None\n",
      "<topic>Memes</topic>\n",
      "None\n",
      "<topic>Web portals</topic>\n",
      "<topic>Political candidates</topic>\n",
      "<topic>Elections</topic>\n",
      "<topic>Politics and government</topic>\n",
      "None\n",
      "None\n",
      "<topic>Political candidates</topic>\n",
      "<topic>Elections</topic>\n",
      "<topic>Politics and government</topic>\n",
      "None\n",
      "None\n",
      "<topic>Political candidates</topic>\n",
      "<topic>Elections</topic>\n",
      "<topic>Politics and government</topic>\n",
      "None\n",
      "None\n",
      "<topic>Political candidates</topic>\n",
      "<topic>Elections</topic>\n",
      "<topic>Politics and government</topic>\n",
      "None\n",
      "None\n",
      "<topic>Political candidates</topic>\n",
      "<topic>Elections</topic>\n",
      "<topic>Politics and government</topic>\n",
      "None\n",
      "None\n"
     ]
    }
   ],
   "source": [
    "# demonstrating navigate in BS4 using dot notation (subject.topic) to go down in the tree\n",
    "#BS4\n",
    "metadata = BeautifulSoup(open(large_MODS_collec), features='xml')\n",
    "\n",
    "for mods in metadata.find_all('mods'):\n",
    "    for subject in mods.find_all('subject', authority=\"lcsh\"):\n",
    "        print(subject.topic)"
   ]
  },
  {
   "cell_type": "markdown",
   "id": "ce835e31-112a-4d4d-92ef-943087a53d12",
   "metadata": {},
   "source": [
    "Using `lxml`, we can use XPath queries. (Again, remember to use the 25-record file, not the 5-record file.)"
   ]
  },
  {
   "cell_type": "code",
   "execution_count": 69,
   "id": "040ffef8-6da0-4d51-80ab-f7b36cfcd17c",
   "metadata": {
    "tags": []
   },
   "outputs": [
    {
     "name": "stdout",
     "output_type": "stream",
     "text": [
      "{http://www.loc.gov/mods/v3}subject {'authority': 'keyword'}\n",
      "{http://www.loc.gov/mods/v3}subject {'authority': 'lcsh'}\n",
      "{http://www.loc.gov/mods/v3}subject {'authority': 'lcsh'}\n",
      "{http://www.loc.gov/mods/v3}subject {'authority': 'lcwabt'}\n",
      "{http://www.loc.gov/mods/v3}subject {'authority': 'keyword'}\n",
      "{http://www.loc.gov/mods/v3}subject {'authority': 'lcsh'}\n",
      "{http://www.loc.gov/mods/v3}subject {'authority': 'lcsh'}\n",
      "{http://www.loc.gov/mods/v3}subject {'authority': 'lcwabt'}\n",
      "{http://www.loc.gov/mods/v3}subject {'authority': 'keyword'}\n",
      "{http://www.loc.gov/mods/v3}subject {'authority': 'lcsh'}\n",
      "{http://www.loc.gov/mods/v3}subject {'authority': 'lcsh'}\n",
      "{http://www.loc.gov/mods/v3}subject {'authority': 'lcwabt'}\n",
      "{http://www.loc.gov/mods/v3}subject {'authority': 'keyword'}\n",
      "{http://www.loc.gov/mods/v3}subject {'authority': 'lcsh'}\n",
      "{http://www.loc.gov/mods/v3}subject {'authority': 'lcsh'}\n",
      "{http://www.loc.gov/mods/v3}subject {'authority': 'lcwabt'}\n",
      "{http://www.loc.gov/mods/v3}subject {'authority': 'keyword'}\n",
      "{http://www.loc.gov/mods/v3}subject {'authority': 'lcsh'}\n",
      "{http://www.loc.gov/mods/v3}subject {'authority': 'lcsh'}\n",
      "{http://www.loc.gov/mods/v3}subject {'authority': 'lcwabt'}\n",
      "{http://www.loc.gov/mods/v3}subject {'authority': 'local'}\n",
      "{http://www.loc.gov/mods/v3}subject {'authority': 'lcsh'}\n",
      "{http://www.loc.gov/mods/v3}subject {'authority': 'lcsh'}\n",
      "{http://www.loc.gov/mods/v3}subject {'authority': 'lcsh'}\n",
      "{http://www.loc.gov/mods/v3}subject {'authority': 'local', 'displayLabel': 'United States Elections, 2014'}\n",
      "{http://www.loc.gov/mods/v3}subject {'authority': 'lcsh', 'displayLabel': 'United States Elections, 2014'}\n",
      "{http://www.loc.gov/mods/v3}subject {'authority': 'local', 'displayLabel': 'United States Elections, 2014'}\n",
      "{http://www.loc.gov/mods/v3}subject {'authority': 'lcsh', 'displayLabel': 'United States Elections, 2014'}\n",
      "{http://www.loc.gov/mods/v3}subject {'authority': 'local'}\n",
      "{http://www.loc.gov/mods/v3}subject {'authority': 'lcsh'}\n",
      "{http://www.loc.gov/mods/v3}subject {'authority': 'lcsh'}\n",
      "{http://www.loc.gov/mods/v3}subject {'authority': 'lcsh'}\n",
      "{http://www.loc.gov/mods/v3}subject {'authority': 'local', 'displayLabel': 'United States Elections, 2014'}\n",
      "{http://www.loc.gov/mods/v3}subject {'authority': 'lcsh', 'displayLabel': 'United States Elections, 2014'}\n",
      "{http://www.loc.gov/mods/v3}subject {'authority': 'local', 'displayLabel': 'United States Elections, 2014'}\n",
      "{http://www.loc.gov/mods/v3}subject {'authority': 'lcsh', 'displayLabel': 'United States Elections, 2014'}\n",
      "{http://www.loc.gov/mods/v3}subject {'authority': 'local'}\n",
      "{http://www.loc.gov/mods/v3}subject {'authority': 'lcsh'}\n",
      "{http://www.loc.gov/mods/v3}subject {'authority': 'lcsh'}\n",
      "{http://www.loc.gov/mods/v3}subject {'authority': 'lcsh'}\n",
      "{http://www.loc.gov/mods/v3}subject {'authority': 'local', 'displayLabel': 'United States Elections, 2014'}\n",
      "{http://www.loc.gov/mods/v3}subject {'authority': 'lcsh', 'displayLabel': 'United States Elections, 2014'}\n",
      "{http://www.loc.gov/mods/v3}subject {'authority': 'local', 'displayLabel': 'United States Elections, 2014'}\n",
      "{http://www.loc.gov/mods/v3}subject {'authority': 'lcsh', 'displayLabel': 'United States Elections, 2014'}\n",
      "{http://www.loc.gov/mods/v3}subject {'authority': 'local'}\n",
      "{http://www.loc.gov/mods/v3}subject {'authority': 'lcsh'}\n",
      "{http://www.loc.gov/mods/v3}subject {'authority': 'lcsh'}\n",
      "{http://www.loc.gov/mods/v3}subject {'authority': 'lcsh'}\n",
      "{http://www.loc.gov/mods/v3}subject {'authority': 'local', 'displayLabel': 'United States Elections, 2014'}\n",
      "{http://www.loc.gov/mods/v3}subject {'authority': 'lcsh', 'displayLabel': 'United States Elections, 2014'}\n",
      "{http://www.loc.gov/mods/v3}subject {'authority': 'local', 'displayLabel': 'United States Elections, 2014'}\n",
      "{http://www.loc.gov/mods/v3}subject {'authority': 'lcsh', 'displayLabel': 'United States Elections, 2014'}\n",
      "{http://www.loc.gov/mods/v3}subject {'authority': 'local'}\n",
      "{http://www.loc.gov/mods/v3}subject {'authority': 'lcsh'}\n",
      "{http://www.loc.gov/mods/v3}subject {'authority': 'lcsh'}\n",
      "{http://www.loc.gov/mods/v3}subject {'authority': 'lcsh'}\n",
      "{http://www.loc.gov/mods/v3}subject {'authority': 'local', 'displayLabel': 'United States Elections, 2014'}\n",
      "{http://www.loc.gov/mods/v3}subject {'authority': 'lcsh', 'displayLabel': 'United States Elections, 2014'}\n",
      "{http://www.loc.gov/mods/v3}subject {'authority': 'local', 'displayLabel': 'United States Elections, 2014'}\n",
      "{http://www.loc.gov/mods/v3}subject {'authority': 'lcsh', 'displayLabel': 'United States Elections, 2014'}\n"
     ]
    }
   ],
   "source": [
    "#lxml\n",
    "xml_records = ET.parse(large_MODS_collec)\n",
    "\n",
    "for subject in xml_records.findall('.//mods:subject', namespaces=ns): \n",
    "    print(subject.tag, subject.attrib)"
   ]
  },
  {
   "cell_type": "markdown",
   "id": "8c7d2bea-1c5a-4ca1-a95e-f173a369d862",
   "metadata": {},
   "source": [
    "Similarly, we can filter to view only those with `lcsh` subject authorities:"
   ]
  },
  {
   "cell_type": "code",
   "execution_count": 70,
   "id": "a368168c-aea8-41fe-9a5a-e23af6ed6b04",
   "metadata": {},
   "outputs": [
    {
     "name": "stdout",
     "output_type": "stream",
     "text": [
      "{http://www.loc.gov/mods/v3}subject 1 {'authority': 'lcsh'}\n",
      "{http://www.loc.gov/mods/v3}subject 2 {'authority': 'lcsh'}\n",
      "{http://www.loc.gov/mods/v3}subject 1 {'authority': 'lcsh'}\n",
      "{http://www.loc.gov/mods/v3}subject 1 {'authority': 'lcsh'}\n",
      "{http://www.loc.gov/mods/v3}subject 1 {'authority': 'lcsh'}\n",
      "{http://www.loc.gov/mods/v3}subject 1 {'authority': 'lcsh'}\n",
      "{http://www.loc.gov/mods/v3}subject 1 {'authority': 'lcsh'}\n",
      "{http://www.loc.gov/mods/v3}subject 1 {'authority': 'lcsh'}\n",
      "{http://www.loc.gov/mods/v3}subject 1 {'authority': 'lcsh'}\n",
      "{http://www.loc.gov/mods/v3}subject 1 {'authority': 'lcsh'}\n",
      "{http://www.loc.gov/mods/v3}subject 2 {'authority': 'lcsh'}\n",
      "{http://www.loc.gov/mods/v3}subject 2 {'authority': 'lcsh'}\n",
      "{http://www.loc.gov/mods/v3}subject 2 {'authority': 'lcsh'}\n",
      "{http://www.loc.gov/mods/v3}subject 1 {'authority': 'lcsh', 'displayLabel': 'United States Elections, 2014'}\n",
      "{http://www.loc.gov/mods/v3}subject 1 {'authority': 'lcsh', 'displayLabel': 'United States Elections, 2014'}\n",
      "{http://www.loc.gov/mods/v3}subject 2 {'authority': 'lcsh'}\n",
      "{http://www.loc.gov/mods/v3}subject 2 {'authority': 'lcsh'}\n",
      "{http://www.loc.gov/mods/v3}subject 2 {'authority': 'lcsh'}\n",
      "{http://www.loc.gov/mods/v3}subject 1 {'authority': 'lcsh', 'displayLabel': 'United States Elections, 2014'}\n",
      "{http://www.loc.gov/mods/v3}subject 1 {'authority': 'lcsh', 'displayLabel': 'United States Elections, 2014'}\n",
      "{http://www.loc.gov/mods/v3}subject 2 {'authority': 'lcsh'}\n",
      "{http://www.loc.gov/mods/v3}subject 2 {'authority': 'lcsh'}\n",
      "{http://www.loc.gov/mods/v3}subject 2 {'authority': 'lcsh'}\n",
      "{http://www.loc.gov/mods/v3}subject 1 {'authority': 'lcsh', 'displayLabel': 'United States Elections, 2014'}\n",
      "{http://www.loc.gov/mods/v3}subject 1 {'authority': 'lcsh', 'displayLabel': 'United States Elections, 2014'}\n",
      "{http://www.loc.gov/mods/v3}subject 2 {'authority': 'lcsh'}\n",
      "{http://www.loc.gov/mods/v3}subject 2 {'authority': 'lcsh'}\n",
      "{http://www.loc.gov/mods/v3}subject 2 {'authority': 'lcsh'}\n",
      "{http://www.loc.gov/mods/v3}subject 1 {'authority': 'lcsh', 'displayLabel': 'United States Elections, 2014'}\n",
      "{http://www.loc.gov/mods/v3}subject 1 {'authority': 'lcsh', 'displayLabel': 'United States Elections, 2014'}\n",
      "{http://www.loc.gov/mods/v3}subject 2 {'authority': 'lcsh'}\n",
      "{http://www.loc.gov/mods/v3}subject 2 {'authority': 'lcsh'}\n",
      "{http://www.loc.gov/mods/v3}subject 2 {'authority': 'lcsh'}\n",
      "{http://www.loc.gov/mods/v3}subject 1 {'authority': 'lcsh', 'displayLabel': 'United States Elections, 2014'}\n",
      "{http://www.loc.gov/mods/v3}subject 1 {'authority': 'lcsh', 'displayLabel': 'United States Elections, 2014'}\n"
     ]
    }
   ],
   "source": [
    "#lxml\n",
    "xml_records = ET.parse(large_MODS_collec)\n",
    "\n",
    "for subject in xml_records.findall('.//mods:subject[@authority=\"lcsh\"]', namespaces=ns): \n",
    "    print(subject.tag, len(subject), subject.attrib)"
   ]
  },
  {
   "cell_type": "markdown",
   "id": "2cd605aa-5042-4b54-ab4d-40e18d68fcbc",
   "metadata": {},
   "source": [
    "You may notice that the lxml tools are more literal, in a sense, \n",
    "meaning that they really only usually give you exactly what you ask for. \n",
    "So, for example, unlike using BeautifulSoup when we can ask for the contents \n",
    "of a tag (that is, all of the text that is enclosed by the tag), \n",
    "`lxml` treats the metadata more like data. In this case, the `subject` tags don't\n",
    "strictly contain any actual text (that is, nothing the parser recognizes as \n",
    "a string of characters), in fact they only contain more sublements, which then contain text. \n",
    "The structure looks something like this: \n",
    "\n",
    "```xml\n",
    "<subject authority=\"lcsh\">\n",
    "    <topic>Animals</topic>\n",
    "    <genre>Pictorial works</genre>\n",
    "</subject>\n",
    "```\n",
    "So, as the `lxml` parser sees it, the \"contents\" of the `<subject>` tag \n",
    "are two subelements: `<topic>` and `<genre>`. \n",
    "To get the \"text\" or content of the element, we need to look at the attributes\n",
    "(in this case, the authority type), and then to extract the subelements. \n",
    "Only when the subelements are obtained can we retrieve their text.\n",
    "\n",
    "First, look for the contents of the `subject` element, the list of its subelements,\n",
    "here identified as the \"child\" elements since they are further \"down\" in the tree:"
   ]
  },
  {
   "cell_type": "code",
   "execution_count": 71,
   "id": "afb9c9a3-b0a2-4db9-9588-6703b519d65c",
   "metadata": {
    "tags": []
   },
   "outputs": [
    {
     "name": "stdout",
     "output_type": "stream",
     "text": [
      "{http://www.loc.gov/mods/v3}subject 1 children:\n",
      "   {http://www.loc.gov/mods/v3}name\n",
      "\n",
      "\n",
      "{http://www.loc.gov/mods/v3}subject 2 children:\n",
      "   {http://www.loc.gov/mods/v3}topic\n",
      "   {http://www.loc.gov/mods/v3}genre\n",
      "\n",
      "\n",
      "{http://www.loc.gov/mods/v3}subject 3 children:\n",
      "   {http://www.loc.gov/mods/v3}name\n",
      "\n",
      "\n",
      "{http://www.loc.gov/mods/v3}subject 4 children:\n",
      "   {http://www.loc.gov/mods/v3}topic\n",
      "\n",
      "\n",
      "{http://www.loc.gov/mods/v3}subject 5 children:\n",
      "   {http://www.loc.gov/mods/v3}name\n",
      "\n",
      "\n"
     ]
    }
   ],
   "source": [
    "#lxml\n",
    "xml_records = ET.parse(large_MODS_collec)\n",
    "count = 0 \n",
    "\n",
    "for subject in xml_records.findall('.//mods:mods/mods:subject', namespaces=ns): \n",
    "    if subject.attrib['authority'] == 'lcsh':\n",
    "        count += 1\n",
    "        print(subject.tag, count, 'children:')\n",
    "        for subelement in subject:\n",
    "            print('  ',subelement.tag)\n",
    "        print('\\n')\n",
    "        if count > 4:\n",
    "            break"
   ]
  },
  {
   "cell_type": "markdown",
   "id": "5f0f28bc-e7e3-4017-bd48-52ac99633ddb",
   "metadata": {},
   "source": [
    "Finally, to extract the actual subject terms, we can request the text of the subelements:"
   ]
  },
  {
   "cell_type": "code",
   "execution_count": 75,
   "id": "52fc9698-2466-4c72-9420-34fa9eadc6f0",
   "metadata": {},
   "outputs": [
    {
     "name": "stdout",
     "output_type": "stream",
     "text": [
      "{http://www.loc.gov/mods/v3}subject 1 children:\n",
      "  name - \n",
      "            \n",
      "\n",
      "\n",
      "{http://www.loc.gov/mods/v3}subject 2 children:\n",
      "  topic - Animals\n",
      "  genre - Pictorial works\n",
      "\n",
      "\n",
      "{http://www.loc.gov/mods/v3}subject 3 children:\n",
      "  name - \n",
      "            \n",
      "\n",
      "\n",
      "{http://www.loc.gov/mods/v3}subject 4 children:\n",
      "  topic - Memes\n",
      "\n",
      "\n",
      "{http://www.loc.gov/mods/v3}subject 5 children:\n",
      "  name - \n",
      "            \n",
      "\n",
      "\n"
     ]
    }
   ],
   "source": [
    "#lxml\n",
    "xml_records = ET.parse(large_MODS_collec)\n",
    "count = 0\n",
    "\n",
    "for subject in xml_records.findall('.//mods:mods/mods:subject', namespaces=ns): \n",
    "    if subject.attrib['authority'] == 'lcsh':\n",
    "        count += 1\n",
    "        print(subject.tag, count, 'children:')\n",
    "        for subelement in subject:\n",
    "            print(f'  {subelement.tag.split(\"}\")[1]} - {subelement.text}')\n",
    "        print('\\n')\n",
    "        if count > 4:\n",
    "            break"
   ]
  },
  {
   "cell_type": "code",
   "execution_count": 83,
   "metadata": {},
   "outputs": [
    {
     "name": "stdout",
     "output_type": "stream",
     "text": [
      "{http://www.loc.gov/mods/v3}subject 1 children:\n",
      "  type: lcsh\n",
      "  name - \n",
      "            \n",
      "\n",
      "\n",
      "{http://www.loc.gov/mods/v3}subject 2 children:\n",
      "  type: lcsh\n",
      "  topic - Animals\n",
      "  genre - Pictorial works\n",
      "\n",
      "\n",
      "{http://www.loc.gov/mods/v3}subject 3 children:\n",
      "  type: lcsh\n",
      "  name - \n",
      "            \n",
      "\n",
      "\n",
      "{http://www.loc.gov/mods/v3}subject 4 children:\n",
      "  type: lcsh\n",
      "  topic - Memes\n",
      "\n",
      "\n",
      "{http://www.loc.gov/mods/v3}subject 5 children:\n",
      "  type: lcsh\n",
      "  name - \n",
      "            \n",
      "\n",
      "\n"
     ]
    }
   ],
   "source": [
    "#lxml\n",
    "xml_records = ET.parse(large_MODS_collec)\n",
    "count = 0\n",
    "\n",
    "for subject in xml_records.findall('.//mods:subject[@authority=\"lcsh\"]', namespaces=ns):\n",
    "    count += 1\n",
    "    print(subject.tag, count, 'children:')\n",
    "    print(f'  type: {subject.attrib[\"authority\"]}')\n",
    "    for subelement in subject:\n",
    "        print(f'  {subelement.tag.split(\"}\")[1]} - {subelement.text}')\n",
    "    print('\\n')\n",
    "    if count > 4:\n",
    "        break"
   ]
  },
  {
   "cell_type": "markdown",
   "id": "839211b7",
   "metadata": {},
   "source": [
    "Try the above and look for other \"authority\" types in the list of records."
   ]
  },
  {
   "cell_type": "markdown",
   "id": "3758c92a-a569-425b-9475-47e1ef7f53b9",
   "metadata": {},
   "source": [
    "#### 6. Data Addition or Modification\n",
    "\n",
    "Activity 6: Now that we can request things in the tree, let's look for \n",
    "more specific things, like content strings that meet certain criteria, \n",
    "then add or modify content to enhance them. \n",
    "\n",
    "Let's return to the `identifier` elements. Some of these are structured with\n",
    "local call numbers, but those don't appear to be identified with any additional \n",
    "attributes:\n",
    "\n",
    "```xml\n",
    "  <identifier>lcwaN0010234</identifier>\n",
    "  <identifier invalid=\"yes\" type=\"database id\">85999</identifier>\n",
    "  <identifier invalid=\"yes\" type=\"database id\">109353</identifier>\n",
    "\n",
    "```\n",
    "\n",
    "Would it be possible to modify these and add a \"type\" attribute for those\n",
    "local numbers? Let's start with BeautifulSoup:"
   ]
  },
  {
   "cell_type": "code",
   "execution_count": 36,
   "id": "0b827ac5-5ffd-45e7-856f-bb375620bcdc",
   "metadata": {},
   "outputs": [
    {
     "name": "stdout",
     "output_type": "stream",
     "text": [
      "identifier lcwaN0010234 {}\n",
      "identifier 85999 {'invalid': 'yes', 'type': 'database id'}\n",
      "identifier 109353 {'invalid': 'yes', 'type': 'database id'}\n",
      "identifier http://www.slate.com/ {'displayLabel': 'Access URL', 'type': 'uri'}\n",
      "identifier 15046 {'type': 'database id'}\n",
      "identifier lcwaN0001999 {}\n",
      "identifier 91224 {'invalid': 'yes', 'type': 'database id'}\n",
      "identifier 109272 {'invalid': 'yes', 'type': 'database id'}\n",
      "identifier http://rawstory.com/ {'displayLabel': 'Access URL', 'type': 'uri'}\n",
      "identifier 2771 {'type': 'database id'}\n",
      "identifier lcwaN0003238 {}\n",
      "identifier 91275 {'invalid': 'yes', 'type': 'database id'}\n",
      "identifier 109273 {'invalid': 'yes', 'type': 'database id'}\n",
      "identifier 96782 {'invalid': 'yes', 'type': 'database id'}\n",
      "identifier http://www.huffingtonpost.com/ {'displayLabel': 'Access URL', 'type': 'uri'}\n",
      "identifier 4619 {'type': 'database id'}\n",
      "identifier lcwaN0010144 {}\n",
      "identifier nan {'invalid': 'yes', 'type': 'database id'}\n",
      "identifier https://medium.com/buzzfeed-collections {'displayLabel': 'Access URL', 'type': 'uri'}\n",
      "identifier 24463 {'type': 'database id'}\n",
      "identifier http://www.buzzfeed.com/ {'displayLabel': 'Access URL', 'type': 'uri'}\n",
      "identifier 14906 {'type': 'database id'}\n",
      "identifier lcwaN0010145 {}\n",
      "identifier 82949 {'invalid': 'yes', 'type': 'database id'}\n",
      "identifier 109227 {'invalid': 'yes', 'type': 'database id'}\n",
      "identifier http://www.drudgereport.com/ {'displayLabel': 'Access URL', 'type': 'uri'}\n",
      "identifier 14951 {'type': 'database id'}\n"
     ]
    }
   ],
   "source": [
    "#BS4\n",
    "\n",
    "#BS4 - show the identifiers and their attributes\n",
    "with open(MODS_file, 'r') as xml_records:\n",
    "    metadata = BeautifulSoup(xml_records, features='xml')\n",
    "\n",
    "    for mods in metadata.find_all('mods'):\n",
    "        for identifier in mods.find_all('identifier'):\n",
    "            print(identifier.name, identifier.text, identifier.attrs)"
   ]
  },
  {
   "cell_type": "code",
   "execution_count": 37,
   "id": "2ffad7bf-5825-4ded-bab3-fdae78b8f902",
   "metadata": {},
   "outputs": [
    {
     "name": "stdout",
     "output_type": "stream",
     "text": [
      "identifier lcwaN0010234 {}\n",
      "identifier lcwaN0001999 {}\n",
      "identifier lcwaN0003238 {}\n",
      "identifier lcwaN0010144 {}\n",
      "identifier lcwaN0010145 {}\n"
     ]
    }
   ],
   "source": [
    "#BS4 - use regular expressions to identify the local identifiers or \"call numbers\"\n",
    "\n",
    "# set up a regex pattern\n",
    "call_num_pattern = re.compile(r'[a-z]{4}N\\d{7}')\n",
    "# alternatively, be more specific and look for the lcwa string at the beginning:\n",
    "# call_num_pattern = re.compile(r'^blcwaN\\d{7}')\n",
    "\n",
    "with open(MODS_file, 'r') as xml_records:\n",
    "    metadata = BeautifulSoup(xml_records, features='xml')\n",
    "    \n",
    "    for mods in metadata.find_all('mods'):\n",
    "        for identifier in mods.find_all('identifier'):\n",
    "            if re.match(call_num_pattern, identifier.text):\n",
    "                print(identifier.name, identifier.text, identifier.attrs)    "
   ]
  },
  {
   "cell_type": "code",
   "execution_count": 38,
   "id": "56bb3b5d-e7c3-4622-8c2d-1b4480ba3804",
   "metadata": {},
   "outputs": [
    {
     "name": "stdout",
     "output_type": "stream",
     "text": [
      "identifier lcwaN0010234 {'type': 'local_call_number', 'invalid': 'no', 'displaylabel': 'Local Call Number', 'updated': 'true'}\n",
      "identifier lcwaN0001999 {'type': 'local_call_number', 'invalid': 'no', 'displaylabel': 'Local Call Number', 'updated': 'true'}\n",
      "identifier lcwaN0003238 {'type': 'local_call_number', 'invalid': 'no', 'displaylabel': 'Local Call Number', 'updated': 'true'}\n",
      "identifier lcwaN0010144 {'type': 'local_call_number', 'invalid': 'no', 'displaylabel': 'Local Call Number', 'updated': 'true'}\n",
      "identifier lcwaN0010145 {'type': 'local_call_number', 'invalid': 'no', 'displaylabel': 'Local Call Number', 'updated': 'true'}\n"
     ]
    }
   ],
   "source": [
    "#BS4\n",
    "\n",
    "# now, add in new attributes for these \"local call number\" elements\n",
    "#BS4 - use regular expressions to identify the local identifiers or \"call numbers\"\n",
    "\n",
    "# set up a regex pattern\n",
    "call_num_pattern = re.compile(r'[a-z]{4}N\\d{7}')\n",
    "# alternatively, be more specific and look for the lcwa string at the beginning:\n",
    "# call_num_pattern = re.compile(r'^blcwaN\\d{7}')\n",
    "\n",
    "\n",
    "with open(MODS_file, 'r') as xml_records:\n",
    "    metadata = BeautifulSoup(xml_records, features='xml')\n",
    "    \n",
    "    for mods in metadata.find_all('mods'):\n",
    "        for identifier in mods.find_all('identifier'):\n",
    "            if re.match(call_num_pattern, identifier.text):\n",
    "                # add attributes by assigning values\n",
    "                identifier['type'] = 'local_call_number'\n",
    "                identifier['invalid'] = 'no'\n",
    "                identifier['displaylabel'] = 'Local Call Number'\n",
    "                identifier['updated'] = 'true'\n",
    "                #print, to make sure that these were added\n",
    "                print(identifier.name, identifier.text, identifier.attrs)               "
   ]
  },
  {
   "cell_type": "code",
   "execution_count": 39,
   "id": "8c5770e7-3e44-498b-8dca-9d0e1ffaab9b",
   "metadata": {},
   "outputs": [
    {
     "name": "stdout",
     "output_type": "stream",
     "text": [
      "<identifier displaylabel=\"Local Call Number\" invalid=\"no\" type=\"local_call_number\">\n",
      " lcwaN0010234\n",
      "</identifier>\n",
      "\n",
      "<identifier displaylabel=\"Local Call Number\" invalid=\"no\" type=\"local_call_number\">\n",
      " lcwaN0001999\n",
      "</identifier>\n",
      "\n",
      "<identifier displaylabel=\"Local Call Number\" invalid=\"no\" type=\"local_call_number\">\n",
      " lcwaN0003238\n",
      "</identifier>\n",
      "\n",
      "<identifier displaylabel=\"Local Call Number\" invalid=\"no\" type=\"local_call_number\">\n",
      " lcwaN0010144\n",
      "</identifier>\n",
      "\n",
      "<identifier displaylabel=\"Local Call Number\" invalid=\"no\" type=\"local_call_number\">\n",
      " lcwaN0010145\n",
      "</identifier>\n",
      "\n"
     ]
    }
   ],
   "source": [
    "#BS4 - check to make sure they look okay as XML\n",
    "\n",
    "# set up regex\n",
    "call_num_pattern = re.compile(r'[a-z]{4}N\\d{7}')\n",
    "\n",
    "with open(MODS_file, 'r') as xml_records:\n",
    "    metadata = BeautifulSoup(xml_records, features='xml')\n",
    "    \n",
    "    for mods in metadata.find_all('mods'):\n",
    "        for identifier in mods.find_all('identifier'):\n",
    "            if re.match(call_num_pattern, identifier.text):\n",
    "                # add attributes by assigning values\n",
    "                identifier['type'] = 'local_call_number'\n",
    "                identifier['invalid'] = 'no'\n",
    "                identifier['displaylabel'] = 'Local Call Number'\n",
    "                print(identifier.prettify())"
   ]
  },
  {
   "cell_type": "code",
   "execution_count": 85,
   "id": "ca98571d-a6f4-4a88-8e7c-51d5b09e4c0e",
   "metadata": {},
   "outputs": [
    {
     "name": "stdout",
     "output_type": "stream",
     "text": [
      "lcwaN0010234\n",
      "invalid LCCN: 85999\n",
      "invalid LCCN: 109353\n",
      "lcwaN0001999\n",
      "invalid LCCN: 91224\n",
      "invalid LCCN: 109272\n",
      "lcwaN0003238\n",
      "invalid LCCN: 91275\n",
      "invalid LCCN: 109273\n",
      "invalid LCCN: 96782\n",
      "lcwaN0010144\n",
      "invalid LCCN: nan\n",
      "lcwaN0010145\n",
      "invalid LCCN: 82949\n",
      "invalid LCCN: 109227\n"
     ]
    }
   ],
   "source": [
    "#lxml identify the local call number identifiers\n",
    "\n",
    "xml_records = ET.parse(MODS_file)\n",
    "\n",
    "# regex pattern to identify the call number:\n",
    "call_num_pattern = re.compile(r'[a-z]{4}N\\d{7}')\n",
    "\n",
    "for identifier in xml_records.findall('.//mods:mods/mods:identifier', namespaces=ns): \n",
    "    if re.match(call_num_pattern, identifier.text):\n",
    "        print(identifier.text)\n",
    "    else:\n",
    "        print(f'invalid LCCN: { identifier.text }')"
   ]
  },
  {
   "cell_type": "code",
   "execution_count": 41,
   "id": "58e9072e-402b-4625-bd1e-d9baa9da5389",
   "metadata": {},
   "outputs": [
    {
     "name": "stdout",
     "output_type": "stream",
     "text": [
      "lcwaN0010234\n",
      "   {'displaylabel': 'Local Call Number', 'invalid': 'no', 'type': 'local_call_number'}\n",
      "lcwaN0001999\n",
      "   {'displaylabel': 'Local Call Number', 'invalid': 'no', 'type': 'local_call_number'}\n",
      "lcwaN0003238\n",
      "   {'displaylabel': 'Local Call Number', 'invalid': 'no', 'type': 'local_call_number'}\n",
      "lcwaN0010144\n",
      "   {'displaylabel': 'Local Call Number', 'invalid': 'no', 'type': 'local_call_number'}\n",
      "lcwaN0010145\n",
      "   {'displaylabel': 'Local Call Number', 'invalid': 'no', 'type': 'local_call_number'}\n"
     ]
    }
   ],
   "source": [
    "#lxml insert attributes to make a more complete metadata record\n",
    "\n",
    "xml_records = ET.parse(MODS_file)\n",
    "\n",
    "# regex pattern to identify the call number:\n",
    "call_num_pattern = re.compile(r'[a-z]{4}N\\d{7}')\n",
    "\n",
    "for identifier in xml_records.findall('.//mods:mods/mods:identifier', namespaces=ns): \n",
    "    if re.match(call_num_pattern, identifier.text):\n",
    "        print(identifier.text)\n",
    "        identifier.attrib['displaylabel'] = 'Local Call Number'\n",
    "        identifier.attrib['invalid'] = 'no'\n",
    "        identifier.attrib['type'] = 'local_call_number'\n",
    "        print('  ',identifier.attrib)"
   ]
  },
  {
   "cell_type": "markdown",
   "id": "f9e706c1-8f58-48ed-9fe8-a9dd7fbf2c7a",
   "metadata": {},
   "source": [
    "#### Data validation - ADD new sample file TODO\n",
    "\n",
    "7 - Data validation: check the reference IDs to ensure that they are in the proper format, then identify for correction as needed. "
   ]
  },
  {
   "cell_type": "code",
   "execution_count": 42,
   "id": "48eaac9e-6ac5-4844-bdb0-19dbe64c0ea5",
   "metadata": {},
   "outputs": [
    {
     "ename": "FileNotFoundError",
     "evalue": "[Errno 2] No such file or directory: '2018_lcwa_MODS_25.xml'",
     "output_type": "error",
     "traceback": [
      "\u001b[0;31m---------------------------------------------------------------------------\u001b[0m",
      "\u001b[0;31mFileNotFoundError\u001b[0m                         Traceback (most recent call last)",
      "\u001b[1;32m/Users/jajohnst/Desktop/networked-services-labs-2022/xml-working-with-MODS.ipynb Cell 76\u001b[0m in \u001b[0;36m<cell line: 4>\u001b[0;34m()\u001b[0m\n\u001b[1;32m      <a href='vscode-notebook-cell:/Users/jajohnst/Desktop/networked-services-labs-2022/xml-working-with-MODS.ipynb#Y123sZmlsZQ%3D%3D?line=0'>1</a>\u001b[0m \u001b[39m#lxml\u001b[39;00m\n\u001b[1;32m      <a href='vscode-notebook-cell:/Users/jajohnst/Desktop/networked-services-labs-2022/xml-working-with-MODS.ipynb#Y123sZmlsZQ%3D%3D?line=1'>2</a>\u001b[0m \u001b[39m#filter the IDs, then do a regex match?\u001b[39;00m\n\u001b[0;32m----> <a href='vscode-notebook-cell:/Users/jajohnst/Desktop/networked-services-labs-2022/xml-working-with-MODS.ipynb#Y123sZmlsZQ%3D%3D?line=3'>4</a>\u001b[0m xml_records \u001b[39m=\u001b[39m ET\u001b[39m.\u001b[39;49mparse(\u001b[39m'\u001b[39;49m\u001b[39m2018_lcwa_MODS_25.xml\u001b[39;49m\u001b[39m'\u001b[39;49m)\n\u001b[1;32m      <a href='vscode-notebook-cell:/Users/jajohnst/Desktop/networked-services-labs-2022/xml-working-with-MODS.ipynb#Y123sZmlsZQ%3D%3D?line=5'>6</a>\u001b[0m \u001b[39m# previously we used a regex pattern to identify the call number:\u001b[39;00m\n\u001b[1;32m      <a href='vscode-notebook-cell:/Users/jajohnst/Desktop/networked-services-labs-2022/xml-working-with-MODS.ipynb#Y123sZmlsZQ%3D%3D?line=6'>7</a>\u001b[0m \u001b[39m# call_num_pattern = re.compile(r'[a-z]{4}N\\d{7}')\u001b[39;00m\n\u001b[1;32m      <a href='vscode-notebook-cell:/Users/jajohnst/Desktop/networked-services-labs-2022/xml-working-with-MODS.ipynb#Y123sZmlsZQ%3D%3D?line=7'>8</a>\u001b[0m \u001b[39m# this time, be more specific and look for the lcwa string at the beginning:\u001b[39;00m\n\u001b[1;32m      <a href='vscode-notebook-cell:/Users/jajohnst/Desktop/networked-services-labs-2022/xml-working-with-MODS.ipynb#Y123sZmlsZQ%3D%3D?line=8'>9</a>\u001b[0m call_num_pattern \u001b[39m=\u001b[39m re\u001b[39m.\u001b[39mcompile(\u001b[39mr\u001b[39m\u001b[39m'\u001b[39m\u001b[39m^blcwa[A-Z]\u001b[39m\u001b[39m{1}\u001b[39;00m\u001b[39m\\\u001b[39m\u001b[39md\u001b[39m\u001b[39m{7}\u001b[39;00m\u001b[39m'\u001b[39m)\n",
      "File \u001b[0;32m~/opt/anaconda3/lib/python3.9/xml/etree/ElementTree.py:1229\u001b[0m, in \u001b[0;36mparse\u001b[0;34m(source, parser)\u001b[0m\n\u001b[1;32m   1220\u001b[0m \u001b[39m\"\"\"Parse XML document into element tree.\u001b[39;00m\n\u001b[1;32m   1221\u001b[0m \n\u001b[1;32m   1222\u001b[0m \u001b[39m*source* is a filename or file object containing XML data,\u001b[39;00m\n\u001b[0;32m   (...)\u001b[0m\n\u001b[1;32m   1226\u001b[0m \n\u001b[1;32m   1227\u001b[0m \u001b[39m\"\"\"\u001b[39;00m\n\u001b[1;32m   1228\u001b[0m tree \u001b[39m=\u001b[39m ElementTree()\n\u001b[0;32m-> 1229\u001b[0m tree\u001b[39m.\u001b[39;49mparse(source, parser)\n\u001b[1;32m   1230\u001b[0m \u001b[39mreturn\u001b[39;00m tree\n",
      "File \u001b[0;32m~/opt/anaconda3/lib/python3.9/xml/etree/ElementTree.py:569\u001b[0m, in \u001b[0;36mElementTree.parse\u001b[0;34m(self, source, parser)\u001b[0m\n\u001b[1;32m    567\u001b[0m close_source \u001b[39m=\u001b[39m \u001b[39mFalse\u001b[39;00m\n\u001b[1;32m    568\u001b[0m \u001b[39mif\u001b[39;00m \u001b[39mnot\u001b[39;00m \u001b[39mhasattr\u001b[39m(source, \u001b[39m\"\u001b[39m\u001b[39mread\u001b[39m\u001b[39m\"\u001b[39m):\n\u001b[0;32m--> 569\u001b[0m     source \u001b[39m=\u001b[39m \u001b[39mopen\u001b[39;49m(source, \u001b[39m\"\u001b[39;49m\u001b[39mrb\u001b[39;49m\u001b[39m\"\u001b[39;49m)\n\u001b[1;32m    570\u001b[0m     close_source \u001b[39m=\u001b[39m \u001b[39mTrue\u001b[39;00m\n\u001b[1;32m    571\u001b[0m \u001b[39mtry\u001b[39;00m:\n",
      "\u001b[0;31mFileNotFoundError\u001b[0m: [Errno 2] No such file or directory: '2018_lcwa_MODS_25.xml'"
     ]
    }
   ],
   "source": [
    "#lxml\n",
    "#filter the IDs, then do a regex match?\n",
    "\n",
    "xml_records = ET.parse('2018_lcwa_MODS_25.xml')\n",
    "\n",
    "# previously we used a regex pattern to identify the call number:\n",
    "# call_num_pattern = re.compile(r'[a-z]{4}N\\d{7}')\n",
    "# this time, be more specific and look for the lcwa string at the beginning:\n",
    "call_num_pattern = re.compile(r'^blcwa[A-Z]{1}\\d{7}')\n",
    "\n",
    "for identifier in xml_records.findall('.//mods:mods/mods:identifier', namespaces=ns): \n",
    "    print(identifier.text)\n",
    "    if re.match(call_num_pattern, identifier.text):\n",
    "        print(identifier.tag, identifier.text, identifier.attrib)"
   ]
  },
  {
   "cell_type": "markdown",
   "id": "29e1f6e2-fba7-4b49-990f-66328d8678c1",
   "metadata": {},
   "source": [
    "#### 8. Saving the Updated Metadata\n",
    "\n",
    "Activity 8: Now, let's write the updated metadata to a new file. "
   ]
  },
  {
   "cell_type": "code",
   "execution_count": 43,
   "id": "504ee8cc-a2e8-4b69-a2a1-a4f511972c3b",
   "metadata": {},
   "outputs": [
    {
     "name": "stdout",
     "output_type": "stream",
     "text": [
      "Wrote a new file, you're welcome!\n"
     ]
    }
   ],
   "source": [
    "#BS4 - write out to a new file... \n",
    "\n",
    "newfile_name = '2018_lcwa_MODS_5_updated.xml'\n",
    "\n",
    "call_num_pattern = re.compile(r'[a-z]{4}N\\d{7}')\n",
    "\n",
    "with open(MODS_file, 'r') as xml_records:\n",
    "    metadata = BeautifulSoup(xml_records, features='xml')\n",
    "    \n",
    "    for mods in metadata.find_all('mods'):\n",
    "        for identifier in mods.find_all('identifier'):\n",
    "            if re.match(call_num_pattern, identifier.text):\n",
    "                # add attributes by assigning values\n",
    "                identifier['type'] = 'local_call_number'\n",
    "                identifier['invalid'] = 'no'\n",
    "                identifier['displaylabel'] = 'Local Call Number'\n",
    "\n",
    "    #new file\n",
    "    with open(newfile_name, 'w') as updated_records:\n",
    "        updated_records.write(metadata.prettify(formatter=\"minimal\"))\n",
    "        print(\"Wrote a new file, you're welcome!\")"
   ]
  },
  {
   "cell_type": "markdown",
   "id": "8b40d2fc",
   "metadata": {},
   "source": [
    "Now, write the file with lxml, using proper namespace declarations and without prettify formatting:"
   ]
  },
  {
   "cell_type": "code",
   "execution_count": 86,
   "id": "34d2edd1",
   "metadata": {},
   "outputs": [
    {
     "name": "stdout",
     "output_type": "stream",
     "text": [
      "Wrote a new file, you're welcome!\n"
     ]
    }
   ],
   "source": [
    "#lxml write file\n",
    "\n",
    "newfile_name = '2018_lcwa_MODS_5_lxmlupdate.xml'\n",
    "# set up regex\n",
    "call_num_pattern = re.compile(r'[a-z]{4}N\\d{7}')\n",
    "\n",
    "# declare namespaces\n",
    "ET.register_namespace('mods','http://www.loc.gov/mods/v3')\n",
    "ET.register_namespace('ead3', 'http://ead3.archivists.org/schema/')\n",
    "\n",
    "metadata = etree.parse(MODS_file)\n",
    "xml_records = metadata.getroot()\n",
    "\n",
    "for mods in xml_records.findall('mods:mods', namespaces=ns):\n",
    "    for identifier in mods.find('.//mods:identifier', namespaces=ns):\n",
    "        if re.match(call_num_pattern, identifier.text):\n",
    "            # add attributes by assigning values\n",
    "            identifier.set('type', 'local_call_number')\n",
    "            identifier.set('invalid', 'no')\n",
    "            identifier.set('displaylabel', 'Local Call Number')\n",
    "            identifier.set('updated', 'true')\n",
    "\n",
    "#new file\n",
    "metadata.write(newfile_name, xml_declaration=True, encoding='utf-8', method='xml')\n",
    "print(\"Wrote a new file, you're welcome!\")\n",
    "\n"
   ]
  },
  {
   "cell_type": "markdown",
   "id": "5345aed6-6a25-4bbe-ba90-7a549c679bef",
   "metadata": {},
   "source": [
    "## This is the end of the activities section\n",
    "\n",
    "Materials below this cell are draft code blocks that were either modified or prepared\n",
    "for interactive discussions in class. \n",
    "\n",
    "############"
   ]
  },
  {
   "cell_type": "markdown",
   "id": "bf99821c-e2c8-4c46-9bae-48cd11c77004",
   "metadata": {},
   "source": [
    "OLD \n",
    "\n",
    "#### Data Addition or Modification\n",
    "\n",
    "Old Activity 6: Now that we can request things in the tree, let's look for \n",
    "more specific things, like content strings that meet certain criteria, \n",
    "then add or modify content to enhance them. \n",
    "\n",
    "Above you may have noticed that some of the subject terms are blank. \n",
    "Looking at the tree, it is clear that some were left to complete later:\n",
    "\n",
    "```xml\n",
    "<subject authority=\"lcsh\">\n",
    "    <name authority=\"naf\" type=\"corporate\">\n",
    "        <namePart><!-- TODO: Insert name authority here (can be same as name authority above, under title). --></namePart>\n",
    "    </name>\n",
    "</subject>\n",
    "```\n",
    "\n",
    "Let's find these and then replace the comments with different content:"
   ]
  },
  {
   "cell_type": "markdown",
   "id": "73bb8957-6f01-4e13-8d34-5fe4d9c4affb",
   "metadata": {},
   "source": [
    "======\n",
    "\n",
    "These cells attempted to look for comments in the XML using the LXML parser:"
   ]
  },
  {
   "cell_type": "code",
   "execution_count": null,
   "id": "cfeaa9c9-2bba-4e11-ad0d-679b024ba7e1",
   "metadata": {},
   "outputs": [],
   "source": [
    "#lxml\n",
    "xml_records = ET.parse('2018_lcwa_MODS_25.xml')\n",
    "count = 0\n",
    "\n",
    "for subject in xml_records.findall('.//mods:mods/mods:subject', namespaces=ns): \n",
    "    if subject.attrib['authority'] == 'lcsh':\n",
    "        count += 1\n",
    "        print(subject.tag, count, 'children:')\n",
    "        for subelement in subject:\n",
    "            print('  {} - {}'.format(subelement.tag, subelement.text))\n",
    "        print('\\n')\n",
    "        if count > 4:\n",
    "            break"
   ]
  },
  {
   "cell_type": "code",
   "execution_count": null,
   "id": "fbfdbea8-9b92-47f5-9af6-63d21410253d",
   "metadata": {},
   "outputs": [],
   "source": [
    "#lxml\n",
    "xml_records = ET.parse('2018_lcwa_MODS_25.xml')\n",
    "count = 0\n",
    "\n",
    "for subject in xml_records.findall('.//mods:mods/mods:subject', namespaces=ns): \n",
    "    if subject.attrib['authority'] == 'lcsh':\n",
    "        count += 1\n",
    "        print(subject.tag, count, 'children:')\n",
    "        for subelement in subject:\n",
    "            print('  {} - {}'.format(subelement.tag, subelement.text))\n",
    "            for subsubelement in subelement:\n",
    "                print(subsubelement.tag, subsubelement.text)\n",
    "        print('\\n')\n",
    "        if count > 4:\n",
    "            break"
   ]
  }
 ],
 "metadata": {
  "kernelspec": {
   "display_name": "Python 3.9.12 ('base')",
   "language": "python",
   "name": "python3"
  },
  "language_info": {
   "codemirror_mode": {
    "name": "ipython",
    "version": 3
   },
   "file_extension": ".py",
   "mimetype": "text/x-python",
   "name": "python",
   "nbconvert_exporter": "python",
   "pygments_lexer": "ipython3",
   "version": "3.9.18"
  },
  "vscode": {
   "interpreter": {
    "hash": "433e84b6a98ffad52b36edc50e1a65f78fac85298e4e4f5ab24f4a24b9cfbcd2"
   }
  }
 },
 "nbformat": 4,
 "nbformat_minor": 5
}
