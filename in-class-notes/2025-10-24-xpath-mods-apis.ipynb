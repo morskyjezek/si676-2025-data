{
 "cells": [
  {
   "cell_type": "markdown",
   "id": "7b868701",
   "metadata": {},
   "source": [
    "# Class Demos from 20251024 - Oct 24, 2025\n",
    "\n",
    "Demoing various things, including:\n",
    "\n",
    "- XPath & functionality in python using lxml\n",
    "- MODS and searching through MODS (encoded in XML)\n",
    "- working with LOC 'API' to extract collection content"
   ]
  },
  {
   "cell_type": "code",
   "execution_count": null,
   "id": "e4329fb9",
   "metadata": {},
   "outputs": [],
   "source": []
  }
 ],
 "metadata": {
  "kernelspec": {
   "display_name": "3.12.0",
   "language": "python",
   "name": "python3"
  },
  "language_info": {
   "name": "python",
   "version": "3.12.0"
  }
 },
 "nbformat": 4,
 "nbformat_minor": 5
}
