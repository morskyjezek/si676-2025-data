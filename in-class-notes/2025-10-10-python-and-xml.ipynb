{
 "cells": [
  {
   "cell_type": "markdown",
   "id": "7ffcee91",
   "metadata": {},
   "source": [
    "# Class Demos for Oct 10\n",
    "\n",
    "Basic functions of XML in Python, using ElementTree & `lxml`... "
   ]
  },
  {
   "cell_type": "code",
   "execution_count": null,
   "id": "237fc126",
   "metadata": {},
   "outputs": [],
   "source": [
    "#pip install lxml"
   ]
  },
  {
   "cell_type": "code",
   "execution_count": 1,
   "id": "9e524cdf",
   "metadata": {},
   "outputs": [
    {
     "name": "stdout",
     "output_type": "stream",
     "text": [
      "running with lxml.etree\n"
     ]
    }
   ],
   "source": [
    "from pathlib import Path\n",
    "try:\n",
    "    from lxml import etree\n",
    "    print(\"running with lxml.etree\")\n",
    "except ImportError:\n",
    "    import xml.etree.ElementTree as etree\n",
    "    print(\"running with Python's xml.etree.ElementTree\")"
   ]
  },
  {
   "cell_type": "markdown",
   "id": "b57e0796",
   "metadata": {},
   "source": [
    "## Basic Functions\n",
    "\n",
    "Like: how to read an XML file in Python"
   ]
  },
  {
   "cell_type": "code",
   "execution_count": 2,
   "id": "aae07974",
   "metadata": {},
   "outputs": [],
   "source": [
    "finding_aid_path = Path('..', 'data', 'xml', 'superior-papers-demo.xml')"
   ]
  },
  {
   "cell_type": "code",
   "execution_count": 3,
   "id": "a652ac41",
   "metadata": {},
   "outputs": [
    {
     "name": "stdout",
     "output_type": "stream",
     "text": [
      "It's a file!\n"
     ]
    }
   ],
   "source": [
    "if finding_aid_path.is_file():\n",
    "    print('It\\'s a file!')"
   ]
  },
  {
   "cell_type": "code",
   "execution_count": 4,
   "id": "755a3b9f",
   "metadata": {},
   "outputs": [],
   "source": [
    "tree = etree.parse(finding_aid_path)"
   ]
  },
  {
   "cell_type": "code",
   "execution_count": 5,
   "id": "44b1129e",
   "metadata": {},
   "outputs": [
    {
     "name": "stdout",
     "output_type": "stream",
     "text": [
      "<lxml.etree._ElementTree object at 0x106c131c0>\n"
     ]
    }
   ],
   "source": [
    "print(tree)"
   ]
  },
  {
   "cell_type": "code",
   "execution_count": 6,
   "id": "2d96ed8f",
   "metadata": {},
   "outputs": [
    {
     "name": "stdout",
     "output_type": "stream",
     "text": [
      "[<Element {http://ead3.archivists.org/schema/}control at 0x106cae9c0>, <Element {http://ead3.archivists.org/schema/}archdesc at 0x106cafcc0>]\n"
     ]
    }
   ],
   "source": [
    "root = tree.getroot()\n",
    "\n",
    "print(root[:250])"
   ]
  },
  {
   "cell_type": "markdown",
   "id": "92ce0802",
   "metadata": {},
   "source": [
    "Now you can look through the XML almost like a list or dictionary:"
   ]
  },
  {
   "cell_type": "code",
   "execution_count": 7,
   "id": "87809f7c",
   "metadata": {},
   "outputs": [
    {
     "name": "stdout",
     "output_type": "stream",
     "text": [
      "<Element {http://ead3.archivists.org/schema/}control at 0x106c94900>\n",
      "<Element {http://ead3.archivists.org/schema/}archdesc at 0x106c97800>\n"
     ]
    }
   ],
   "source": [
    "for element in root:\n",
    "    print(element)"
   ]
  },
  {
   "cell_type": "code",
   "execution_count": 8,
   "id": "566afa36",
   "metadata": {},
   "outputs": [
    {
     "name": "stdout",
     "output_type": "stream",
     "text": [
      "<class 'lxml.etree._Element'> {http://ead3.archivists.org/schema/}control \n",
      "        \n",
      "<class 'lxml.etree._Element'> {http://ead3.archivists.org/schema/}archdesc \n",
      "        \n"
     ]
    }
   ],
   "source": [
    "for element in root:\n",
    "    print(type(element), element.tag, element.text)"
   ]
  },
  {
   "cell_type": "code",
   "execution_count": 9,
   "id": "97b88a75",
   "metadata": {},
   "outputs": [
    {
     "name": "stdout",
     "output_type": "stream",
     "text": [
      "{http://ead3.archivists.org/schema/}control {'countryencoding': 'iso3166-1', 'dateencoding': 'iso8601', 'langencoding': 'iso639-2b'}\n",
      "{http://ead3.archivists.org/schema/}archdesc {'level': 'collection', 'audience': 'external'}\n"
     ]
    }
   ],
   "source": [
    "for element in root:\n",
    "    print(element.tag, element.attrib)"
   ]
  },
  {
   "cell_type": "markdown",
   "id": "0b4114f4",
   "metadata": {},
   "source": [
    "Other ways to look through the tree: `.iter()`"
   ]
  },
  {
   "cell_type": "code",
   "execution_count": 10,
   "id": "08458602",
   "metadata": {},
   "outputs": [
    {
     "name": "stdout",
     "output_type": "stream",
     "text": [
      "{http://ead3.archivists.org/schema/}ead {'audience': 'external'}\n",
      "{http://ead3.archivists.org/schema/}control {'countryencoding': 'iso3166-1', 'dateencoding': 'iso8601', 'langencoding': 'iso639-2b'}\n",
      "{http://ead3.archivists.org/schema/}recordid {'instanceurl': 'http://jajohnst.si.umich.edu/fake-ead.xml'}\n",
      "{http://ead3.archivists.org/schema/}filedesc {}\n",
      "{http://ead3.archivists.org/schema/}titlestmt {}\n",
      "{http://ead3.archivists.org/schema/}titleproper {}\n",
      "{http://ead3.archivists.org/schema/}publicationstmt {}\n",
      "{http://ead3.archivists.org/schema/}publisher {}\n",
      "{http://ead3.archivists.org/schema/}date {'normal': '2022-09-01'}\n",
      "{http://ead3.archivists.org/schema/}archdesc {'level': 'collection', 'audience': 'external'}\n",
      "{http://ead3.archivists.org/schema/}did {}\n",
      "{http://ead3.archivists.org/schema/}repository {}\n",
      "{http://ead3.archivists.org/schema/}corpname {}\n",
      "{http://ead3.archivists.org/schema/}part {}\n",
      "{http://ead3.archivists.org/schema/}part {}\n",
      "{http://ead3.archivists.org/schema/}unittitle {}\n",
      "{http://ead3.archivists.org/schema/}title {}\n",
      "{http://ead3.archivists.org/schema/}unitdate {'normal': '1850/1975', 'unitdatetype': 'inclusive'}\n",
      "<cyfunction Comment at 0x106bf13c0> <lxml.etree._ImmutableMapping object at 0x106a42ea0>\n",
      "{http://ead3.archivists.org/schema/}bioghist {}\n",
      "{http://ead3.archivists.org/schema/}dsc {'dsctype': 'otherdsctype', 'audience': 'external'}\n",
      "{http://ead3.archivists.org/schema/}c01 {'level': 'series'}\n",
      "{http://ead3.archivists.org/schema/}c02 {'level': 'series'}\n",
      "{http://ead3.archivists.org/schema/}c03 {'level': 'file', 'audience': 'internal'}\n"
     ]
    }
   ],
   "source": [
    "for element in root.iter():\n",
    "    print(element.tag, element.attrib)"
   ]
  },
  {
   "cell_type": "code",
   "execution_count": 12,
   "id": "3d2c8404",
   "metadata": {},
   "outputs": [
    {
     "name": "stdout",
     "output_type": "stream",
     "text": [
      "{'countryencoding': 'iso3166-1', 'dateencoding': 'iso8601', 'langencoding': 'iso639-2b'}\n"
     ]
    }
   ],
   "source": [
    "control = tree.find('{http://ead3.archivists.org/schema/}control')\n",
    "print(control.attrib)"
   ]
  },
  {
   "cell_type": "code",
   "execution_count": 13,
   "id": "39799f35",
   "metadata": {},
   "outputs": [
    {
     "name": "stdout",
     "output_type": "stream",
     "text": [
      "iso639-2b\n"
     ]
    }
   ],
   "source": [
    "language = control.get('langencoding')\n",
    "print(language)"
   ]
  },
  {
   "cell_type": "code",
   "execution_count": 14,
   "id": "9835c920",
   "metadata": {},
   "outputs": [
    {
     "name": "stdout",
     "output_type": "stream",
     "text": [
      "{http://ead3.archivists.org/schema/}recordid 1234\n",
      "{http://ead3.archivists.org/schema/}filedesc \n",
      "            \n"
     ]
    }
   ],
   "source": [
    "for element in control:\n",
    "    print(element.tag, element.text)"
   ]
  },
  {
   "cell_type": "markdown",
   "id": "ce91c4e0",
   "metadata": {},
   "source": [
    "## Working with Namespaces\n",
    "\n",
    ":)"
   ]
  },
  {
   "cell_type": "code",
   "execution_count": 15,
   "id": "abfe13d3",
   "metadata": {},
   "outputs": [],
   "source": [
    "ns = {\n",
    "    'ead': 'http://ead3.archivists.org/schema/',\n",
    "    'xsi': 'http://www.w3.org/2001/XMLSchema-instance',\n",
    "    'dcterms': 'http://purl.org/dc/terms/',\n",
    "    'xsd': 'http://www.w3.org/2001/XMLSchema#'\n",
    "}"
   ]
  },
  {
   "cell_type": "code",
   "execution_count": 19,
   "id": "5e74bd1c",
   "metadata": {},
   "outputs": [
    {
     "name": "stdout",
     "output_type": "stream",
     "text": [
      "{'level': 'collection', 'audience': 'external'}\n"
     ]
    }
   ],
   "source": [
    "archdesc = root.find(f'{{{ns['ead']}}}archdesc')\n",
    "print(archdesc.attrib)"
   ]
  },
  {
   "cell_type": "markdown",
   "id": "61fb3840",
   "metadata": {},
   "source": [
    "## Writing some XML\n",
    "\n",
    ":tada: with the `.write()` function"
   ]
  },
  {
   "cell_type": "code",
   "execution_count": 20,
   "id": "042f773b",
   "metadata": {},
   "outputs": [],
   "source": [
    "metadata = etree.Element(f'{{{ns['ead']}}}ead', nsmap=ns)"
   ]
  },
  {
   "cell_type": "code",
   "execution_count": 21,
   "id": "5e8f2d5a",
   "metadata": {},
   "outputs": [
    {
     "name": "stdout",
     "output_type": "stream",
     "text": [
      "<Element {http://ead3.archivists.org/schema/}ead at 0x10704f7c0>\n"
     ]
    }
   ],
   "source": [
    "print(metadata)"
   ]
  },
  {
   "cell_type": "code",
   "execution_count": 22,
   "id": "b1eaa88f",
   "metadata": {},
   "outputs": [],
   "source": [
    "# build subelements\n",
    "control = etree.SubElement(metadata, f'{{{ns['ead']}}}control')\n",
    "control.set('countryencoding','iso3166-1')\n",
    "\n",
    "recordid = etree.SubElement(control, f'{{{ns['ead']}}}recordid')\n",
    "recordid.text = '1234'"
   ]
  },
  {
   "cell_type": "code",
   "execution_count": 23,
   "id": "ed53aa2d",
   "metadata": {},
   "outputs": [
    {
     "data": {
      "text/plain": [
       "b'<ead:ead xmlns:ead=\"http://ead3.archivists.org/schema/\" xmlns:xsi=\"http://www.w3.org/2001/XMLSchema-instance\" xmlns:dcterms=\"http://purl.org/dc/terms/\" xmlns:xsd=\"http://www.w3.org/2001/XMLSchema#\">\\n  <ead:control countryencoding=\"iso3166-1\">\\n    <ead:recordid>1234</ead:recordid>\\n  </ead:control>\\n</ead:ead>\\n'"
      ]
     },
     "execution_count": 23,
     "metadata": {},
     "output_type": "execute_result"
    }
   ],
   "source": [
    "etree.tostring(metadata, pretty_print=True)"
   ]
  },
  {
   "cell_type": "code",
   "execution_count": 27,
   "id": "1ed6b80d",
   "metadata": {},
   "outputs": [
    {
     "name": "stdout",
     "output_type": "stream",
     "text": [
      "<ead:ead xmlns:ead=\"http://ead3.archivists.org/schema/\" xmlns:xsi=\"http://www.w3.org/2001/XMLSchema-instance\" xmlns:dcterms=\"http://purl.org/dc/terms/\" xmlns:xsd=\"http://www.w3.org/2001/XMLSchema#\">\n",
      "  <ead:control countryencoding=\"iso3166-1\">\n",
      "    <ead:recordid>1234</ead:recordid>\n",
      "  </ead:control>\n",
      "</ead:ead>\n",
      "\n"
     ]
    }
   ],
   "source": [
    "fpath_new_xml = Path('..','data', 'xml', 'new_xml_basic.xml')\n",
    "\n",
    "print(etree.tostring(metadata, pretty_print=True).decode())"
   ]
  }
 ],
 "metadata": {
  "kernelspec": {
   "display_name": "3.12.0",
   "language": "python",
   "name": "python3"
  },
  "language_info": {
   "codemirror_mode": {
    "name": "ipython",
    "version": 3
   },
   "file_extension": ".py",
   "mimetype": "text/x-python",
   "name": "python",
   "nbconvert_exporter": "python",
   "pygments_lexer": "ipython3",
   "version": "3.12.0"
  }
 },
 "nbformat": 4,
 "nbformat_minor": 5
}
